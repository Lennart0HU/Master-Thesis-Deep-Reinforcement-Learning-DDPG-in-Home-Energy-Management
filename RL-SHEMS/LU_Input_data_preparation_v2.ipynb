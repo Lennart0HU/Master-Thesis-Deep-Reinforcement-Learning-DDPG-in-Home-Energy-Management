{
 "cells": [
  {
   "cell_type": "code",
   "execution_count": 3,
   "metadata": {},
   "outputs": [
    {
     "data": {
      "text/plain": [
       "1000"
      ]
     },
     "metadata": {},
     "output_type": "display_data"
    }
   ],
   "source": [
    "using CSV, DataFrames, Dates, TimeZones\n",
    "ENV[\"COLUMNS\"] = 1000"
   ]
  },
  {
   "cell_type": "code",
   "execution_count": null,
   "metadata": {},
   "outputs": [],
   "source": []
  },
  {
   "cell_type": "code",
   "execution_count": 2,
   "metadata": {},
   "outputs": [
    {
     "data": {
      "text/plain": [
       "\"Charger06\""
      ]
     },
     "metadata": {},
     "output_type": "display_data"
    }
   ],
   "source": [
    "ID = \"Charger06\""
   ]
  },
  {
   "cell_type": "code",
   "execution_count": 3,
   "metadata": {},
   "outputs": [
    {
     "data": {
      "text/plain": [
       "35040-element Vector{ZonedDateTime}:\n",
       " 2020-11-01T00:00:00+01:00\n",
       " 2020-11-01T00:15:00+01:00\n",
       " 2020-11-01T00:30:00+01:00\n",
       " 2020-11-01T00:45:00+01:00\n",
       " 2020-11-01T01:00:00+01:00\n",
       " 2020-11-01T01:15:00+01:00\n",
       " 2020-11-01T01:30:00+01:00\n",
       " 2020-11-01T01:45:00+01:00\n",
       " 2020-11-01T02:00:00+01:00\n",
       " 2020-11-01T02:15:00+01:00\n",
       " ⋮\n",
       " 2021-10-31T21:45:00+01:00\n",
       " 2021-10-31T22:00:00+01:00\n",
       " 2021-10-31T22:15:00+01:00\n",
       " 2021-10-31T22:30:00+01:00\n",
       " 2021-10-31T22:45:00+01:00\n",
       " 2021-10-31T23:00:00+01:00\n",
       " 2021-10-31T23:15:00+01:00\n",
       " 2021-10-31T23:30:00+01:00\n",
       " 2021-10-31T23:45:00+01:00"
      ]
     },
     "metadata": {},
     "output_type": "display_data"
    }
   ],
   "source": [
    "# Read the CSV file from the specified path\n",
    "df = CSV.read(\"data/charger_battery_data_$ID.csv\", DataFrame)\n",
    "\n",
    "# Filter the data\n",
    "df = df[:, [:timestamp, :e_consumption, :e_production, :e_charger, :h_countdown, :soc_ev]]\n",
    "\n",
    "df.e_consumption = df.e_consumption / 1000\n",
    "df.e_production = df.e_production / 1000\n",
    "df.e_charger = df.e_charger / 1000\n",
    "\n",
    "# Parse the timestamps with timezone offset\n",
    "timestamps = ZonedDateTime.(df.timestamp, DateFormat(\"yyyy-mm-dd HH:MM:SSzzzz\"))\n",
    "\n",
    "# Shift the timestamps one hour ahead\n",
    "timestamps = timestamps .- Hour(1)\n",
    "\n",
    "# Replace the timestamp column in the DataFrame with the shifted timestamps\n",
    "df.timestamp = timestamps"
   ]
  },
  {
   "cell_type": "code",
   "execution_count": 4,
   "metadata": {},
   "outputs": [
    {
     "data": {
      "text/plain": [
       "(\"Column: \", \"timestamp\", \", Type: \", ZonedDateTime, \", Missing Values: \", 0)"
      ]
     },
     "metadata": {},
     "output_type": "display_data"
    },
    {
     "data": {
      "text/plain": [
       "(\"Column: \", \"e_consumption\", \", Type: \", Float64, \", Missing Values: \", 0)"
      ]
     },
     "metadata": {},
     "output_type": "display_data"
    },
    {
     "data": {
      "text/plain": [
       "(\"Column: \", \"e_production\", \", Type: \", Float64, \", Missing Values: \", 0)"
      ]
     },
     "metadata": {},
     "output_type": "display_data"
    },
    {
     "data": {
      "text/plain": [
       "(\"Column: \", \"e_charger\", \", Type: \", Union{Missing, Float64}, \", Missing Values: \", 28546)"
      ]
     },
     "metadata": {},
     "output_type": "display_data"
    },
    {
     "data": {
      "text/plain": [
       "(\"Column: \", \"h_countdown\", \", Type: \", Float64, \", Missing Values: \", 0)"
      ]
     },
     "metadata": {},
     "output_type": "display_data"
    },
    {
     "data": {
      "text/plain": [
       "(\"Column: \", \"soc_ev\", \", Type: \", Float64, \", Missing Values: \", 0)"
      ]
     },
     "metadata": {},
     "output_type": "display_data"
    }
   ],
   "source": [
    "for col_name in names(df)\n",
    "    missing_count = sum(ismissing.(df[!, col_name]))\n",
    "\n",
    "    display((\"Column: \", col_name, \", Type: \", eltype(df[!, col_name]), \", Missing Values: \", missing_count))\n",
    "end"
   ]
  },
  {
   "cell_type": "code",
   "execution_count": 5,
   "metadata": {},
   "outputs": [
    {
     "data": {
      "text/html": [
       "<table class=\"data-frame\"><thead><tr><th></th><th>variable</th><th>mean</th><th>min</th><th>median</th><th>max</th><th>nmissing</th><th>eltype</th></tr><tr><th></th><th>Symbol</th><th>Union…</th><th>Any</th><th>Union…</th><th>Any</th><th>Int64</th><th>Type</th></tr></thead><tbody><p>6 rows × 7 columns</p><tr><th>1</th><td>timestamp</td><td></td><td>2020-11-01T00:00:00+01:00</td><td></td><td>2021-10-31T23:45:00+01:00</td><td>0</td><td>ZonedDateTime</td></tr><tr><th>2</th><td>e_consumption</td><td>0.340346</td><td>0.0</td><td>0.127</td><td>4.825</td><td>0</td><td>Float64</td></tr><tr><th>3</th><td>e_production</td><td>0.45513</td><td>0.0</td><td>0.0</td><td>3.157</td><td>0</td><td>Float64</td></tr><tr><th>4</th><td>e_charger</td><td>0.212521</td><td>0.0</td><td>0.0</td><td>2.58534</td><td>28546</td><td>Union{Missing, Float64}</td></tr><tr><th>5</th><td>h_countdown</td><td>2.52372</td><td>-1.0</td><td>-1.0</td><td>94.25</td><td>0</td><td>Float64</td></tr><tr><th>6</th><td>soc_ev</td><td>0.986262</td><td>0.0</td><td>1.0</td><td>1.0</td><td>0</td><td>Float64</td></tr></tbody></table>"
      ],
      "text/latex": [
       "\\begin{tabular}{r|ccccccc}\n",
       "\t& variable & mean & min & median & max & nmissing & eltype\\\\\n",
       "\t\\hline\n",
       "\t& Symbol & Union… & Any & Union… & Any & Int64 & Type\\\\\n",
       "\t\\hline\n",
       "\t1 & timestamp &  & 2020-11-01T00:00:00+01:00 &  & 2021-10-31T23:45:00+01:00 & 0 & ZonedDateTime \\\\\n",
       "\t2 & e\\_consumption & 0.340346 & 0.0 & 0.127 & 4.825 & 0 & Float64 \\\\\n",
       "\t3 & e\\_production & 0.45513 & 0.0 & 0.0 & 3.157 & 0 & Float64 \\\\\n",
       "\t4 & e\\_charger & 0.212521 & 0.0 & 0.0 & 2.58534 & 28546 & Union\\{Missing, Float64\\} \\\\\n",
       "\t5 & h\\_countdown & 2.52372 & -1.0 & -1.0 & 94.25 & 0 & Float64 \\\\\n",
       "\t6 & soc\\_ev & 0.986262 & 0.0 & 1.0 & 1.0 & 0 & Float64 \\\\\n",
       "\\end{tabular}\n"
      ],
      "text/plain": [
       "\u001b[1m6×7 DataFrame\u001b[0m\n",
       "\u001b[1m Row \u001b[0m│\u001b[1m variable      \u001b[0m\u001b[1m mean     \u001b[0m\u001b[1m min                       \u001b[0m\u001b[1m median \u001b[0m\u001b[1m max                       \u001b[0m\u001b[1m nmissing \u001b[0m\u001b[1m eltype                  \u001b[0m\n",
       "\u001b[1m     \u001b[0m│\u001b[90m Symbol        \u001b[0m\u001b[90m Union…   \u001b[0m\u001b[90m Any                       \u001b[0m\u001b[90m Union… \u001b[0m\u001b[90m Any                       \u001b[0m\u001b[90m Int64    \u001b[0m\u001b[90m Type                    \u001b[0m\n",
       "─────┼──────────────────────────────────────────────────────────────────────────────────────────────────────────────────────────\n",
       "   1 │ timestamp     \u001b[90m          \u001b[0m 2020-11-01T00:00:00+01:00 \u001b[90m        \u001b[0m 2021-10-31T23:45:00+01:00         0  ZonedDateTime\n",
       "   2 │ e_consumption  0.340346  0.0                        0.127   4.825                             0  Float64\n",
       "   3 │ e_production   0.45513   0.0                        0.0     3.157                             0  Float64\n",
       "   4 │ e_charger      0.212521  0.0                        0.0     2.58534                       28546  Union{Missing, Float64}\n",
       "   5 │ h_countdown    2.52372   -1.0                       -1.0    94.25                             0  Float64\n",
       "   6 │ soc_ev         0.986262  0.0                        1.0     1.0                               0  Float64"
      ]
     },
     "metadata": {},
     "output_type": "display_data"
    }
   ],
   "source": [
    "describe(df)"
   ]
  },
  {
   "cell_type": "markdown",
   "metadata": {},
   "source": [
    "Resamplign from 15min intervalls to 1h intervalls. In the future, I'd like to try to work with 15min intervals."
   ]
  },
  {
   "cell_type": "code",
   "execution_count": 6,
   "metadata": {},
   "outputs": [
    {
     "data": {
      "text/plain": [
       "resample (generic function with 1 method)"
      ]
     },
     "metadata": {},
     "output_type": "display_data"
    }
   ],
   "source": [
    "function resample(df, time_column, interval)\n",
    "    # Round the timestamps to the nearest hour\n",
    "    df[!, time_column] = Dates.floor.(df[!, time_column], interval)\n",
    "    \n",
    "    # Define the columns to be summed\n",
    "    sum_columns = [\"e_consumption\", \"e_production\", \"e_charger\"]\n",
    "    \n",
    "    # Group by the rounded timestamps and sum the other columns\n",
    "    new_df = combine(groupby(df, time_column), sum_columns .=> (x -> sum(coalesce.(x, 0))) .=> sum_columns)\n",
    "    \n",
    "    # Handle \"h_countdown\" and \"soc_ev\" separately\n",
    "    min_values = combine(groupby(df, time_column), \"h_countdown\" => maximum => \"h_countdown\")\n",
    "    new_df = leftjoin(new_df, min_values, on=time_column)\n",
    "    \n",
    "    min_values = combine(groupby(df, time_column), \"soc_ev\" => minimum => \"soc_ev\")\n",
    "    new_df = leftjoin(new_df, min_values, on=time_column)\n",
    "\n",
    "    #Increase every value of h_countdown to the next higher integer\n",
    "    #new_df.h_countdown = ceil.(new_df.h_countdown) .-1\n",
    "\n",
    "    # Change first countdown value: +1 \n",
    "    for i in 2:(nrow(new_df))\n",
    "        if new_df[i, :h_countdown] > -1 \n",
    "            new_df[i, :h_countdown] = floor.(new_df[i, :h_countdown])\n",
    "            if new_df[i, :h_countdown] == new_df[(i-1), :h_countdown]\n",
    "                new_df[(i-1), :h_countdown] += 1\n",
    "            elseif new_df[i, :h_countdown] == 0 && new_df[i-1, :h_countdown] == -1\n",
    "                new_df[(i-1), :h_countdown] = 1\n",
    "                new_df[(i-1), :soc_ev] = new_df[(i), :soc_ev]\n",
    "            end\n",
    "        end\n",
    "        if new_df[i, :h_countdown] == -1 && new_df[i, :soc_ev] < 1\n",
    "            new_df[i, :soc_ev] = 1\n",
    "        end\n",
    "    end\n",
    "\n",
    "    return new_df\n",
    "end\n"
   ]
  },
  {
   "cell_type": "code",
   "execution_count": 7,
   "metadata": {},
   "outputs": [
    {
     "data": {
      "text/html": [
       "<table class=\"data-frame\"><thead><tr><th></th><th>timestamp</th><th>e_consumption</th><th>e_production</th><th>e_charger</th><th>h_countdown</th><th>soc_ev</th></tr><tr><th></th><th>ZonedDa…</th><th>Float64</th><th>Float64</th><th>Float64</th><th>Float64?</th><th>Float64?</th></tr></thead><tbody><p>8,760 rows × 6 columns</p><tr><th>1</th><td>2020-11-01T00:00:00+01:00</td><td>2.128</td><td>0.0</td><td>0.0</td><td>-1.0</td><td>1.0</td></tr><tr><th>2</th><td>2020-11-01T01:00:00+01:00</td><td>0.24</td><td>0.0</td><td>0.0</td><td>-1.0</td><td>1.0</td></tr><tr><th>3</th><td>2020-11-01T02:00:00+01:00</td><td>0.722</td><td>0.0</td><td>0.0</td><td>-1.0</td><td>1.0</td></tr><tr><th>4</th><td>2020-11-01T03:00:00+01:00</td><td>2.186</td><td>0.0</td><td>0.0</td><td>-1.0</td><td>1.0</td></tr><tr><th>5</th><td>2020-11-01T04:00:00+01:00</td><td>2.162</td><td>0.0</td><td>0.0</td><td>-1.0</td><td>1.0</td></tr><tr><th>6</th><td>2020-11-01T05:00:00+01:00</td><td>1.701</td><td>0.0</td><td>0.0</td><td>-1.0</td><td>1.0</td></tr><tr><th>7</th><td>2020-11-01T06:00:00+01:00</td><td>0.258</td><td>0.147</td><td>0.0</td><td>-1.0</td><td>1.0</td></tr><tr><th>8</th><td>2020-11-01T07:00:00+01:00</td><td>0.764</td><td>0.5</td><td>0.0</td><td>-1.0</td><td>1.0</td></tr><tr><th>9</th><td>2020-11-01T08:00:00+01:00</td><td>2.059</td><td>1.161</td><td>0.0</td><td>-1.0</td><td>1.0</td></tr><tr><th>10</th><td>2020-11-01T09:00:00+01:00</td><td>0.295</td><td>1.879</td><td>0.0</td><td>-1.0</td><td>1.0</td></tr><tr><th>11</th><td>2020-11-01T10:00:00+01:00</td><td>0.591</td><td>1.361</td><td>0.0</td><td>-1.0</td><td>1.0</td></tr><tr><th>12</th><td>2020-11-01T11:00:00+01:00</td><td>1.403</td><td>1.318</td><td>0.0</td><td>-1.0</td><td>1.0</td></tr><tr><th>13</th><td>2020-11-01T12:00:00+01:00</td><td>2.389</td><td>1.133</td><td>0.0</td><td>-1.0</td><td>1.0</td></tr><tr><th>14</th><td>2020-11-01T13:00:00+01:00</td><td>2.752</td><td>1.069</td><td>0.0</td><td>-1.0</td><td>1.0</td></tr><tr><th>15</th><td>2020-11-01T14:00:00+01:00</td><td>1.248</td><td>0.433</td><td>0.0</td><td>-1.0</td><td>1.0</td></tr><tr><th>16</th><td>2020-11-01T15:00:00+01:00</td><td>0.861</td><td>0.078</td><td>0.0</td><td>-1.0</td><td>1.0</td></tr><tr><th>17</th><td>2020-11-01T16:00:00+01:00</td><td>1.692</td><td>0.0</td><td>0.0</td><td>-1.0</td><td>1.0</td></tr><tr><th>18</th><td>2020-11-01T17:00:00+01:00</td><td>0.55</td><td>0.0</td><td>0.0</td><td>-1.0</td><td>1.0</td></tr><tr><th>19</th><td>2020-11-01T18:00:00+01:00</td><td>0.871</td><td>0.0</td><td>0.0</td><td>-1.0</td><td>1.0</td></tr><tr><th>20</th><td>2020-11-01T19:00:00+01:00</td><td>2.619</td><td>0.0</td><td>0.0</td><td>-1.0</td><td>1.0</td></tr><tr><th>21</th><td>2020-11-01T20:00:00+01:00</td><td>1.68</td><td>0.0</td><td>0.0</td><td>-1.0</td><td>1.0</td></tr><tr><th>22</th><td>2020-11-01T21:00:00+01:00</td><td>0.543</td><td>0.0</td><td>0.0</td><td>-1.0</td><td>1.0</td></tr><tr><th>23</th><td>2020-11-01T22:00:00+01:00</td><td>0.26</td><td>0.0</td><td>0.0</td><td>-1.0</td><td>1.0</td></tr><tr><th>24</th><td>2020-11-01T23:00:00+01:00</td><td>0.262</td><td>0.0</td><td>0.0</td><td>-1.0</td><td>1.0</td></tr><tr><th>&vellip;</th><td>&vellip;</td><td>&vellip;</td><td>&vellip;</td><td>&vellip;</td><td>&vellip;</td><td>&vellip;</td></tr></tbody></table>"
      ],
      "text/latex": [
       "\\begin{tabular}{r|cccccc}\n",
       "\t& timestamp & e\\_consumption & e\\_production & e\\_charger & h\\_countdown & soc\\_ev\\\\\n",
       "\t\\hline\n",
       "\t& ZonedDa… & Float64 & Float64 & Float64 & Float64? & Float64?\\\\\n",
       "\t\\hline\n",
       "\t1 & 2020-11-01T00:00:00+01:00 & 2.128 & 0.0 & 0.0 & -1.0 & 1.0 \\\\\n",
       "\t2 & 2020-11-01T01:00:00+01:00 & 0.24 & 0.0 & 0.0 & -1.0 & 1.0 \\\\\n",
       "\t3 & 2020-11-01T02:00:00+01:00 & 0.722 & 0.0 & 0.0 & -1.0 & 1.0 \\\\\n",
       "\t4 & 2020-11-01T03:00:00+01:00 & 2.186 & 0.0 & 0.0 & -1.0 & 1.0 \\\\\n",
       "\t5 & 2020-11-01T04:00:00+01:00 & 2.162 & 0.0 & 0.0 & -1.0 & 1.0 \\\\\n",
       "\t6 & 2020-11-01T05:00:00+01:00 & 1.701 & 0.0 & 0.0 & -1.0 & 1.0 \\\\\n",
       "\t7 & 2020-11-01T06:00:00+01:00 & 0.258 & 0.147 & 0.0 & -1.0 & 1.0 \\\\\n",
       "\t8 & 2020-11-01T07:00:00+01:00 & 0.764 & 0.5 & 0.0 & -1.0 & 1.0 \\\\\n",
       "\t9 & 2020-11-01T08:00:00+01:00 & 2.059 & 1.161 & 0.0 & -1.0 & 1.0 \\\\\n",
       "\t10 & 2020-11-01T09:00:00+01:00 & 0.295 & 1.879 & 0.0 & -1.0 & 1.0 \\\\\n",
       "\t11 & 2020-11-01T10:00:00+01:00 & 0.591 & 1.361 & 0.0 & -1.0 & 1.0 \\\\\n",
       "\t12 & 2020-11-01T11:00:00+01:00 & 1.403 & 1.318 & 0.0 & -1.0 & 1.0 \\\\\n",
       "\t13 & 2020-11-01T12:00:00+01:00 & 2.389 & 1.133 & 0.0 & -1.0 & 1.0 \\\\\n",
       "\t14 & 2020-11-01T13:00:00+01:00 & 2.752 & 1.069 & 0.0 & -1.0 & 1.0 \\\\\n",
       "\t15 & 2020-11-01T14:00:00+01:00 & 1.248 & 0.433 & 0.0 & -1.0 & 1.0 \\\\\n",
       "\t16 & 2020-11-01T15:00:00+01:00 & 0.861 & 0.078 & 0.0 & -1.0 & 1.0 \\\\\n",
       "\t17 & 2020-11-01T16:00:00+01:00 & 1.692 & 0.0 & 0.0 & -1.0 & 1.0 \\\\\n",
       "\t18 & 2020-11-01T17:00:00+01:00 & 0.55 & 0.0 & 0.0 & -1.0 & 1.0 \\\\\n",
       "\t19 & 2020-11-01T18:00:00+01:00 & 0.871 & 0.0 & 0.0 & -1.0 & 1.0 \\\\\n",
       "\t20 & 2020-11-01T19:00:00+01:00 & 2.619 & 0.0 & 0.0 & -1.0 & 1.0 \\\\\n",
       "\t21 & 2020-11-01T20:00:00+01:00 & 1.68 & 0.0 & 0.0 & -1.0 & 1.0 \\\\\n",
       "\t22 & 2020-11-01T21:00:00+01:00 & 0.543 & 0.0 & 0.0 & -1.0 & 1.0 \\\\\n",
       "\t23 & 2020-11-01T22:00:00+01:00 & 0.26 & 0.0 & 0.0 & -1.0 & 1.0 \\\\\n",
       "\t24 & 2020-11-01T23:00:00+01:00 & 0.262 & 0.0 & 0.0 & -1.0 & 1.0 \\\\\n",
       "\t$\\dots$ & $\\dots$ & $\\dots$ & $\\dots$ & $\\dots$ & $\\dots$ & $\\dots$ \\\\\n",
       "\\end{tabular}\n"
      ],
      "text/plain": [
       "\u001b[1m8760×6 DataFrame\u001b[0m\n",
       "\u001b[1m  Row \u001b[0m│\u001b[1m timestamp                 \u001b[0m\u001b[1m e_consumption \u001b[0m\u001b[1m e_production \u001b[0m\u001b[1m e_charger \u001b[0m\u001b[1m h_countdown \u001b[0m\u001b[1m soc_ev   \u001b[0m\n",
       "\u001b[1m      \u001b[0m│\u001b[90m ZonedDat…                 \u001b[0m\u001b[90m Float64       \u001b[0m\u001b[90m Float64      \u001b[0m\u001b[90m Float64   \u001b[0m\u001b[90m Float64?    \u001b[0m\u001b[90m Float64? \u001b[0m\n",
       "──────┼──────────────────────────────────────────────────────────────────────────────────────────\n",
       "    1 │ 2020-11-01T00:00:00+01:00          2.128         0.0          0.0         -1.0       1.0\n",
       "    2 │ 2020-11-01T01:00:00+01:00          0.24          0.0          0.0         -1.0       1.0\n",
       "    3 │ 2020-11-01T02:00:00+01:00          0.722         0.0          0.0         -1.0       1.0\n",
       "    4 │ 2020-11-01T03:00:00+01:00          2.186         0.0          0.0         -1.0       1.0\n",
       "    5 │ 2020-11-01T04:00:00+01:00          2.162         0.0          0.0         -1.0       1.0\n",
       "    6 │ 2020-11-01T05:00:00+01:00          1.701         0.0          0.0         -1.0       1.0\n",
       "    7 │ 2020-11-01T06:00:00+01:00          0.258         0.147        0.0         -1.0       1.0\n",
       "    8 │ 2020-11-01T07:00:00+01:00          0.764         0.5          0.0         -1.0       1.0\n",
       "  ⋮   │             ⋮                    ⋮             ⋮            ⋮           ⋮          ⋮\n",
       " 8754 │ 2021-10-31T17:00:00+01:00          1.69          0.0          0.0         -1.0       1.0\n",
       " 8755 │ 2021-10-31T18:00:00+01:00          0.563         0.0          0.0         -1.0       1.0\n",
       " 8756 │ 2021-10-31T19:00:00+01:00          2.612         0.0          0.0         -1.0       1.0\n",
       " 8757 │ 2021-10-31T20:00:00+01:00          2.288         0.0          0.0         -1.0       1.0\n",
       " 8758 │ 2021-10-31T21:00:00+01:00          0.976         0.0          0.0         -1.0       1.0\n",
       " 8759 │ 2021-10-31T22:00:00+01:00          0.677         0.0          0.0         -1.0       1.0\n",
       " 8760 │ 2021-10-31T23:00:00+01:00          2.005         0.0          0.0         -1.0       1.0\n",
       "\u001b[36m                                                                                8745 rows omitted\u001b[0m"
      ]
     },
     "metadata": {},
     "output_type": "display_data"
    }
   ],
   "source": [
    "# Resample the data to 1-hour intervals\n",
    "df_resampled = resample(df, :timestamp, Dates.Hour(1))"
   ]
  },
  {
   "cell_type": "code",
   "execution_count": 8,
   "metadata": {},
   "outputs": [],
   "source": [
    "\n"
   ]
  },
  {
   "cell_type": "code",
   "execution_count": 9,
   "metadata": {},
   "outputs": [
    {
     "data": {
      "text/plain": [
       "7087-element view(::Vector{Union{Missing, Float64}}, [1, 2, 3, 4, 5, 6, 7, 8, 9, 10  …  8751, 8752, 8753, 8754, 8755, 8756, 8757, 8758, 8759, 8760]) with eltype Union{Missing, Float64}:\n",
       " missing\n",
       " missing\n",
       " missing\n",
       " missing\n",
       " missing\n",
       " missing\n",
       " missing\n",
       " missing\n",
       " missing\n",
       " missing\n",
       " ⋮\n",
       " missing\n",
       " missing\n",
       " missing\n",
       " missing\n",
       " missing\n",
       " missing\n",
       " missing\n",
       " missing\n",
       " missing"
      ]
     },
     "metadata": {},
     "output_type": "display_data"
    }
   ],
   "source": [
    "# Change the type of the chargekwh column to Union{Missing, Float64}\n",
    "df_resampled.e_charge = convert(Vector{Union{Missing, Float64}}, df_resampled.e_charger)\n",
    "\n",
    "# Create a new DataFrame with the desired structure\n",
    "new_df = DataFrame(\n",
    "    electkwh = df_resampled.e_consumption,\n",
    "    PV_generation = df_resampled.e_production,\n",
    "    chargekwh = df_resampled.e_charger,\n",
    "    h_countdown = df_resampled.h_countdown,\n",
    "    soc_ev = df_resampled.soc_ev,\n",
    "    month = month.(DateTime.(df_resampled.timestamp)),\n",
    "    day = day.(DateTime.(df_resampled.timestamp)),\n",
    "    hour = hour.(DateTime.(df_resampled.timestamp))\n",
    ")\n",
    "\n",
    "# Change the type of the chargekwh column to Union{Missing, Float64}\n",
    "new_df.chargekwh = convert(Vector{Union{Missing, Float64}}, new_df.chargekwh)\n",
    "\n",
    "# In every row where h_countdown is -1, set chargekwh to 'missing'\n",
    "new_df[new_df.h_countdown .== -1, :chargekwh] .= missing"
   ]
  },
  {
   "cell_type": "code",
   "execution_count": 10,
   "metadata": {},
   "outputs": [
    {
     "data": {
      "text/plain": [
       "\"data/sonnenCharger06_datafile_all.csv\""
      ]
     },
     "metadata": {},
     "output_type": "display_data"
    }
   ],
   "source": [
    "CSV.write(\"data/sonnen$(ID)_datafile_all.csv\", new_df)"
   ]
  },
  {
   "cell_type": "code",
   "execution_count": 11,
   "metadata": {},
   "outputs": [
    {
     "data": {
      "text/html": [
       "<table class=\"data-frame\"><thead><tr><th></th><th>electkwh</th><th>PV_generation</th><th>chargekwh</th><th>h_countdown</th><th>soc_ev</th><th>month</th><th>day</th><th>hour</th></tr><tr><th></th><th>Float64</th><th>Float64</th><th>Float64?</th><th>Float64?</th><th>Float64?</th><th>Int64</th><th>Int64</th><th>Int64</th></tr></thead><tbody><p>8,760 rows × 8 columns</p><tr><th>1</th><td>2.128</td><td>0.0</td><td><em>missing</em></td><td>-1.0</td><td>1.0</td><td>11</td><td>1</td><td>0</td></tr><tr><th>2</th><td>0.24</td><td>0.0</td><td><em>missing</em></td><td>-1.0</td><td>1.0</td><td>11</td><td>1</td><td>1</td></tr><tr><th>3</th><td>0.722</td><td>0.0</td><td><em>missing</em></td><td>-1.0</td><td>1.0</td><td>11</td><td>1</td><td>2</td></tr><tr><th>4</th><td>2.186</td><td>0.0</td><td><em>missing</em></td><td>-1.0</td><td>1.0</td><td>11</td><td>1</td><td>3</td></tr><tr><th>5</th><td>2.162</td><td>0.0</td><td><em>missing</em></td><td>-1.0</td><td>1.0</td><td>11</td><td>1</td><td>4</td></tr><tr><th>6</th><td>1.701</td><td>0.0</td><td><em>missing</em></td><td>-1.0</td><td>1.0</td><td>11</td><td>1</td><td>5</td></tr><tr><th>7</th><td>0.258</td><td>0.147</td><td><em>missing</em></td><td>-1.0</td><td>1.0</td><td>11</td><td>1</td><td>6</td></tr><tr><th>8</th><td>0.764</td><td>0.5</td><td><em>missing</em></td><td>-1.0</td><td>1.0</td><td>11</td><td>1</td><td>7</td></tr><tr><th>9</th><td>2.059</td><td>1.161</td><td><em>missing</em></td><td>-1.0</td><td>1.0</td><td>11</td><td>1</td><td>8</td></tr><tr><th>10</th><td>0.295</td><td>1.879</td><td><em>missing</em></td><td>-1.0</td><td>1.0</td><td>11</td><td>1</td><td>9</td></tr><tr><th>11</th><td>0.591</td><td>1.361</td><td><em>missing</em></td><td>-1.0</td><td>1.0</td><td>11</td><td>1</td><td>10</td></tr><tr><th>12</th><td>1.403</td><td>1.318</td><td><em>missing</em></td><td>-1.0</td><td>1.0</td><td>11</td><td>1</td><td>11</td></tr><tr><th>13</th><td>2.389</td><td>1.133</td><td><em>missing</em></td><td>-1.0</td><td>1.0</td><td>11</td><td>1</td><td>12</td></tr><tr><th>14</th><td>2.752</td><td>1.069</td><td><em>missing</em></td><td>-1.0</td><td>1.0</td><td>11</td><td>1</td><td>13</td></tr><tr><th>15</th><td>1.248</td><td>0.433</td><td><em>missing</em></td><td>-1.0</td><td>1.0</td><td>11</td><td>1</td><td>14</td></tr><tr><th>16</th><td>0.861</td><td>0.078</td><td><em>missing</em></td><td>-1.0</td><td>1.0</td><td>11</td><td>1</td><td>15</td></tr><tr><th>17</th><td>1.692</td><td>0.0</td><td><em>missing</em></td><td>-1.0</td><td>1.0</td><td>11</td><td>1</td><td>16</td></tr><tr><th>18</th><td>0.55</td><td>0.0</td><td><em>missing</em></td><td>-1.0</td><td>1.0</td><td>11</td><td>1</td><td>17</td></tr><tr><th>19</th><td>0.871</td><td>0.0</td><td><em>missing</em></td><td>-1.0</td><td>1.0</td><td>11</td><td>1</td><td>18</td></tr><tr><th>20</th><td>2.619</td><td>0.0</td><td><em>missing</em></td><td>-1.0</td><td>1.0</td><td>11</td><td>1</td><td>19</td></tr><tr><th>21</th><td>1.68</td><td>0.0</td><td><em>missing</em></td><td>-1.0</td><td>1.0</td><td>11</td><td>1</td><td>20</td></tr><tr><th>22</th><td>0.543</td><td>0.0</td><td><em>missing</em></td><td>-1.0</td><td>1.0</td><td>11</td><td>1</td><td>21</td></tr><tr><th>23</th><td>0.26</td><td>0.0</td><td><em>missing</em></td><td>-1.0</td><td>1.0</td><td>11</td><td>1</td><td>22</td></tr><tr><th>24</th><td>0.262</td><td>0.0</td><td><em>missing</em></td><td>-1.0</td><td>1.0</td><td>11</td><td>1</td><td>23</td></tr><tr><th>&vellip;</th><td>&vellip;</td><td>&vellip;</td><td>&vellip;</td><td>&vellip;</td><td>&vellip;</td><td>&vellip;</td><td>&vellip;</td><td>&vellip;</td></tr></tbody></table>"
      ],
      "text/latex": [
       "\\begin{tabular}{r|cccccccc}\n",
       "\t& electkwh & PV\\_generation & chargekwh & h\\_countdown & soc\\_ev & month & day & hour\\\\\n",
       "\t\\hline\n",
       "\t& Float64 & Float64 & Float64? & Float64? & Float64? & Int64 & Int64 & Int64\\\\\n",
       "\t\\hline\n",
       "\t1 & 2.128 & 0.0 & \\emph{missing} & -1.0 & 1.0 & 11 & 1 & 0 \\\\\n",
       "\t2 & 0.24 & 0.0 & \\emph{missing} & -1.0 & 1.0 & 11 & 1 & 1 \\\\\n",
       "\t3 & 0.722 & 0.0 & \\emph{missing} & -1.0 & 1.0 & 11 & 1 & 2 \\\\\n",
       "\t4 & 2.186 & 0.0 & \\emph{missing} & -1.0 & 1.0 & 11 & 1 & 3 \\\\\n",
       "\t5 & 2.162 & 0.0 & \\emph{missing} & -1.0 & 1.0 & 11 & 1 & 4 \\\\\n",
       "\t6 & 1.701 & 0.0 & \\emph{missing} & -1.0 & 1.0 & 11 & 1 & 5 \\\\\n",
       "\t7 & 0.258 & 0.147 & \\emph{missing} & -1.0 & 1.0 & 11 & 1 & 6 \\\\\n",
       "\t8 & 0.764 & 0.5 & \\emph{missing} & -1.0 & 1.0 & 11 & 1 & 7 \\\\\n",
       "\t9 & 2.059 & 1.161 & \\emph{missing} & -1.0 & 1.0 & 11 & 1 & 8 \\\\\n",
       "\t10 & 0.295 & 1.879 & \\emph{missing} & -1.0 & 1.0 & 11 & 1 & 9 \\\\\n",
       "\t11 & 0.591 & 1.361 & \\emph{missing} & -1.0 & 1.0 & 11 & 1 & 10 \\\\\n",
       "\t12 & 1.403 & 1.318 & \\emph{missing} & -1.0 & 1.0 & 11 & 1 & 11 \\\\\n",
       "\t13 & 2.389 & 1.133 & \\emph{missing} & -1.0 & 1.0 & 11 & 1 & 12 \\\\\n",
       "\t14 & 2.752 & 1.069 & \\emph{missing} & -1.0 & 1.0 & 11 & 1 & 13 \\\\\n",
       "\t15 & 1.248 & 0.433 & \\emph{missing} & -1.0 & 1.0 & 11 & 1 & 14 \\\\\n",
       "\t16 & 0.861 & 0.078 & \\emph{missing} & -1.0 & 1.0 & 11 & 1 & 15 \\\\\n",
       "\t17 & 1.692 & 0.0 & \\emph{missing} & -1.0 & 1.0 & 11 & 1 & 16 \\\\\n",
       "\t18 & 0.55 & 0.0 & \\emph{missing} & -1.0 & 1.0 & 11 & 1 & 17 \\\\\n",
       "\t19 & 0.871 & 0.0 & \\emph{missing} & -1.0 & 1.0 & 11 & 1 & 18 \\\\\n",
       "\t20 & 2.619 & 0.0 & \\emph{missing} & -1.0 & 1.0 & 11 & 1 & 19 \\\\\n",
       "\t21 & 1.68 & 0.0 & \\emph{missing} & -1.0 & 1.0 & 11 & 1 & 20 \\\\\n",
       "\t22 & 0.543 & 0.0 & \\emph{missing} & -1.0 & 1.0 & 11 & 1 & 21 \\\\\n",
       "\t23 & 0.26 & 0.0 & \\emph{missing} & -1.0 & 1.0 & 11 & 1 & 22 \\\\\n",
       "\t24 & 0.262 & 0.0 & \\emph{missing} & -1.0 & 1.0 & 11 & 1 & 23 \\\\\n",
       "\t$\\dots$ & $\\dots$ & $\\dots$ & $\\dots$ & $\\dots$ & $\\dots$ & $\\dots$ & $\\dots$ & $\\dots$ \\\\\n",
       "\\end{tabular}\n"
      ],
      "text/plain": [
       "\u001b[1m8760×8 DataFrame\u001b[0m\n",
       "\u001b[1m  Row \u001b[0m│\u001b[1m electkwh \u001b[0m\u001b[1m PV_generation \u001b[0m\u001b[1m chargekwh \u001b[0m\u001b[1m h_countdown \u001b[0m\u001b[1m soc_ev   \u001b[0m\u001b[1m month \u001b[0m\u001b[1m day   \u001b[0m\u001b[1m hour  \u001b[0m\n",
       "\u001b[1m      \u001b[0m│\u001b[90m Float64  \u001b[0m\u001b[90m Float64       \u001b[0m\u001b[90m Float64?  \u001b[0m\u001b[90m Float64?    \u001b[0m\u001b[90m Float64? \u001b[0m\u001b[90m Int64 \u001b[0m\u001b[90m Int64 \u001b[0m\u001b[90m Int64 \u001b[0m\n",
       "──────┼────────────────────────────────────────────────────────────────────────────────\n",
       "    1 │    2.128          0.0   \u001b[90m   missing \u001b[0m        -1.0       1.0     11      1      0\n",
       "    2 │    0.24           0.0   \u001b[90m   missing \u001b[0m        -1.0       1.0     11      1      1\n",
       "    3 │    0.722          0.0   \u001b[90m   missing \u001b[0m        -1.0       1.0     11      1      2\n",
       "    4 │    2.186          0.0   \u001b[90m   missing \u001b[0m        -1.0       1.0     11      1      3\n",
       "    5 │    2.162          0.0   \u001b[90m   missing \u001b[0m        -1.0       1.0     11      1      4\n",
       "    6 │    1.701          0.0   \u001b[90m   missing \u001b[0m        -1.0       1.0     11      1      5\n",
       "    7 │    0.258          0.147 \u001b[90m   missing \u001b[0m        -1.0       1.0     11      1      6\n",
       "    8 │    0.764          0.5   \u001b[90m   missing \u001b[0m        -1.0       1.0     11      1      7\n",
       "  ⋮   │    ⋮            ⋮            ⋮           ⋮          ⋮        ⋮      ⋮      ⋮\n",
       " 8754 │    1.69           0.0   \u001b[90m   missing \u001b[0m        -1.0       1.0     10     31     17\n",
       " 8755 │    0.563          0.0   \u001b[90m   missing \u001b[0m        -1.0       1.0     10     31     18\n",
       " 8756 │    2.612          0.0   \u001b[90m   missing \u001b[0m        -1.0       1.0     10     31     19\n",
       " 8757 │    2.288          0.0   \u001b[90m   missing \u001b[0m        -1.0       1.0     10     31     20\n",
       " 8758 │    0.976          0.0   \u001b[90m   missing \u001b[0m        -1.0       1.0     10     31     21\n",
       " 8759 │    0.677          0.0   \u001b[90m   missing \u001b[0m        -1.0       1.0     10     31     22\n",
       " 8760 │    2.005          0.0   \u001b[90m   missing \u001b[0m        -1.0       1.0     10     31     23\n",
       "\u001b[36m                                                                      8745 rows omitted\u001b[0m"
      ]
     },
     "metadata": {},
     "output_type": "display_data"
    }
   ],
   "source": [
    "#Input_df = CSV.read(\"data/sonnen$(ID)_datafile_all.csv\", DataFrame);\n",
    "Input_df = new_df"
   ]
  },
  {
   "cell_type": "code",
   "execution_count": 12,
   "metadata": {
    "scrolled": true
   },
   "outputs": [],
   "source": [
    "#describe(Input_df)"
   ]
  },
  {
   "cell_type": "code",
   "execution_count": 13,
   "metadata": {},
   "outputs": [
    {
     "data": {
      "text/plain": [
       "1:8760"
      ]
     },
     "metadata": {},
     "output_type": "display_data"
    }
   ],
   "source": [
    "# add new column with number of days\n",
    "Input_df[!, :nday] = 1:nrow(Input_df)"
   ]
  },
  {
   "cell_type": "code",
   "execution_count": 14,
   "metadata": {},
   "outputs": [
    {
     "data": {
      "text/plain": [
       "8760-element Vector{Float64}:\n",
       "  2.128\n",
       "  0.24\n",
       "  0.722\n",
       "  2.186\n",
       "  2.162\n",
       "  1.701\n",
       "  0.11100000000000002\n",
       "  0.264\n",
       "  0.8980000000000001\n",
       " -1.584\n",
       "  ⋮\n",
       " -0.617\n",
       "  0.7210000000000001\n",
       "  1.69\n",
       "  0.5630000000000001\n",
       "  2.612\n",
       "  2.2880000000000003\n",
       "  0.9759999999999999\n",
       "  0.677\n",
       "  2.005"
      ]
     },
     "metadata": {},
     "output_type": "display_data"
    }
   ],
   "source": [
    "# calculate residual demand\n",
    "Input_df[!, :d_res] = Input_df[!,:electkwh] + coalesce.(Input_df[!,:chargekwh], 0) - Input_df[!,:PV_generation]"
   ]
  },
  {
   "cell_type": "markdown",
   "metadata": {},
   "source": [
    "## Add periodical time representation using cos/sin"
   ]
  },
  {
   "cell_type": "code",
   "execution_count": 15,
   "metadata": {},
   "outputs": [],
   "source": [
    "# add columns with cos and sin values for periodical time values day + month\n",
    "Input_df[!, :hour_cos] = cos.(Input_df[!,:hour] ./ maximum(Input_df[!,:hour]) .* 2*pi);\n",
    "Input_df[!, :hour_sin] = sin.(Input_df[!,:hour] ./ maximum(Input_df[!,:hour]) .* 2*pi);\n",
    "\n",
    "Input_df[!, :month_cos] = cos.(Input_df[!,:month] ./ maximum(Input_df[!,:month]) .* 2*pi);\n",
    "Input_df[!, :month_sin] = sin.(Input_df[!,:month] ./ maximum(Input_df[!,:month]) .* 2*pi);\n",
    "\n",
    "#Input_df[!, :nday_cos] = cos.(Input_df[!,:nday] ./ maximum(Input_df[!,:nday]) .* 2*pi);\n",
    "#Input_df[!, :nday_sin] = sin.(Input_df[!,:nday] ./ maximum(Input_df[!,:nday]) .* 2*pi);"
   ]
  },
  {
   "cell_type": "markdown",
   "metadata": {},
   "source": [
    "## Add seasons"
   ]
  },
  {
   "cell_type": "code",
   "execution_count": 16,
   "metadata": {
    "scrolled": true
   },
   "outputs": [],
   "source": [
    "Input_df[!, :spring] = (Input_df[!,:month] .>= 3) .* (Input_df[!,:month] .<= 5);\n",
    "Input_df[!, :summer] = (Input_df[!,:month] .>= 6) .* (Input_df[!,:month] .<= 8);\n",
    "Input_df[!, :autumn] = (Input_df[!,:month] .>= 9) .* (Input_df[!,:month] .<= 11);\n",
    "Input_df[!, :winter] = convert.(Bool, (Input_df[!,:month] .>= 12) .+ (Input_df[!,:month] .<= 2));\n",
    "\n",
    "Input_df[!, :season] = ifelse.(Input_df[!,:spring] .== true, 1,\n",
    "                        ifelse.(Input_df[!,:summer] .== true, 2,\n",
    "                        ifelse.(Input_df[!,:autumn] .== true, 3, \n",
    "                        4)));"
   ]
  },
  {
   "cell_type": "code",
   "execution_count": 18,
   "metadata": {
    "scrolled": false
   },
   "outputs": [
    {
     "data": {
      "text/html": [
       "<table class=\"data-frame\"><thead><tr><th></th><th>variable</th><th>mean</th><th>min</th><th>median</th><th>max</th><th>nmissing</th><th>eltype</th></tr><tr><th></th><th>Symbol</th><th>Float64</th><th>Real</th><th>Float64</th><th>Real</th><th>Int64</th><th>Type</th></tr></thead><tbody><p>19 rows × 7 columns</p><tr><th>1</th><td>electkwh</td><td>1.36138</td><td>0.173227</td><td>1.0155</td><td>11.001</td><td>0</td><td>Float64</td></tr><tr><th>2</th><td>PV_generation</td><td>1.82052</td><td>0.0</td><td>0.01</td><td>11.688</td><td>0</td><td>Float64</td></tr><tr><th>3</th><td>chargekwh</td><td>0.824931</td><td>0.0</td><td>0.0</td><td>10.2915</td><td>7087</td><td>Union{Missing, Float64}</td></tr><tr><th>4</th><td>h_countdown</td><td>2.60365</td><td>-1.0</td><td>-1.0</td><td>94.0</td><td>0</td><td>Union{Missing, Float64}</td></tr><tr><th>5</th><td>soc_ev</td><td>0.983094</td><td>0.0</td><td>1.0</td><td>1.0</td><td>0</td><td>Union{Missing, Float64}</td></tr><tr><th>6</th><td>month</td><td>6.52683</td><td>1</td><td>7.0</td><td>12</td><td>0</td><td>Int64</td></tr><tr><th>7</th><td>day</td><td>15.7209</td><td>1</td><td>16.0</td><td>31</td><td>0</td><td>Int64</td></tr><tr><th>8</th><td>hour</td><td>11.5</td><td>0</td><td>11.5</td><td>23</td><td>0</td><td>Int64</td></tr><tr><th>9</th><td>nday</td><td>4380.5</td><td>1</td><td>4380.5</td><td>8760</td><td>0</td><td>Int64</td></tr><tr><th>10</th><td>d_res</td><td>-0.30159</td><td>-11.412</td><td>0.3295</td><td>11.2553</td><td>0</td><td>Float64</td></tr><tr><th>11</th><td>hour_cos</td><td>0.0416667</td><td>-0.990686</td><td>0.0676068</td><td>1.0</td><td>0</td><td>Float64</td></tr><tr><th>12</th><td>hour_sin</td><td>-2.58545e-17</td><td>-0.997669</td><td>-1.22465e-16</td><td>0.997669</td><td>0</td><td>Float64</td></tr><tr><th>13</th><td>month_cos</td><td>-0.00231559</td><td>-1.0</td><td>-1.83697e-16</td><td>1.0</td><td>0</td><td>Float64</td></tr><tr><th>14</th><td>month_sin</td><td>-0.00559412</td><td>-1.0</td><td>-2.44929e-16</td><td>1.0</td><td>0</td><td>Float64</td></tr><tr><th>15</th><td>spring</td><td>0.251941</td><td>0</td><td>0.0</td><td>1</td><td>0</td><td>Bool</td></tr><tr><th>16</th><td>summer</td><td>0.252055</td><td>0</td><td>0.0</td><td>1</td><td>0</td><td>Bool</td></tr><tr><th>17</th><td>autumn</td><td>0.249429</td><td>0</td><td>0.0</td><td>1</td><td>0</td><td>Bool</td></tr><tr><th>18</th><td>winter</td><td>0.246575</td><td>0</td><td>0.0</td><td>1</td><td>0</td><td>Bool</td></tr><tr><th>19</th><td>season</td><td>2.49064</td><td>1</td><td>2.0</td><td>4</td><td>0</td><td>Int64</td></tr></tbody></table>"
      ],
      "text/latex": [
       "\\begin{tabular}{r|ccccccc}\n",
       "\t& variable & mean & min & median & max & nmissing & eltype\\\\\n",
       "\t\\hline\n",
       "\t& Symbol & Float64 & Real & Float64 & Real & Int64 & Type\\\\\n",
       "\t\\hline\n",
       "\t1 & electkwh & 1.36138 & 0.173227 & 1.0155 & 11.001 & 0 & Float64 \\\\\n",
       "\t2 & PV\\_generation & 1.82052 & 0.0 & 0.01 & 11.688 & 0 & Float64 \\\\\n",
       "\t3 & chargekwh & 0.824931 & 0.0 & 0.0 & 10.2915 & 7087 & Union\\{Missing, Float64\\} \\\\\n",
       "\t4 & h\\_countdown & 2.60365 & -1.0 & -1.0 & 94.0 & 0 & Union\\{Missing, Float64\\} \\\\\n",
       "\t5 & soc\\_ev & 0.983094 & 0.0 & 1.0 & 1.0 & 0 & Union\\{Missing, Float64\\} \\\\\n",
       "\t6 & month & 6.52683 & 1 & 7.0 & 12 & 0 & Int64 \\\\\n",
       "\t7 & day & 15.7209 & 1 & 16.0 & 31 & 0 & Int64 \\\\\n",
       "\t8 & hour & 11.5 & 0 & 11.5 & 23 & 0 & Int64 \\\\\n",
       "\t9 & nday & 4380.5 & 1 & 4380.5 & 8760 & 0 & Int64 \\\\\n",
       "\t10 & d\\_res & -0.30159 & -11.412 & 0.3295 & 11.2553 & 0 & Float64 \\\\\n",
       "\t11 & hour\\_cos & 0.0416667 & -0.990686 & 0.0676068 & 1.0 & 0 & Float64 \\\\\n",
       "\t12 & hour\\_sin & -2.58545e-17 & -0.997669 & -1.22465e-16 & 0.997669 & 0 & Float64 \\\\\n",
       "\t13 & month\\_cos & -0.00231559 & -1.0 & -1.83697e-16 & 1.0 & 0 & Float64 \\\\\n",
       "\t14 & month\\_sin & -0.00559412 & -1.0 & -2.44929e-16 & 1.0 & 0 & Float64 \\\\\n",
       "\t15 & spring & 0.251941 & 0 & 0.0 & 1 & 0 & Bool \\\\\n",
       "\t16 & summer & 0.252055 & 0 & 0.0 & 1 & 0 & Bool \\\\\n",
       "\t17 & autumn & 0.249429 & 0 & 0.0 & 1 & 0 & Bool \\\\\n",
       "\t18 & winter & 0.246575 & 0 & 0.0 & 1 & 0 & Bool \\\\\n",
       "\t19 & season & 2.49064 & 1 & 2.0 & 4 & 0 & Int64 \\\\\n",
       "\\end{tabular}\n"
      ],
      "text/plain": [
       "\u001b[1m19×7 DataFrame\u001b[0m\n",
       "\u001b[1m Row \u001b[0m│\u001b[1m variable      \u001b[0m\u001b[1m mean           \u001b[0m\u001b[1m min          \u001b[0m\u001b[1m median         \u001b[0m\u001b[1m max         \u001b[0m\u001b[1m nmissing \u001b[0m\u001b[1m eltype                  \u001b[0m\n",
       "\u001b[1m     \u001b[0m│\u001b[90m Symbol        \u001b[0m\u001b[90m Float64        \u001b[0m\u001b[90m Real         \u001b[0m\u001b[90m Float64        \u001b[0m\u001b[90m Real        \u001b[0m\u001b[90m Int64    \u001b[0m\u001b[90m Type                    \u001b[0m\n",
       "─────┼─────────────────────────────────────────────────────────────────────────────────────────────────────────────\n",
       "   1 │ electkwh          1.36138          0.173227     1.0155         11.001            0  Float64\n",
       "   2 │ PV_generation     1.82052          0.0          0.01           11.688            0  Float64\n",
       "   3 │ chargekwh         0.824931         0.0          0.0            10.2915        7087  Union{Missing, Float64}\n",
       "   4 │ h_countdown       2.60365         -1.0         -1.0            94.0              0  Union{Missing, Float64}\n",
       "   5 │ soc_ev            0.983094         0.0          1.0             1.0              0  Union{Missing, Float64}\n",
       "   6 │ month             6.52683          1            7.0            12                0  Int64\n",
       "   7 │ day              15.7209           1           16.0            31                0  Int64\n",
       "   8 │ hour             11.5              0           11.5            23                0  Int64\n",
       "  ⋮  │       ⋮              ⋮              ⋮              ⋮              ⋮          ⋮                 ⋮\n",
       "  13 │ month_cos        -0.00231559      -1.0         -1.83697e-16     1.0              0  Float64\n",
       "  14 │ month_sin        -0.00559412      -1.0         -2.44929e-16     1.0              0  Float64\n",
       "  15 │ spring            0.251941     false            0.0          true                0  Bool\n",
       "  16 │ summer            0.252055     false            0.0          true                0  Bool\n",
       "  17 │ autumn            0.249429     false            0.0          true                0  Bool\n",
       "  18 │ winter            0.246575     false            0.0          true                0  Bool\n",
       "  19 │ season            2.49064          1            2.0             4                0  Int64\n",
       "\u001b[36m                                                                                                     4 rows omitted\u001b[0m"
      ]
     },
     "metadata": {},
     "output_type": "display_data"
    }
   ],
   "source": [
    "describe(Input_df)"
   ]
  },
  {
   "cell_type": "markdown",
   "metadata": {},
   "source": [
    "## Add dynamic prices based on Ye et al. 2020"
   ]
  },
  {
   "cell_type": "code",
   "execution_count": 284,
   "metadata": {},
   "outputs": [],
   "source": [
    "#LU\n",
    "#=\n",
    "function set_dynamic_prices(Input_df)\n",
    "    map(eachrow(Input_df)) do r\n",
    "        if r.month >= 5 && r.month <= 10\n",
    "            if (r.hour >= 6 && r.hour <= 9) || (r.hour >= 16 && r.hour <= 17)\n",
    "                return 0.3f0\n",
    "            elseif (r.hour >= 10 && r.hour <= 15)\n",
    "                return 0.6f0\n",
    "            else\n",
    "                return 0.15f0\n",
    "            end\n",
    "        elseif r.month >= 11 || r.month <= 4\n",
    "            if (r.hour >= 6 && r.hour <= 9) || (r.hour >= 16 && r.hour <= 17)\n",
    "                return 0.6f0\n",
    "            elseif r.hour >= 10 && r.hour <= 15\n",
    "                return 0.3f0\n",
    "            else\n",
    "                return 0.15f0\n",
    "            end\n",
    "        end\n",
    "    end\n",
    "end      =#  "
   ]
  },
  {
   "cell_type": "code",
   "execution_count": 285,
   "metadata": {},
   "outputs": [],
   "source": [
    "#LU\n",
    "#=Input_df[!, \"p_buy\"] = set_dynamic_prices(Input_df);\n",
    "Input_df[!, \"p_sell\"] = 0.5 .* Input_df[!, \"p_buy\"];\n",
    "=#"
   ]
  },
  {
   "cell_type": "code",
   "execution_count": 286,
   "metadata": {
    "scrolled": true
   },
   "outputs": [],
   "source": [
    "#LU describe(Input_df)"
   ]
  },
  {
   "cell_type": "markdown",
   "metadata": {},
   "source": [
    "## Extract training, testing + evalution data set for summer, winter, both, all"
   ]
  },
  {
   "cell_type": "code",
   "execution_count": 287,
   "metadata": {
    "scrolled": true
   },
   "outputs": [],
   "source": [
    "#LU\n",
    "#=# filter summer\n",
    "Input_data_summer = filter(:summer => !=(0), Input_df)\n",
    "describe(Input_data_summer), size(Input_data_summer)\n",
    "=#"
   ]
  },
  {
   "cell_type": "code",
   "execution_count": 288,
   "metadata": {},
   "outputs": [],
   "source": [
    "#=function train_eval_test_split(Input_df)\n",
    "    train = filter(row -> row.day <= 15, Input_df)\n",
    "    eval = filter(row -> row.day > 15 && row.day <= 20, Input_df)\n",
    "    test = filter(row -> row.day > 20, Input_df)\n",
    "    return train, eval, test\n",
    "end=#"
   ]
  },
  {
   "cell_type": "code",
   "execution_count": 289,
   "metadata": {},
   "outputs": [
    {
     "data": {
      "text/plain": [
       "build_sets (generic function with 1 method)"
      ]
     },
     "metadata": {},
     "output_type": "display_data"
    }
   ],
   "source": [
    "function split_all_data_advanced_v2(Input_df)\n",
    "    # Initialize the data sets\n",
    "    train = DataFrame()\n",
    "    eval = DataFrame()\n",
    "    test = DataFrame()\n",
    "\n",
    "    # Define the pattern of row counts for each data set\n",
    "    pattern = [(\"test\", 24*10), (\"eval\", 5*24), (\"train\", 15*24)\n",
    "\n",
    "    splitpoint_adjustments = Dict(\"train\" => 0, \"eval\" => 0, \"test\" => 0)\n",
    "\n",
    "    # Initialize the pattern index\n",
    "    pattern_index = 1\n",
    "\n",
    "    i = 0\n",
    "\n",
    "    # Iterate over the rows of the DataFrame\n",
    "    while i < size(Input_df, 1)\n",
    "        print(\"$i  \")\n",
    "        # Get the current data set name and row count from the pattern\n",
    "        set_name, row_count = pattern[pattern_index]\n",
    "\n",
    "        row_count -= min(splitpoint_adjustments[set_name], 4*24)\n",
    "\n",
    "        splitpoint_adjustments[set_name] -= min(splitpoint_adjustments[set_name], 4*24)\n",
    "\n",
    "        maxi = 0\n",
    "        maxi += 1\n",
    "        if maxi > 10000\n",
    "            println(\"maxi break\")\n",
    "            break\n",
    "        end\n",
    "\n",
    "        while (Input_df[min(i+row_count, nrow(Input_df)), :h_countdown] > -1) #&& splitpoint_adjustments[set_name] <= 3*24)\n",
    "            if i+row_count-1 >  10000\n",
    "                println(\"breaking at $(pattern[pattern_index])\")\n",
    "                break\n",
    "            end\n",
    "\n",
    "\n",
    "\n",
    "            print(\"\\n i: $i, set_name: $set_name, row_count: $row_count, days: $(row_count/24)\")\n",
    "            print(\"\\n split point not ok at nday \", Input_df[min(i+row_count-1, size(Input_df, 1)), :nday] ,\n",
    "                    \".\\n month $(Input_df[min(i+row_count-1, size(Input_df, 1)), :month]), day $(Input_df[min(i+row_count-1, size(Input_df, 1)), :day]). Trying at next day. \\n\")\n",
    "            \n",
    "\n",
    "            if (i+row_count+24-1) > (nrow(Input_df)-1)\n",
    "                println(\"i+rowcount = $i + $row_count +24 - 1 = $(i+row_count+24-1), which is out of bounds. Break!\")\n",
    "                break\n",
    "            else\n",
    "                row_count += 24\n",
    "                splitpoint_adjustments[set_name] += 24\n",
    "                print(\"Total new splitpoint adjustment for $set_name: $(splitpoint_adjustments[set_name])\")\n",
    "            end\n",
    "            \n",
    "        end\n",
    "\n",
    "        print(\"\\n Splitpoint found.\")        \n",
    "\n",
    "        # Add the rows to the appropriate data set\n",
    "        rows = Input_df[i+1:min(i+row_count, size(Input_df, 1)), :]\n",
    "\n",
    "        if set_name == \"train\"\n",
    "            train, row_count = build_sets(train, rows, 4320, row_count)\n",
    "        elseif set_name == \"eval\"\n",
    "            eval, row_count = build_sets(eval, rows, 1440, row_count)\n",
    "        else # set_name == \"test\"\n",
    "            test, row_count = build_sets(test, rows, 3000, row_count)\n",
    "        end\n",
    "\n",
    "        # Move to the next rows\n",
    "        i = i + row_count\n",
    "\n",
    "        # Move to the next pattern index, or reset to 1 if the end of the pattern is reached\n",
    "        pattern_index = pattern_index % length(pattern) + 1\n",
    "    end\n",
    "\n",
    "    print(\"\\n Length train-data = \", nrow(train), \"\\n Length eval-data = \", nrow(eval), \"\\n Length test-data = \", nrow(test))\n",
    "    \n",
    "    return train, eval, test\n",
    "\n",
    "end\n",
    "\n",
    "function build_sets(set, rows, limit, row_count)\n",
    "    set = vcat(set, rows)\n",
    "    if nrow(set) > limit\n",
    "        println(\"limit exceeded\")\n",
    "        row_count -= nrow(set) - limit\n",
    "        set = first(set, limit)\n",
    "        \n",
    "    end\n",
    "    return set, row_count\n",
    "end\n",
    "        \n"
   ]
  },
  {
   "cell_type": "code",
   "execution_count": 290,
   "metadata": {},
   "outputs": [],
   "source": [
    "#LU\n",
    "#=summer_training, summer_evaluation, summer_testing = train_eval_test_split(Input_data_summer)\n",
    "\n",
    "CSV.write(\"data/$(ID)_summer_train_TOU.csv\", summer_training);\n",
    "CSV.write(\"data/$(ID)_summer_eval_TOU.csv\", summer_evaluation);\n",
    "CSV.write(\"data/$(ID)_summer_test_TOU.csv\", summer_testing);\n",
    "=#"
   ]
  },
  {
   "cell_type": "code",
   "execution_count": 291,
   "metadata": {
    "scrolled": false
   },
   "outputs": [],
   "source": [
    "#LU\n",
    "#=# filter winter\n",
    "Input_data_winter = filter(:winter => !=(0), Input_df)\n",
    "describe(Input_data_winter), size(Input_data_winter)\n",
    "=#"
   ]
  },
  {
   "cell_type": "code",
   "execution_count": 292,
   "metadata": {},
   "outputs": [],
   "source": [
    "#LU\n",
    "#=winter_training, winter_evaluation, winter_testing = train_eval_test_split(Input_data_winter)\n",
    "\n",
    "# write data files\n",
    "CSV.write(\"data/$(ID)_winter_train_TOU.csv\", winter_training);\n",
    "CSV.write(\"data/$(ID)_winter_eval_TOU.csv\", winter_evaluation);\n",
    "CSV.write(\"data/$(ID)_winter_test_TOU.csv\", winter_testing);\n",
    "=#"
   ]
  },
  {
   "cell_type": "code",
   "execution_count": 293,
   "metadata": {},
   "outputs": [],
   "source": [
    "#all_training, all_evaluation, all_testing = split_all_data_advanced(Input_df)\n",
    "\n",
    "#LU \n",
    "#=\n",
    "# write data files\n",
    "CSV.write(\"data/$(ID)_all_train_TOU.csv\", all_training);\n",
    "CSV.write(\"data/$(ID)_all_eval_TOU.csv\", all_evaluation);\n",
    "CSV.write(\"data/$(ID)_all_test_TOU.csv\", all_testing);\n",
    "=#"
   ]
  },
  {
   "cell_type": "code",
   "execution_count": 294,
   "metadata": {},
   "outputs": [],
   "source": [
    "#LU\n",
    "#describe(vcat(Input_data_winter, Input_data_summer) ), size(vcat(Input_data_winter, Input_data_summer) )"
   ]
  },
  {
   "cell_type": "code",
   "execution_count": 295,
   "metadata": {},
   "outputs": [],
   "source": [
    "#LU\n",
    "#=# both seasons split\n",
    "both_training, both_evaluation, both_testing = train_eval_test_split(vcat(Input_data_winter, Input_data_summer))\n",
    "\n",
    "# write data files\n",
    "CSV.write(\"data/$(ID)_both_train_TOU.csv\", both_training);\n",
    "CSV.write(\"data/$(ID)_both_test_TOU.csv\", both_testing);\n",
    "CSV.write(\"data/$(ID)_both_eval_TOU.csv\", both_evaluation);\n",
    "=#"
   ]
  },
  {
   "cell_type": "markdown",
   "metadata": {},
   "source": [
    "## Dataset for fixed prices"
   ]
  },
  {
   "cell_type": "code",
   "execution_count": 296,
   "metadata": {},
   "outputs": [],
   "source": [
    "Input_df[!, \"p_buy\"] .= 0.3;\n",
    "Input_df[!, \"p_sell\"] .= 0.1;"
   ]
  },
  {
   "cell_type": "code",
   "execution_count": 297,
   "metadata": {},
   "outputs": [
    {
     "name": "stdout",
     "output_type": "stream",
     "text": [
      "0  \n",
      " Splitpoint found.240  \n",
      " Splitpoint found.360  \n",
      " Splitpoint found.720  \n",
      " Splitpoint found.960  \n",
      " Splitpoint found.1080  \n",
      " Splitpoint found.1440  \n",
      " Splitpoint found.1680  \n",
      " Splitpoint found.1800  \n",
      " Splitpoint found.2160  \n",
      " Splitpoint found.2400  \n",
      " Splitpoint found.2520  \n",
      " Splitpoint found.2880  \n",
      " Splitpoint found.3120  \n",
      " Splitpoint found.3240  \n",
      " Splitpoint found.3600  \n",
      " Splitpoint found.3840  \n",
      " Splitpoint found.3960  \n",
      " Splitpoint found.4320  \n",
      " Splitpoint found.4560  \n",
      " Splitpoint found.4680  \n",
      " Splitpoint found.5040  \n",
      " Splitpoint found.5280  \n",
      " Splitpoint found.5400  \n",
      " Splitpoint found.5760  \n",
      " Splitpoint found.6000  \n",
      " Splitpoint found.6120  \n",
      " Splitpoint found.6480  \n",
      " Splitpoint found.6720  \n",
      " Splitpoint found.6840  \n",
      " Splitpoint found.7200  \n",
      " Splitpoint found.7440  \n",
      " Splitpoint found.7560  \n",
      " Splitpoint found.7920  \n",
      " Splitpoint found.8160  \n",
      " Splitpoint found.8280  \n",
      " Splitpoint found.8640  \n",
      " Splitpoint found.\n",
      " Length train-data = 4320\n",
      " Length eval-data = 1440\n",
      " Length test-data = 3000"
     ]
    },
    {
     "data": {
      "text/plain": [
       "(\u001b[1m4320×21 DataFrame\u001b[0m\n",
       "\u001b[1m  Row \u001b[0m│\u001b[1m electkwh \u001b[0m\u001b[1m PV_generation \u001b[0m\u001b[1m chargekwh \u001b[0m\u001b[1m h_countdown \u001b[0m\u001b[1m soc_ev   \u001b[0m\u001b[1m month \u001b[0m\u001b[1m day   \u001b[0m\u001b[1m hour  \u001b[0m\u001b[1m nday  \u001b[0m\u001b[1m d_res   \u001b[0m\u001b[1m hour_cos   \u001b[0m\u001b[1m hour_sin     \u001b[0m\u001b[1m month_cos \u001b[0m\u001b[1m month_sin \u001b[0m\u001b[1m spring \u001b[0m\u001b[1m summer \u001b[0m\u001b[1m autumn \u001b[0m\u001b[1m winter \u001b[0m\u001b[1m season \u001b[0m\u001b[1m p_buy   \u001b[0m\u001b[1m p_sell  \u001b[0m\n",
       "\u001b[1m      \u001b[0m│\u001b[90m Float64  \u001b[0m\u001b[90m Float64       \u001b[0m\u001b[90m Float64?  \u001b[0m\u001b[90m Float64?    \u001b[0m\u001b[90m Float64? \u001b[0m\u001b[90m Int64 \u001b[0m\u001b[90m Int64 \u001b[0m\u001b[90m Int64 \u001b[0m\u001b[90m Int64 \u001b[0m\u001b[90m Float64 \u001b[0m\u001b[90m Float64    \u001b[0m\u001b[90m Float64      \u001b[0m\u001b[90m Float64   \u001b[0m\u001b[90m Float64   \u001b[0m\u001b[90m Bool   \u001b[0m\u001b[90m Bool   \u001b[0m\u001b[90m Bool   \u001b[0m\u001b[90m Bool   \u001b[0m\u001b[90m Int64  \u001b[0m\u001b[90m Float64 \u001b[0m\u001b[90m Float64 \u001b[0m\n",
       "──────┼──────────────────────────────────────────────────────────────────────────────────────────────────────────────────────────────────────────────────────────────────────────────────────────────────────────\n",
       "    1 │    0.278          0.0   \u001b[90m   missing \u001b[0m        -1.0       1.0     11     16      0    361    0.278   1.0         0.0           0.866025  -0.5        false   false    true   false       3      0.3      0.1\n",
       "    2 │    0.252          0.0   \u001b[90m   missing \u001b[0m        -1.0       1.0     11     16      1    362    0.252   0.962917    0.269797      0.866025  -0.5        false   false    true   false       3      0.3      0.1\n",
       "    3 │    0.661          0.0   \u001b[90m   missing \u001b[0m        -1.0       1.0     11     16      2    363    0.661   0.854419    0.519584      0.866025  -0.5        false   false    true   false       3      0.3      0.1\n",
       "    4 │    1.735          0.0   \u001b[90m   missing \u001b[0m        -1.0       1.0     11     16      3    364    1.735   0.682553    0.730836      0.866025  -0.5        false   false    true   false       3      0.3      0.1\n",
       "    5 │    0.45           0.0   \u001b[90m   missing \u001b[0m        -1.0       1.0     11     16      4    365    0.45    0.460065    0.887885      0.866025  -0.5        false   false    true   false       3      0.3      0.1\n",
       "    6 │    0.392          0.0   \u001b[90m   missing \u001b[0m        -1.0       1.0     11     16      5    366    0.392   0.203456    0.979084      0.866025  -0.5        false   false    true   false       3      0.3      0.1\n",
       "    7 │    0.549          0.007 \u001b[90m   missing \u001b[0m        -1.0       1.0     11     16      6    367    0.542  -0.0682424   0.997669      0.866025  -0.5        false   false    true   false       3      0.3      0.1\n",
       "    8 │    0.437          0.328 \u001b[90m   missing \u001b[0m        -1.0       1.0     11     16      7    368    0.109  -0.33488     0.942261      0.866025  -0.5        false   false    true   false       3      0.3      0.1\n",
       "  ⋮   │    ⋮            ⋮            ⋮           ⋮          ⋮        ⋮      ⋮      ⋮      ⋮       ⋮         ⋮            ⋮            ⋮          ⋮        ⋮       ⋮       ⋮       ⋮       ⋮        ⋮        ⋮\n",
       " 4314 │    0.818          0.0   \u001b[90m   missing \u001b[0m        -1.0       1.0     10     26     18   8634    0.818   0.203456   -0.979084      0.5       -0.866025   false   false    true   false       3      0.3      0.1\n",
       " 4315 │    0.575          0.0   \u001b[90m   missing \u001b[0m        -1.0       1.0     10     26     19   8635    0.575   0.460065   -0.887885      0.5       -0.866025   false   false    true   false       3      0.3      0.1\n",
       " 4316 │    0.302          0.0   \u001b[90m   missing \u001b[0m        -1.0       1.0     10     26     20   8636    0.302   0.682553   -0.730836      0.5       -0.866025   false   false    true   false       3      0.3      0.1\n",
       " 4317 │    0.715          0.0   \u001b[90m   missing \u001b[0m        -1.0       1.0     10     26     21   8637    0.715   0.854419   -0.519584      0.5       -0.866025   false   false    true   false       3      0.3      0.1\n",
       " 4318 │    0.564          0.0   \u001b[90m   missing \u001b[0m        -1.0       1.0     10     26     22   8638    0.564   0.962917   -0.269797      0.5       -0.866025   false   false    true   false       3      0.3      0.1\n",
       " 4319 │    0.253          0.0   \u001b[90m   missing \u001b[0m        -1.0       1.0     10     26     23   8639    0.253   1.0        -2.44929e-16   0.5       -0.866025   false   false    true   false       3      0.3      0.1\n",
       " 4320 │    0.221          0.0   \u001b[90m   missing \u001b[0m        -1.0       1.0     10     27      0   8640    0.221   1.0         0.0           0.5       -0.866025   false   false    true   false       3      0.3      0.1\n",
       "\u001b[36m                                                                                                                                                                                                4305 rows omitted\u001b[0m, \u001b[1m1440×21 DataFrame\u001b[0m\n",
       "\u001b[1m  Row \u001b[0m│\u001b[1m electkwh \u001b[0m\u001b[1m PV_generation \u001b[0m\u001b[1m chargekwh     \u001b[0m\u001b[1m h_countdown \u001b[0m\u001b[1m soc_ev   \u001b[0m\u001b[1m month \u001b[0m\u001b[1m day   \u001b[0m\u001b[1m hour  \u001b[0m\u001b[1m nday  \u001b[0m\u001b[1m d_res   \u001b[0m\u001b[1m hour_cos   \u001b[0m\u001b[1m hour_sin     \u001b[0m\u001b[1m month_cos \u001b[0m\u001b[1m month_sin \u001b[0m\u001b[1m spring \u001b[0m\u001b[1m summer \u001b[0m\u001b[1m autumn \u001b[0m\u001b[1m winter \u001b[0m\u001b[1m season \u001b[0m\u001b[1m p_buy   \u001b[0m\u001b[1m p_sell  \u001b[0m\n",
       "\u001b[1m      \u001b[0m│\u001b[90m Float64  \u001b[0m\u001b[90m Float64       \u001b[0m\u001b[90m Float64?      \u001b[0m\u001b[90m Float64?    \u001b[0m\u001b[90m Float64? \u001b[0m\u001b[90m Int64 \u001b[0m\u001b[90m Int64 \u001b[0m\u001b[90m Int64 \u001b[0m\u001b[90m Int64 \u001b[0m\u001b[90m Float64 \u001b[0m\u001b[90m Float64    \u001b[0m\u001b[90m Float64      \u001b[0m\u001b[90m Float64   \u001b[0m\u001b[90m Float64   \u001b[0m\u001b[90m Bool   \u001b[0m\u001b[90m Bool   \u001b[0m\u001b[90m Bool   \u001b[0m\u001b[90m Bool   \u001b[0m\u001b[90m Int64  \u001b[0m\u001b[90m Float64 \u001b[0m\u001b[90m Float64 \u001b[0m\n",
       "──────┼──────────────────────────────────────────────────────────────────────────────────────────────────────────────────────────────────────────────────────────────────────────────────────────────────────────────\n",
       "    1 │  1.831            0.0   \u001b[90m missing       \u001b[0m        -1.0  1.0          11     11      0    241    1.831   1.0         0.0           0.866025  -0.5        false   false    true   false       3      0.3      0.1\n",
       "    2 │  0.38             0.0   \u001b[90m missing       \u001b[0m        -1.0  1.0          11     11      1    242    0.38    0.962917    0.269797      0.866025  -0.5        false   false    true   false       3      0.3      0.1\n",
       "    3 │  0.239            0.0   \u001b[90m missing       \u001b[0m        -1.0  1.0          11     11      2    243    0.239   0.854419    0.519584      0.866025  -0.5        false   false    true   false       3      0.3      0.1\n",
       "    4 │  0.242            0.0   \u001b[90m missing       \u001b[0m        -1.0  1.0          11     11      3    244    0.242   0.682553    0.730836      0.866025  -0.5        false   false    true   false       3      0.3      0.1\n",
       "    5 │  1.429            0.0   \u001b[90m missing       \u001b[0m        -1.0  1.0          11     11      4    245    1.429   0.460065    0.887885      0.866025  -0.5        false   false    true   false       3      0.3      0.1\n",
       "    6 │  1.707            0.0   \u001b[90m missing       \u001b[0m        -1.0  1.0          11     11      5    246    1.707   0.203456    0.979084      0.866025  -0.5        false   false    true   false       3      0.3      0.1\n",
       "    7 │  0.611            0.01  \u001b[90m missing       \u001b[0m        -1.0  1.0          11     11      6    247    0.601  -0.0682424   0.997669      0.866025  -0.5        false   false    true   false       3      0.3      0.1\n",
       "    8 │  0.347            0.155 \u001b[90m missing       \u001b[0m        -1.0  1.0          11     11      7    248    0.192  -0.33488     0.942261      0.866025  -0.5        false   false    true   false       3      0.3      0.1\n",
       "  ⋮   │    ⋮            ⋮              ⋮             ⋮          ⋮        ⋮      ⋮      ⋮      ⋮       ⋮         ⋮            ⋮            ⋮          ⋮        ⋮       ⋮       ⋮       ⋮       ⋮        ⋮        ⋮\n",
       " 1434 │  1.15162          0.0          2.28438          0.0  0.950043     10     11     18   8274    3.436   0.203456   -0.979084      0.5       -0.866025   false   false    true   false       3      0.3      0.1\n",
       " 1435 │  1.5              0.001 \u001b[90m missing       \u001b[0m        -1.0  1.0          10     11     19   8275    1.499   0.460065   -0.887885      0.5       -0.866025   false   false    true   false       3      0.3      0.1\n",
       " 1436 │  1.487            0.002 \u001b[90m missing       \u001b[0m        -1.0  1.0          10     11     20   8276    1.485   0.682553   -0.730836      0.5       -0.866025   false   false    true   false       3      0.3      0.1\n",
       " 1437 │  0.38             0.0   \u001b[90m missing       \u001b[0m        -1.0  1.0          10     11     21   8277    0.38    0.854419   -0.519584      0.5       -0.866025   false   false    true   false       3      0.3      0.1\n",
       " 1438 │  0.772            0.0   \u001b[90m missing       \u001b[0m        -1.0  1.0          10     11     22   8278    0.772   0.962917   -0.269797      0.5       -0.866025   false   false    true   false       3      0.3      0.1\n",
       " 1439 │  0.221            0.0   \u001b[90m missing       \u001b[0m        -1.0  1.0          10     11     23   8279    0.221   1.0        -2.44929e-16   0.5       -0.866025   false   false    true   false       3      0.3      0.1\n",
       " 1440 │  0.207            0.0   \u001b[90m missing       \u001b[0m        -1.0  1.0          10     12      0   8280    0.207   1.0         0.0           0.5       -0.866025   false   false    true   false       3      0.3      0.1\n",
       "\u001b[36m                                                                                                                                                                                                    1425 rows omitted\u001b[0m, \u001b[1m3000×21 DataFrame\u001b[0m\n",
       "\u001b[1m  Row \u001b[0m│\u001b[1m electkwh \u001b[0m\u001b[1m PV_generation \u001b[0m\u001b[1m chargekwh \u001b[0m\u001b[1m h_countdown \u001b[0m\u001b[1m soc_ev   \u001b[0m\u001b[1m month \u001b[0m\u001b[1m day   \u001b[0m\u001b[1m hour  \u001b[0m\u001b[1m nday  \u001b[0m\u001b[1m d_res   \u001b[0m\u001b[1m hour_cos   \u001b[0m\u001b[1m hour_sin     \u001b[0m\u001b[1m month_cos \u001b[0m\u001b[1m month_sin \u001b[0m\u001b[1m spring \u001b[0m\u001b[1m summer \u001b[0m\u001b[1m autumn \u001b[0m\u001b[1m winter \u001b[0m\u001b[1m season \u001b[0m\u001b[1m p_buy   \u001b[0m\u001b[1m p_sell  \u001b[0m\n",
       "\u001b[1m      \u001b[0m│\u001b[90m Float64  \u001b[0m\u001b[90m Float64       \u001b[0m\u001b[90m Float64?  \u001b[0m\u001b[90m Float64?    \u001b[0m\u001b[90m Float64? \u001b[0m\u001b[90m Int64 \u001b[0m\u001b[90m Int64 \u001b[0m\u001b[90m Int64 \u001b[0m\u001b[90m Int64 \u001b[0m\u001b[90m Float64 \u001b[0m\u001b[90m Float64    \u001b[0m\u001b[90m Float64      \u001b[0m\u001b[90m Float64   \u001b[0m\u001b[90m Float64   \u001b[0m\u001b[90m Bool   \u001b[0m\u001b[90m Bool   \u001b[0m\u001b[90m Bool   \u001b[0m\u001b[90m Bool   \u001b[0m\u001b[90m Int64  \u001b[0m\u001b[90m Float64 \u001b[0m\u001b[90m Float64 \u001b[0m\n",
       "──────┼──────────────────────────────────────────────────────────────────────────────────────────────────────────────────────────────────────────────────────────────────────────────────────────────────────────\n",
       "    1 │    1.138          0.0   \u001b[90m   missing \u001b[0m        -1.0       1.0     11      1      0      1    1.138   1.0         0.0           0.866025  -0.5        false   false    true   false       3      0.3      0.1\n",
       "    2 │    1.055          0.0   \u001b[90m   missing \u001b[0m        -1.0       1.0     11      1      1      2    1.055   0.962917    0.269797      0.866025  -0.5        false   false    true   false       3      0.3      0.1\n",
       "    3 │    0.223          0.0   \u001b[90m   missing \u001b[0m        -1.0       1.0     11      1      2      3    0.223   0.854419    0.519584      0.866025  -0.5        false   false    true   false       3      0.3      0.1\n",
       "    4 │    0.265          0.0   \u001b[90m   missing \u001b[0m        -1.0       1.0     11      1      3      4    0.265   0.682553    0.730836      0.866025  -0.5        false   false    true   false       3      0.3      0.1\n",
       "    5 │    0.24           0.0   \u001b[90m   missing \u001b[0m        -1.0       1.0     11      1      4      5    0.24    0.460065    0.887885      0.866025  -0.5        false   false    true   false       3      0.3      0.1\n",
       "    6 │    0.234          0.0   \u001b[90m   missing \u001b[0m        -1.0       1.0     11      1      5      6    0.234   0.203456    0.979084      0.866025  -0.5        false   false    true   false       3      0.3      0.1\n",
       "    7 │    0.314          0.008 \u001b[90m   missing \u001b[0m        -1.0       1.0     11      1      6      7    0.306  -0.0682424   0.997669      0.866025  -0.5        false   false    true   false       3      0.3      0.1\n",
       "    8 │    0.697          0.217 \u001b[90m   missing \u001b[0m        -1.0       1.0     11      1      7      8    0.48   -0.33488     0.942261      0.866025  -0.5        false   false    true   false       3      0.3      0.1\n",
       "  ⋮   │    ⋮            ⋮            ⋮           ⋮          ⋮        ⋮      ⋮      ⋮      ⋮       ⋮         ⋮            ⋮            ⋮          ⋮        ⋮       ⋮       ⋮       ⋮       ⋮        ⋮        ⋮\n",
       " 2994 │    1.163          0.0   \u001b[90m   missing \u001b[0m        -1.0       1.0     10     31     17   8754    1.163  -0.0682424  -0.997669      0.5       -0.866025   false   false    true   false       3      0.3      0.1\n",
       " 2995 │    0.709          0.0   \u001b[90m   missing \u001b[0m        -1.0       1.0     10     31     18   8755    0.709   0.203456   -0.979084      0.5       -0.866025   false   false    true   false       3      0.3      0.1\n",
       " 2996 │    0.362          0.0   \u001b[90m   missing \u001b[0m        -1.0       1.0     10     31     19   8756    0.362   0.460065   -0.887885      0.5       -0.866025   false   false    true   false       3      0.3      0.1\n",
       " 2997 │    0.282          0.0   \u001b[90m   missing \u001b[0m        -1.0       1.0     10     31     20   8757    0.282   0.682553   -0.730836      0.5       -0.866025   false   false    true   false       3      0.3      0.1\n",
       " 2998 │    0.287          0.0   \u001b[90m   missing \u001b[0m        -1.0       1.0     10     31     21   8758    0.287   0.854419   -0.519584      0.5       -0.866025   false   false    true   false       3      0.3      0.1\n",
       " 2999 │    0.177          0.0   \u001b[90m   missing \u001b[0m        -1.0       1.0     10     31     22   8759    0.177   0.962917   -0.269797      0.5       -0.866025   false   false    true   false       3      0.3      0.1\n",
       " 3000 │    0.261          0.0   \u001b[90m   missing \u001b[0m        -1.0       1.0     10     31     23   8760    0.261   1.0        -2.44929e-16   0.5       -0.866025   false   false    true   false       3      0.3      0.1\n",
       "\u001b[36m                                                                                                                                                                                                2985 rows omitted\u001b[0m)"
      ]
     },
     "metadata": {},
     "output_type": "display_data"
    }
   ],
   "source": [
    "all_training, all_evaluation, all_testing = split_all_data_advanced_v2(Input_df)"
   ]
  },
  {
   "cell_type": "code",
   "execution_count": 298,
   "metadata": {},
   "outputs": [
    {
     "name": "stdout",
     "output_type": "stream",
     "text": [
      "train-data length: 4320\n",
      "eval-data length: 1440\n",
      "test-data length: 3000\n"
     ]
    }
   ],
   "source": [
    "for (set, df) in [(\"train\" , all_training), (\"eval\", all_evaluation), (\"test\", all_testing)]\n",
    "    print(set, \"-data length: \", nrow(df), \"\\n\")\n",
    "end"
   ]
  },
  {
   "cell_type": "code",
   "execution_count": 299,
   "metadata": {},
   "outputs": [],
   "source": [
    "#LU\n",
    "#Input_data_summer = filter(:summer => !=(0), Input_df);\n",
    "#Input_data_winter = filter(:winter => !=(0), Input_df);"
   ]
  },
  {
   "cell_type": "code",
   "execution_count": 300,
   "metadata": {},
   "outputs": [],
   "source": [
    "#LU summer_training, summer_evaluation, summer_testing = train_eval_test_split(Input_data_summer);\n",
    "#LU winter_training, winter_evaluation, winter_testing = train_eval_test_split(Input_data_winter);\n",
    "#LU all_training, all_evaluation, all_testing = train_eval_test_split(Input_df);\n",
    "#LU both_training, both_evaluation, both_testing = train_eval_test_split(vcat(Input_data_winter, Input_data_summer));"
   ]
  },
  {
   "cell_type": "code",
   "execution_count": 301,
   "metadata": {},
   "outputs": [
    {
     "data": {
      "text/plain": [
       "\"data/Charger08_all_eval_fix.csv\""
      ]
     },
     "metadata": {},
     "output_type": "display_data"
    }
   ],
   "source": [
    "#LU\n",
    "#=CSV.write(\"data/$(ID)_both_train_fix.csv\", both_training);\n",
    "CSV.write(\"data/$(ID)_both_test_fix.csv\", both_testing);\n",
    "CSV.write(\"data/$(ID)_both_eval_fix.csv\", both_evaluation);=#\n",
    "\n",
    "CSV.write(\"data/$(ID)_all_train_fix.csv\", all_training);\n",
    "CSV.write(\"data/$(ID)_all_test_fix.csv\", all_testing);\n",
    "CSV.write(\"data/$(ID)_all_eval_fix.csv\", all_evaluation);\n",
    "\n",
    "#LU\n",
    "#=CSV.write(\"data/$(ID)_summer_train_fix.csv\", summer_training);\n",
    "CSV.write(\"data/$(ID)_summer_test_fix.csv\", summer_testing);\n",
    "CSV.write(\"data/$(ID)_summer_eval_fix.csv\", summer_evaluation);\n",
    "CSV.write(\"data/$(ID)_winter_train_fix.csv\", winter_training);\n",
    "CSV.write(\"data/$(ID)_winter_test_fix.csv\", winter_testing);\n",
    "CSV.write(\"data/$(ID)_winter_eval_fix.csv\", winter_evaluation);\n",
    "=#"
   ]
  },
  {
   "cell_type": "markdown",
   "metadata": {},
   "source": [
    "**Adding my own analysis**"
   ]
  },
  {
   "cell_type": "code",
   "execution_count": 302,
   "metadata": {},
   "outputs": [
    {
     "name": "stdout",
     "output_type": "stream",
     "text": [
      "Grid purchase cost of Charger08 in the data: 200.42472800000002. This is the sonnen benchmark."
     ]
    }
   ],
   "source": [
    "\n",
    "\n",
    "sell_discount = 0.3\n",
    "\n",
    "p_buy = 0.3\n",
    "\n",
    "p_sell = p_buy * sell_discount\n",
    "\n",
    "grid = all_evaluation[!, \"electkwh\"] + coalesce.(all_evaluation[!, \"chargekwh\"], 0) - all_evaluation[!, \"PV_generation\"]\n",
    "\n",
    "# Multiply positive values with p_buy and negative values with p_sell\n",
    "grid_cost = [x > 0 ? x * p_buy : x * p_sell for x in grid]\n",
    "\n",
    "# Calculate the sum of all these multiplications and store it in cost\n",
    "cost = sum(grid_cost)\n",
    "\n",
    "print(\"Grid purchase cost of $ID in the data: $cost. This is the sonnen benchmark.\")\n",
    "\n"
   ]
  },
  {
   "cell_type": "code",
   "execution_count": 303,
   "metadata": {},
   "outputs": [
    {
     "data": {
      "text/html": [
       "<table class=\"data-frame\"><thead><tr><th></th><th>electkwh</th><th>PV_generation</th><th>chargekwh</th><th>h_countdown</th><th>soc_ev</th><th>month</th><th>day</th><th>hour</th><th>nday</th><th>d_res</th><th>hour_cos</th><th>hour_sin</th><th>month_cos</th><th>month_sin</th><th>spring</th><th>summer</th><th>autumn</th><th>winter</th><th>season</th><th>p_buy</th><th>p_sell</th></tr><tr><th></th><th>Float64</th><th>Float64</th><th>Float64?</th><th>Float64?</th><th>Float64?</th><th>Int64</th><th>Int64</th><th>Int64</th><th>Int64</th><th>Float64</th><th>Float64</th><th>Float64</th><th>Float64</th><th>Float64</th><th>Bool</th><th>Bool</th><th>Bool</th><th>Bool</th><th>Int64</th><th>Float64</th><th>Float64</th></tr></thead><tbody><p>1,440 rows × 21 columns</p><tr><th>1</th><td>1.831</td><td>0.0</td><td><em>missing</em></td><td>-1.0</td><td>1.0</td><td>11</td><td>11</td><td>0</td><td>241</td><td>1.831</td><td>1.0</td><td>0.0</td><td>0.866025</td><td>-0.5</td><td>0</td><td>0</td><td>1</td><td>0</td><td>3</td><td>0.3</td><td>0.1</td></tr><tr><th>2</th><td>0.38</td><td>0.0</td><td><em>missing</em></td><td>-1.0</td><td>1.0</td><td>11</td><td>11</td><td>1</td><td>242</td><td>0.38</td><td>0.962917</td><td>0.269797</td><td>0.866025</td><td>-0.5</td><td>0</td><td>0</td><td>1</td><td>0</td><td>3</td><td>0.3</td><td>0.1</td></tr><tr><th>3</th><td>0.239</td><td>0.0</td><td><em>missing</em></td><td>-1.0</td><td>1.0</td><td>11</td><td>11</td><td>2</td><td>243</td><td>0.239</td><td>0.854419</td><td>0.519584</td><td>0.866025</td><td>-0.5</td><td>0</td><td>0</td><td>1</td><td>0</td><td>3</td><td>0.3</td><td>0.1</td></tr><tr><th>4</th><td>0.242</td><td>0.0</td><td><em>missing</em></td><td>-1.0</td><td>1.0</td><td>11</td><td>11</td><td>3</td><td>244</td><td>0.242</td><td>0.682553</td><td>0.730836</td><td>0.866025</td><td>-0.5</td><td>0</td><td>0</td><td>1</td><td>0</td><td>3</td><td>0.3</td><td>0.1</td></tr><tr><th>5</th><td>1.429</td><td>0.0</td><td><em>missing</em></td><td>-1.0</td><td>1.0</td><td>11</td><td>11</td><td>4</td><td>245</td><td>1.429</td><td>0.460065</td><td>0.887885</td><td>0.866025</td><td>-0.5</td><td>0</td><td>0</td><td>1</td><td>0</td><td>3</td><td>0.3</td><td>0.1</td></tr><tr><th>6</th><td>1.707</td><td>0.0</td><td><em>missing</em></td><td>-1.0</td><td>1.0</td><td>11</td><td>11</td><td>5</td><td>246</td><td>1.707</td><td>0.203456</td><td>0.979084</td><td>0.866025</td><td>-0.5</td><td>0</td><td>0</td><td>1</td><td>0</td><td>3</td><td>0.3</td><td>0.1</td></tr><tr><th>7</th><td>0.611</td><td>0.01</td><td><em>missing</em></td><td>-1.0</td><td>1.0</td><td>11</td><td>11</td><td>6</td><td>247</td><td>0.601</td><td>-0.0682424</td><td>0.997669</td><td>0.866025</td><td>-0.5</td><td>0</td><td>0</td><td>1</td><td>0</td><td>3</td><td>0.3</td><td>0.1</td></tr><tr><th>8</th><td>0.347</td><td>0.155</td><td><em>missing</em></td><td>-1.0</td><td>1.0</td><td>11</td><td>11</td><td>7</td><td>248</td><td>0.192</td><td>-0.33488</td><td>0.942261</td><td>0.866025</td><td>-0.5</td><td>0</td><td>0</td><td>1</td><td>0</td><td>3</td><td>0.3</td><td>0.1</td></tr><tr><th>9</th><td>0.408</td><td>0.451</td><td><em>missing</em></td><td>-1.0</td><td>1.0</td><td>11</td><td>11</td><td>8</td><td>249</td><td>-0.043</td><td>-0.57668</td><td>0.81697</td><td>0.866025</td><td>-0.5</td><td>0</td><td>0</td><td>1</td><td>0</td><td>3</td><td>0.3</td><td>0.1</td></tr><tr><th>10</th><td>0.399</td><td>0.726</td><td><em>missing</em></td><td>-1.0</td><td>1.0</td><td>11</td><td>11</td><td>9</td><td>250</td><td>-0.327</td><td>-0.775711</td><td>0.631088</td><td>0.866025</td><td>-0.5</td><td>0</td><td>0</td><td>1</td><td>0</td><td>3</td><td>0.3</td><td>0.1</td></tr><tr><th>11</th><td>0.314</td><td>0.673</td><td><em>missing</em></td><td>-1.0</td><td>1.0</td><td>11</td><td>11</td><td>10</td><td>251</td><td>-0.359</td><td>-0.917211</td><td>0.398401</td><td>0.866025</td><td>-0.5</td><td>0</td><td>0</td><td>1</td><td>0</td><td>3</td><td>0.3</td><td>0.1</td></tr><tr><th>12</th><td>0.448</td><td>0.76</td><td><em>missing</em></td><td>-1.0</td><td>1.0</td><td>11</td><td>11</td><td>11</td><td>252</td><td>-0.312</td><td>-0.990686</td><td>0.136167</td><td>0.866025</td><td>-0.5</td><td>0</td><td>0</td><td>1</td><td>0</td><td>3</td><td>0.3</td><td>0.1</td></tr><tr><th>13</th><td>1.735</td><td>0.912</td><td><em>missing</em></td><td>-1.0</td><td>1.0</td><td>11</td><td>11</td><td>12</td><td>253</td><td>0.823</td><td>-0.990686</td><td>-0.136167</td><td>0.866025</td><td>-0.5</td><td>0</td><td>0</td><td>1</td><td>0</td><td>3</td><td>0.3</td><td>0.1</td></tr><tr><th>14</th><td>0.321</td><td>0.613</td><td><em>missing</em></td><td>-1.0</td><td>1.0</td><td>11</td><td>11</td><td>13</td><td>254</td><td>-0.292</td><td>-0.917211</td><td>-0.398401</td><td>0.866025</td><td>-0.5</td><td>0</td><td>0</td><td>1</td><td>0</td><td>3</td><td>0.3</td><td>0.1</td></tr><tr><th>15</th><td>0.312</td><td>0.203</td><td><em>missing</em></td><td>-1.0</td><td>1.0</td><td>11</td><td>11</td><td>14</td><td>255</td><td>0.109</td><td>-0.775711</td><td>-0.631088</td><td>0.866025</td><td>-0.5</td><td>0</td><td>0</td><td>1</td><td>0</td><td>3</td><td>0.3</td><td>0.1</td></tr><tr><th>16</th><td>0.643</td><td>0.0</td><td><em>missing</em></td><td>-1.0</td><td>1.0</td><td>11</td><td>11</td><td>15</td><td>256</td><td>0.643</td><td>-0.57668</td><td>-0.81697</td><td>0.866025</td><td>-0.5</td><td>0</td><td>0</td><td>1</td><td>0</td><td>3</td><td>0.3</td><td>0.1</td></tr><tr><th>17</th><td>0.629</td><td>0.0</td><td><em>missing</em></td><td>-1.0</td><td>1.0</td><td>11</td><td>11</td><td>16</td><td>257</td><td>0.629</td><td>-0.33488</td><td>-0.942261</td><td>0.866025</td><td>-0.5</td><td>0</td><td>0</td><td>1</td><td>0</td><td>3</td><td>0.3</td><td>0.1</td></tr><tr><th>18</th><td>1.683</td><td>0.0</td><td><em>missing</em></td><td>-1.0</td><td>1.0</td><td>11</td><td>11</td><td>17</td><td>258</td><td>1.683</td><td>-0.0682424</td><td>-0.997669</td><td>0.866025</td><td>-0.5</td><td>0</td><td>0</td><td>1</td><td>0</td><td>3</td><td>0.3</td><td>0.1</td></tr><tr><th>19</th><td>1.274</td><td>0.0</td><td><em>missing</em></td><td>-1.0</td><td>1.0</td><td>11</td><td>11</td><td>18</td><td>259</td><td>1.274</td><td>0.203456</td><td>-0.979084</td><td>0.866025</td><td>-0.5</td><td>0</td><td>0</td><td>1</td><td>0</td><td>3</td><td>0.3</td><td>0.1</td></tr><tr><th>20</th><td>0.501</td><td>0.0</td><td><em>missing</em></td><td>-1.0</td><td>1.0</td><td>11</td><td>11</td><td>19</td><td>260</td><td>0.501</td><td>0.460065</td><td>-0.887885</td><td>0.866025</td><td>-0.5</td><td>0</td><td>0</td><td>1</td><td>0</td><td>3</td><td>0.3</td><td>0.1</td></tr><tr><th>21</th><td>0.495</td><td>0.0</td><td><em>missing</em></td><td>-1.0</td><td>1.0</td><td>11</td><td>11</td><td>20</td><td>261</td><td>0.495</td><td>0.682553</td><td>-0.730836</td><td>0.866025</td><td>-0.5</td><td>0</td><td>0</td><td>1</td><td>0</td><td>3</td><td>0.3</td><td>0.1</td></tr><tr><th>22</th><td>0.35</td><td>0.0</td><td><em>missing</em></td><td>-1.0</td><td>1.0</td><td>11</td><td>11</td><td>21</td><td>262</td><td>0.35</td><td>0.854419</td><td>-0.519584</td><td>0.866025</td><td>-0.5</td><td>0</td><td>0</td><td>1</td><td>0</td><td>3</td><td>0.3</td><td>0.1</td></tr><tr><th>23</th><td>0.832</td><td>0.0</td><td><em>missing</em></td><td>-1.0</td><td>1.0</td><td>11</td><td>11</td><td>22</td><td>263</td><td>0.832</td><td>0.962917</td><td>-0.269797</td><td>0.866025</td><td>-0.5</td><td>0</td><td>0</td><td>1</td><td>0</td><td>3</td><td>0.3</td><td>0.1</td></tr><tr><th>24</th><td>1.406</td><td>0.0</td><td><em>missing</em></td><td>-1.0</td><td>1.0</td><td>11</td><td>11</td><td>23</td><td>264</td><td>1.406</td><td>1.0</td><td>-2.44929e-16</td><td>0.866025</td><td>-0.5</td><td>0</td><td>0</td><td>1</td><td>0</td><td>3</td><td>0.3</td><td>0.1</td></tr><tr><th>&vellip;</th><td>&vellip;</td><td>&vellip;</td><td>&vellip;</td><td>&vellip;</td><td>&vellip;</td><td>&vellip;</td><td>&vellip;</td><td>&vellip;</td><td>&vellip;</td><td>&vellip;</td><td>&vellip;</td><td>&vellip;</td><td>&vellip;</td><td>&vellip;</td><td>&vellip;</td><td>&vellip;</td><td>&vellip;</td><td>&vellip;</td><td>&vellip;</td><td>&vellip;</td><td>&vellip;</td></tr></tbody></table>"
      ],
      "text/latex": [
       "\\begin{tabular}{r|ccccccccccccccccccccc}\n",
       "\t& electkwh & PV\\_generation & chargekwh & h\\_countdown & soc\\_ev & month & day & hour & nday & d\\_res & hour\\_cos & hour\\_sin & month\\_cos & month\\_sin & spring & summer & autumn & winter & season & p\\_buy & p\\_sell\\\\\n",
       "\t\\hline\n",
       "\t& Float64 & Float64 & Float64? & Float64? & Float64? & Int64 & Int64 & Int64 & Int64 & Float64 & Float64 & Float64 & Float64 & Float64 & Bool & Bool & Bool & Bool & Int64 & Float64 & Float64\\\\\n",
       "\t\\hline\n",
       "\t1 & 1.831 & 0.0 & \\emph{missing} & -1.0 & 1.0 & 11 & 11 & 0 & 241 & 1.831 & 1.0 & 0.0 & 0.866025 & -0.5 & 0 & 0 & 1 & 0 & 3 & 0.3 & 0.1 \\\\\n",
       "\t2 & 0.38 & 0.0 & \\emph{missing} & -1.0 & 1.0 & 11 & 11 & 1 & 242 & 0.38 & 0.962917 & 0.269797 & 0.866025 & -0.5 & 0 & 0 & 1 & 0 & 3 & 0.3 & 0.1 \\\\\n",
       "\t3 & 0.239 & 0.0 & \\emph{missing} & -1.0 & 1.0 & 11 & 11 & 2 & 243 & 0.239 & 0.854419 & 0.519584 & 0.866025 & -0.5 & 0 & 0 & 1 & 0 & 3 & 0.3 & 0.1 \\\\\n",
       "\t4 & 0.242 & 0.0 & \\emph{missing} & -1.0 & 1.0 & 11 & 11 & 3 & 244 & 0.242 & 0.682553 & 0.730836 & 0.866025 & -0.5 & 0 & 0 & 1 & 0 & 3 & 0.3 & 0.1 \\\\\n",
       "\t5 & 1.429 & 0.0 & \\emph{missing} & -1.0 & 1.0 & 11 & 11 & 4 & 245 & 1.429 & 0.460065 & 0.887885 & 0.866025 & -0.5 & 0 & 0 & 1 & 0 & 3 & 0.3 & 0.1 \\\\\n",
       "\t6 & 1.707 & 0.0 & \\emph{missing} & -1.0 & 1.0 & 11 & 11 & 5 & 246 & 1.707 & 0.203456 & 0.979084 & 0.866025 & -0.5 & 0 & 0 & 1 & 0 & 3 & 0.3 & 0.1 \\\\\n",
       "\t7 & 0.611 & 0.01 & \\emph{missing} & -1.0 & 1.0 & 11 & 11 & 6 & 247 & 0.601 & -0.0682424 & 0.997669 & 0.866025 & -0.5 & 0 & 0 & 1 & 0 & 3 & 0.3 & 0.1 \\\\\n",
       "\t8 & 0.347 & 0.155 & \\emph{missing} & -1.0 & 1.0 & 11 & 11 & 7 & 248 & 0.192 & -0.33488 & 0.942261 & 0.866025 & -0.5 & 0 & 0 & 1 & 0 & 3 & 0.3 & 0.1 \\\\\n",
       "\t9 & 0.408 & 0.451 & \\emph{missing} & -1.0 & 1.0 & 11 & 11 & 8 & 249 & -0.043 & -0.57668 & 0.81697 & 0.866025 & -0.5 & 0 & 0 & 1 & 0 & 3 & 0.3 & 0.1 \\\\\n",
       "\t10 & 0.399 & 0.726 & \\emph{missing} & -1.0 & 1.0 & 11 & 11 & 9 & 250 & -0.327 & -0.775711 & 0.631088 & 0.866025 & -0.5 & 0 & 0 & 1 & 0 & 3 & 0.3 & 0.1 \\\\\n",
       "\t11 & 0.314 & 0.673 & \\emph{missing} & -1.0 & 1.0 & 11 & 11 & 10 & 251 & -0.359 & -0.917211 & 0.398401 & 0.866025 & -0.5 & 0 & 0 & 1 & 0 & 3 & 0.3 & 0.1 \\\\\n",
       "\t12 & 0.448 & 0.76 & \\emph{missing} & -1.0 & 1.0 & 11 & 11 & 11 & 252 & -0.312 & -0.990686 & 0.136167 & 0.866025 & -0.5 & 0 & 0 & 1 & 0 & 3 & 0.3 & 0.1 \\\\\n",
       "\t13 & 1.735 & 0.912 & \\emph{missing} & -1.0 & 1.0 & 11 & 11 & 12 & 253 & 0.823 & -0.990686 & -0.136167 & 0.866025 & -0.5 & 0 & 0 & 1 & 0 & 3 & 0.3 & 0.1 \\\\\n",
       "\t14 & 0.321 & 0.613 & \\emph{missing} & -1.0 & 1.0 & 11 & 11 & 13 & 254 & -0.292 & -0.917211 & -0.398401 & 0.866025 & -0.5 & 0 & 0 & 1 & 0 & 3 & 0.3 & 0.1 \\\\\n",
       "\t15 & 0.312 & 0.203 & \\emph{missing} & -1.0 & 1.0 & 11 & 11 & 14 & 255 & 0.109 & -0.775711 & -0.631088 & 0.866025 & -0.5 & 0 & 0 & 1 & 0 & 3 & 0.3 & 0.1 \\\\\n",
       "\t16 & 0.643 & 0.0 & \\emph{missing} & -1.0 & 1.0 & 11 & 11 & 15 & 256 & 0.643 & -0.57668 & -0.81697 & 0.866025 & -0.5 & 0 & 0 & 1 & 0 & 3 & 0.3 & 0.1 \\\\\n",
       "\t17 & 0.629 & 0.0 & \\emph{missing} & -1.0 & 1.0 & 11 & 11 & 16 & 257 & 0.629 & -0.33488 & -0.942261 & 0.866025 & -0.5 & 0 & 0 & 1 & 0 & 3 & 0.3 & 0.1 \\\\\n",
       "\t18 & 1.683 & 0.0 & \\emph{missing} & -1.0 & 1.0 & 11 & 11 & 17 & 258 & 1.683 & -0.0682424 & -0.997669 & 0.866025 & -0.5 & 0 & 0 & 1 & 0 & 3 & 0.3 & 0.1 \\\\\n",
       "\t19 & 1.274 & 0.0 & \\emph{missing} & -1.0 & 1.0 & 11 & 11 & 18 & 259 & 1.274 & 0.203456 & -0.979084 & 0.866025 & -0.5 & 0 & 0 & 1 & 0 & 3 & 0.3 & 0.1 \\\\\n",
       "\t20 & 0.501 & 0.0 & \\emph{missing} & -1.0 & 1.0 & 11 & 11 & 19 & 260 & 0.501 & 0.460065 & -0.887885 & 0.866025 & -0.5 & 0 & 0 & 1 & 0 & 3 & 0.3 & 0.1 \\\\\n",
       "\t21 & 0.495 & 0.0 & \\emph{missing} & -1.0 & 1.0 & 11 & 11 & 20 & 261 & 0.495 & 0.682553 & -0.730836 & 0.866025 & -0.5 & 0 & 0 & 1 & 0 & 3 & 0.3 & 0.1 \\\\\n",
       "\t22 & 0.35 & 0.0 & \\emph{missing} & -1.0 & 1.0 & 11 & 11 & 21 & 262 & 0.35 & 0.854419 & -0.519584 & 0.866025 & -0.5 & 0 & 0 & 1 & 0 & 3 & 0.3 & 0.1 \\\\\n",
       "\t23 & 0.832 & 0.0 & \\emph{missing} & -1.0 & 1.0 & 11 & 11 & 22 & 263 & 0.832 & 0.962917 & -0.269797 & 0.866025 & -0.5 & 0 & 0 & 1 & 0 & 3 & 0.3 & 0.1 \\\\\n",
       "\t24 & 1.406 & 0.0 & \\emph{missing} & -1.0 & 1.0 & 11 & 11 & 23 & 264 & 1.406 & 1.0 & -2.44929e-16 & 0.866025 & -0.5 & 0 & 0 & 1 & 0 & 3 & 0.3 & 0.1 \\\\\n",
       "\t$\\dots$ & $\\dots$ & $\\dots$ & $\\dots$ & $\\dots$ & $\\dots$ & $\\dots$ & $\\dots$ & $\\dots$ & $\\dots$ & $\\dots$ & $\\dots$ & $\\dots$ & $\\dots$ & $\\dots$ & $\\dots$ & $\\dots$ & $\\dots$ & $\\dots$ & $\\dots$ & $\\dots$ & $\\dots$ \\\\\n",
       "\\end{tabular}\n"
      ],
      "text/plain": [
       "\u001b[1m1440×21 DataFrame\u001b[0m\n",
       "\u001b[1m  Row \u001b[0m│\u001b[1m electkwh \u001b[0m\u001b[1m PV_generation \u001b[0m\u001b[1m chargekwh     \u001b[0m\u001b[1m h_countdown \u001b[0m\u001b[1m soc_ev   \u001b[0m\u001b[1m month \u001b[0m\u001b[1m day   \u001b[0m\u001b[1m hour  \u001b[0m\u001b[1m nday  \u001b[0m\u001b[1m d_res   \u001b[0m\u001b[1m hour_cos   \u001b[0m\u001b[1m hour_sin     \u001b[0m\u001b[1m month_cos \u001b[0m\u001b[1m month_sin \u001b[0m\u001b[1m spring \u001b[0m\u001b[1m summer \u001b[0m\u001b[1m autumn \u001b[0m\u001b[1m winter \u001b[0m\u001b[1m season \u001b[0m\u001b[1m p_buy   \u001b[0m\u001b[1m p_sell  \u001b[0m\n",
       "\u001b[1m      \u001b[0m│\u001b[90m Float64  \u001b[0m\u001b[90m Float64       \u001b[0m\u001b[90m Float64?      \u001b[0m\u001b[90m Float64?    \u001b[0m\u001b[90m Float64? \u001b[0m\u001b[90m Int64 \u001b[0m\u001b[90m Int64 \u001b[0m\u001b[90m Int64 \u001b[0m\u001b[90m Int64 \u001b[0m\u001b[90m Float64 \u001b[0m\u001b[90m Float64    \u001b[0m\u001b[90m Float64      \u001b[0m\u001b[90m Float64   \u001b[0m\u001b[90m Float64   \u001b[0m\u001b[90m Bool   \u001b[0m\u001b[90m Bool   \u001b[0m\u001b[90m Bool   \u001b[0m\u001b[90m Bool   \u001b[0m\u001b[90m Int64  \u001b[0m\u001b[90m Float64 \u001b[0m\u001b[90m Float64 \u001b[0m\n",
       "──────┼──────────────────────────────────────────────────────────────────────────────────────────────────────────────────────────────────────────────────────────────────────────────────────────────────────────────\n",
       "    1 │  1.831            0.0   \u001b[90m missing       \u001b[0m        -1.0  1.0          11     11      0    241    1.831   1.0         0.0           0.866025  -0.5        false   false    true   false       3      0.3      0.1\n",
       "    2 │  0.38             0.0   \u001b[90m missing       \u001b[0m        -1.0  1.0          11     11      1    242    0.38    0.962917    0.269797      0.866025  -0.5        false   false    true   false       3      0.3      0.1\n",
       "    3 │  0.239            0.0   \u001b[90m missing       \u001b[0m        -1.0  1.0          11     11      2    243    0.239   0.854419    0.519584      0.866025  -0.5        false   false    true   false       3      0.3      0.1\n",
       "    4 │  0.242            0.0   \u001b[90m missing       \u001b[0m        -1.0  1.0          11     11      3    244    0.242   0.682553    0.730836      0.866025  -0.5        false   false    true   false       3      0.3      0.1\n",
       "    5 │  1.429            0.0   \u001b[90m missing       \u001b[0m        -1.0  1.0          11     11      4    245    1.429   0.460065    0.887885      0.866025  -0.5        false   false    true   false       3      0.3      0.1\n",
       "    6 │  1.707            0.0   \u001b[90m missing       \u001b[0m        -1.0  1.0          11     11      5    246    1.707   0.203456    0.979084      0.866025  -0.5        false   false    true   false       3      0.3      0.1\n",
       "    7 │  0.611            0.01  \u001b[90m missing       \u001b[0m        -1.0  1.0          11     11      6    247    0.601  -0.0682424   0.997669      0.866025  -0.5        false   false    true   false       3      0.3      0.1\n",
       "    8 │  0.347            0.155 \u001b[90m missing       \u001b[0m        -1.0  1.0          11     11      7    248    0.192  -0.33488     0.942261      0.866025  -0.5        false   false    true   false       3      0.3      0.1\n",
       "  ⋮   │    ⋮            ⋮              ⋮             ⋮          ⋮        ⋮      ⋮      ⋮      ⋮       ⋮         ⋮            ⋮            ⋮          ⋮        ⋮       ⋮       ⋮       ⋮       ⋮        ⋮        ⋮\n",
       " 1434 │  1.15162          0.0          2.28438          0.0  0.950043     10     11     18   8274    3.436   0.203456   -0.979084      0.5       -0.866025   false   false    true   false       3      0.3      0.1\n",
       " 1435 │  1.5              0.001 \u001b[90m missing       \u001b[0m        -1.0  1.0          10     11     19   8275    1.499   0.460065   -0.887885      0.5       -0.866025   false   false    true   false       3      0.3      0.1\n",
       " 1436 │  1.487            0.002 \u001b[90m missing       \u001b[0m        -1.0  1.0          10     11     20   8276    1.485   0.682553   -0.730836      0.5       -0.866025   false   false    true   false       3      0.3      0.1\n",
       " 1437 │  0.38             0.0   \u001b[90m missing       \u001b[0m        -1.0  1.0          10     11     21   8277    0.38    0.854419   -0.519584      0.5       -0.866025   false   false    true   false       3      0.3      0.1\n",
       " 1438 │  0.772            0.0   \u001b[90m missing       \u001b[0m        -1.0  1.0          10     11     22   8278    0.772   0.962917   -0.269797      0.5       -0.866025   false   false    true   false       3      0.3      0.1\n",
       " 1439 │  0.221            0.0   \u001b[90m missing       \u001b[0m        -1.0  1.0          10     11     23   8279    0.221   1.0        -2.44929e-16   0.5       -0.866025   false   false    true   false       3      0.3      0.1\n",
       " 1440 │  0.207            0.0   \u001b[90m missing       \u001b[0m        -1.0  1.0          10     12      0   8280    0.207   1.0         0.0           0.5       -0.866025   false   false    true   false       3      0.3      0.1\n",
       "\u001b[36m                                                                                                                                                                                                    1425 rows omitted\u001b[0m"
      ]
     },
     "metadata": {},
     "output_type": "display_data"
    }
   ],
   "source": [
    "all_evaluation"
   ]
  },
  {
   "cell_type": "code",
   "execution_count": 5,
   "metadata": {},
   "outputs": [
    {
     "name": "stdout",
     "output_type": "stream",
     "text": [
      "ID: Charger01\n",
      "Charging Transactions in training data: 33\n",
      "Charging Transactions in testing data: 26\n",
      "Charging Transactions in evaluation data: 14\n",
      "\n",
      "ID: Charger02\n",
      "Charging Transactions in training data: 17\n",
      "Charging Transactions in testing data: 16\n",
      "Charging Transactions in evaluation data: 7\n",
      "\n",
      "ID: Charger03\n",
      "Charging Transactions in training data: 19\n",
      "Charging Transactions in testing data: 15\n",
      "Charging Transactions in evaluation data: 5\n",
      "\n",
      "ID: Charger04\n",
      "Charging Transactions in training data: 35\n",
      "Charging Transactions in testing data: 19\n",
      "Charging Transactions in evaluation data: 9\n",
      "\n",
      "ID: Charger05\n",
      "Charging Transactions in training data: 35\n",
      "Charging Transactions in testing data: 21\n",
      "Charging Transactions in evaluation data: 16\n",
      "\n",
      "ID: Charger06\n",
      "Charging Transactions in training data: 38\n",
      "Charging Transactions in testing data: 22\n",
      "Charging Transactions in evaluation data: 7\n",
      "\n",
      "ID: Charger07\n",
      "Charging Transactions in training data: 14\n",
      "Charging Transactions in testing data: 9\n",
      "Charging Transactions in evaluation data: 5\n",
      "\n",
      "ID: Charger08\n",
      "Charging Transactions in training data: 25\n",
      "Charging Transactions in testing data: 25\n",
      "Charging Transactions in evaluation data: 12\n",
      "\n",
      "ID: Charger09\n",
      "Charging Transactions in training data: 168\n",
      "Charging Transactions in testing data: 113\n",
      "Charging Transactions in evaluation data: 54\n",
      "\n",
      "ID: Charger98\n",
      "Charging Transactions in training data: 81\n",
      "Charging Transactions in testing data: 35\n",
      "Charging Transactions in evaluation data: 24\n",
      "\n"
     ]
    }
   ],
   "source": [
    "# Find out number of transactions per charger and data set:\n",
    "\n",
    "using CSV, DataFrames\n",
    "\n",
    "# Create a list of IDs\n",
    "ids = [\"Charger01\", \"Charger02\", \"Charger03\", \"Charger04\", \"Charger05\",\n",
    "       \"Charger06\", \"Charger07\", \"Charger08\", \"Charger09\", \"Charger98\"]\n",
    "\n",
    "for ID in ids\n",
    "    # Read data from CSV files\n",
    "    all_training = CSV.read(\"data/$(ID)_all_train_fix.csv\", DataFrame)\n",
    "    all_testing = CSV.read(\"data/$(ID)_all_test_fix.csv\", DataFrame)\n",
    "    all_evaluation = CSV.read(\"data/$(ID)_all_eval_fix.csv\", DataFrame)\n",
    "\n",
    "    # Count zeros in the \"h_coundown\" column\n",
    "    zeros_training = count(x -> x == 0, all_training.h_countdown)\n",
    "    zeros_testing = count(x -> x == 0, all_testing.h_countdown)\n",
    "    zeros_evaluation = count(x -> x == 0, all_evaluation.h_countdown)\n",
    "\n",
    "    println(\"ID: $ID\")\n",
    "    println(\"Charging Transactions in training data: $zeros_training\")\n",
    "    println(\"Charging Transactions in testing data: $zeros_testing\")\n",
    "    println(\"Charging Transactions in evaluation data: $zeros_evaluation\")\n",
    "    println()\n",
    "end\n"
   ]
  },
  {
   "cell_type": "code",
   "execution_count": null,
   "metadata": {},
   "outputs": [],
   "source": []
  }
 ],
 "metadata": {
  "@webio": {
   "lastCommId": null,
   "lastKernelId": null
  },
  "kernelspec": {
   "display_name": "Julia 1.6.1",
   "language": "julia",
   "name": "julia-1.6"
  },
  "language_info": {
   "file_extension": ".jl",
   "mimetype": "application/julia",
   "name": "julia",
   "version": "1.6.1"
  }
 },
 "nbformat": 4,
 "nbformat_minor": 2
}
