{
 "cells": [
  {
   "cell_type": "code",
   "execution_count": 400,
   "metadata": {},
   "outputs": [
    {
     "data": {
      "text/plain": [
       "1000"
      ]
     },
     "metadata": {},
     "output_type": "display_data"
    }
   ],
   "source": [
    "using CSV, DataFrames, Dates, TimeZones\n",
    "\n",
    "ENV[\"COLUMNS\"] = 1000"
   ]
  },
  {
   "cell_type": "code",
   "execution_count": 401,
   "metadata": {},
   "outputs": [
    {
     "data": {
      "text/plain": [
       "\"Charger99\""
      ]
     },
     "metadata": {},
     "output_type": "display_data"
    }
   ],
   "source": [
    "ID = \"Charger99\""
   ]
  },
  {
   "cell_type": "code",
   "execution_count": 402,
   "metadata": {},
   "outputs": [
    {
     "data": {
      "text/plain": [
       "35040-element Vector{ZonedDateTime}:\n",
       " 2020-11-01T00:00:00+01:00\n",
       " 2020-11-01T00:15:00+01:00\n",
       " 2020-11-01T00:30:00+01:00\n",
       " 2020-11-01T00:45:00+01:00\n",
       " 2020-11-01T01:00:00+01:00\n",
       " 2020-11-01T01:15:00+01:00\n",
       " 2020-11-01T01:30:00+01:00\n",
       " 2020-11-01T01:45:00+01:00\n",
       " 2020-11-01T02:00:00+01:00\n",
       " 2020-11-01T02:15:00+01:00\n",
       " ⋮\n",
       " 2021-10-31T21:45:00+01:00\n",
       " 2021-10-31T22:00:00+01:00\n",
       " 2021-10-31T22:15:00+01:00\n",
       " 2021-10-31T22:30:00+01:00\n",
       " 2021-10-31T22:45:00+01:00\n",
       " 2021-10-31T23:00:00+01:00\n",
       " 2021-10-31T23:15:00+01:00\n",
       " 2021-10-31T23:30:00+01:00\n",
       " 2021-10-31T23:45:00+01:00"
      ]
     },
     "metadata": {},
     "output_type": "display_data"
    }
   ],
   "source": [
    "# Read the CSV file from the specified path\n",
    "df = CSV.read(\"data/charger_battery_data_$ID.csv\", DataFrame)\n",
    "\n",
    "# Filter the data\n",
    "df = df[:, [:timestamp, :e_consumption, :e_production, :e_charger, :h_countdown, :soc_ev]]\n",
    "\n",
    "df.e_consumption = df.e_consumption / 1000\n",
    "df.e_production = df.e_production / 1000\n",
    "df.e_charger = df.e_charger / 1000\n",
    "\n",
    "# Parse the timestamps with timezone offset\n",
    "timestamps = ZonedDateTime.(df.timestamp, DateFormat(\"yyyy-mm-dd HH:MM:SSzzzz\"))\n",
    "\n",
    "# Shift the timestamps one hour ahead\n",
    "timestamps = timestamps .- Hour(1)\n",
    "\n",
    "# Replace the timestamp column in the DataFrame with the shifted timestamps\n",
    "df.timestamp = timestamps"
   ]
  },
  {
   "cell_type": "code",
   "execution_count": 403,
   "metadata": {},
   "outputs": [],
   "source": [
    "#df"
   ]
  },
  {
   "cell_type": "code",
   "execution_count": 404,
   "metadata": {},
   "outputs": [
    {
     "data": {
      "text/plain": [
       "(\"Column: \", \"timestamp\", \", Type: \", ZonedDateTime)"
      ]
     },
     "metadata": {},
     "output_type": "display_data"
    },
    {
     "data": {
      "text/plain": [
       "(\"Column: \", \"e_consumption\", \", Type: \", Float64)"
      ]
     },
     "metadata": {},
     "output_type": "display_data"
    },
    {
     "data": {
      "text/plain": [
       "(\"Column: \", \"e_production\", \", Type: \", Float64)"
      ]
     },
     "metadata": {},
     "output_type": "display_data"
    },
    {
     "data": {
      "text/plain": [
       "(\"Column: \", \"e_charger\", \", Type: \", Union{Missing, Float64})"
      ]
     },
     "metadata": {},
     "output_type": "display_data"
    },
    {
     "data": {
      "text/plain": [
       "(\"Column: \", \"h_countdown\", \", Type: \", Float64)"
      ]
     },
     "metadata": {},
     "output_type": "display_data"
    },
    {
     "data": {
      "text/plain": [
       "(\"Column: \", \"soc_ev\", \", Type: \", Float64)"
      ]
     },
     "metadata": {},
     "output_type": "display_data"
    },
    {
     "data": {
      "text/plain": [
       "(\"Column: \", \"timestamp\", \", Missing Values: \", 0)"
      ]
     },
     "metadata": {},
     "output_type": "display_data"
    },
    {
     "data": {
      "text/plain": [
       "(\"Column: \", \"e_consumption\", \", Missing Values: \", 0)"
      ]
     },
     "metadata": {},
     "output_type": "display_data"
    },
    {
     "data": {
      "text/plain": [
       "(\"Column: \", \"e_production\", \", Missing Values: \", 0)"
      ]
     },
     "metadata": {},
     "output_type": "display_data"
    },
    {
     "data": {
      "text/plain": [
       "(\"Column: \", \"e_charger\", \", Missing Values: \", 28546)"
      ]
     },
     "metadata": {},
     "output_type": "display_data"
    },
    {
     "data": {
      "text/plain": [
       "(\"Column: \", \"h_countdown\", \", Missing Values: \", 0)"
      ]
     },
     "metadata": {},
     "output_type": "display_data"
    },
    {
     "data": {
      "text/plain": [
       "(\"Column: \", \"soc_ev\", \", Missing Values: \", 0)"
      ]
     },
     "metadata": {},
     "output_type": "display_data"
    }
   ],
   "source": [
    "for col_name in names(df)\n",
    "    display((\"Column: \", col_name, \", Type: \", eltype(df[!, col_name])))\n",
    "end\n",
    "\n",
    "for col_name in names(df)\n",
    "    missing_count = sum(ismissing.(df[!, col_name]))\n",
    "    display((\"Column: \", col_name, \", Missing Values: \", missing_count))\n",
    "end"
   ]
  },
  {
   "cell_type": "code",
   "execution_count": 405,
   "metadata": {},
   "outputs": [],
   "source": [
    "#describe(df)"
   ]
  },
  {
   "cell_type": "markdown",
   "metadata": {},
   "source": [
    "Resamplign from 15min intervalls to 1h intervalls. In the future, I'd like to try to work with 15min intervals."
   ]
  },
  {
   "cell_type": "code",
   "execution_count": 406,
   "metadata": {},
   "outputs": [
    {
     "data": {
      "text/plain": [
       "resample (generic function with 1 method)"
      ]
     },
     "metadata": {},
     "output_type": "display_data"
    }
   ],
   "source": [
    "function resample(df, time_column, interval)\n",
    "    # Round the timestamps to the nearest hour\n",
    "    df[!, time_column] = Dates.floor.(df[!, time_column], interval)\n",
    "    \n",
    "    # Define the columns to be summed\n",
    "    sum_columns = [\"e_consumption\", \"e_production\", \"e_charger\"]\n",
    "    \n",
    "    # Group by the rounded timestamps and sum the other columns\n",
    "    new_df = combine(groupby(df, time_column), sum_columns .=> (x -> sum(coalesce.(x, 0))) .=> sum_columns)\n",
    "    \n",
    "    # Handle \"h_countdown\" and \"soc_ev\" separately\n",
    "    min_values = combine(groupby(df, time_column), \"h_countdown\" => minimum => \"h_countdown\")\n",
    "    new_df = leftjoin(new_df, min_values, on=time_column)\n",
    "    \n",
    "    min_values = combine(groupby(df, time_column), \"soc_ev\" => minimum => \"soc_ev\")\n",
    "    new_df = leftjoin(new_df, min_values, on=time_column)\n",
    "\n",
    "    #Increase every value of h_countdown to the next higher integer\n",
    "    new_df.h_countdown = ceil.(new_df.h_countdown)\n",
    "\n",
    "    # Change last countdown value from -1\n",
    "    for i in 2:(nrow(new_df) )# - 1)\n",
    "        if new_df[i, :h_countdown] == -1 && new_df[(i-1), :h_countdown] == 1\n",
    "            new_df[i, :h_countdown] = 0\n",
    "        end\n",
    "        if new_df[i, :h_countdown] == -1 && new_df[i, :soc_ev] < 1\n",
    "            new_df[i, :soc_ev] = 1\n",
    "        end\n",
    "    end\n",
    "\n",
    "    return new_df\n",
    "end\n"
   ]
  },
  {
   "cell_type": "code",
   "execution_count": 407,
   "metadata": {},
   "outputs": [
    {
     "data": {
      "text/html": [
       "<table class=\"data-frame\"><thead><tr><th></th><th>timestamp</th><th>e_consumption</th><th>e_production</th><th>e_charger</th><th>h_countdown</th><th>soc_ev</th></tr><tr><th></th><th>ZonedDa…</th><th>Float64</th><th>Float64</th><th>Float64</th><th>Float64</th><th>Float64?</th></tr></thead><tbody><p>8,760 rows × 6 columns</p><tr><th>1</th><td>2020-11-01T00:00:00+01:00</td><td>2.128</td><td>0.0</td><td>0.0</td><td>-1.0</td><td>1.0</td></tr><tr><th>2</th><td>2020-11-01T01:00:00+01:00</td><td>0.24</td><td>0.0</td><td>0.0</td><td>-1.0</td><td>1.0</td></tr><tr><th>3</th><td>2020-11-01T02:00:00+01:00</td><td>0.722</td><td>0.0</td><td>0.0</td><td>-1.0</td><td>1.0</td></tr><tr><th>4</th><td>2020-11-01T03:00:00+01:00</td><td>2.186</td><td>0.0</td><td>0.0</td><td>-1.0</td><td>1.0</td></tr><tr><th>5</th><td>2020-11-01T04:00:00+01:00</td><td>2.162</td><td>0.0</td><td>0.0</td><td>-1.0</td><td>1.0</td></tr><tr><th>6</th><td>2020-11-01T05:00:00+01:00</td><td>1.701</td><td>0.0</td><td>0.0</td><td>-1.0</td><td>1.0</td></tr><tr><th>7</th><td>2020-11-01T06:00:00+01:00</td><td>0.258</td><td>0.441</td><td>0.0</td><td>-1.0</td><td>1.0</td></tr><tr><th>8</th><td>2020-11-01T07:00:00+01:00</td><td>0.764</td><td>1.5</td><td>0.0</td><td>-1.0</td><td>1.0</td></tr><tr><th>9</th><td>2020-11-01T08:00:00+01:00</td><td>2.059</td><td>3.483</td><td>0.0</td><td>-1.0</td><td>1.0</td></tr><tr><th>10</th><td>2020-11-01T09:00:00+01:00</td><td>0.295</td><td>5.637</td><td>0.0</td><td>-1.0</td><td>1.0</td></tr><tr><th>11</th><td>2020-11-01T10:00:00+01:00</td><td>0.591</td><td>4.083</td><td>0.0</td><td>-1.0</td><td>1.0</td></tr><tr><th>12</th><td>2020-11-01T11:00:00+01:00</td><td>1.403</td><td>3.954</td><td>0.0</td><td>-1.0</td><td>1.0</td></tr><tr><th>13</th><td>2020-11-01T12:00:00+01:00</td><td>2.389</td><td>3.399</td><td>0.0</td><td>-1.0</td><td>1.0</td></tr><tr><th>14</th><td>2020-11-01T13:00:00+01:00</td><td>2.752</td><td>3.207</td><td>0.0</td><td>-1.0</td><td>1.0</td></tr><tr><th>15</th><td>2020-11-01T14:00:00+01:00</td><td>1.248</td><td>1.299</td><td>0.0</td><td>-1.0</td><td>1.0</td></tr><tr><th>16</th><td>2020-11-01T15:00:00+01:00</td><td>0.861</td><td>0.234</td><td>0.0</td><td>-1.0</td><td>1.0</td></tr><tr><th>17</th><td>2020-11-01T16:00:00+01:00</td><td>1.692</td><td>0.0</td><td>0.0</td><td>-1.0</td><td>1.0</td></tr><tr><th>18</th><td>2020-11-01T17:00:00+01:00</td><td>0.55</td><td>0.0</td><td>0.0</td><td>-1.0</td><td>1.0</td></tr><tr><th>19</th><td>2020-11-01T18:00:00+01:00</td><td>0.871</td><td>0.0</td><td>0.0</td><td>-1.0</td><td>1.0</td></tr><tr><th>20</th><td>2020-11-01T19:00:00+01:00</td><td>2.619</td><td>0.0</td><td>0.0</td><td>-1.0</td><td>1.0</td></tr><tr><th>21</th><td>2020-11-01T20:00:00+01:00</td><td>1.68</td><td>0.0</td><td>0.0</td><td>-1.0</td><td>1.0</td></tr><tr><th>22</th><td>2020-11-01T21:00:00+01:00</td><td>0.543</td><td>0.0</td><td>0.0</td><td>-1.0</td><td>1.0</td></tr><tr><th>23</th><td>2020-11-01T22:00:00+01:00</td><td>0.26</td><td>0.0</td><td>0.0</td><td>-1.0</td><td>1.0</td></tr><tr><th>24</th><td>2020-11-01T23:00:00+01:00</td><td>0.262</td><td>0.0</td><td>0.0</td><td>-1.0</td><td>1.0</td></tr><tr><th>&vellip;</th><td>&vellip;</td><td>&vellip;</td><td>&vellip;</td><td>&vellip;</td><td>&vellip;</td><td>&vellip;</td></tr></tbody></table>"
      ],
      "text/latex": [
       "\\begin{tabular}{r|cccccc}\n",
       "\t& timestamp & e\\_consumption & e\\_production & e\\_charger & h\\_countdown & soc\\_ev\\\\\n",
       "\t\\hline\n",
       "\t& ZonedDa… & Float64 & Float64 & Float64 & Float64 & Float64?\\\\\n",
       "\t\\hline\n",
       "\t1 & 2020-11-01T00:00:00+01:00 & 2.128 & 0.0 & 0.0 & -1.0 & 1.0 \\\\\n",
       "\t2 & 2020-11-01T01:00:00+01:00 & 0.24 & 0.0 & 0.0 & -1.0 & 1.0 \\\\\n",
       "\t3 & 2020-11-01T02:00:00+01:00 & 0.722 & 0.0 & 0.0 & -1.0 & 1.0 \\\\\n",
       "\t4 & 2020-11-01T03:00:00+01:00 & 2.186 & 0.0 & 0.0 & -1.0 & 1.0 \\\\\n",
       "\t5 & 2020-11-01T04:00:00+01:00 & 2.162 & 0.0 & 0.0 & -1.0 & 1.0 \\\\\n",
       "\t6 & 2020-11-01T05:00:00+01:00 & 1.701 & 0.0 & 0.0 & -1.0 & 1.0 \\\\\n",
       "\t7 & 2020-11-01T06:00:00+01:00 & 0.258 & 0.441 & 0.0 & -1.0 & 1.0 \\\\\n",
       "\t8 & 2020-11-01T07:00:00+01:00 & 0.764 & 1.5 & 0.0 & -1.0 & 1.0 \\\\\n",
       "\t9 & 2020-11-01T08:00:00+01:00 & 2.059 & 3.483 & 0.0 & -1.0 & 1.0 \\\\\n",
       "\t10 & 2020-11-01T09:00:00+01:00 & 0.295 & 5.637 & 0.0 & -1.0 & 1.0 \\\\\n",
       "\t11 & 2020-11-01T10:00:00+01:00 & 0.591 & 4.083 & 0.0 & -1.0 & 1.0 \\\\\n",
       "\t12 & 2020-11-01T11:00:00+01:00 & 1.403 & 3.954 & 0.0 & -1.0 & 1.0 \\\\\n",
       "\t13 & 2020-11-01T12:00:00+01:00 & 2.389 & 3.399 & 0.0 & -1.0 & 1.0 \\\\\n",
       "\t14 & 2020-11-01T13:00:00+01:00 & 2.752 & 3.207 & 0.0 & -1.0 & 1.0 \\\\\n",
       "\t15 & 2020-11-01T14:00:00+01:00 & 1.248 & 1.299 & 0.0 & -1.0 & 1.0 \\\\\n",
       "\t16 & 2020-11-01T15:00:00+01:00 & 0.861 & 0.234 & 0.0 & -1.0 & 1.0 \\\\\n",
       "\t17 & 2020-11-01T16:00:00+01:00 & 1.692 & 0.0 & 0.0 & -1.0 & 1.0 \\\\\n",
       "\t18 & 2020-11-01T17:00:00+01:00 & 0.55 & 0.0 & 0.0 & -1.0 & 1.0 \\\\\n",
       "\t19 & 2020-11-01T18:00:00+01:00 & 0.871 & 0.0 & 0.0 & -1.0 & 1.0 \\\\\n",
       "\t20 & 2020-11-01T19:00:00+01:00 & 2.619 & 0.0 & 0.0 & -1.0 & 1.0 \\\\\n",
       "\t21 & 2020-11-01T20:00:00+01:00 & 1.68 & 0.0 & 0.0 & -1.0 & 1.0 \\\\\n",
       "\t22 & 2020-11-01T21:00:00+01:00 & 0.543 & 0.0 & 0.0 & -1.0 & 1.0 \\\\\n",
       "\t23 & 2020-11-01T22:00:00+01:00 & 0.26 & 0.0 & 0.0 & -1.0 & 1.0 \\\\\n",
       "\t24 & 2020-11-01T23:00:00+01:00 & 0.262 & 0.0 & 0.0 & -1.0 & 1.0 \\\\\n",
       "\t$\\dots$ & $\\dots$ & $\\dots$ & $\\dots$ & $\\dots$ & $\\dots$ & $\\dots$ \\\\\n",
       "\\end{tabular}\n"
      ],
      "text/plain": [
       "\u001b[1m8760×6 DataFrame\u001b[0m\n",
       "\u001b[1m  Row \u001b[0m│\u001b[1m timestamp                 \u001b[0m\u001b[1m e_consumption \u001b[0m\u001b[1m e_production \u001b[0m\u001b[1m e_charger \u001b[0m\u001b[1m h_countdown \u001b[0m\u001b[1m soc_ev   \u001b[0m\n",
       "\u001b[1m      \u001b[0m│\u001b[90m ZonedDat…                 \u001b[0m\u001b[90m Float64       \u001b[0m\u001b[90m Float64      \u001b[0m\u001b[90m Float64   \u001b[0m\u001b[90m Float64     \u001b[0m\u001b[90m Float64? \u001b[0m\n",
       "──────┼──────────────────────────────────────────────────────────────────────────────────────────\n",
       "    1 │ 2020-11-01T00:00:00+01:00          2.128         0.0          0.0         -1.0       1.0\n",
       "    2 │ 2020-11-01T01:00:00+01:00          0.24          0.0          0.0         -1.0       1.0\n",
       "    3 │ 2020-11-01T02:00:00+01:00          0.722         0.0          0.0         -1.0       1.0\n",
       "    4 │ 2020-11-01T03:00:00+01:00          2.186         0.0          0.0         -1.0       1.0\n",
       "    5 │ 2020-11-01T04:00:00+01:00          2.162         0.0          0.0         -1.0       1.0\n",
       "    6 │ 2020-11-01T05:00:00+01:00          1.701         0.0          0.0         -1.0       1.0\n",
       "    7 │ 2020-11-01T06:00:00+01:00          0.258         0.441        0.0         -1.0       1.0\n",
       "    8 │ 2020-11-01T07:00:00+01:00          0.764         1.5          0.0         -1.0       1.0\n",
       "  ⋮   │             ⋮                    ⋮             ⋮            ⋮           ⋮          ⋮\n",
       " 8754 │ 2021-10-31T17:00:00+01:00          1.69          0.0          0.0         -1.0       1.0\n",
       " 8755 │ 2021-10-31T18:00:00+01:00          0.563         0.0          0.0         -1.0       1.0\n",
       " 8756 │ 2021-10-31T19:00:00+01:00          2.612         0.0          0.0         -1.0       1.0\n",
       " 8757 │ 2021-10-31T20:00:00+01:00          2.288         0.0          0.0         -1.0       1.0\n",
       " 8758 │ 2021-10-31T21:00:00+01:00          0.976         0.0          0.0         -1.0       1.0\n",
       " 8759 │ 2021-10-31T22:00:00+01:00          0.677         0.0          0.0         -1.0       1.0\n",
       " 8760 │ 2021-10-31T23:00:00+01:00          2.005         0.0          0.0         -1.0       1.0\n",
       "\u001b[36m                                                                                8745 rows omitted\u001b[0m"
      ]
     },
     "metadata": {},
     "output_type": "display_data"
    }
   ],
   "source": [
    "# Resample the data to 1-hour intervals\n",
    "df_resampled = resample(df, :timestamp, Dates.Hour(1))"
   ]
  },
  {
   "cell_type": "code",
   "execution_count": 408,
   "metadata": {},
   "outputs": [
    {
     "data": {
      "text/plain": [
       "8760-element Vector{Union{Missing, Float64}}:\n",
       " 0.0\n",
       " 0.0\n",
       " 0.0\n",
       " 0.0\n",
       " 0.0\n",
       " 0.0\n",
       " 0.0\n",
       " 0.0\n",
       " 0.0\n",
       " 0.0\n",
       " ⋮\n",
       " 0.0\n",
       " 0.0\n",
       " 0.0\n",
       " 0.0\n",
       " 0.0\n",
       " 0.0\n",
       " 0.0\n",
       " 0.0\n",
       " 0.0"
      ]
     },
     "metadata": {},
     "output_type": "display_data"
    }
   ],
   "source": [
    "# Change the type of the chargekwh column to Union{Missing, Float64}\n",
    "df_resampled.e_charge = convert(Vector{Union{Missing, Float64}}, df_resampled.e_charger)\n"
   ]
  },
  {
   "cell_type": "code",
   "execution_count": 409,
   "metadata": {},
   "outputs": [
    {
     "data": {
      "text/html": [
       "<table class=\"data-frame\"><thead><tr><th></th><th>electkwh</th><th>PV_generation</th><th>chargekwh</th><th>h_countdown</th><th>soc_ev</th><th>month</th><th>day</th><th>hour</th></tr><tr><th></th><th>Float64</th><th>Float64</th><th>Float64</th><th>Float64</th><th>Float64?</th><th>Int64</th><th>Int64</th><th>Int64</th></tr></thead><tbody><p>8,760 rows × 8 columns</p><tr><th>1</th><td>2.128</td><td>0.0</td><td>0.0</td><td>-1.0</td><td>1.0</td><td>11</td><td>1</td><td>0</td></tr><tr><th>2</th><td>0.24</td><td>0.0</td><td>0.0</td><td>-1.0</td><td>1.0</td><td>11</td><td>1</td><td>1</td></tr><tr><th>3</th><td>0.722</td><td>0.0</td><td>0.0</td><td>-1.0</td><td>1.0</td><td>11</td><td>1</td><td>2</td></tr><tr><th>4</th><td>2.186</td><td>0.0</td><td>0.0</td><td>-1.0</td><td>1.0</td><td>11</td><td>1</td><td>3</td></tr><tr><th>5</th><td>2.162</td><td>0.0</td><td>0.0</td><td>-1.0</td><td>1.0</td><td>11</td><td>1</td><td>4</td></tr><tr><th>6</th><td>1.701</td><td>0.0</td><td>0.0</td><td>-1.0</td><td>1.0</td><td>11</td><td>1</td><td>5</td></tr><tr><th>7</th><td>0.258</td><td>0.441</td><td>0.0</td><td>-1.0</td><td>1.0</td><td>11</td><td>1</td><td>6</td></tr><tr><th>8</th><td>0.764</td><td>1.5</td><td>0.0</td><td>-1.0</td><td>1.0</td><td>11</td><td>1</td><td>7</td></tr><tr><th>9</th><td>2.059</td><td>3.483</td><td>0.0</td><td>-1.0</td><td>1.0</td><td>11</td><td>1</td><td>8</td></tr><tr><th>10</th><td>0.295</td><td>5.637</td><td>0.0</td><td>-1.0</td><td>1.0</td><td>11</td><td>1</td><td>9</td></tr><tr><th>11</th><td>0.591</td><td>4.083</td><td>0.0</td><td>-1.0</td><td>1.0</td><td>11</td><td>1</td><td>10</td></tr><tr><th>12</th><td>1.403</td><td>3.954</td><td>0.0</td><td>-1.0</td><td>1.0</td><td>11</td><td>1</td><td>11</td></tr><tr><th>13</th><td>2.389</td><td>3.399</td><td>0.0</td><td>-1.0</td><td>1.0</td><td>11</td><td>1</td><td>12</td></tr><tr><th>14</th><td>2.752</td><td>3.207</td><td>0.0</td><td>-1.0</td><td>1.0</td><td>11</td><td>1</td><td>13</td></tr><tr><th>15</th><td>1.248</td><td>1.299</td><td>0.0</td><td>-1.0</td><td>1.0</td><td>11</td><td>1</td><td>14</td></tr><tr><th>16</th><td>0.861</td><td>0.234</td><td>0.0</td><td>-1.0</td><td>1.0</td><td>11</td><td>1</td><td>15</td></tr><tr><th>17</th><td>1.692</td><td>0.0</td><td>0.0</td><td>-1.0</td><td>1.0</td><td>11</td><td>1</td><td>16</td></tr><tr><th>18</th><td>0.55</td><td>0.0</td><td>0.0</td><td>-1.0</td><td>1.0</td><td>11</td><td>1</td><td>17</td></tr><tr><th>19</th><td>0.871</td><td>0.0</td><td>0.0</td><td>-1.0</td><td>1.0</td><td>11</td><td>1</td><td>18</td></tr><tr><th>20</th><td>2.619</td><td>0.0</td><td>0.0</td><td>-1.0</td><td>1.0</td><td>11</td><td>1</td><td>19</td></tr><tr><th>21</th><td>1.68</td><td>0.0</td><td>0.0</td><td>-1.0</td><td>1.0</td><td>11</td><td>1</td><td>20</td></tr><tr><th>22</th><td>0.543</td><td>0.0</td><td>0.0</td><td>-1.0</td><td>1.0</td><td>11</td><td>1</td><td>21</td></tr><tr><th>23</th><td>0.26</td><td>0.0</td><td>0.0</td><td>-1.0</td><td>1.0</td><td>11</td><td>1</td><td>22</td></tr><tr><th>24</th><td>0.262</td><td>0.0</td><td>0.0</td><td>-1.0</td><td>1.0</td><td>11</td><td>1</td><td>23</td></tr><tr><th>&vellip;</th><td>&vellip;</td><td>&vellip;</td><td>&vellip;</td><td>&vellip;</td><td>&vellip;</td><td>&vellip;</td><td>&vellip;</td><td>&vellip;</td></tr></tbody></table>"
      ],
      "text/latex": [
       "\\begin{tabular}{r|cccccccc}\n",
       "\t& electkwh & PV\\_generation & chargekwh & h\\_countdown & soc\\_ev & month & day & hour\\\\\n",
       "\t\\hline\n",
       "\t& Float64 & Float64 & Float64 & Float64 & Float64? & Int64 & Int64 & Int64\\\\\n",
       "\t\\hline\n",
       "\t1 & 2.128 & 0.0 & 0.0 & -1.0 & 1.0 & 11 & 1 & 0 \\\\\n",
       "\t2 & 0.24 & 0.0 & 0.0 & -1.0 & 1.0 & 11 & 1 & 1 \\\\\n",
       "\t3 & 0.722 & 0.0 & 0.0 & -1.0 & 1.0 & 11 & 1 & 2 \\\\\n",
       "\t4 & 2.186 & 0.0 & 0.0 & -1.0 & 1.0 & 11 & 1 & 3 \\\\\n",
       "\t5 & 2.162 & 0.0 & 0.0 & -1.0 & 1.0 & 11 & 1 & 4 \\\\\n",
       "\t6 & 1.701 & 0.0 & 0.0 & -1.0 & 1.0 & 11 & 1 & 5 \\\\\n",
       "\t7 & 0.258 & 0.441 & 0.0 & -1.0 & 1.0 & 11 & 1 & 6 \\\\\n",
       "\t8 & 0.764 & 1.5 & 0.0 & -1.0 & 1.0 & 11 & 1 & 7 \\\\\n",
       "\t9 & 2.059 & 3.483 & 0.0 & -1.0 & 1.0 & 11 & 1 & 8 \\\\\n",
       "\t10 & 0.295 & 5.637 & 0.0 & -1.0 & 1.0 & 11 & 1 & 9 \\\\\n",
       "\t11 & 0.591 & 4.083 & 0.0 & -1.0 & 1.0 & 11 & 1 & 10 \\\\\n",
       "\t12 & 1.403 & 3.954 & 0.0 & -1.0 & 1.0 & 11 & 1 & 11 \\\\\n",
       "\t13 & 2.389 & 3.399 & 0.0 & -1.0 & 1.0 & 11 & 1 & 12 \\\\\n",
       "\t14 & 2.752 & 3.207 & 0.0 & -1.0 & 1.0 & 11 & 1 & 13 \\\\\n",
       "\t15 & 1.248 & 1.299 & 0.0 & -1.0 & 1.0 & 11 & 1 & 14 \\\\\n",
       "\t16 & 0.861 & 0.234 & 0.0 & -1.0 & 1.0 & 11 & 1 & 15 \\\\\n",
       "\t17 & 1.692 & 0.0 & 0.0 & -1.0 & 1.0 & 11 & 1 & 16 \\\\\n",
       "\t18 & 0.55 & 0.0 & 0.0 & -1.0 & 1.0 & 11 & 1 & 17 \\\\\n",
       "\t19 & 0.871 & 0.0 & 0.0 & -1.0 & 1.0 & 11 & 1 & 18 \\\\\n",
       "\t20 & 2.619 & 0.0 & 0.0 & -1.0 & 1.0 & 11 & 1 & 19 \\\\\n",
       "\t21 & 1.68 & 0.0 & 0.0 & -1.0 & 1.0 & 11 & 1 & 20 \\\\\n",
       "\t22 & 0.543 & 0.0 & 0.0 & -1.0 & 1.0 & 11 & 1 & 21 \\\\\n",
       "\t23 & 0.26 & 0.0 & 0.0 & -1.0 & 1.0 & 11 & 1 & 22 \\\\\n",
       "\t24 & 0.262 & 0.0 & 0.0 & -1.0 & 1.0 & 11 & 1 & 23 \\\\\n",
       "\t$\\dots$ & $\\dots$ & $\\dots$ & $\\dots$ & $\\dots$ & $\\dots$ & $\\dots$ & $\\dots$ & $\\dots$ \\\\\n",
       "\\end{tabular}\n"
      ],
      "text/plain": [
       "\u001b[1m8760×8 DataFrame\u001b[0m\n",
       "\u001b[1m  Row \u001b[0m│\u001b[1m electkwh \u001b[0m\u001b[1m PV_generation \u001b[0m\u001b[1m chargekwh \u001b[0m\u001b[1m h_countdown \u001b[0m\u001b[1m soc_ev   \u001b[0m\u001b[1m month \u001b[0m\u001b[1m day   \u001b[0m\u001b[1m hour  \u001b[0m\n",
       "\u001b[1m      \u001b[0m│\u001b[90m Float64  \u001b[0m\u001b[90m Float64       \u001b[0m\u001b[90m Float64   \u001b[0m\u001b[90m Float64     \u001b[0m\u001b[90m Float64? \u001b[0m\u001b[90m Int64 \u001b[0m\u001b[90m Int64 \u001b[0m\u001b[90m Int64 \u001b[0m\n",
       "──────┼────────────────────────────────────────────────────────────────────────────────\n",
       "    1 │    2.128          0.0          0.0         -1.0       1.0     11      1      0\n",
       "    2 │    0.24           0.0          0.0         -1.0       1.0     11      1      1\n",
       "    3 │    0.722          0.0          0.0         -1.0       1.0     11      1      2\n",
       "    4 │    2.186          0.0          0.0         -1.0       1.0     11      1      3\n",
       "    5 │    2.162          0.0          0.0         -1.0       1.0     11      1      4\n",
       "    6 │    1.701          0.0          0.0         -1.0       1.0     11      1      5\n",
       "    7 │    0.258          0.441        0.0         -1.0       1.0     11      1      6\n",
       "    8 │    0.764          1.5          0.0         -1.0       1.0     11      1      7\n",
       "  ⋮   │    ⋮            ⋮            ⋮           ⋮          ⋮        ⋮      ⋮      ⋮\n",
       " 8754 │    1.69           0.0          0.0         -1.0       1.0     10     31     17\n",
       " 8755 │    0.563          0.0          0.0         -1.0       1.0     10     31     18\n",
       " 8756 │    2.612          0.0          0.0         -1.0       1.0     10     31     19\n",
       " 8757 │    2.288          0.0          0.0         -1.0       1.0     10     31     20\n",
       " 8758 │    0.976          0.0          0.0         -1.0       1.0     10     31     21\n",
       " 8759 │    0.677          0.0          0.0         -1.0       1.0     10     31     22\n",
       " 8760 │    2.005          0.0          0.0         -1.0       1.0     10     31     23\n",
       "\u001b[36m                                                                      8745 rows omitted\u001b[0m"
      ]
     },
     "metadata": {},
     "output_type": "display_data"
    }
   ],
   "source": [
    "# Create a new DataFrame with the desired structure\n",
    "new_df = DataFrame(\n",
    "    electkwh = df_resampled.e_consumption,\n",
    "    PV_generation = df_resampled.e_production,\n",
    "    chargekwh = df_resampled.e_charger,\n",
    "    h_countdown = df_resampled.h_countdown,\n",
    "    soc_ev = df_resampled.soc_ev,\n",
    "    month = month.(DateTime.(df_resampled.timestamp)),\n",
    "    day = day.(DateTime.(df_resampled.timestamp)),\n",
    "    hour = hour.(DateTime.(df_resampled.timestamp))\n",
    ")"
   ]
  },
  {
   "cell_type": "code",
   "execution_count": 410,
   "metadata": {},
   "outputs": [
    {
     "data": {
      "text/plain": [
       "7138-element view(::Vector{Union{Missing, Float64}}, [1, 2, 3, 4, 5, 6, 7, 8, 9, 10  …  8751, 8752, 8753, 8754, 8755, 8756, 8757, 8758, 8759, 8760]) with eltype Union{Missing, Float64}:\n",
       " missing\n",
       " missing\n",
       " missing\n",
       " missing\n",
       " missing\n",
       " missing\n",
       " missing\n",
       " missing\n",
       " missing\n",
       " missing\n",
       " ⋮\n",
       " missing\n",
       " missing\n",
       " missing\n",
       " missing\n",
       " missing\n",
       " missing\n",
       " missing\n",
       " missing\n",
       " missing"
      ]
     },
     "metadata": {},
     "output_type": "display_data"
    }
   ],
   "source": [
    "\n",
    "# Change the type of the chargekwh column to Union{Missing, Float64}\n",
    "new_df.chargekwh = convert(Vector{Union{Missing, Float64}}, new_df.chargekwh)\n",
    "\n",
    "# In every row where h_countdown is -1, set chargekwh to 'missing'\n",
    "new_df[new_df.h_countdown .== -1, :chargekwh] .= missing"
   ]
  },
  {
   "cell_type": "code",
   "execution_count": 411,
   "metadata": {},
   "outputs": [
    {
     "data": {
      "text/plain": [
       "\"data/sonnenCharger99_datafile_all.csv\""
      ]
     },
     "metadata": {},
     "output_type": "display_data"
    }
   ],
   "source": [
    "# Write the new DataFrame to a CSV file in the specified path\n",
    "CSV.write(\"data/sonnen$(ID)_datafile_all.csv\", new_df)"
   ]
  },
  {
   "cell_type": "code",
   "execution_count": 412,
   "metadata": {},
   "outputs": [
    {
     "data": {
      "text/html": [
       "<table class=\"data-frame\"><thead><tr><th></th><th>electkwh</th><th>PV_generation</th><th>chargekwh</th><th>h_countdown</th><th>soc_ev</th><th>month</th><th>day</th><th>hour</th></tr><tr><th></th><th>Float64</th><th>Float64</th><th>Float64?</th><th>Float64</th><th>Float64?</th><th>Int64</th><th>Int64</th><th>Int64</th></tr></thead><tbody><p>8,760 rows × 8 columns</p><tr><th>1</th><td>2.128</td><td>0.0</td><td><em>missing</em></td><td>-1.0</td><td>1.0</td><td>11</td><td>1</td><td>0</td></tr><tr><th>2</th><td>0.24</td><td>0.0</td><td><em>missing</em></td><td>-1.0</td><td>1.0</td><td>11</td><td>1</td><td>1</td></tr><tr><th>3</th><td>0.722</td><td>0.0</td><td><em>missing</em></td><td>-1.0</td><td>1.0</td><td>11</td><td>1</td><td>2</td></tr><tr><th>4</th><td>2.186</td><td>0.0</td><td><em>missing</em></td><td>-1.0</td><td>1.0</td><td>11</td><td>1</td><td>3</td></tr><tr><th>5</th><td>2.162</td><td>0.0</td><td><em>missing</em></td><td>-1.0</td><td>1.0</td><td>11</td><td>1</td><td>4</td></tr><tr><th>6</th><td>1.701</td><td>0.0</td><td><em>missing</em></td><td>-1.0</td><td>1.0</td><td>11</td><td>1</td><td>5</td></tr><tr><th>7</th><td>0.258</td><td>0.441</td><td><em>missing</em></td><td>-1.0</td><td>1.0</td><td>11</td><td>1</td><td>6</td></tr><tr><th>8</th><td>0.764</td><td>1.5</td><td><em>missing</em></td><td>-1.0</td><td>1.0</td><td>11</td><td>1</td><td>7</td></tr><tr><th>9</th><td>2.059</td><td>3.483</td><td><em>missing</em></td><td>-1.0</td><td>1.0</td><td>11</td><td>1</td><td>8</td></tr><tr><th>10</th><td>0.295</td><td>5.637</td><td><em>missing</em></td><td>-1.0</td><td>1.0</td><td>11</td><td>1</td><td>9</td></tr><tr><th>11</th><td>0.591</td><td>4.083</td><td><em>missing</em></td><td>-1.0</td><td>1.0</td><td>11</td><td>1</td><td>10</td></tr><tr><th>12</th><td>1.403</td><td>3.954</td><td><em>missing</em></td><td>-1.0</td><td>1.0</td><td>11</td><td>1</td><td>11</td></tr><tr><th>13</th><td>2.389</td><td>3.399</td><td><em>missing</em></td><td>-1.0</td><td>1.0</td><td>11</td><td>1</td><td>12</td></tr><tr><th>14</th><td>2.752</td><td>3.207</td><td><em>missing</em></td><td>-1.0</td><td>1.0</td><td>11</td><td>1</td><td>13</td></tr><tr><th>15</th><td>1.248</td><td>1.299</td><td><em>missing</em></td><td>-1.0</td><td>1.0</td><td>11</td><td>1</td><td>14</td></tr><tr><th>16</th><td>0.861</td><td>0.234</td><td><em>missing</em></td><td>-1.0</td><td>1.0</td><td>11</td><td>1</td><td>15</td></tr><tr><th>17</th><td>1.692</td><td>0.0</td><td><em>missing</em></td><td>-1.0</td><td>1.0</td><td>11</td><td>1</td><td>16</td></tr><tr><th>18</th><td>0.55</td><td>0.0</td><td><em>missing</em></td><td>-1.0</td><td>1.0</td><td>11</td><td>1</td><td>17</td></tr><tr><th>19</th><td>0.871</td><td>0.0</td><td><em>missing</em></td><td>-1.0</td><td>1.0</td><td>11</td><td>1</td><td>18</td></tr><tr><th>20</th><td>2.619</td><td>0.0</td><td><em>missing</em></td><td>-1.0</td><td>1.0</td><td>11</td><td>1</td><td>19</td></tr><tr><th>21</th><td>1.68</td><td>0.0</td><td><em>missing</em></td><td>-1.0</td><td>1.0</td><td>11</td><td>1</td><td>20</td></tr><tr><th>22</th><td>0.543</td><td>0.0</td><td><em>missing</em></td><td>-1.0</td><td>1.0</td><td>11</td><td>1</td><td>21</td></tr><tr><th>23</th><td>0.26</td><td>0.0</td><td><em>missing</em></td><td>-1.0</td><td>1.0</td><td>11</td><td>1</td><td>22</td></tr><tr><th>24</th><td>0.262</td><td>0.0</td><td><em>missing</em></td><td>-1.0</td><td>1.0</td><td>11</td><td>1</td><td>23</td></tr><tr><th>&vellip;</th><td>&vellip;</td><td>&vellip;</td><td>&vellip;</td><td>&vellip;</td><td>&vellip;</td><td>&vellip;</td><td>&vellip;</td><td>&vellip;</td></tr></tbody></table>"
      ],
      "text/latex": [
       "\\begin{tabular}{r|cccccccc}\n",
       "\t& electkwh & PV\\_generation & chargekwh & h\\_countdown & soc\\_ev & month & day & hour\\\\\n",
       "\t\\hline\n",
       "\t& Float64 & Float64 & Float64? & Float64 & Float64? & Int64 & Int64 & Int64\\\\\n",
       "\t\\hline\n",
       "\t1 & 2.128 & 0.0 & \\emph{missing} & -1.0 & 1.0 & 11 & 1 & 0 \\\\\n",
       "\t2 & 0.24 & 0.0 & \\emph{missing} & -1.0 & 1.0 & 11 & 1 & 1 \\\\\n",
       "\t3 & 0.722 & 0.0 & \\emph{missing} & -1.0 & 1.0 & 11 & 1 & 2 \\\\\n",
       "\t4 & 2.186 & 0.0 & \\emph{missing} & -1.0 & 1.0 & 11 & 1 & 3 \\\\\n",
       "\t5 & 2.162 & 0.0 & \\emph{missing} & -1.0 & 1.0 & 11 & 1 & 4 \\\\\n",
       "\t6 & 1.701 & 0.0 & \\emph{missing} & -1.0 & 1.0 & 11 & 1 & 5 \\\\\n",
       "\t7 & 0.258 & 0.441 & \\emph{missing} & -1.0 & 1.0 & 11 & 1 & 6 \\\\\n",
       "\t8 & 0.764 & 1.5 & \\emph{missing} & -1.0 & 1.0 & 11 & 1 & 7 \\\\\n",
       "\t9 & 2.059 & 3.483 & \\emph{missing} & -1.0 & 1.0 & 11 & 1 & 8 \\\\\n",
       "\t10 & 0.295 & 5.637 & \\emph{missing} & -1.0 & 1.0 & 11 & 1 & 9 \\\\\n",
       "\t11 & 0.591 & 4.083 & \\emph{missing} & -1.0 & 1.0 & 11 & 1 & 10 \\\\\n",
       "\t12 & 1.403 & 3.954 & \\emph{missing} & -1.0 & 1.0 & 11 & 1 & 11 \\\\\n",
       "\t13 & 2.389 & 3.399 & \\emph{missing} & -1.0 & 1.0 & 11 & 1 & 12 \\\\\n",
       "\t14 & 2.752 & 3.207 & \\emph{missing} & -1.0 & 1.0 & 11 & 1 & 13 \\\\\n",
       "\t15 & 1.248 & 1.299 & \\emph{missing} & -1.0 & 1.0 & 11 & 1 & 14 \\\\\n",
       "\t16 & 0.861 & 0.234 & \\emph{missing} & -1.0 & 1.0 & 11 & 1 & 15 \\\\\n",
       "\t17 & 1.692 & 0.0 & \\emph{missing} & -1.0 & 1.0 & 11 & 1 & 16 \\\\\n",
       "\t18 & 0.55 & 0.0 & \\emph{missing} & -1.0 & 1.0 & 11 & 1 & 17 \\\\\n",
       "\t19 & 0.871 & 0.0 & \\emph{missing} & -1.0 & 1.0 & 11 & 1 & 18 \\\\\n",
       "\t20 & 2.619 & 0.0 & \\emph{missing} & -1.0 & 1.0 & 11 & 1 & 19 \\\\\n",
       "\t21 & 1.68 & 0.0 & \\emph{missing} & -1.0 & 1.0 & 11 & 1 & 20 \\\\\n",
       "\t22 & 0.543 & 0.0 & \\emph{missing} & -1.0 & 1.0 & 11 & 1 & 21 \\\\\n",
       "\t23 & 0.26 & 0.0 & \\emph{missing} & -1.0 & 1.0 & 11 & 1 & 22 \\\\\n",
       "\t24 & 0.262 & 0.0 & \\emph{missing} & -1.0 & 1.0 & 11 & 1 & 23 \\\\\n",
       "\t$\\dots$ & $\\dots$ & $\\dots$ & $\\dots$ & $\\dots$ & $\\dots$ & $\\dots$ & $\\dots$ & $\\dots$ \\\\\n",
       "\\end{tabular}\n"
      ],
      "text/plain": [
       "\u001b[1m8760×8 DataFrame\u001b[0m\n",
       "\u001b[1m  Row \u001b[0m│\u001b[1m electkwh \u001b[0m\u001b[1m PV_generation \u001b[0m\u001b[1m chargekwh \u001b[0m\u001b[1m h_countdown \u001b[0m\u001b[1m soc_ev   \u001b[0m\u001b[1m month \u001b[0m\u001b[1m day   \u001b[0m\u001b[1m hour  \u001b[0m\n",
       "\u001b[1m      \u001b[0m│\u001b[90m Float64  \u001b[0m\u001b[90m Float64       \u001b[0m\u001b[90m Float64?  \u001b[0m\u001b[90m Float64     \u001b[0m\u001b[90m Float64? \u001b[0m\u001b[90m Int64 \u001b[0m\u001b[90m Int64 \u001b[0m\u001b[90m Int64 \u001b[0m\n",
       "──────┼────────────────────────────────────────────────────────────────────────────────\n",
       "    1 │    2.128          0.0   \u001b[90m   missing \u001b[0m        -1.0       1.0     11      1      0\n",
       "    2 │    0.24           0.0   \u001b[90m   missing \u001b[0m        -1.0       1.0     11      1      1\n",
       "    3 │    0.722          0.0   \u001b[90m   missing \u001b[0m        -1.0       1.0     11      1      2\n",
       "    4 │    2.186          0.0   \u001b[90m   missing \u001b[0m        -1.0       1.0     11      1      3\n",
       "    5 │    2.162          0.0   \u001b[90m   missing \u001b[0m        -1.0       1.0     11      1      4\n",
       "    6 │    1.701          0.0   \u001b[90m   missing \u001b[0m        -1.0       1.0     11      1      5\n",
       "    7 │    0.258          0.441 \u001b[90m   missing \u001b[0m        -1.0       1.0     11      1      6\n",
       "    8 │    0.764          1.5   \u001b[90m   missing \u001b[0m        -1.0       1.0     11      1      7\n",
       "  ⋮   │    ⋮            ⋮            ⋮           ⋮          ⋮        ⋮      ⋮      ⋮\n",
       " 8754 │    1.69           0.0   \u001b[90m   missing \u001b[0m        -1.0       1.0     10     31     17\n",
       " 8755 │    0.563          0.0   \u001b[90m   missing \u001b[0m        -1.0       1.0     10     31     18\n",
       " 8756 │    2.612          0.0   \u001b[90m   missing \u001b[0m        -1.0       1.0     10     31     19\n",
       " 8757 │    2.288          0.0   \u001b[90m   missing \u001b[0m        -1.0       1.0     10     31     20\n",
       " 8758 │    0.976          0.0   \u001b[90m   missing \u001b[0m        -1.0       1.0     10     31     21\n",
       " 8759 │    0.677          0.0   \u001b[90m   missing \u001b[0m        -1.0       1.0     10     31     22\n",
       " 8760 │    2.005          0.0   \u001b[90m   missing \u001b[0m        -1.0       1.0     10     31     23\n",
       "\u001b[36m                                                                      8745 rows omitted\u001b[0m"
      ]
     },
     "metadata": {},
     "output_type": "display_data"
    }
   ],
   "source": [
    "#Input_df = CSV.read(\"data/sonnen$(ID)_datafile_all.csv\", DataFrame);\n",
    "\n",
    "Input_df = new_df"
   ]
  },
  {
   "cell_type": "code",
   "execution_count": 413,
   "metadata": {
    "scrolled": true
   },
   "outputs": [],
   "source": [
    "#describe(Input_df)"
   ]
  },
  {
   "cell_type": "code",
   "execution_count": 414,
   "metadata": {},
   "outputs": [
    {
     "data": {
      "text/plain": [
       "1:8760"
      ]
     },
     "metadata": {},
     "output_type": "display_data"
    }
   ],
   "source": [
    "# add new column with number of days\n",
    "Input_df[!, :nday] = 1:nrow(Input_df)"
   ]
  },
  {
   "cell_type": "code",
   "execution_count": 415,
   "metadata": {},
   "outputs": [
    {
     "data": {
      "text/plain": [
       "8760-element Vector{Float64}:\n",
       "  2.128\n",
       "  0.24\n",
       "  0.722\n",
       "  2.186\n",
       "  2.162\n",
       "  1.701\n",
       " -0.18299999999999994\n",
       " -0.736\n",
       " -1.4240000000000004\n",
       " -5.3420000000000005\n",
       "  ⋮\n",
       " -2.497\n",
       "  0.7210000000000001\n",
       "  1.69\n",
       "  0.5630000000000001\n",
       "  2.612\n",
       "  2.2880000000000003\n",
       "  0.9759999999999999\n",
       "  0.677\n",
       "  2.005"
      ]
     },
     "metadata": {},
     "output_type": "display_data"
    }
   ],
   "source": [
    "# calculate residual demand\n",
    "Input_df[!, :d_res] = Input_df[!,:electkwh] + coalesce.(Input_df[!,:chargekwh], 0) - Input_df[!,:PV_generation]"
   ]
  },
  {
   "cell_type": "markdown",
   "metadata": {},
   "source": [
    "## Add periodical time representation using cos/sin"
   ]
  },
  {
   "cell_type": "code",
   "execution_count": 416,
   "metadata": {},
   "outputs": [],
   "source": [
    "# add columns with cos and sin values for periodical time values day + month\n",
    "Input_df[!, :hour_cos] = cos.(Input_df[!,:hour] ./ maximum(Input_df[!,:hour]) .* 2*pi);\n",
    "Input_df[!, :hour_sin] = sin.(Input_df[!,:hour] ./ maximum(Input_df[!,:hour]) .* 2*pi);\n",
    "\n",
    "Input_df[!, :month_cos] = cos.(Input_df[!,:month] ./ maximum(Input_df[!,:month]) .* 2*pi);\n",
    "Input_df[!, :month_sin] = sin.(Input_df[!,:month] ./ maximum(Input_df[!,:month]) .* 2*pi);\n",
    "\n",
    "#Input_df[!, :nday_cos] = cos.(Input_df[!,:nday] ./ maximum(Input_df[!,:nday]) .* 2*pi);\n",
    "#Input_df[!, :nday_sin] = sin.(Input_df[!,:nday] ./ maximum(Input_df[!,:nday]) .* 2*pi);"
   ]
  },
  {
   "cell_type": "markdown",
   "metadata": {},
   "source": [
    "## Add seasons"
   ]
  },
  {
   "cell_type": "code",
   "execution_count": 417,
   "metadata": {
    "scrolled": true
   },
   "outputs": [],
   "source": [
    "Input_df[!, :spring] = (Input_df[!,:month] .>= 3) .* (Input_df[!,:month] .<= 5);\n",
    "Input_df[!, :summer] = (Input_df[!,:month] .>= 6) .* (Input_df[!,:month] .<= 8);\n",
    "Input_df[!, :autumn] = (Input_df[!,:month] .>= 9) .* (Input_df[!,:month] .<= 11);\n",
    "Input_df[!, :winter] = convert.(Bool, (Input_df[!,:month] .>= 12) .+ (Input_df[!,:month] .<= 2));\n",
    "\n",
    "Input_df[!, :season] = ifelse.(Input_df[!,:spring] .== true, 1,\n",
    "                        ifelse.(Input_df[!,:summer] .== true, 2,\n",
    "                        ifelse.(Input_df[!,:autumn] .== true, 3, \n",
    "                        4)));"
   ]
  },
  {
   "cell_type": "code",
   "execution_count": 418,
   "metadata": {},
   "outputs": [
    {
     "name": "stdout",
     "output_type": "stream",
     "text": [
      "L"
     ]
    }
   ],
   "source": [
    "print(\"L\")"
   ]
  },
  {
   "cell_type": "code",
   "execution_count": 419,
   "metadata": {
    "scrolled": false
   },
   "outputs": [],
   "source": [
    "#describe(Input_df)"
   ]
  },
  {
   "cell_type": "markdown",
   "metadata": {},
   "source": [
    "## Add dynamic prices based on Ye et al. 2020"
   ]
  },
  {
   "cell_type": "code",
   "execution_count": 420,
   "metadata": {},
   "outputs": [],
   "source": [
    "#LU\n",
    "#=\n",
    "function set_dynamic_prices(Input_df)\n",
    "    map(eachrow(Input_df)) do r\n",
    "        if r.month >= 5 && r.month <= 10\n",
    "            if (r.hour >= 6 && r.hour <= 9) || (r.hour >= 16 && r.hour <= 17)\n",
    "                return 0.3f0\n",
    "            elseif (r.hour >= 10 && r.hour <= 15)\n",
    "                return 0.6f0\n",
    "            else\n",
    "                return 0.15f0\n",
    "            end\n",
    "        elseif r.month >= 11 || r.month <= 4\n",
    "            if (r.hour >= 6 && r.hour <= 9) || (r.hour >= 16 && r.hour <= 17)\n",
    "                return 0.6f0\n",
    "            elseif r.hour >= 10 && r.hour <= 15\n",
    "                return 0.3f0\n",
    "            else\n",
    "                return 0.15f0\n",
    "            end\n",
    "        end\n",
    "    end\n",
    "end      =#  "
   ]
  },
  {
   "cell_type": "code",
   "execution_count": 421,
   "metadata": {},
   "outputs": [],
   "source": [
    "#LU\n",
    "#=Input_df[!, \"p_buy\"] = set_dynamic_prices(Input_df);\n",
    "Input_df[!, \"p_sell\"] = 0.5 .* Input_df[!, \"p_buy\"];\n",
    "=#"
   ]
  },
  {
   "cell_type": "code",
   "execution_count": 422,
   "metadata": {
    "scrolled": true
   },
   "outputs": [],
   "source": [
    "#LU describe(Input_df)"
   ]
  },
  {
   "cell_type": "markdown",
   "metadata": {},
   "source": [
    "## Extract training, testing + evalution data set for summer, winter, both, all"
   ]
  },
  {
   "cell_type": "code",
   "execution_count": 423,
   "metadata": {
    "scrolled": true
   },
   "outputs": [],
   "source": [
    "#LU\n",
    "#=# filter summer\n",
    "Input_data_summer = filter(:summer => !=(0), Input_df)\n",
    "describe(Input_data_summer), size(Input_data_summer)\n",
    "=#"
   ]
  },
  {
   "cell_type": "code",
   "execution_count": 424,
   "metadata": {},
   "outputs": [],
   "source": [
    "#=function train_eval_test_split(Input_df)\n",
    "    train = filter(row -> row.day <= 15, Input_df)\n",
    "    eval = filter(row -> row.day > 15 && row.day <= 20, Input_df)\n",
    "    test = filter(row -> row.day > 20, Input_df)\n",
    "    return train, eval, test\n",
    "end=#"
   ]
  },
  {
   "cell_type": "code",
   "execution_count": 425,
   "metadata": {},
   "outputs": [],
   "source": [
    "#=function split_all_data_advanced(Input_df)\n",
    "    # Initialize the split points and the adjustments\n",
    "    splitpoint_adjustments = Dict(\"train\" => 0, \"eval\" => 0, \"test\" => 0)\n",
    "    splitpoints = Dict(\"train\" => 15, \"eval\" => 20)#, \"test\" => lastday(Input_df.date[1]))\n",
    "\n",
    "    # Initialize the data sets\n",
    "    train, eval, test = DataFrame(), DataFrame(), DataFrame()\n",
    "\n",
    "    # Iterate over each month\n",
    "    for month in unique(Input_df[:,:month])\n",
    "        # Adjust the split points based on the previous month's adjustments\n",
    "        #print(\"\\n New month: \", month, \"\\n Splitpoint adjustment: \", splitpoint_adjustments)\n",
    "        splitpoints = Dict(\"train\" => 15, \"eval\" => 20)#, \"test\" => lastday(Input_df.date[1]))\n",
    "        splitpoints[\"train\"] -= splitpoint_adjustments[\"train\"]\n",
    "        splitpoints[\"eval\"] -= splitpoint_adjustments[\"eval\"]\n",
    "        #splitpoints[\"test\"] -= splitpoint_adjustments[\"test\"]\n",
    "\n",
    "        #print(\"\\nSplitpoints: \", splitpoints)\n",
    "\n",
    "        # Reset adjustments for the current month\n",
    "        splitpoint_adjustments = Dict(\"train\" => 0, \"eval\" => 0)#, \"test\" => 0)\n",
    "\n",
    "        # Filter the data for the current month\n",
    "        month_data = filter(row -> row.month == month, Input_df)\n",
    "\n",
    "        # Check and adjust the split points\n",
    "        for (yset_name, yday) in splitpoints\n",
    "            #print(\"\\nmonth: \", month, \"\\nyset_name: \", yset_name, \"\\n yday: \", yday, \"\\n\")\n",
    "            while ((month_data[(month_data.day .== yday) .& (month_data.hour .== 23), :h_countdown][1] > -1) && splitpoint_adjustments[yset_name] <= 4)\n",
    "                print(\"split not ok at month \", month, \", day \", yday, \". Trying at next day.\", \"\\n\")\n",
    "                yday += 1\n",
    "                splitpoint_adjustments[yset_name] += 1\n",
    "                if splitpoint_adjustments[yset_name] == 4\n",
    "                    print(\"\\n Maximum adjustment of 4 days reached! Not ideal splitpoint chosen at month \", month, \". \\n Splitpoint: \", yset_name, \" at \", yday)\n",
    "                end\n",
    "\n",
    "            end\n",
    "            \n",
    "            splitpoints[yset_name] = yday\n",
    "        end\n",
    "\n",
    "        # Split the data for the current month\n",
    "        train = vcat(train, filter(row -> row.day <= splitpoints[\"train\"], month_data))\n",
    "        eval = vcat(eval, filter(row -> row.day > splitpoints[\"train\"] && row.day <= splitpoints[\"eval\"], month_data))\n",
    "        test = vcat(test, filter(row -> row.day > splitpoints[\"eval\"], month_data))\n",
    "    end\n",
    "\n",
    "    return train, eval, test\n",
    "end\n",
    "=#"
   ]
  },
  {
   "cell_type": "code",
   "execution_count": 426,
   "metadata": {},
   "outputs": [
    {
     "data": {
      "text/plain": [
       "build_sets (generic function with 1 method)"
      ]
     },
     "metadata": {},
     "output_type": "display_data"
    }
   ],
   "source": [
    "function split_all_data_advanced_v2(Input_df)\n",
    "    # Initialize the data sets\n",
    "    train = DataFrame()\n",
    "    eval = DataFrame()\n",
    "    test = DataFrame()\n",
    "\n",
    "    # Define the pattern of row counts for each data set\n",
    "    pattern = [(\"test\", 24*10), (\"eval\", 5*24), (\"train\", 15*24)]\n",
    "\n",
    "    splitpoint_adjustments = Dict(\"train\" => 0, \"eval\" => 0, \"test\" => 0)\n",
    "\n",
    "    # Initialize the pattern index\n",
    "    pattern_index = 1\n",
    "\n",
    "    i = 0\n",
    "\n",
    "    # Iterate over the rows of the DataFrame\n",
    "    while i < size(Input_df, 1)\n",
    "        print(\"$i  \")\n",
    "        # Get the current data set name and row count from the pattern\n",
    "        set_name, row_count = pattern[pattern_index]\n",
    "\n",
    "        row_count -= min(splitpoint_adjustments[set_name], 4*24)\n",
    "\n",
    "        splitpoint_adjustments[set_name] -= min(splitpoint_adjustments[set_name], 4*24)\n",
    "\n",
    "        maxi = 0\n",
    "        maxi += 1\n",
    "        if maxi > 10000\n",
    "            println(\"maxi break\")\n",
    "            break\n",
    "        end\n",
    "\n",
    "        while (Input_df[min(i+row_count, nrow(Input_df)), :h_countdown] > -1) #&& splitpoint_adjustments[set_name] <= 3*24)\n",
    "            if i+row_count-1 >  10000\n",
    "                println(\"breaking at $(pattern[pattern_index])\")\n",
    "                break\n",
    "            end\n",
    "\n",
    "\n",
    "\n",
    "            print(\"\\n i: $i, set_name: $set_name, row_count: $row_count, days: $(row_count/24)\")\n",
    "            print(\"\\n split point not ok at nday \", Input_df[min(i+row_count-1, size(Input_df, 1)), :nday] ,\n",
    "                    \".\\n month $(Input_df[min(i+row_count-1, size(Input_df, 1)), :month]), day $(Input_df[min(i+row_count-1, size(Input_df, 1)), :day]). Trying at next day. \\n\")\n",
    "            \n",
    "\n",
    "            if (i+row_count+24-1) > (nrow(Input_df)-1)\n",
    "                println(\"i+rowcount = $i + $row_count +24 - 1 = $(i+row_count+24-1), which is out of bounds. Break!\")\n",
    "                break\n",
    "            else\n",
    "                row_count += 24\n",
    "                splitpoint_adjustments[set_name] += 24\n",
    "                print(\"Total new splitpoint adjustment for $set_name: $(splitpoint_adjustments[set_name])\")\n",
    "            end\n",
    "            \n",
    "        end\n",
    "\n",
    "        print(\"\\n Splitpoint found.\")        \n",
    "\n",
    "        # Add the rows to the appropriate data set\n",
    "        rows = Input_df[i+1:min(i+row_count, size(Input_df, 1)), :]\n",
    "\n",
    "        if set_name == \"train\"\n",
    "            train, row_count = build_sets(train, rows, 4320, row_count)\n",
    "        elseif set_name == \"eval\"\n",
    "            eval, row_count = build_sets(eval, rows, 1440, row_count)\n",
    "        else # set_name == \"test\"\n",
    "            test, row_count = build_sets(test, rows, 3000, row_count)\n",
    "        end\n",
    "\n",
    "        # Move to the next rows\n",
    "        i = i + row_count\n",
    "\n",
    "        # Move to the next pattern index, or reset to 1 if the end of the pattern is reached\n",
    "        pattern_index = pattern_index % length(pattern) + 1\n",
    "    end\n",
    "\n",
    "    print(\"\\n Length train-data = \", nrow(train), \"\\n Length eval-data = \", nrow(eval), \"\\n Length test-data = \", nrow(test))\n",
    "    \n",
    "    return train, eval, test\n",
    "\n",
    "end\n",
    "\n",
    "function build_sets(set, rows, limit, row_count)\n",
    "    set = vcat(set, rows)\n",
    "    if nrow(set) > limit\n",
    "        println(\"limit exceeded\")\n",
    "        row_count -= nrow(set) - limit\n",
    "        set = first(set, limit)\n",
    "        \n",
    "    end\n",
    "    return set, row_count\n",
    "end\n",
    "        \n"
   ]
  },
  {
   "cell_type": "code",
   "execution_count": 427,
   "metadata": {},
   "outputs": [],
   "source": [
    "#LU\n",
    "#=summer_training, summer_evaluation, summer_testing = train_eval_test_split(Input_data_summer)\n",
    "\n",
    "CSV.write(\"data/$(ID)_summer_train_TOU.csv\", summer_training);\n",
    "CSV.write(\"data/$(ID)_summer_eval_TOU.csv\", summer_evaluation);\n",
    "CSV.write(\"data/$(ID)_summer_test_TOU.csv\", summer_testing);\n",
    "=#"
   ]
  },
  {
   "cell_type": "code",
   "execution_count": 428,
   "metadata": {
    "scrolled": false
   },
   "outputs": [],
   "source": [
    "#LU\n",
    "#=# filter winter\n",
    "Input_data_winter = filter(:winter => !=(0), Input_df)\n",
    "describe(Input_data_winter), size(Input_data_winter)\n",
    "=#"
   ]
  },
  {
   "cell_type": "code",
   "execution_count": 429,
   "metadata": {},
   "outputs": [],
   "source": [
    "#LU\n",
    "#=winter_training, winter_evaluation, winter_testing = train_eval_test_split(Input_data_winter)\n",
    "\n",
    "# write data files\n",
    "CSV.write(\"data/$(ID)_winter_train_TOU.csv\", winter_training);\n",
    "CSV.write(\"data/$(ID)_winter_eval_TOU.csv\", winter_evaluation);\n",
    "CSV.write(\"data/$(ID)_winter_test_TOU.csv\", winter_testing);\n",
    "=#"
   ]
  },
  {
   "cell_type": "code",
   "execution_count": 430,
   "metadata": {},
   "outputs": [],
   "source": [
    "#all_training, all_evaluation, all_testing = split_all_data_advanced(Input_df)\n",
    "\n",
    "#LU \n",
    "#=\n",
    "# write data files\n",
    "CSV.write(\"data/$(ID)_all_train_TOU.csv\", all_training);\n",
    "CSV.write(\"data/$(ID)_all_eval_TOU.csv\", all_evaluation);\n",
    "CSV.write(\"data/$(ID)_all_test_TOU.csv\", all_testing);\n",
    "=#"
   ]
  },
  {
   "cell_type": "code",
   "execution_count": 431,
   "metadata": {},
   "outputs": [],
   "source": [
    "#LU\n",
    "#describe(vcat(Input_data_winter, Input_data_summer) ), size(vcat(Input_data_winter, Input_data_summer) )"
   ]
  },
  {
   "cell_type": "code",
   "execution_count": 432,
   "metadata": {},
   "outputs": [],
   "source": [
    "#LU\n",
    "#=# both seasons split\n",
    "both_training, both_evaluation, both_testing = train_eval_test_split(vcat(Input_data_winter, Input_data_summer))\n",
    "\n",
    "# write data files\n",
    "CSV.write(\"data/$(ID)_both_train_TOU.csv\", both_training);\n",
    "CSV.write(\"data/$(ID)_both_test_TOU.csv\", both_testing);\n",
    "CSV.write(\"data/$(ID)_both_eval_TOU.csv\", both_evaluation);\n",
    "=#"
   ]
  },
  {
   "cell_type": "markdown",
   "metadata": {},
   "source": [
    "## Dataset for fixed prices"
   ]
  },
  {
   "cell_type": "code",
   "execution_count": 433,
   "metadata": {},
   "outputs": [],
   "source": [
    "Input_df[!, \"p_buy\"] .= 0.3;\n",
    "Input_df[!, \"p_sell\"] .= 0.1;"
   ]
  },
  {
   "cell_type": "code",
   "execution_count": 434,
   "metadata": {},
   "outputs": [
    {
     "name": "stdout",
     "output_type": "stream",
     "text": [
      "0  \n",
      " i: 0, set_name: test, row_count: 240, days: 10.0\n",
      " split point not ok at nday 239.\n",
      " month 11, day 10. Trying at next day. \n",
      "Total new splitpoint adjustment for test: 24\n",
      " Splitpoint found.264  \n",
      " i: 264, set_name: eval, row_count: 120, days: 5.0\n",
      " split point not ok at nday 383.\n",
      " month 11, day 16. Trying at next day. \n",
      "Total new splitpoint adjustment for eval: 24\n",
      " Splitpoint found.408  \n",
      " i: 408, set_name: train, row_count: 360, days: 15.0\n",
      " split point not ok at nday 767.\n",
      " month 12, day 2. Trying at next day. \n",
      "Total new splitpoint adjustment for train: 24\n",
      " Splitpoint found.792  \n",
      " Splitpoint found.1008  \n",
      " Splitpoint found.1104  \n",
      " Splitpoint found.1440  \n",
      " Splitpoint found.1680  \n",
      " Splitpoint found.1800  \n",
      " i: 1800, set_name: train, row_count: 360, days: 15.0\n",
      " split point not ok at nday 2159.\n",
      " month 1, day 29. Trying at next day. \n",
      "Total new splitpoint adjustment for train: 24\n",
      " i: 1800, set_name: train, row_count: 384, days: 16.0\n",
      " split point not ok at nday 2183.\n",
      " month 1, day 30. Trying at next day. \n",
      "Total new splitpoint adjustment for train: 48\n",
      " i: 1800, set_name: train, row_count: 408, days: 17.0\n",
      " split point not ok at nday 2207.\n",
      " month 1, day 31. Trying at next day. \n",
      "Total new splitpoint adjustment for train: 72\n",
      " i: 1800, set_name: train, row_count: 432, days: 18.0\n",
      " split point not ok at nday 2231.\n",
      " month 2, day 1. Trying at next day. \n",
      "Total new splitpoint adjustment for train: 96\n",
      " Splitpoint found.2256  \n",
      " Splitpoint found.2496  \n",
      " Splitpoint found.2616  \n",
      " Splitpoint found.2880  \n",
      " i: 2880, set_name: test, row_count: 240, days: 10.0\n",
      " split point not ok at nday 3119.\n",
      " month 3, day 10. Trying at next day. \n",
      "Total new splitpoint adjustment for test: 24\n",
      " Splitpoint found.3144  \n",
      " i: 3144, set_name: eval, row_count: 120, days: 5.0\n",
      " split point not ok at nday 3263.\n",
      " month 3, day 16. Trying at next day. \n",
      "Total new splitpoint adjustment for eval: 24\n",
      " Splitpoint found.3288  \n",
      " Splitpoint found.3648  \n",
      " i: 3648, set_name: test, row_count: 216, days: 9.0\n",
      " split point not ok at nday 3863.\n",
      " month 4, day 10. Trying at next day. \n",
      "Total new splitpoint adjustment for test: 24\n",
      " i: 3648, set_name: test, row_count: 240, days: 10.0\n",
      " split point not ok at nday 3887.\n",
      " month 4, day 11. Trying at next day. \n",
      "Total new splitpoint adjustment for test: 48\n",
      " Splitpoint found.3912  \n",
      " Splitpoint found.4008  \n",
      " Splitpoint found.4368  \n",
      " Splitpoint found.4560  \n",
      " Splitpoint found.4680  \n",
      " i: 4680, set_name: train, row_count: 360, days: 15.0\n",
      " split point not ok at nday 5039.\n",
      " month 5, day 29. Trying at next day. \n",
      "Total new splitpoint adjustment for train: 24\n",
      " i: 4680, set_name: train, row_count: 384, days: 16.0\n",
      " split point not ok at nday 5063.\n",
      " month 5, day 30. Trying at next day. \n",
      "Total new splitpoint adjustment for train: 48\n",
      " i: 4680, set_name: train, row_count: 408, days: 17.0\n",
      " split point not ok at nday 5087.\n",
      " month 5, day 31. Trying at next day. \n",
      "Total new splitpoint adjustment for train: 72\n",
      " Splitpoint found.5112  \n",
      " Splitpoint found.5352  \n",
      " Splitpoint found.5472  \n",
      " Splitpoint found.5760  \n",
      " Splitpoint found.6000  \n",
      " Splitpoint found.6120  \n",
      " Splitpoint found.6480  \n",
      " Splitpoint found.6720  \n",
      " Splitpoint found.6840  \n",
      " Splitpoint found.7200  \n",
      " Splitpoint found.7440  \n",
      " Splitpoint found.7560  \n",
      " Splitpoint found.7920  \n",
      " i: 7920, set_name: test, row_count: 240, days: 10.0\n",
      " split point not ok at nday 8159.\n",
      " month 10, day 6. Trying at next day. \n",
      "Total new splitpoint adjustment for test: 24\n",
      " Splitpoint found.8184  \n",
      " i: 8184, set_name: eval, row_count: 120, days: 5.0\n",
      " split point not ok at nday 8303.\n",
      " month 10, day 12. Trying at next day. \n",
      "Total new splitpoint adjustment for eval: 24\n",
      " Splitpoint found.limit exceeded\n",
      "8304  \n",
      " Splitpoint found.8664  \n",
      " Splitpoint found.\n",
      " Length train-data = 4320\n",
      " Length eval-data = 1440\n",
      " Length test-data = 3000"
     ]
    },
    {
     "data": {
      "text/plain": [
       "(\u001b[1m4320×21 DataFrame\u001b[0m\n",
       "\u001b[1m  Row \u001b[0m│\u001b[1m electkwh \u001b[0m\u001b[1m PV_generation \u001b[0m\u001b[1m chargekwh \u001b[0m\u001b[1m h_countdown \u001b[0m\u001b[1m soc_ev   \u001b[0m\u001b[1m month \u001b[0m\u001b[1m day   \u001b[0m\u001b[1m hour  \u001b[0m\u001b[1m nday  \u001b[0m\u001b[1m d_res   \u001b[0m\u001b[1m hour_cos   \u001b[0m\u001b[1m hour_sin     \u001b[0m\u001b[1m month_cos \u001b[0m\u001b[1m month_sin \u001b[0m\u001b[1m spring \u001b[0m\u001b[1m summer \u001b[0m\u001b[1m autumn \u001b[0m\u001b[1m winter \u001b[0m\u001b[1m season \u001b[0m\u001b[1m p_buy   \u001b[0m\u001b[1m p_sell  \u001b[0m\n",
       "\u001b[1m      \u001b[0m│\u001b[90m Float64  \u001b[0m\u001b[90m Float64       \u001b[0m\u001b[90m Float64?  \u001b[0m\u001b[90m Float64     \u001b[0m\u001b[90m Float64? \u001b[0m\u001b[90m Int64 \u001b[0m\u001b[90m Int64 \u001b[0m\u001b[90m Int64 \u001b[0m\u001b[90m Int64 \u001b[0m\u001b[90m Float64 \u001b[0m\u001b[90m Float64    \u001b[0m\u001b[90m Float64      \u001b[0m\u001b[90m Float64   \u001b[0m\u001b[90m Float64   \u001b[0m\u001b[90m Bool   \u001b[0m\u001b[90m Bool   \u001b[0m\u001b[90m Bool   \u001b[0m\u001b[90m Bool   \u001b[0m\u001b[90m Int64  \u001b[0m\u001b[90m Float64 \u001b[0m\u001b[90m Float64 \u001b[0m\n",
       "──────┼──────────────────────────────────────────────────────────────────────────────────────────────────────────────────────────────────────────────────────────────────────────────────────────────────────────\n",
       "    1 │    2.257          0.0   \u001b[90m   missing \u001b[0m        -1.0       1.0     11     18      0    409    2.257   1.0         0.0           0.866025  -0.5        false   false    true   false       3      0.3      0.1\n",
       "    2 │    1.731          0.0   \u001b[90m   missing \u001b[0m        -1.0       1.0     11     18      1    410    1.731   0.962917    0.269797      0.866025  -0.5        false   false    true   false       3      0.3      0.1\n",
       "    3 │    0.258          0.0   \u001b[90m   missing \u001b[0m        -1.0       1.0     11     18      2    411    0.258   0.854419    0.519584      0.866025  -0.5        false   false    true   false       3      0.3      0.1\n",
       "    4 │    2.225          0.0   \u001b[90m   missing \u001b[0m        -1.0       1.0     11     18      3    412    2.225   0.682553    0.730836      0.866025  -0.5        false   false    true   false       3      0.3      0.1\n",
       "    5 │    2.057          0.0   \u001b[90m   missing \u001b[0m        -1.0       1.0     11     18      4    413    2.057   0.460065    0.887885      0.866025  -0.5        false   false    true   false       3      0.3      0.1\n",
       "    6 │    2.884          0.0   \u001b[90m   missing \u001b[0m        -1.0       1.0     11     18      5    414    2.884   0.203456    0.979084      0.866025  -0.5        false   false    true   false       3      0.3      0.1\n",
       "    7 │    1.566          1.734 \u001b[90m   missing \u001b[0m        -1.0       1.0     11     18      6    415   -0.168  -0.0682424   0.997669      0.866025  -0.5        false   false    true   false       3      0.3      0.1\n",
       "    8 │    1.223          8.334 \u001b[90m   missing \u001b[0m        -1.0       1.0     11     18      7    416   -7.111  -0.33488     0.942261      0.866025  -0.5        false   false    true   false       3      0.3      0.1\n",
       "  ⋮   │    ⋮            ⋮            ⋮           ⋮          ⋮        ⋮      ⋮      ⋮      ⋮       ⋮         ⋮            ⋮            ⋮          ⋮        ⋮       ⋮       ⋮       ⋮       ⋮        ⋮        ⋮\n",
       " 4314 │    2.45           0.0   \u001b[90m   missing \u001b[0m        -1.0       1.0     10     27     18   8658    2.45    0.203456   -0.979084      0.5       -0.866025   false   false    true   false       3      0.3      0.1\n",
       " 4315 │    1.759          0.0   \u001b[90m   missing \u001b[0m        -1.0       1.0     10     27     19   8659    1.759   0.460065   -0.887885      0.5       -0.866025   false   false    true   false       3      0.3      0.1\n",
       " 4316 │    2.462          0.0   \u001b[90m   missing \u001b[0m        -1.0       1.0     10     27     20   8660    2.462   0.682553   -0.730836      0.5       -0.866025   false   false    true   false       3      0.3      0.1\n",
       " 4317 │    3.03           0.0   \u001b[90m   missing \u001b[0m        -1.0       1.0     10     27     21   8661    3.03    0.854419   -0.519584      0.5       -0.866025   false   false    true   false       3      0.3      0.1\n",
       " 4318 │    2.254          0.0   \u001b[90m   missing \u001b[0m        -1.0       1.0     10     27     22   8662    2.254   0.962917   -0.269797      0.5       -0.866025   false   false    true   false       3      0.3      0.1\n",
       " 4319 │    2.17           0.0   \u001b[90m   missing \u001b[0m        -1.0       1.0     10     27     23   8663    2.17    1.0        -2.44929e-16   0.5       -0.866025   false   false    true   false       3      0.3      0.1\n",
       " 4320 │    1.223          0.0   \u001b[90m   missing \u001b[0m        -1.0       1.0     10     28      0   8664    1.223   1.0         0.0           0.5       -0.866025   false   false    true   false       3      0.3      0.1\n",
       "\u001b[36m                                                                                                                                                                                                4305 rows omitted\u001b[0m, \u001b[1m1440×21 DataFrame\u001b[0m\n",
       "\u001b[1m  Row \u001b[0m│\u001b[1m electkwh \u001b[0m\u001b[1m PV_generation \u001b[0m\u001b[1m chargekwh       \u001b[0m\u001b[1m h_countdown \u001b[0m\u001b[1m soc_ev   \u001b[0m\u001b[1m month \u001b[0m\u001b[1m day   \u001b[0m\u001b[1m hour  \u001b[0m\u001b[1m nday  \u001b[0m\u001b[1m d_res     \u001b[0m\u001b[1m hour_cos   \u001b[0m\u001b[1m hour_sin     \u001b[0m\u001b[1m month_cos \u001b[0m\u001b[1m month_sin \u001b[0m\u001b[1m spring \u001b[0m\u001b[1m summer \u001b[0m\u001b[1m autumn \u001b[0m\u001b[1m winter \u001b[0m\u001b[1m season \u001b[0m\u001b[1m p_buy   \u001b[0m\u001b[1m p_sell  \u001b[0m\n",
       "\u001b[1m      \u001b[0m│\u001b[90m Float64  \u001b[0m\u001b[90m Float64       \u001b[0m\u001b[90m Float64?        \u001b[0m\u001b[90m Float64     \u001b[0m\u001b[90m Float64? \u001b[0m\u001b[90m Int64 \u001b[0m\u001b[90m Int64 \u001b[0m\u001b[90m Int64 \u001b[0m\u001b[90m Int64 \u001b[0m\u001b[90m Float64   \u001b[0m\u001b[90m Float64    \u001b[0m\u001b[90m Float64      \u001b[0m\u001b[90m Float64   \u001b[0m\u001b[90m Float64   \u001b[0m\u001b[90m Bool   \u001b[0m\u001b[90m Bool   \u001b[0m\u001b[90m Bool   \u001b[0m\u001b[90m Bool   \u001b[0m\u001b[90m Int64  \u001b[0m\u001b[90m Float64 \u001b[0m\u001b[90m Float64 \u001b[0m\n",
       "──────┼──────────────────────────────────────────────────────────────────────────────────────────────────────────────────────────────────────────────────────────────────────────────────────────────────────────────────\n",
       "    1 │    0.259          0.0   \u001b[90m missing         \u001b[0m        -1.0  1.0          11     12      0    265   0.259      1.0         0.0           0.866025  -0.5        false   false    true   false       3      0.3      0.1\n",
       "    2 │    1.859          0.0   \u001b[90m missing         \u001b[0m        -1.0  1.0          11     12      1    266   1.859      0.962917    0.269797      0.866025  -0.5        false   false    true   false       3      0.3      0.1\n",
       "    3 │    1.933          0.0   \u001b[90m missing         \u001b[0m        -1.0  1.0          11     12      2    267   1.933      0.854419    0.519584      0.866025  -0.5        false   false    true   false       3      0.3      0.1\n",
       "    4 │    0.235          0.0   \u001b[90m missing         \u001b[0m        -1.0  1.0          11     12      3    268   0.235      0.682553    0.730836      0.866025  -0.5        false   false    true   false       3      0.3      0.1\n",
       "    5 │    0.709          0.0   \u001b[90m missing         \u001b[0m        -1.0  1.0          11     12      4    269   0.709      0.460065    0.887885      0.866025  -0.5        false   false    true   false       3      0.3      0.1\n",
       "    6 │    2.545          0.0   \u001b[90m missing         \u001b[0m        -1.0  1.0          11     12      5    270   2.545      0.203456    0.979084      0.866025  -0.5        false   false    true   false       3      0.3      0.1\n",
       "    7 │    2.421          0.024 \u001b[90m missing         \u001b[0m        -1.0  1.0          11     12      6    271   2.397     -0.0682424   0.997669      0.866025  -0.5        false   false    true   false       3      0.3      0.1\n",
       "    8 │    1.964          1.467 \u001b[90m missing         \u001b[0m        -1.0  1.0          11     12      7    272   0.497     -0.33488     0.942261      0.866025  -0.5        false   false    true   false       3      0.3      0.1\n",
       "  ⋮   │    ⋮            ⋮               ⋮              ⋮          ⋮        ⋮      ⋮      ⋮      ⋮        ⋮          ⋮            ⋮            ⋮          ⋮        ⋮       ⋮       ⋮       ⋮       ⋮        ⋮        ⋮\n",
       " 1434 │    2.795          0.0          3.88324           14.0  0.452003     10     12     18   8298   6.67824    0.203456   -0.979084      0.5       -0.866025   false   false    true   false       3      0.3      0.1\n",
       " 1435 │    1.254          0.0          3.85982           13.0  0.560426     10     12     19   8299   5.11382    0.460065   -0.887885      0.5       -0.866025   false   false    true   false       3      0.3      0.1\n",
       " 1436 │    0.744          0.0          3.84183           12.0  0.668195     10     12     20   8300   4.58583    0.682553   -0.730836      0.5       -0.866025   false   false    true   false       3      0.3      0.1\n",
       " 1437 │    2.033          0.0          3.86319           11.0  0.775462     10     12     21   8301   5.89619    0.854419   -0.519584      0.5       -0.866025   false   false    true   false       3      0.3      0.1\n",
       " 1438 │    1.248          0.0          2.9556            10.0  0.883326     10     12     22   8302   4.2036     0.962917   -0.269797      0.5       -0.866025   false   false    true   false       3      0.3      0.1\n",
       " 1439 │    0.257          0.0          0.0607179          9.0  0.965849     10     12     23   8303   0.317718   1.0        -2.44929e-16   0.5       -0.866025   false   false    true   false       3      0.3      0.1\n",
       " 1440 │    1.348          0.0          0.0                8.0  0.967544     10     13      0   8304   1.348      1.0         0.0           0.5       -0.866025   false   false    true   false       3      0.3      0.1\n",
       "\u001b[36m                                                                                                                                                                                                        1425 rows omitted\u001b[0m, \u001b[1m3000×21 DataFrame\u001b[0m\n",
       "\u001b[1m  Row \u001b[0m│\u001b[1m electkwh \u001b[0m\u001b[1m PV_generation \u001b[0m\u001b[1m chargekwh \u001b[0m\u001b[1m h_countdown \u001b[0m\u001b[1m soc_ev   \u001b[0m\u001b[1m month \u001b[0m\u001b[1m day   \u001b[0m\u001b[1m hour  \u001b[0m\u001b[1m nday  \u001b[0m\u001b[1m d_res   \u001b[0m\u001b[1m hour_cos   \u001b[0m\u001b[1m hour_sin     \u001b[0m\u001b[1m month_cos \u001b[0m\u001b[1m month_sin \u001b[0m\u001b[1m spring \u001b[0m\u001b[1m summer \u001b[0m\u001b[1m autumn \u001b[0m\u001b[1m winter \u001b[0m\u001b[1m season \u001b[0m\u001b[1m p_buy   \u001b[0m\u001b[1m p_sell  \u001b[0m\n",
       "\u001b[1m      \u001b[0m│\u001b[90m Float64  \u001b[0m\u001b[90m Float64       \u001b[0m\u001b[90m Float64?  \u001b[0m\u001b[90m Float64     \u001b[0m\u001b[90m Float64? \u001b[0m\u001b[90m Int64 \u001b[0m\u001b[90m Int64 \u001b[0m\u001b[90m Int64 \u001b[0m\u001b[90m Int64 \u001b[0m\u001b[90m Float64 \u001b[0m\u001b[90m Float64    \u001b[0m\u001b[90m Float64      \u001b[0m\u001b[90m Float64   \u001b[0m\u001b[90m Float64   \u001b[0m\u001b[90m Bool   \u001b[0m\u001b[90m Bool   \u001b[0m\u001b[90m Bool   \u001b[0m\u001b[90m Bool   \u001b[0m\u001b[90m Int64  \u001b[0m\u001b[90m Float64 \u001b[0m\u001b[90m Float64 \u001b[0m\n",
       "──────┼──────────────────────────────────────────────────────────────────────────────────────────────────────────────────────────────────────────────────────────────────────────────────────────────────────────\n",
       "    1 │    2.128          0.0   \u001b[90m   missing \u001b[0m        -1.0       1.0     11      1      0      1    2.128   1.0         0.0           0.866025  -0.5        false   false    true   false       3      0.3      0.1\n",
       "    2 │    0.24           0.0   \u001b[90m   missing \u001b[0m        -1.0       1.0     11      1      1      2    0.24    0.962917    0.269797      0.866025  -0.5        false   false    true   false       3      0.3      0.1\n",
       "    3 │    0.722          0.0   \u001b[90m   missing \u001b[0m        -1.0       1.0     11      1      2      3    0.722   0.854419    0.519584      0.866025  -0.5        false   false    true   false       3      0.3      0.1\n",
       "    4 │    2.186          0.0   \u001b[90m   missing \u001b[0m        -1.0       1.0     11      1      3      4    2.186   0.682553    0.730836      0.866025  -0.5        false   false    true   false       3      0.3      0.1\n",
       "    5 │    2.162          0.0   \u001b[90m   missing \u001b[0m        -1.0       1.0     11      1      4      5    2.162   0.460065    0.887885      0.866025  -0.5        false   false    true   false       3      0.3      0.1\n",
       "    6 │    1.701          0.0   \u001b[90m   missing \u001b[0m        -1.0       1.0     11      1      5      6    1.701   0.203456    0.979084      0.866025  -0.5        false   false    true   false       3      0.3      0.1\n",
       "    7 │    0.258          0.441 \u001b[90m   missing \u001b[0m        -1.0       1.0     11      1      6      7   -0.183  -0.0682424   0.997669      0.866025  -0.5        false   false    true   false       3      0.3      0.1\n",
       "    8 │    0.764          1.5   \u001b[90m   missing \u001b[0m        -1.0       1.0     11      1      7      8   -0.736  -0.33488     0.942261      0.866025  -0.5        false   false    true   false       3      0.3      0.1\n",
       "  ⋮   │    ⋮            ⋮            ⋮           ⋮          ⋮        ⋮      ⋮      ⋮      ⋮       ⋮         ⋮            ⋮            ⋮          ⋮        ⋮       ⋮       ⋮       ⋮       ⋮        ⋮        ⋮\n",
       " 2994 │    1.69           0.0   \u001b[90m   missing \u001b[0m        -1.0       1.0     10     31     17   8754    1.69   -0.0682424  -0.997669      0.5       -0.866025   false   false    true   false       3      0.3      0.1\n",
       " 2995 │    0.563          0.0   \u001b[90m   missing \u001b[0m        -1.0       1.0     10     31     18   8755    0.563   0.203456   -0.979084      0.5       -0.866025   false   false    true   false       3      0.3      0.1\n",
       " 2996 │    2.612          0.0   \u001b[90m   missing \u001b[0m        -1.0       1.0     10     31     19   8756    2.612   0.460065   -0.887885      0.5       -0.866025   false   false    true   false       3      0.3      0.1\n",
       " 2997 │    2.288          0.0   \u001b[90m   missing \u001b[0m        -1.0       1.0     10     31     20   8757    2.288   0.682553   -0.730836      0.5       -0.866025   false   false    true   false       3      0.3      0.1\n",
       " 2998 │    0.976          0.0   \u001b[90m   missing \u001b[0m        -1.0       1.0     10     31     21   8758    0.976   0.854419   -0.519584      0.5       -0.866025   false   false    true   false       3      0.3      0.1\n",
       " 2999 │    0.677          0.0   \u001b[90m   missing \u001b[0m        -1.0       1.0     10     31     22   8759    0.677   0.962917   -0.269797      0.5       -0.866025   false   false    true   false       3      0.3      0.1\n",
       " 3000 │    2.005          0.0   \u001b[90m   missing \u001b[0m        -1.0       1.0     10     31     23   8760    2.005   1.0        -2.44929e-16   0.5       -0.866025   false   false    true   false       3      0.3      0.1\n",
       "\u001b[36m                                                                                                                                                                                                2985 rows omitted\u001b[0m)"
      ]
     },
     "metadata": {},
     "output_type": "display_data"
    }
   ],
   "source": [
    "all_training, all_evaluation, all_testing = split_all_data_advanced_v2(Input_df)"
   ]
  },
  {
   "cell_type": "code",
   "execution_count": 435,
   "metadata": {},
   "outputs": [
    {
     "name": "stdout",
     "output_type": "stream",
     "text": [
      "train-data length: 4320\n",
      "eval-data length: 1440\n",
      "test-data length: 3000\n"
     ]
    }
   ],
   "source": [
    "for (set, df) in [(\"train\" , all_training), (\"eval\", all_evaluation), (\"test\", all_testing)]\n",
    "    print(set, \"-data length: \", nrow(df), \"\\n\")\n",
    "end"
   ]
  },
  {
   "cell_type": "code",
   "execution_count": 436,
   "metadata": {},
   "outputs": [],
   "source": [
    "#LU\n",
    "#Input_data_summer = filter(:summer => !=(0), Input_df);\n",
    "#Input_data_winter = filter(:winter => !=(0), Input_df);"
   ]
  },
  {
   "cell_type": "code",
   "execution_count": 437,
   "metadata": {},
   "outputs": [],
   "source": [
    "#LU summer_training, summer_evaluation, summer_testing = train_eval_test_split(Input_data_summer);\n",
    "#LU winter_training, winter_evaluation, winter_testing = train_eval_test_split(Input_data_winter);\n",
    "#LU all_training, all_evaluation, all_testing = train_eval_test_split(Input_df);\n",
    "#LU both_training, both_evaluation, both_testing = train_eval_test_split(vcat(Input_data_winter, Input_data_summer));"
   ]
  },
  {
   "cell_type": "code",
   "execution_count": 438,
   "metadata": {},
   "outputs": [
    {
     "data": {
      "text/plain": [
       "\"data/Charger99_all_eval_fix.csv\""
      ]
     },
     "metadata": {},
     "output_type": "display_data"
    }
   ],
   "source": [
    "#LU\n",
    "#=CSV.write(\"data/$(ID)_both_train_fix.csv\", both_training);\n",
    "CSV.write(\"data/$(ID)_both_test_fix.csv\", both_testing);\n",
    "CSV.write(\"data/$(ID)_both_eval_fix.csv\", both_evaluation);=#\n",
    "\n",
    "CSV.write(\"data/$(ID)_all_train_fix.csv\", all_training);\n",
    "CSV.write(\"data/$(ID)_all_test_fix.csv\", all_testing);\n",
    "CSV.write(\"data/$(ID)_all_eval_fix.csv\", all_evaluation);\n",
    "\n",
    "#LU\n",
    "#=CSV.write(\"data/$(ID)_summer_train_fix.csv\", summer_training);\n",
    "CSV.write(\"data/$(ID)_summer_test_fix.csv\", summer_testing);\n",
    "CSV.write(\"data/$(ID)_summer_eval_fix.csv\", summer_evaluation);\n",
    "CSV.write(\"data/$(ID)_winter_train_fix.csv\", winter_training);\n",
    "CSV.write(\"data/$(ID)_winter_test_fix.csv\", winter_testing);\n",
    "CSV.write(\"data/$(ID)_winter_eval_fix.csv\", winter_evaluation);\n",
    "=#"
   ]
  },
  {
   "cell_type": "markdown",
   "metadata": {},
   "source": [
    "**Adding my own analysis**"
   ]
  },
  {
   "cell_type": "code",
   "execution_count": 439,
   "metadata": {},
   "outputs": [
    {
     "name": "stdout",
     "output_type": "stream",
     "text": [
      "Grid purchase cost of Charger99 in the data: -179.92617851282057. This is the sonnen benchmark."
     ]
    }
   ],
   "source": [
    "\n",
    "\n",
    "sell_discount = 0.3\n",
    "\n",
    "p_buy = 0.3\n",
    "\n",
    "p_sell = p_buy * sell_discount\n",
    "\n",
    "grid = all_evaluation[!, \"electkwh\"] + coalesce.(all_evaluation[!, \"chargekwh\"], 0) - all_evaluation[!, \"PV_generation\"]\n",
    "\n",
    "# Multiply positive values with p_buy and negative values with p_sell\n",
    "grid_cost = [x > 0 ? x * p_buy : x * p_sell for x in grid]\n",
    "\n",
    "# Calculate the sum of all these multiplications and store it in cost\n",
    "cost = sum(grid_cost)\n",
    "\n",
    "print(\"Grid purchase cost of $ID in the data: $cost. This is the sonnen benchmark.\")\n",
    "\n"
   ]
  },
  {
   "cell_type": "code",
   "execution_count": 440,
   "metadata": {},
   "outputs": [
    {
     "data": {
      "text/html": [
       "<table class=\"data-frame\"><thead><tr><th></th><th>electkwh</th><th>PV_generation</th><th>chargekwh</th><th>h_countdown</th><th>soc_ev</th><th>month</th><th>day</th><th>hour</th><th>nday</th><th>d_res</th><th>hour_cos</th><th>hour_sin</th><th>month_cos</th><th>month_sin</th><th>spring</th><th>summer</th><th>autumn</th><th>winter</th><th>season</th><th>p_buy</th><th>p_sell</th></tr><tr><th></th><th>Float64</th><th>Float64</th><th>Float64?</th><th>Float64</th><th>Float64?</th><th>Int64</th><th>Int64</th><th>Int64</th><th>Int64</th><th>Float64</th><th>Float64</th><th>Float64</th><th>Float64</th><th>Float64</th><th>Bool</th><th>Bool</th><th>Bool</th><th>Bool</th><th>Int64</th><th>Float64</th><th>Float64</th></tr></thead><tbody><p>1,440 rows × 21 columns</p><tr><th>1</th><td>0.259</td><td>0.0</td><td><em>missing</em></td><td>-1.0</td><td>1.0</td><td>11</td><td>12</td><td>0</td><td>265</td><td>0.259</td><td>1.0</td><td>0.0</td><td>0.866025</td><td>-0.5</td><td>0</td><td>0</td><td>1</td><td>0</td><td>3</td><td>0.3</td><td>0.1</td></tr><tr><th>2</th><td>1.859</td><td>0.0</td><td><em>missing</em></td><td>-1.0</td><td>1.0</td><td>11</td><td>12</td><td>1</td><td>266</td><td>1.859</td><td>0.962917</td><td>0.269797</td><td>0.866025</td><td>-0.5</td><td>0</td><td>0</td><td>1</td><td>0</td><td>3</td><td>0.3</td><td>0.1</td></tr><tr><th>3</th><td>1.933</td><td>0.0</td><td><em>missing</em></td><td>-1.0</td><td>1.0</td><td>11</td><td>12</td><td>2</td><td>267</td><td>1.933</td><td>0.854419</td><td>0.519584</td><td>0.866025</td><td>-0.5</td><td>0</td><td>0</td><td>1</td><td>0</td><td>3</td><td>0.3</td><td>0.1</td></tr><tr><th>4</th><td>0.235</td><td>0.0</td><td><em>missing</em></td><td>-1.0</td><td>1.0</td><td>11</td><td>12</td><td>3</td><td>268</td><td>0.235</td><td>0.682553</td><td>0.730836</td><td>0.866025</td><td>-0.5</td><td>0</td><td>0</td><td>1</td><td>0</td><td>3</td><td>0.3</td><td>0.1</td></tr><tr><th>5</th><td>0.709</td><td>0.0</td><td><em>missing</em></td><td>-1.0</td><td>1.0</td><td>11</td><td>12</td><td>4</td><td>269</td><td>0.709</td><td>0.460065</td><td>0.887885</td><td>0.866025</td><td>-0.5</td><td>0</td><td>0</td><td>1</td><td>0</td><td>3</td><td>0.3</td><td>0.1</td></tr><tr><th>6</th><td>2.545</td><td>0.0</td><td><em>missing</em></td><td>-1.0</td><td>1.0</td><td>11</td><td>12</td><td>5</td><td>270</td><td>2.545</td><td>0.203456</td><td>0.979084</td><td>0.866025</td><td>-0.5</td><td>0</td><td>0</td><td>1</td><td>0</td><td>3</td><td>0.3</td><td>0.1</td></tr><tr><th>7</th><td>2.421</td><td>0.024</td><td><em>missing</em></td><td>-1.0</td><td>1.0</td><td>11</td><td>12</td><td>6</td><td>271</td><td>2.397</td><td>-0.0682424</td><td>0.997669</td><td>0.866025</td><td>-0.5</td><td>0</td><td>0</td><td>1</td><td>0</td><td>3</td><td>0.3</td><td>0.1</td></tr><tr><th>8</th><td>1.964</td><td>1.467</td><td><em>missing</em></td><td>-1.0</td><td>1.0</td><td>11</td><td>12</td><td>7</td><td>272</td><td>0.497</td><td>-0.33488</td><td>0.942261</td><td>0.866025</td><td>-0.5</td><td>0</td><td>0</td><td>1</td><td>0</td><td>3</td><td>0.3</td><td>0.1</td></tr><tr><th>9</th><td>0.26</td><td>3.756</td><td><em>missing</em></td><td>-1.0</td><td>1.0</td><td>11</td><td>12</td><td>8</td><td>273</td><td>-3.496</td><td>-0.57668</td><td>0.81697</td><td>0.866025</td><td>-0.5</td><td>0</td><td>0</td><td>1</td><td>0</td><td>3</td><td>0.3</td><td>0.1</td></tr><tr><th>10</th><td>1.278</td><td>6.642</td><td><em>missing</em></td><td>-1.0</td><td>1.0</td><td>11</td><td>12</td><td>9</td><td>274</td><td>-5.364</td><td>-0.775711</td><td>0.631088</td><td>0.866025</td><td>-0.5</td><td>0</td><td>0</td><td>1</td><td>0</td><td>3</td><td>0.3</td><td>0.1</td></tr><tr><th>11</th><td>2.337</td><td>10.521</td><td><em>missing</em></td><td>-1.0</td><td>1.0</td><td>11</td><td>12</td><td>10</td><td>275</td><td>-8.184</td><td>-0.917211</td><td>0.398401</td><td>0.866025</td><td>-0.5</td><td>0</td><td>0</td><td>1</td><td>0</td><td>3</td><td>0.3</td><td>0.1</td></tr><tr><th>12</th><td>0.263</td><td>12.3</td><td><em>missing</em></td><td>-1.0</td><td>1.0</td><td>11</td><td>12</td><td>11</td><td>276</td><td>-12.037</td><td>-0.990686</td><td>0.136167</td><td>0.866025</td><td>-0.5</td><td>0</td><td>0</td><td>1</td><td>0</td><td>3</td><td>0.3</td><td>0.1</td></tr><tr><th>13</th><td>0.271</td><td>8.388</td><td><em>missing</em></td><td>-1.0</td><td>1.0</td><td>11</td><td>12</td><td>12</td><td>277</td><td>-8.117</td><td>-0.990686</td><td>-0.136167</td><td>0.866025</td><td>-0.5</td><td>0</td><td>0</td><td>1</td><td>0</td><td>3</td><td>0.3</td><td>0.1</td></tr><tr><th>14</th><td>0.284</td><td>7.281</td><td><em>missing</em></td><td>-1.0</td><td>1.0</td><td>11</td><td>12</td><td>13</td><td>278</td><td>-6.997</td><td>-0.917211</td><td>-0.398401</td><td>0.866025</td><td>-0.5</td><td>0</td><td>0</td><td>1</td><td>0</td><td>3</td><td>0.3</td><td>0.1</td></tr><tr><th>15</th><td>0.43</td><td>6.975</td><td><em>missing</em></td><td>-1.0</td><td>1.0</td><td>11</td><td>12</td><td>14</td><td>279</td><td>-6.545</td><td>-0.775711</td><td>-0.631088</td><td>0.866025</td><td>-0.5</td><td>0</td><td>0</td><td>1</td><td>0</td><td>3</td><td>0.3</td><td>0.1</td></tr><tr><th>16</th><td>0.565</td><td>0.588</td><td><em>missing</em></td><td>-1.0</td><td>1.0</td><td>11</td><td>12</td><td>15</td><td>280</td><td>-0.023</td><td>-0.57668</td><td>-0.81697</td><td>0.866025</td><td>-0.5</td><td>0</td><td>0</td><td>1</td><td>0</td><td>3</td><td>0.3</td><td>0.1</td></tr><tr><th>17</th><td>2.27</td><td>0.0</td><td><em>missing</em></td><td>-1.0</td><td>1.0</td><td>11</td><td>12</td><td>16</td><td>281</td><td>2.27</td><td>-0.33488</td><td>-0.942261</td><td>0.866025</td><td>-0.5</td><td>0</td><td>0</td><td>1</td><td>0</td><td>3</td><td>0.3</td><td>0.1</td></tr><tr><th>18</th><td>2.858</td><td>0.0</td><td><em>missing</em></td><td>-1.0</td><td>1.0</td><td>11</td><td>12</td><td>17</td><td>282</td><td>2.858</td><td>-0.0682424</td><td>-0.997669</td><td>0.866025</td><td>-0.5</td><td>0</td><td>0</td><td>1</td><td>0</td><td>3</td><td>0.3</td><td>0.1</td></tr><tr><th>19</th><td>1.34</td><td>0.0</td><td><em>missing</em></td><td>-1.0</td><td>1.0</td><td>11</td><td>12</td><td>18</td><td>283</td><td>1.34</td><td>0.203456</td><td>-0.979084</td><td>0.866025</td><td>-0.5</td><td>0</td><td>0</td><td>1</td><td>0</td><td>3</td><td>0.3</td><td>0.1</td></tr><tr><th>20</th><td>0.634</td><td>0.0</td><td><em>missing</em></td><td>-1.0</td><td>1.0</td><td>11</td><td>12</td><td>19</td><td>284</td><td>0.634</td><td>0.460065</td><td>-0.887885</td><td>0.866025</td><td>-0.5</td><td>0</td><td>0</td><td>1</td><td>0</td><td>3</td><td>0.3</td><td>0.1</td></tr><tr><th>21</th><td>1.98</td><td>0.0</td><td><em>missing</em></td><td>-1.0</td><td>1.0</td><td>11</td><td>12</td><td>20</td><td>285</td><td>1.98</td><td>0.682553</td><td>-0.730836</td><td>0.866025</td><td>-0.5</td><td>0</td><td>0</td><td>1</td><td>0</td><td>3</td><td>0.3</td><td>0.1</td></tr><tr><th>22</th><td>1.368</td><td>0.0</td><td><em>missing</em></td><td>-1.0</td><td>1.0</td><td>11</td><td>12</td><td>21</td><td>286</td><td>1.368</td><td>0.854419</td><td>-0.519584</td><td>0.866025</td><td>-0.5</td><td>0</td><td>0</td><td>1</td><td>0</td><td>3</td><td>0.3</td><td>0.1</td></tr><tr><th>23</th><td>0.255</td><td>0.0</td><td><em>missing</em></td><td>-1.0</td><td>1.0</td><td>11</td><td>12</td><td>22</td><td>287</td><td>0.255</td><td>0.962917</td><td>-0.269797</td><td>0.866025</td><td>-0.5</td><td>0</td><td>0</td><td>1</td><td>0</td><td>3</td><td>0.3</td><td>0.1</td></tr><tr><th>24</th><td>0.678</td><td>0.0</td><td><em>missing</em></td><td>-1.0</td><td>1.0</td><td>11</td><td>12</td><td>23</td><td>288</td><td>0.678</td><td>1.0</td><td>-2.44929e-16</td><td>0.866025</td><td>-0.5</td><td>0</td><td>0</td><td>1</td><td>0</td><td>3</td><td>0.3</td><td>0.1</td></tr><tr><th>&vellip;</th><td>&vellip;</td><td>&vellip;</td><td>&vellip;</td><td>&vellip;</td><td>&vellip;</td><td>&vellip;</td><td>&vellip;</td><td>&vellip;</td><td>&vellip;</td><td>&vellip;</td><td>&vellip;</td><td>&vellip;</td><td>&vellip;</td><td>&vellip;</td><td>&vellip;</td><td>&vellip;</td><td>&vellip;</td><td>&vellip;</td><td>&vellip;</td><td>&vellip;</td><td>&vellip;</td></tr></tbody></table>"
      ],
      "text/latex": [
       "\\begin{tabular}{r|ccccccccccccccccccccc}\n",
       "\t& electkwh & PV\\_generation & chargekwh & h\\_countdown & soc\\_ev & month & day & hour & nday & d\\_res & hour\\_cos & hour\\_sin & month\\_cos & month\\_sin & spring & summer & autumn & winter & season & p\\_buy & p\\_sell\\\\\n",
       "\t\\hline\n",
       "\t& Float64 & Float64 & Float64? & Float64 & Float64? & Int64 & Int64 & Int64 & Int64 & Float64 & Float64 & Float64 & Float64 & Float64 & Bool & Bool & Bool & Bool & Int64 & Float64 & Float64\\\\\n",
       "\t\\hline\n",
       "\t1 & 0.259 & 0.0 & \\emph{missing} & -1.0 & 1.0 & 11 & 12 & 0 & 265 & 0.259 & 1.0 & 0.0 & 0.866025 & -0.5 & 0 & 0 & 1 & 0 & 3 & 0.3 & 0.1 \\\\\n",
       "\t2 & 1.859 & 0.0 & \\emph{missing} & -1.0 & 1.0 & 11 & 12 & 1 & 266 & 1.859 & 0.962917 & 0.269797 & 0.866025 & -0.5 & 0 & 0 & 1 & 0 & 3 & 0.3 & 0.1 \\\\\n",
       "\t3 & 1.933 & 0.0 & \\emph{missing} & -1.0 & 1.0 & 11 & 12 & 2 & 267 & 1.933 & 0.854419 & 0.519584 & 0.866025 & -0.5 & 0 & 0 & 1 & 0 & 3 & 0.3 & 0.1 \\\\\n",
       "\t4 & 0.235 & 0.0 & \\emph{missing} & -1.0 & 1.0 & 11 & 12 & 3 & 268 & 0.235 & 0.682553 & 0.730836 & 0.866025 & -0.5 & 0 & 0 & 1 & 0 & 3 & 0.3 & 0.1 \\\\\n",
       "\t5 & 0.709 & 0.0 & \\emph{missing} & -1.0 & 1.0 & 11 & 12 & 4 & 269 & 0.709 & 0.460065 & 0.887885 & 0.866025 & -0.5 & 0 & 0 & 1 & 0 & 3 & 0.3 & 0.1 \\\\\n",
       "\t6 & 2.545 & 0.0 & \\emph{missing} & -1.0 & 1.0 & 11 & 12 & 5 & 270 & 2.545 & 0.203456 & 0.979084 & 0.866025 & -0.5 & 0 & 0 & 1 & 0 & 3 & 0.3 & 0.1 \\\\\n",
       "\t7 & 2.421 & 0.024 & \\emph{missing} & -1.0 & 1.0 & 11 & 12 & 6 & 271 & 2.397 & -0.0682424 & 0.997669 & 0.866025 & -0.5 & 0 & 0 & 1 & 0 & 3 & 0.3 & 0.1 \\\\\n",
       "\t8 & 1.964 & 1.467 & \\emph{missing} & -1.0 & 1.0 & 11 & 12 & 7 & 272 & 0.497 & -0.33488 & 0.942261 & 0.866025 & -0.5 & 0 & 0 & 1 & 0 & 3 & 0.3 & 0.1 \\\\\n",
       "\t9 & 0.26 & 3.756 & \\emph{missing} & -1.0 & 1.0 & 11 & 12 & 8 & 273 & -3.496 & -0.57668 & 0.81697 & 0.866025 & -0.5 & 0 & 0 & 1 & 0 & 3 & 0.3 & 0.1 \\\\\n",
       "\t10 & 1.278 & 6.642 & \\emph{missing} & -1.0 & 1.0 & 11 & 12 & 9 & 274 & -5.364 & -0.775711 & 0.631088 & 0.866025 & -0.5 & 0 & 0 & 1 & 0 & 3 & 0.3 & 0.1 \\\\\n",
       "\t11 & 2.337 & 10.521 & \\emph{missing} & -1.0 & 1.0 & 11 & 12 & 10 & 275 & -8.184 & -0.917211 & 0.398401 & 0.866025 & -0.5 & 0 & 0 & 1 & 0 & 3 & 0.3 & 0.1 \\\\\n",
       "\t12 & 0.263 & 12.3 & \\emph{missing} & -1.0 & 1.0 & 11 & 12 & 11 & 276 & -12.037 & -0.990686 & 0.136167 & 0.866025 & -0.5 & 0 & 0 & 1 & 0 & 3 & 0.3 & 0.1 \\\\\n",
       "\t13 & 0.271 & 8.388 & \\emph{missing} & -1.0 & 1.0 & 11 & 12 & 12 & 277 & -8.117 & -0.990686 & -0.136167 & 0.866025 & -0.5 & 0 & 0 & 1 & 0 & 3 & 0.3 & 0.1 \\\\\n",
       "\t14 & 0.284 & 7.281 & \\emph{missing} & -1.0 & 1.0 & 11 & 12 & 13 & 278 & -6.997 & -0.917211 & -0.398401 & 0.866025 & -0.5 & 0 & 0 & 1 & 0 & 3 & 0.3 & 0.1 \\\\\n",
       "\t15 & 0.43 & 6.975 & \\emph{missing} & -1.0 & 1.0 & 11 & 12 & 14 & 279 & -6.545 & -0.775711 & -0.631088 & 0.866025 & -0.5 & 0 & 0 & 1 & 0 & 3 & 0.3 & 0.1 \\\\\n",
       "\t16 & 0.565 & 0.588 & \\emph{missing} & -1.0 & 1.0 & 11 & 12 & 15 & 280 & -0.023 & -0.57668 & -0.81697 & 0.866025 & -0.5 & 0 & 0 & 1 & 0 & 3 & 0.3 & 0.1 \\\\\n",
       "\t17 & 2.27 & 0.0 & \\emph{missing} & -1.0 & 1.0 & 11 & 12 & 16 & 281 & 2.27 & -0.33488 & -0.942261 & 0.866025 & -0.5 & 0 & 0 & 1 & 0 & 3 & 0.3 & 0.1 \\\\\n",
       "\t18 & 2.858 & 0.0 & \\emph{missing} & -1.0 & 1.0 & 11 & 12 & 17 & 282 & 2.858 & -0.0682424 & -0.997669 & 0.866025 & -0.5 & 0 & 0 & 1 & 0 & 3 & 0.3 & 0.1 \\\\\n",
       "\t19 & 1.34 & 0.0 & \\emph{missing} & -1.0 & 1.0 & 11 & 12 & 18 & 283 & 1.34 & 0.203456 & -0.979084 & 0.866025 & -0.5 & 0 & 0 & 1 & 0 & 3 & 0.3 & 0.1 \\\\\n",
       "\t20 & 0.634 & 0.0 & \\emph{missing} & -1.0 & 1.0 & 11 & 12 & 19 & 284 & 0.634 & 0.460065 & -0.887885 & 0.866025 & -0.5 & 0 & 0 & 1 & 0 & 3 & 0.3 & 0.1 \\\\\n",
       "\t21 & 1.98 & 0.0 & \\emph{missing} & -1.0 & 1.0 & 11 & 12 & 20 & 285 & 1.98 & 0.682553 & -0.730836 & 0.866025 & -0.5 & 0 & 0 & 1 & 0 & 3 & 0.3 & 0.1 \\\\\n",
       "\t22 & 1.368 & 0.0 & \\emph{missing} & -1.0 & 1.0 & 11 & 12 & 21 & 286 & 1.368 & 0.854419 & -0.519584 & 0.866025 & -0.5 & 0 & 0 & 1 & 0 & 3 & 0.3 & 0.1 \\\\\n",
       "\t23 & 0.255 & 0.0 & \\emph{missing} & -1.0 & 1.0 & 11 & 12 & 22 & 287 & 0.255 & 0.962917 & -0.269797 & 0.866025 & -0.5 & 0 & 0 & 1 & 0 & 3 & 0.3 & 0.1 \\\\\n",
       "\t24 & 0.678 & 0.0 & \\emph{missing} & -1.0 & 1.0 & 11 & 12 & 23 & 288 & 0.678 & 1.0 & -2.44929e-16 & 0.866025 & -0.5 & 0 & 0 & 1 & 0 & 3 & 0.3 & 0.1 \\\\\n",
       "\t$\\dots$ & $\\dots$ & $\\dots$ & $\\dots$ & $\\dots$ & $\\dots$ & $\\dots$ & $\\dots$ & $\\dots$ & $\\dots$ & $\\dots$ & $\\dots$ & $\\dots$ & $\\dots$ & $\\dots$ & $\\dots$ & $\\dots$ & $\\dots$ & $\\dots$ & $\\dots$ & $\\dots$ & $\\dots$ \\\\\n",
       "\\end{tabular}\n"
      ],
      "text/plain": [
       "\u001b[1m1440×21 DataFrame\u001b[0m\n",
       "\u001b[1m  Row \u001b[0m│\u001b[1m electkwh \u001b[0m\u001b[1m PV_generation \u001b[0m\u001b[1m chargekwh       \u001b[0m\u001b[1m h_countdown \u001b[0m\u001b[1m soc_ev   \u001b[0m\u001b[1m month \u001b[0m\u001b[1m day   \u001b[0m\u001b[1m hour  \u001b[0m\u001b[1m nday  \u001b[0m\u001b[1m d_res     \u001b[0m\u001b[1m hour_cos   \u001b[0m\u001b[1m hour_sin     \u001b[0m\u001b[1m month_cos \u001b[0m\u001b[1m month_sin \u001b[0m\u001b[1m spring \u001b[0m\u001b[1m summer \u001b[0m\u001b[1m autumn \u001b[0m\u001b[1m winter \u001b[0m\u001b[1m season \u001b[0m\u001b[1m p_buy   \u001b[0m\u001b[1m p_sell  \u001b[0m\n",
       "\u001b[1m      \u001b[0m│\u001b[90m Float64  \u001b[0m\u001b[90m Float64       \u001b[0m\u001b[90m Float64?        \u001b[0m\u001b[90m Float64     \u001b[0m\u001b[90m Float64? \u001b[0m\u001b[90m Int64 \u001b[0m\u001b[90m Int64 \u001b[0m\u001b[90m Int64 \u001b[0m\u001b[90m Int64 \u001b[0m\u001b[90m Float64   \u001b[0m\u001b[90m Float64    \u001b[0m\u001b[90m Float64      \u001b[0m\u001b[90m Float64   \u001b[0m\u001b[90m Float64   \u001b[0m\u001b[90m Bool   \u001b[0m\u001b[90m Bool   \u001b[0m\u001b[90m Bool   \u001b[0m\u001b[90m Bool   \u001b[0m\u001b[90m Int64  \u001b[0m\u001b[90m Float64 \u001b[0m\u001b[90m Float64 \u001b[0m\n",
       "──────┼──────────────────────────────────────────────────────────────────────────────────────────────────────────────────────────────────────────────────────────────────────────────────────────────────────────────────\n",
       "    1 │    0.259          0.0   \u001b[90m missing         \u001b[0m        -1.0  1.0          11     12      0    265   0.259      1.0         0.0           0.866025  -0.5        false   false    true   false       3      0.3      0.1\n",
       "    2 │    1.859          0.0   \u001b[90m missing         \u001b[0m        -1.0  1.0          11     12      1    266   1.859      0.962917    0.269797      0.866025  -0.5        false   false    true   false       3      0.3      0.1\n",
       "    3 │    1.933          0.0   \u001b[90m missing         \u001b[0m        -1.0  1.0          11     12      2    267   1.933      0.854419    0.519584      0.866025  -0.5        false   false    true   false       3      0.3      0.1\n",
       "    4 │    0.235          0.0   \u001b[90m missing         \u001b[0m        -1.0  1.0          11     12      3    268   0.235      0.682553    0.730836      0.866025  -0.5        false   false    true   false       3      0.3      0.1\n",
       "    5 │    0.709          0.0   \u001b[90m missing         \u001b[0m        -1.0  1.0          11     12      4    269   0.709      0.460065    0.887885      0.866025  -0.5        false   false    true   false       3      0.3      0.1\n",
       "    6 │    2.545          0.0   \u001b[90m missing         \u001b[0m        -1.0  1.0          11     12      5    270   2.545      0.203456    0.979084      0.866025  -0.5        false   false    true   false       3      0.3      0.1\n",
       "    7 │    2.421          0.024 \u001b[90m missing         \u001b[0m        -1.0  1.0          11     12      6    271   2.397     -0.0682424   0.997669      0.866025  -0.5        false   false    true   false       3      0.3      0.1\n",
       "    8 │    1.964          1.467 \u001b[90m missing         \u001b[0m        -1.0  1.0          11     12      7    272   0.497     -0.33488     0.942261      0.866025  -0.5        false   false    true   false       3      0.3      0.1\n",
       "  ⋮   │    ⋮            ⋮               ⋮              ⋮          ⋮        ⋮      ⋮      ⋮      ⋮        ⋮          ⋮            ⋮            ⋮          ⋮        ⋮       ⋮       ⋮       ⋮       ⋮        ⋮        ⋮\n",
       " 1434 │    2.795          0.0          3.88324           14.0  0.452003     10     12     18   8298   6.67824    0.203456   -0.979084      0.5       -0.866025   false   false    true   false       3      0.3      0.1\n",
       " 1435 │    1.254          0.0          3.85982           13.0  0.560426     10     12     19   8299   5.11382    0.460065   -0.887885      0.5       -0.866025   false   false    true   false       3      0.3      0.1\n",
       " 1436 │    0.744          0.0          3.84183           12.0  0.668195     10     12     20   8300   4.58583    0.682553   -0.730836      0.5       -0.866025   false   false    true   false       3      0.3      0.1\n",
       " 1437 │    2.033          0.0          3.86319           11.0  0.775462     10     12     21   8301   5.89619    0.854419   -0.519584      0.5       -0.866025   false   false    true   false       3      0.3      0.1\n",
       " 1438 │    1.248          0.0          2.9556            10.0  0.883326     10     12     22   8302   4.2036     0.962917   -0.269797      0.5       -0.866025   false   false    true   false       3      0.3      0.1\n",
       " 1439 │    0.257          0.0          0.0607179          9.0  0.965849     10     12     23   8303   0.317718   1.0        -2.44929e-16   0.5       -0.866025   false   false    true   false       3      0.3      0.1\n",
       " 1440 │    1.348          0.0          0.0                8.0  0.967544     10     13      0   8304   1.348      1.0         0.0           0.5       -0.866025   false   false    true   false       3      0.3      0.1\n",
       "\u001b[36m                                                                                                                                                                                                        1425 rows omitted\u001b[0m"
      ]
     },
     "metadata": {},
     "output_type": "display_data"
    }
   ],
   "source": [
    "all_evaluation"
   ]
  },
  {
   "cell_type": "code",
   "execution_count": 441,
   "metadata": {},
   "outputs": [],
   "source": []
  }
 ],
 "metadata": {
  "@webio": {
   "lastCommId": null,
   "lastKernelId": null
  },
  "kernelspec": {
   "display_name": "Julia 1.6.1",
   "language": "julia",
   "name": "julia-1.6"
  },
  "language_info": {
   "file_extension": ".jl",
   "mimetype": "application/julia",
   "name": "julia",
   "version": "1.6.1"
  }
 },
 "nbformat": 4,
 "nbformat_minor": 2
}
