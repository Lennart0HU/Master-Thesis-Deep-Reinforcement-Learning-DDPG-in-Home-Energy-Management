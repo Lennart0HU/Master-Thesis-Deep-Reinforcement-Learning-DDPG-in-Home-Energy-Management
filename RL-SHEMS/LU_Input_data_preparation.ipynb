{
 "cells": [
  {
   "cell_type": "code",
   "execution_count": 379,
   "metadata": {},
   "outputs": [
    {
     "data": {
      "text/plain": [
       "1000"
      ]
     },
     "metadata": {},
     "output_type": "display_data"
    }
   ],
   "source": [
    "using CSV, DataFrames, Dates, TimeZones\n",
    "\n",
    "ENV[\"COLUMNS\"] = 1000"
   ]
  },
  {
   "cell_type": "code",
   "execution_count": 380,
   "metadata": {},
   "outputs": [
    {
     "data": {
      "text/plain": [
       "\"Charger09\""
      ]
     },
     "metadata": {},
     "output_type": "display_data"
    }
   ],
   "source": [
    "ID = \"Charger09\""
   ]
  },
  {
   "cell_type": "code",
   "execution_count": 381,
   "metadata": {},
   "outputs": [
    {
     "data": {
      "text/plain": [
       "35040-element Vector{ZonedDateTime}:\n",
       " 2020-11-01T00:00:00+01:00\n",
       " 2020-11-01T00:15:00+01:00\n",
       " 2020-11-01T00:30:00+01:00\n",
       " 2020-11-01T00:45:00+01:00\n",
       " 2020-11-01T01:00:00+01:00\n",
       " 2020-11-01T01:15:00+01:00\n",
       " 2020-11-01T01:30:00+01:00\n",
       " 2020-11-01T01:45:00+01:00\n",
       " 2020-11-01T02:00:00+01:00\n",
       " 2020-11-01T02:15:00+01:00\n",
       " ⋮\n",
       " 2021-10-31T21:45:00+01:00\n",
       " 2021-10-31T22:00:00+01:00\n",
       " 2021-10-31T22:15:00+01:00\n",
       " 2021-10-31T22:30:00+01:00\n",
       " 2021-10-31T22:45:00+01:00\n",
       " 2021-10-31T23:00:00+01:00\n",
       " 2021-10-31T23:15:00+01:00\n",
       " 2021-10-31T23:30:00+01:00\n",
       " 2021-10-31T23:45:00+01:00"
      ]
     },
     "metadata": {},
     "output_type": "display_data"
    }
   ],
   "source": [
    "# Read the CSV file from the specified path\n",
    "df = CSV.read(\"data/charger_battery_data_$ID.csv\", DataFrame)\n",
    "\n",
    "# Filter the data\n",
    "df = df[:, [:timestamp, :e_consumption, :e_production, :e_charger, :h_countdown, :soc_ev]]\n",
    "\n",
    "df.e_consumption = df.e_consumption / 1000\n",
    "df.e_production = df.e_production / 1000\n",
    "df.e_charger = df.e_charger / 1000\n",
    "\n",
    "# Parse the timestamps with timezone offset\n",
    "timestamps = ZonedDateTime.(df.timestamp, DateFormat(\"yyyy-mm-dd HH:MM:SSzzzz\"))\n",
    "\n",
    "# Shift the timestamps one hour ahead\n",
    "timestamps = timestamps .- Hour(1)\n",
    "\n",
    "# Replace the timestamp column in the DataFrame with the shifted timestamps\n",
    "df.timestamp = timestamps"
   ]
  },
  {
   "cell_type": "code",
   "execution_count": 382,
   "metadata": {},
   "outputs": [
    {
     "data": {
      "text/html": [
       "<table class=\"data-frame\"><thead><tr><th></th><th>timestamp</th><th>e_consumption</th><th>e_production</th><th>e_charger</th><th>h_countdown</th><th>soc_ev</th></tr><tr><th></th><th>ZonedDa…</th><th>Float64</th><th>Float64</th><th>Float64?</th><th>Float64</th><th>Float64</th></tr></thead><tbody><p>35,040 rows × 6 columns</p><tr><th>1</th><td>2020-11-01T00:00:00+01:00</td><td>0.023</td><td>0.0</td><td><em>missing</em></td><td>-1.0</td><td>1.0</td></tr><tr><th>2</th><td>2020-11-01T00:15:00+01:00</td><td>0.02</td><td>0.0</td><td><em>missing</em></td><td>-1.0</td><td>1.0</td></tr><tr><th>3</th><td>2020-11-01T00:30:00+01:00</td><td>0.028</td><td>0.0</td><td><em>missing</em></td><td>-1.0</td><td>1.0</td></tr><tr><th>4</th><td>2020-11-01T00:45:00+01:00</td><td>0.035</td><td>0.0</td><td><em>missing</em></td><td>-1.0</td><td>1.0</td></tr><tr><th>5</th><td>2020-11-01T01:00:00+01:00</td><td>0.033</td><td>0.0</td><td><em>missing</em></td><td>-1.0</td><td>1.0</td></tr><tr><th>6</th><td>2020-11-01T01:15:00+01:00</td><td>0.028</td><td>0.0</td><td><em>missing</em></td><td>-1.0</td><td>1.0</td></tr><tr><th>7</th><td>2020-11-01T01:30:00+01:00</td><td>0.03</td><td>0.0</td><td><em>missing</em></td><td>-1.0</td><td>1.0</td></tr><tr><th>8</th><td>2020-11-01T01:45:00+01:00</td><td>0.034</td><td>0.0</td><td><em>missing</em></td><td>-1.0</td><td>1.0</td></tr><tr><th>9</th><td>2020-11-01T02:00:00+01:00</td><td>0.033</td><td>0.0</td><td><em>missing</em></td><td>-1.0</td><td>1.0</td></tr><tr><th>10</th><td>2020-11-01T02:15:00+01:00</td><td>0.029</td><td>0.0</td><td><em>missing</em></td><td>-1.0</td><td>1.0</td></tr><tr><th>11</th><td>2020-11-01T02:30:00+01:00</td><td>0.029</td><td>0.0</td><td><em>missing</em></td><td>-1.0</td><td>1.0</td></tr><tr><th>12</th><td>2020-11-01T02:45:00+01:00</td><td>0.035</td><td>0.0</td><td><em>missing</em></td><td>-1.0</td><td>1.0</td></tr><tr><th>13</th><td>2020-11-01T03:00:00+01:00</td><td>0.034</td><td>0.0</td><td><em>missing</em></td><td>-1.0</td><td>1.0</td></tr><tr><th>14</th><td>2020-11-01T03:15:00+01:00</td><td>0.03</td><td>0.0</td><td><em>missing</em></td><td>-1.0</td><td>1.0</td></tr><tr><th>15</th><td>2020-11-01T03:30:00+01:00</td><td>0.029</td><td>0.0</td><td><em>missing</em></td><td>-1.0</td><td>1.0</td></tr><tr><th>16</th><td>2020-11-01T03:45:00+01:00</td><td>0.036</td><td>0.0</td><td><em>missing</em></td><td>-1.0</td><td>1.0</td></tr><tr><th>17</th><td>2020-11-01T04:00:00+01:00</td><td>0.034</td><td>0.0</td><td><em>missing</em></td><td>-1.0</td><td>1.0</td></tr><tr><th>18</th><td>2020-11-01T04:15:00+01:00</td><td>0.03</td><td>0.0</td><td><em>missing</em></td><td>-1.0</td><td>1.0</td></tr><tr><th>19</th><td>2020-11-01T04:30:00+01:00</td><td>0.029</td><td>0.0</td><td><em>missing</em></td><td>-1.0</td><td>1.0</td></tr><tr><th>20</th><td>2020-11-01T04:45:00+01:00</td><td>0.036</td><td>0.0</td><td><em>missing</em></td><td>-1.0</td><td>1.0</td></tr><tr><th>21</th><td>2020-11-01T05:00:00+01:00</td><td>0.034</td><td>0.0</td><td><em>missing</em></td><td>-1.0</td><td>1.0</td></tr><tr><th>22</th><td>2020-11-01T05:15:00+01:00</td><td>0.031</td><td>0.0</td><td><em>missing</em></td><td>-1.0</td><td>1.0</td></tr><tr><th>23</th><td>2020-11-01T05:30:00+01:00</td><td>0.029</td><td>0.0</td><td><em>missing</em></td><td>-1.0</td><td>1.0</td></tr><tr><th>24</th><td>2020-11-01T05:45:00+01:00</td><td>0.036</td><td>0.0</td><td><em>missing</em></td><td>-1.0</td><td>1.0</td></tr><tr><th>&vellip;</th><td>&vellip;</td><td>&vellip;</td><td>&vellip;</td><td>&vellip;</td><td>&vellip;</td><td>&vellip;</td></tr></tbody></table>"
      ],
      "text/latex": [
       "\\begin{tabular}{r|cccccc}\n",
       "\t& timestamp & e\\_consumption & e\\_production & e\\_charger & h\\_countdown & soc\\_ev\\\\\n",
       "\t\\hline\n",
       "\t& ZonedDa… & Float64 & Float64 & Float64? & Float64 & Float64\\\\\n",
       "\t\\hline\n",
       "\t1 & 2020-11-01T00:00:00+01:00 & 0.023 & 0.0 & \\emph{missing} & -1.0 & 1.0 \\\\\n",
       "\t2 & 2020-11-01T00:15:00+01:00 & 0.02 & 0.0 & \\emph{missing} & -1.0 & 1.0 \\\\\n",
       "\t3 & 2020-11-01T00:30:00+01:00 & 0.028 & 0.0 & \\emph{missing} & -1.0 & 1.0 \\\\\n",
       "\t4 & 2020-11-01T00:45:00+01:00 & 0.035 & 0.0 & \\emph{missing} & -1.0 & 1.0 \\\\\n",
       "\t5 & 2020-11-01T01:00:00+01:00 & 0.033 & 0.0 & \\emph{missing} & -1.0 & 1.0 \\\\\n",
       "\t6 & 2020-11-01T01:15:00+01:00 & 0.028 & 0.0 & \\emph{missing} & -1.0 & 1.0 \\\\\n",
       "\t7 & 2020-11-01T01:30:00+01:00 & 0.03 & 0.0 & \\emph{missing} & -1.0 & 1.0 \\\\\n",
       "\t8 & 2020-11-01T01:45:00+01:00 & 0.034 & 0.0 & \\emph{missing} & -1.0 & 1.0 \\\\\n",
       "\t9 & 2020-11-01T02:00:00+01:00 & 0.033 & 0.0 & \\emph{missing} & -1.0 & 1.0 \\\\\n",
       "\t10 & 2020-11-01T02:15:00+01:00 & 0.029 & 0.0 & \\emph{missing} & -1.0 & 1.0 \\\\\n",
       "\t11 & 2020-11-01T02:30:00+01:00 & 0.029 & 0.0 & \\emph{missing} & -1.0 & 1.0 \\\\\n",
       "\t12 & 2020-11-01T02:45:00+01:00 & 0.035 & 0.0 & \\emph{missing} & -1.0 & 1.0 \\\\\n",
       "\t13 & 2020-11-01T03:00:00+01:00 & 0.034 & 0.0 & \\emph{missing} & -1.0 & 1.0 \\\\\n",
       "\t14 & 2020-11-01T03:15:00+01:00 & 0.03 & 0.0 & \\emph{missing} & -1.0 & 1.0 \\\\\n",
       "\t15 & 2020-11-01T03:30:00+01:00 & 0.029 & 0.0 & \\emph{missing} & -1.0 & 1.0 \\\\\n",
       "\t16 & 2020-11-01T03:45:00+01:00 & 0.036 & 0.0 & \\emph{missing} & -1.0 & 1.0 \\\\\n",
       "\t17 & 2020-11-01T04:00:00+01:00 & 0.034 & 0.0 & \\emph{missing} & -1.0 & 1.0 \\\\\n",
       "\t18 & 2020-11-01T04:15:00+01:00 & 0.03 & 0.0 & \\emph{missing} & -1.0 & 1.0 \\\\\n",
       "\t19 & 2020-11-01T04:30:00+01:00 & 0.029 & 0.0 & \\emph{missing} & -1.0 & 1.0 \\\\\n",
       "\t20 & 2020-11-01T04:45:00+01:00 & 0.036 & 0.0 & \\emph{missing} & -1.0 & 1.0 \\\\\n",
       "\t21 & 2020-11-01T05:00:00+01:00 & 0.034 & 0.0 & \\emph{missing} & -1.0 & 1.0 \\\\\n",
       "\t22 & 2020-11-01T05:15:00+01:00 & 0.031 & 0.0 & \\emph{missing} & -1.0 & 1.0 \\\\\n",
       "\t23 & 2020-11-01T05:30:00+01:00 & 0.029 & 0.0 & \\emph{missing} & -1.0 & 1.0 \\\\\n",
       "\t24 & 2020-11-01T05:45:00+01:00 & 0.036 & 0.0 & \\emph{missing} & -1.0 & 1.0 \\\\\n",
       "\t$\\dots$ & $\\dots$ & $\\dots$ & $\\dots$ & $\\dots$ & $\\dots$ & $\\dots$ \\\\\n",
       "\\end{tabular}\n"
      ],
      "text/plain": [
       "\u001b[1m35040×6 DataFrame\u001b[0m\n",
       "\u001b[1m   Row \u001b[0m│\u001b[1m timestamp                 \u001b[0m\u001b[1m e_consumption \u001b[0m\u001b[1m e_production \u001b[0m\u001b[1m e_charger \u001b[0m\u001b[1m h_countdown \u001b[0m\u001b[1m soc_ev  \u001b[0m\n",
       "\u001b[1m       \u001b[0m│\u001b[90m ZonedDat…                 \u001b[0m\u001b[90m Float64       \u001b[0m\u001b[90m Float64      \u001b[0m\u001b[90m Float64?  \u001b[0m\u001b[90m Float64     \u001b[0m\u001b[90m Float64 \u001b[0m\n",
       "───────┼─────────────────────────────────────────────────────────────────────────────────────────\n",
       "     1 │ 2020-11-01T00:00:00+01:00          0.023           0.0 \u001b[90m   missing \u001b[0m        -1.0      1.0\n",
       "     2 │ 2020-11-01T00:15:00+01:00          0.02            0.0 \u001b[90m   missing \u001b[0m        -1.0      1.0\n",
       "     3 │ 2020-11-01T00:30:00+01:00          0.028           0.0 \u001b[90m   missing \u001b[0m        -1.0      1.0\n",
       "     4 │ 2020-11-01T00:45:00+01:00          0.035           0.0 \u001b[90m   missing \u001b[0m        -1.0      1.0\n",
       "     5 │ 2020-11-01T01:00:00+01:00          0.033           0.0 \u001b[90m   missing \u001b[0m        -1.0      1.0\n",
       "     6 │ 2020-11-01T01:15:00+01:00          0.028           0.0 \u001b[90m   missing \u001b[0m        -1.0      1.0\n",
       "     7 │ 2020-11-01T01:30:00+01:00          0.03            0.0 \u001b[90m   missing \u001b[0m        -1.0      1.0\n",
       "     8 │ 2020-11-01T01:45:00+01:00          0.034           0.0 \u001b[90m   missing \u001b[0m        -1.0      1.0\n",
       "   ⋮   │             ⋮                    ⋮             ⋮            ⋮           ⋮          ⋮\n",
       " 35034 │ 2021-10-31T22:15:00+01:00          0.023           0.0 \u001b[90m   missing \u001b[0m        -1.0      1.0\n",
       " 35035 │ 2021-10-31T22:30:00+01:00          0.024           0.0 \u001b[90m   missing \u001b[0m        -1.0      1.0\n",
       " 35036 │ 2021-10-31T22:45:00+01:00          0.02            0.0 \u001b[90m   missing \u001b[0m        -1.0      1.0\n",
       " 35037 │ 2021-10-31T23:00:00+01:00          0.017           0.0 \u001b[90m   missing \u001b[0m        -1.0      1.0\n",
       " 35038 │ 2021-10-31T23:15:00+01:00          0.022           0.0 \u001b[90m   missing \u001b[0m        -1.0      1.0\n",
       " 35039 │ 2021-10-31T23:30:00+01:00          0.021           0.0 \u001b[90m   missing \u001b[0m        -1.0      1.0\n",
       " 35040 │ 2021-10-31T23:45:00+01:00          0.026           0.0 \u001b[90m   missing \u001b[0m        -1.0      1.0\n",
       "\u001b[36m                                                                               35025 rows omitted\u001b[0m"
      ]
     },
     "metadata": {},
     "output_type": "display_data"
    }
   ],
   "source": [
    "df"
   ]
  },
  {
   "cell_type": "code",
   "execution_count": 383,
   "metadata": {},
   "outputs": [
    {
     "data": {
      "text/plain": [
       "(\"Column: \", \"timestamp\", \", Type: \", ZonedDateTime)"
      ]
     },
     "metadata": {},
     "output_type": "display_data"
    },
    {
     "data": {
      "text/plain": [
       "(\"Column: \", \"e_consumption\", \", Type: \", Float64)"
      ]
     },
     "metadata": {},
     "output_type": "display_data"
    },
    {
     "data": {
      "text/plain": [
       "(\"Column: \", \"e_production\", \", Type: \", Float64)"
      ]
     },
     "metadata": {},
     "output_type": "display_data"
    },
    {
     "data": {
      "text/plain": [
       "(\"Column: \", \"e_charger\", \", Type: \", Union{Missing, Float64})"
      ]
     },
     "metadata": {},
     "output_type": "display_data"
    },
    {
     "data": {
      "text/plain": [
       "(\"Column: \", \"h_countdown\", \", Type: \", Float64)"
      ]
     },
     "metadata": {},
     "output_type": "display_data"
    },
    {
     "data": {
      "text/plain": [
       "(\"Column: \", \"soc_ev\", \", Type: \", Float64)"
      ]
     },
     "metadata": {},
     "output_type": "display_data"
    },
    {
     "data": {
      "text/plain": [
       "(\"Column: \", \"timestamp\", \", Missing Values: \", 0)"
      ]
     },
     "metadata": {},
     "output_type": "display_data"
    },
    {
     "data": {
      "text/plain": [
       "(\"Column: \", \"e_consumption\", \", Missing Values: \", 0)"
      ]
     },
     "metadata": {},
     "output_type": "display_data"
    },
    {
     "data": {
      "text/plain": [
       "(\"Column: \", \"e_production\", \", Missing Values: \", 0)"
      ]
     },
     "metadata": {},
     "output_type": "display_data"
    },
    {
     "data": {
      "text/plain": [
       "(\"Column: \", \"e_charger\", \", Missing Values: \", 27674)"
      ]
     },
     "metadata": {},
     "output_type": "display_data"
    },
    {
     "data": {
      "text/plain": [
       "(\"Column: \", \"h_countdown\", \", Missing Values: \", 0)"
      ]
     },
     "metadata": {},
     "output_type": "display_data"
    },
    {
     "data": {
      "text/plain": [
       "(\"Column: \", \"soc_ev\", \", Missing Values: \", 0)"
      ]
     },
     "metadata": {},
     "output_type": "display_data"
    }
   ],
   "source": [
    "for col_name in names(df)\n",
    "    display((\"Column: \", col_name, \", Type: \", eltype(df[!, col_name])))\n",
    "end\n",
    "\n",
    "for col_name in names(df)\n",
    "    missing_count = sum(ismissing.(df[!, col_name]))\n",
    "    display((\"Column: \", col_name, \", Missing Values: \", missing_count))\n",
    "end"
   ]
  },
  {
   "cell_type": "code",
   "execution_count": 384,
   "metadata": {},
   "outputs": [],
   "source": [
    "#describe(df)"
   ]
  },
  {
   "cell_type": "markdown",
   "metadata": {},
   "source": [
    "Resamplign from 15min intervalls to 1h intervalls. In the future, I'd like to try to work with 15min intervals."
   ]
  },
  {
   "cell_type": "code",
   "execution_count": 385,
   "metadata": {},
   "outputs": [
    {
     "data": {
      "text/plain": [
       "resample (generic function with 1 method)"
      ]
     },
     "metadata": {},
     "output_type": "display_data"
    }
   ],
   "source": [
    "function resample(df, time_column, interval)\n",
    "    # Round the timestamps to the nearest hour\n",
    "    df[!, time_column] = Dates.floor.(df[!, time_column], interval)\n",
    "    \n",
    "    # Define the columns to be summed\n",
    "    sum_columns = [\"e_consumption\", \"e_production\", \"e_charger\"]\n",
    "    \n",
    "    # Group by the rounded timestamps and sum the other columns\n",
    "    new_df = combine(groupby(df, time_column), sum_columns .=> (x -> sum(coalesce.(x, 0))) .=> sum_columns)\n",
    "    \n",
    "    # Handle \"h_countdown\" and \"soc_ev\" separately\n",
    "    min_values = combine(groupby(df, time_column), \"h_countdown\" => minimum => \"h_countdown\")\n",
    "    new_df = leftjoin(new_df, min_values, on=time_column)\n",
    "    \n",
    "    min_values = combine(groupby(df, time_column), \"soc_ev\" => minimum => \"soc_ev\")\n",
    "    new_df = leftjoin(new_df, min_values, on=time_column)\n",
    "\n",
    "    #Increase every value of h_countdown to the next higher integer\n",
    "    new_df.h_countdown = ceil.(new_df.h_countdown)\n",
    "\n",
    "    # Change last countdown value from -1\n",
    "    for i in 2:(nrow(new_df) )# - 1)\n",
    "        if new_df[i, :h_countdown] == -1 && new_df[(i-1), :h_countdown] == 1\n",
    "            new_df[i, :h_countdown] = 0\n",
    "        end\n",
    "    end\n",
    "\n",
    "    return new_df\n",
    "end\n"
   ]
  },
  {
   "cell_type": "code",
   "execution_count": 386,
   "metadata": {},
   "outputs": [
    {
     "data": {
      "text/html": [
       "<table class=\"data-frame\"><thead><tr><th></th><th>timestamp</th><th>e_consumption</th><th>e_production</th><th>e_charger</th><th>h_countdown</th><th>soc_ev</th></tr><tr><th></th><th>ZonedDa…</th><th>Float64</th><th>Float64</th><th>Float64</th><th>Float64</th><th>Float64?</th></tr></thead><tbody><p>8,760 rows × 6 columns</p><tr><th>1</th><td>2020-11-01T00:00:00+01:00</td><td>0.106</td><td>0.0</td><td>0.0</td><td>-1.0</td><td>1.0</td></tr><tr><th>2</th><td>2020-11-01T01:00:00+01:00</td><td>0.125</td><td>0.0</td><td>0.0</td><td>-1.0</td><td>1.0</td></tr><tr><th>3</th><td>2020-11-01T02:00:00+01:00</td><td>0.126</td><td>0.0</td><td>0.0</td><td>-1.0</td><td>1.0</td></tr><tr><th>4</th><td>2020-11-01T03:00:00+01:00</td><td>0.129</td><td>0.0</td><td>0.0</td><td>-1.0</td><td>1.0</td></tr><tr><th>5</th><td>2020-11-01T04:00:00+01:00</td><td>0.129</td><td>0.0</td><td>0.0</td><td>-1.0</td><td>1.0</td></tr><tr><th>6</th><td>2020-11-01T05:00:00+01:00</td><td>0.13</td><td>0.0</td><td>0.0</td><td>-1.0</td><td>1.0</td></tr><tr><th>7</th><td>2020-11-01T06:00:00+01:00</td><td>0.145</td><td>0.031</td><td>0.0</td><td>-1.0</td><td>1.0</td></tr><tr><th>8</th><td>2020-11-01T07:00:00+01:00</td><td>0.579</td><td>0.226</td><td>0.0</td><td>-1.0</td><td>1.0</td></tr><tr><th>9</th><td>2020-11-01T08:00:00+01:00</td><td>1.497</td><td>0.545</td><td>0.0</td><td>-1.0</td><td>1.0</td></tr><tr><th>10</th><td>2020-11-01T09:00:00+01:00</td><td>1.432</td><td>0.685</td><td>0.0</td><td>-1.0</td><td>1.0</td></tr><tr><th>11</th><td>2020-11-01T10:00:00+01:00</td><td>4.132</td><td>0.622</td><td>0.0</td><td>-1.0</td><td>1.0</td></tr><tr><th>12</th><td>2020-11-01T11:00:00+01:00</td><td>1.489</td><td>0.539</td><td>0.0</td><td>-1.0</td><td>1.0</td></tr><tr><th>13</th><td>2020-11-01T12:00:00+01:00</td><td>1.19</td><td>0.602</td><td>0.0</td><td>-1.0</td><td>1.0</td></tr><tr><th>14</th><td>2020-11-01T13:00:00+01:00</td><td>1.971</td><td>0.406</td><td>0.0</td><td>-1.0</td><td>1.0</td></tr><tr><th>15</th><td>2020-11-01T14:00:00+01:00</td><td>0.774</td><td>0.234</td><td>0.0</td><td>-1.0</td><td>1.0</td></tr><tr><th>16</th><td>2020-11-01T15:00:00+01:00</td><td>0.675</td><td>0.043</td><td>0.0</td><td>-1.0</td><td>1.0</td></tr><tr><th>17</th><td>2020-11-01T16:00:00+01:00</td><td>0.646</td><td>0.0</td><td>0.0</td><td>-1.0</td><td>1.0</td></tr><tr><th>18</th><td>2020-11-01T17:00:00+01:00</td><td>1.104</td><td>0.0</td><td>0.0</td><td>-1.0</td><td>1.0</td></tr><tr><th>19</th><td>2020-11-01T18:00:00+01:00</td><td>0.274</td><td>0.0</td><td>0.0</td><td>-1.0</td><td>1.0</td></tr><tr><th>20</th><td>2020-11-01T19:00:00+01:00</td><td>0.288</td><td>0.0</td><td>0.0</td><td>-1.0</td><td>1.0</td></tr><tr><th>21</th><td>2020-11-01T20:00:00+01:00</td><td>0.363</td><td>0.0</td><td>0.0</td><td>-1.0</td><td>1.0</td></tr><tr><th>22</th><td>2020-11-01T21:00:00+01:00</td><td>0.161</td><td>0.0</td><td>0.0</td><td>-1.0</td><td>1.0</td></tr><tr><th>23</th><td>2020-11-01T22:00:00+01:00</td><td>0.083</td><td>0.0</td><td>0.0</td><td>-1.0</td><td>1.0</td></tr><tr><th>24</th><td>2020-11-01T23:00:00+01:00</td><td>0.08</td><td>0.0</td><td>0.0</td><td>-1.0</td><td>1.0</td></tr><tr><th>&vellip;</th><td>&vellip;</td><td>&vellip;</td><td>&vellip;</td><td>&vellip;</td><td>&vellip;</td><td>&vellip;</td></tr></tbody></table>"
      ],
      "text/latex": [
       "\\begin{tabular}{r|cccccc}\n",
       "\t& timestamp & e\\_consumption & e\\_production & e\\_charger & h\\_countdown & soc\\_ev\\\\\n",
       "\t\\hline\n",
       "\t& ZonedDa… & Float64 & Float64 & Float64 & Float64 & Float64?\\\\\n",
       "\t\\hline\n",
       "\t1 & 2020-11-01T00:00:00+01:00 & 0.106 & 0.0 & 0.0 & -1.0 & 1.0 \\\\\n",
       "\t2 & 2020-11-01T01:00:00+01:00 & 0.125 & 0.0 & 0.0 & -1.0 & 1.0 \\\\\n",
       "\t3 & 2020-11-01T02:00:00+01:00 & 0.126 & 0.0 & 0.0 & -1.0 & 1.0 \\\\\n",
       "\t4 & 2020-11-01T03:00:00+01:00 & 0.129 & 0.0 & 0.0 & -1.0 & 1.0 \\\\\n",
       "\t5 & 2020-11-01T04:00:00+01:00 & 0.129 & 0.0 & 0.0 & -1.0 & 1.0 \\\\\n",
       "\t6 & 2020-11-01T05:00:00+01:00 & 0.13 & 0.0 & 0.0 & -1.0 & 1.0 \\\\\n",
       "\t7 & 2020-11-01T06:00:00+01:00 & 0.145 & 0.031 & 0.0 & -1.0 & 1.0 \\\\\n",
       "\t8 & 2020-11-01T07:00:00+01:00 & 0.579 & 0.226 & 0.0 & -1.0 & 1.0 \\\\\n",
       "\t9 & 2020-11-01T08:00:00+01:00 & 1.497 & 0.545 & 0.0 & -1.0 & 1.0 \\\\\n",
       "\t10 & 2020-11-01T09:00:00+01:00 & 1.432 & 0.685 & 0.0 & -1.0 & 1.0 \\\\\n",
       "\t11 & 2020-11-01T10:00:00+01:00 & 4.132 & 0.622 & 0.0 & -1.0 & 1.0 \\\\\n",
       "\t12 & 2020-11-01T11:00:00+01:00 & 1.489 & 0.539 & 0.0 & -1.0 & 1.0 \\\\\n",
       "\t13 & 2020-11-01T12:00:00+01:00 & 1.19 & 0.602 & 0.0 & -1.0 & 1.0 \\\\\n",
       "\t14 & 2020-11-01T13:00:00+01:00 & 1.971 & 0.406 & 0.0 & -1.0 & 1.0 \\\\\n",
       "\t15 & 2020-11-01T14:00:00+01:00 & 0.774 & 0.234 & 0.0 & -1.0 & 1.0 \\\\\n",
       "\t16 & 2020-11-01T15:00:00+01:00 & 0.675 & 0.043 & 0.0 & -1.0 & 1.0 \\\\\n",
       "\t17 & 2020-11-01T16:00:00+01:00 & 0.646 & 0.0 & 0.0 & -1.0 & 1.0 \\\\\n",
       "\t18 & 2020-11-01T17:00:00+01:00 & 1.104 & 0.0 & 0.0 & -1.0 & 1.0 \\\\\n",
       "\t19 & 2020-11-01T18:00:00+01:00 & 0.274 & 0.0 & 0.0 & -1.0 & 1.0 \\\\\n",
       "\t20 & 2020-11-01T19:00:00+01:00 & 0.288 & 0.0 & 0.0 & -1.0 & 1.0 \\\\\n",
       "\t21 & 2020-11-01T20:00:00+01:00 & 0.363 & 0.0 & 0.0 & -1.0 & 1.0 \\\\\n",
       "\t22 & 2020-11-01T21:00:00+01:00 & 0.161 & 0.0 & 0.0 & -1.0 & 1.0 \\\\\n",
       "\t23 & 2020-11-01T22:00:00+01:00 & 0.083 & 0.0 & 0.0 & -1.0 & 1.0 \\\\\n",
       "\t24 & 2020-11-01T23:00:00+01:00 & 0.08 & 0.0 & 0.0 & -1.0 & 1.0 \\\\\n",
       "\t$\\dots$ & $\\dots$ & $\\dots$ & $\\dots$ & $\\dots$ & $\\dots$ & $\\dots$ \\\\\n",
       "\\end{tabular}\n"
      ],
      "text/plain": [
       "\u001b[1m8760×6 DataFrame\u001b[0m\n",
       "\u001b[1m  Row \u001b[0m│\u001b[1m timestamp                 \u001b[0m\u001b[1m e_consumption \u001b[0m\u001b[1m e_production \u001b[0m\u001b[1m e_charger \u001b[0m\u001b[1m h_countdown \u001b[0m\u001b[1m soc_ev   \u001b[0m\n",
       "\u001b[1m      \u001b[0m│\u001b[90m ZonedDat…                 \u001b[0m\u001b[90m Float64       \u001b[0m\u001b[90m Float64      \u001b[0m\u001b[90m Float64   \u001b[0m\u001b[90m Float64     \u001b[0m\u001b[90m Float64? \u001b[0m\n",
       "──────┼──────────────────────────────────────────────────────────────────────────────────────────\n",
       "    1 │ 2020-11-01T00:00:00+01:00          0.106         0.0          0.0         -1.0       1.0\n",
       "    2 │ 2020-11-01T01:00:00+01:00          0.125         0.0          0.0         -1.0       1.0\n",
       "    3 │ 2020-11-01T02:00:00+01:00          0.126         0.0          0.0         -1.0       1.0\n",
       "    4 │ 2020-11-01T03:00:00+01:00          0.129         0.0          0.0         -1.0       1.0\n",
       "    5 │ 2020-11-01T04:00:00+01:00          0.129         0.0          0.0         -1.0       1.0\n",
       "    6 │ 2020-11-01T05:00:00+01:00          0.13          0.0          0.0         -1.0       1.0\n",
       "    7 │ 2020-11-01T06:00:00+01:00          0.145         0.031        0.0         -1.0       1.0\n",
       "    8 │ 2020-11-01T07:00:00+01:00          0.579         0.226        0.0         -1.0       1.0\n",
       "  ⋮   │             ⋮                    ⋮             ⋮            ⋮           ⋮          ⋮\n",
       " 8754 │ 2021-10-31T17:00:00+01:00          0.467         0.0          0.0         -1.0       1.0\n",
       " 8755 │ 2021-10-31T18:00:00+01:00          0.468         0.0          0.0         -1.0       1.0\n",
       " 8756 │ 2021-10-31T19:00:00+01:00          0.326         0.0          0.0         -1.0       1.0\n",
       " 8757 │ 2021-10-31T20:00:00+01:00          0.083         0.0          0.0         -1.0       1.0\n",
       " 8758 │ 2021-10-31T21:00:00+01:00          0.084         0.0          0.0         -1.0       1.0\n",
       " 8759 │ 2021-10-31T22:00:00+01:00          0.086         0.0          0.0         -1.0       1.0\n",
       " 8760 │ 2021-10-31T23:00:00+01:00          0.086         0.0          0.0         -1.0       1.0\n",
       "\u001b[36m                                                                                8745 rows omitted\u001b[0m"
      ]
     },
     "metadata": {},
     "output_type": "display_data"
    }
   ],
   "source": [
    "# Resample the data to 1-hour intervals\n",
    "df_resampled = resample(df, :timestamp, Dates.Hour(1))"
   ]
  },
  {
   "cell_type": "code",
   "execution_count": 387,
   "metadata": {},
   "outputs": [
    {
     "data": {
      "text/plain": [
       "8760-element Vector{Union{Missing, Float64}}:\n",
       " 0.0\n",
       " 0.0\n",
       " 0.0\n",
       " 0.0\n",
       " 0.0\n",
       " 0.0\n",
       " 0.0\n",
       " 0.0\n",
       " 0.0\n",
       " 0.0\n",
       " ⋮\n",
       " 0.0\n",
       " 0.0\n",
       " 0.0\n",
       " 0.0\n",
       " 0.0\n",
       " 0.0\n",
       " 0.0\n",
       " 0.0\n",
       " 0.0"
      ]
     },
     "metadata": {},
     "output_type": "display_data"
    }
   ],
   "source": [
    "# Change the type of the chargekwh column to Union{Missing, Float64}\n",
    "df_resampled.e_charge = convert(Vector{Union{Missing, Float64}}, df_resampled.e_charger)\n"
   ]
  },
  {
   "cell_type": "code",
   "execution_count": 388,
   "metadata": {},
   "outputs": [
    {
     "data": {
      "text/html": [
       "<table class=\"data-frame\"><thead><tr><th></th><th>electkwh</th><th>PV_generation</th><th>chargekwh</th><th>h_countdown</th><th>soc_ev</th><th>month</th><th>day</th><th>hour</th></tr><tr><th></th><th>Float64</th><th>Float64</th><th>Float64</th><th>Float64</th><th>Float64?</th><th>Int64</th><th>Int64</th><th>Int64</th></tr></thead><tbody><p>8,760 rows × 8 columns</p><tr><th>1</th><td>0.106</td><td>0.0</td><td>0.0</td><td>-1.0</td><td>1.0</td><td>11</td><td>1</td><td>0</td></tr><tr><th>2</th><td>0.125</td><td>0.0</td><td>0.0</td><td>-1.0</td><td>1.0</td><td>11</td><td>1</td><td>1</td></tr><tr><th>3</th><td>0.126</td><td>0.0</td><td>0.0</td><td>-1.0</td><td>1.0</td><td>11</td><td>1</td><td>2</td></tr><tr><th>4</th><td>0.129</td><td>0.0</td><td>0.0</td><td>-1.0</td><td>1.0</td><td>11</td><td>1</td><td>3</td></tr><tr><th>5</th><td>0.129</td><td>0.0</td><td>0.0</td><td>-1.0</td><td>1.0</td><td>11</td><td>1</td><td>4</td></tr><tr><th>6</th><td>0.13</td><td>0.0</td><td>0.0</td><td>-1.0</td><td>1.0</td><td>11</td><td>1</td><td>5</td></tr><tr><th>7</th><td>0.145</td><td>0.031</td><td>0.0</td><td>-1.0</td><td>1.0</td><td>11</td><td>1</td><td>6</td></tr><tr><th>8</th><td>0.579</td><td>0.226</td><td>0.0</td><td>-1.0</td><td>1.0</td><td>11</td><td>1</td><td>7</td></tr><tr><th>9</th><td>1.497</td><td>0.545</td><td>0.0</td><td>-1.0</td><td>1.0</td><td>11</td><td>1</td><td>8</td></tr><tr><th>10</th><td>1.432</td><td>0.685</td><td>0.0</td><td>-1.0</td><td>1.0</td><td>11</td><td>1</td><td>9</td></tr><tr><th>11</th><td>4.132</td><td>0.622</td><td>0.0</td><td>-1.0</td><td>1.0</td><td>11</td><td>1</td><td>10</td></tr><tr><th>12</th><td>1.489</td><td>0.539</td><td>0.0</td><td>-1.0</td><td>1.0</td><td>11</td><td>1</td><td>11</td></tr><tr><th>13</th><td>1.19</td><td>0.602</td><td>0.0</td><td>-1.0</td><td>1.0</td><td>11</td><td>1</td><td>12</td></tr><tr><th>14</th><td>1.971</td><td>0.406</td><td>0.0</td><td>-1.0</td><td>1.0</td><td>11</td><td>1</td><td>13</td></tr><tr><th>15</th><td>0.774</td><td>0.234</td><td>0.0</td><td>-1.0</td><td>1.0</td><td>11</td><td>1</td><td>14</td></tr><tr><th>16</th><td>0.675</td><td>0.043</td><td>0.0</td><td>-1.0</td><td>1.0</td><td>11</td><td>1</td><td>15</td></tr><tr><th>17</th><td>0.646</td><td>0.0</td><td>0.0</td><td>-1.0</td><td>1.0</td><td>11</td><td>1</td><td>16</td></tr><tr><th>18</th><td>1.104</td><td>0.0</td><td>0.0</td><td>-1.0</td><td>1.0</td><td>11</td><td>1</td><td>17</td></tr><tr><th>19</th><td>0.274</td><td>0.0</td><td>0.0</td><td>-1.0</td><td>1.0</td><td>11</td><td>1</td><td>18</td></tr><tr><th>20</th><td>0.288</td><td>0.0</td><td>0.0</td><td>-1.0</td><td>1.0</td><td>11</td><td>1</td><td>19</td></tr><tr><th>21</th><td>0.363</td><td>0.0</td><td>0.0</td><td>-1.0</td><td>1.0</td><td>11</td><td>1</td><td>20</td></tr><tr><th>22</th><td>0.161</td><td>0.0</td><td>0.0</td><td>-1.0</td><td>1.0</td><td>11</td><td>1</td><td>21</td></tr><tr><th>23</th><td>0.083</td><td>0.0</td><td>0.0</td><td>-1.0</td><td>1.0</td><td>11</td><td>1</td><td>22</td></tr><tr><th>24</th><td>0.08</td><td>0.0</td><td>0.0</td><td>-1.0</td><td>1.0</td><td>11</td><td>1</td><td>23</td></tr><tr><th>&vellip;</th><td>&vellip;</td><td>&vellip;</td><td>&vellip;</td><td>&vellip;</td><td>&vellip;</td><td>&vellip;</td><td>&vellip;</td><td>&vellip;</td></tr></tbody></table>"
      ],
      "text/latex": [
       "\\begin{tabular}{r|cccccccc}\n",
       "\t& electkwh & PV\\_generation & chargekwh & h\\_countdown & soc\\_ev & month & day & hour\\\\\n",
       "\t\\hline\n",
       "\t& Float64 & Float64 & Float64 & Float64 & Float64? & Int64 & Int64 & Int64\\\\\n",
       "\t\\hline\n",
       "\t1 & 0.106 & 0.0 & 0.0 & -1.0 & 1.0 & 11 & 1 & 0 \\\\\n",
       "\t2 & 0.125 & 0.0 & 0.0 & -1.0 & 1.0 & 11 & 1 & 1 \\\\\n",
       "\t3 & 0.126 & 0.0 & 0.0 & -1.0 & 1.0 & 11 & 1 & 2 \\\\\n",
       "\t4 & 0.129 & 0.0 & 0.0 & -1.0 & 1.0 & 11 & 1 & 3 \\\\\n",
       "\t5 & 0.129 & 0.0 & 0.0 & -1.0 & 1.0 & 11 & 1 & 4 \\\\\n",
       "\t6 & 0.13 & 0.0 & 0.0 & -1.0 & 1.0 & 11 & 1 & 5 \\\\\n",
       "\t7 & 0.145 & 0.031 & 0.0 & -1.0 & 1.0 & 11 & 1 & 6 \\\\\n",
       "\t8 & 0.579 & 0.226 & 0.0 & -1.0 & 1.0 & 11 & 1 & 7 \\\\\n",
       "\t9 & 1.497 & 0.545 & 0.0 & -1.0 & 1.0 & 11 & 1 & 8 \\\\\n",
       "\t10 & 1.432 & 0.685 & 0.0 & -1.0 & 1.0 & 11 & 1 & 9 \\\\\n",
       "\t11 & 4.132 & 0.622 & 0.0 & -1.0 & 1.0 & 11 & 1 & 10 \\\\\n",
       "\t12 & 1.489 & 0.539 & 0.0 & -1.0 & 1.0 & 11 & 1 & 11 \\\\\n",
       "\t13 & 1.19 & 0.602 & 0.0 & -1.0 & 1.0 & 11 & 1 & 12 \\\\\n",
       "\t14 & 1.971 & 0.406 & 0.0 & -1.0 & 1.0 & 11 & 1 & 13 \\\\\n",
       "\t15 & 0.774 & 0.234 & 0.0 & -1.0 & 1.0 & 11 & 1 & 14 \\\\\n",
       "\t16 & 0.675 & 0.043 & 0.0 & -1.0 & 1.0 & 11 & 1 & 15 \\\\\n",
       "\t17 & 0.646 & 0.0 & 0.0 & -1.0 & 1.0 & 11 & 1 & 16 \\\\\n",
       "\t18 & 1.104 & 0.0 & 0.0 & -1.0 & 1.0 & 11 & 1 & 17 \\\\\n",
       "\t19 & 0.274 & 0.0 & 0.0 & -1.0 & 1.0 & 11 & 1 & 18 \\\\\n",
       "\t20 & 0.288 & 0.0 & 0.0 & -1.0 & 1.0 & 11 & 1 & 19 \\\\\n",
       "\t21 & 0.363 & 0.0 & 0.0 & -1.0 & 1.0 & 11 & 1 & 20 \\\\\n",
       "\t22 & 0.161 & 0.0 & 0.0 & -1.0 & 1.0 & 11 & 1 & 21 \\\\\n",
       "\t23 & 0.083 & 0.0 & 0.0 & -1.0 & 1.0 & 11 & 1 & 22 \\\\\n",
       "\t24 & 0.08 & 0.0 & 0.0 & -1.0 & 1.0 & 11 & 1 & 23 \\\\\n",
       "\t$\\dots$ & $\\dots$ & $\\dots$ & $\\dots$ & $\\dots$ & $\\dots$ & $\\dots$ & $\\dots$ & $\\dots$ \\\\\n",
       "\\end{tabular}\n"
      ],
      "text/plain": [
       "\u001b[1m8760×8 DataFrame\u001b[0m\n",
       "\u001b[1m  Row \u001b[0m│\u001b[1m electkwh \u001b[0m\u001b[1m PV_generation \u001b[0m\u001b[1m chargekwh \u001b[0m\u001b[1m h_countdown \u001b[0m\u001b[1m soc_ev   \u001b[0m\u001b[1m month \u001b[0m\u001b[1m day   \u001b[0m\u001b[1m hour  \u001b[0m\n",
       "\u001b[1m      \u001b[0m│\u001b[90m Float64  \u001b[0m\u001b[90m Float64       \u001b[0m\u001b[90m Float64   \u001b[0m\u001b[90m Float64     \u001b[0m\u001b[90m Float64? \u001b[0m\u001b[90m Int64 \u001b[0m\u001b[90m Int64 \u001b[0m\u001b[90m Int64 \u001b[0m\n",
       "──────┼────────────────────────────────────────────────────────────────────────────────\n",
       "    1 │    0.106          0.0          0.0         -1.0       1.0     11      1      0\n",
       "    2 │    0.125          0.0          0.0         -1.0       1.0     11      1      1\n",
       "    3 │    0.126          0.0          0.0         -1.0       1.0     11      1      2\n",
       "    4 │    0.129          0.0          0.0         -1.0       1.0     11      1      3\n",
       "    5 │    0.129          0.0          0.0         -1.0       1.0     11      1      4\n",
       "    6 │    0.13           0.0          0.0         -1.0       1.0     11      1      5\n",
       "    7 │    0.145          0.031        0.0         -1.0       1.0     11      1      6\n",
       "    8 │    0.579          0.226        0.0         -1.0       1.0     11      1      7\n",
       "  ⋮   │    ⋮            ⋮            ⋮           ⋮          ⋮        ⋮      ⋮      ⋮\n",
       " 8754 │    0.467          0.0          0.0         -1.0       1.0     10     31     17\n",
       " 8755 │    0.468          0.0          0.0         -1.0       1.0     10     31     18\n",
       " 8756 │    0.326          0.0          0.0         -1.0       1.0     10     31     19\n",
       " 8757 │    0.083          0.0          0.0         -1.0       1.0     10     31     20\n",
       " 8758 │    0.084          0.0          0.0         -1.0       1.0     10     31     21\n",
       " 8759 │    0.086          0.0          0.0         -1.0       1.0     10     31     22\n",
       " 8760 │    0.086          0.0          0.0         -1.0       1.0     10     31     23\n",
       "\u001b[36m                                                                      8745 rows omitted\u001b[0m"
      ]
     },
     "metadata": {},
     "output_type": "display_data"
    }
   ],
   "source": [
    "# Create a new DataFrame with the desired structure\n",
    "new_df = DataFrame(\n",
    "    electkwh = df_resampled.e_consumption,\n",
    "    PV_generation = df_resampled.e_production,\n",
    "    chargekwh = df_resampled.e_charger,\n",
    "    h_countdown = df_resampled.h_countdown,\n",
    "    soc_ev = df_resampled.soc_ev,\n",
    "    month = month.(DateTime.(df_resampled.timestamp)),\n",
    "    day = day.(DateTime.(df_resampled.timestamp)),\n",
    "    hour = hour.(DateTime.(df_resampled.timestamp))\n",
    ")"
   ]
  },
  {
   "cell_type": "code",
   "execution_count": 389,
   "metadata": {},
   "outputs": [
    {
     "data": {
      "text/plain": [
       "6980-element view(::Vector{Union{Missing, Float64}}, [1, 2, 3, 4, 5, 6, 7, 8, 9, 10  …  8751, 8752, 8753, 8754, 8755, 8756, 8757, 8758, 8759, 8760]) with eltype Union{Missing, Float64}:\n",
       " missing\n",
       " missing\n",
       " missing\n",
       " missing\n",
       " missing\n",
       " missing\n",
       " missing\n",
       " missing\n",
       " missing\n",
       " missing\n",
       " ⋮\n",
       " missing\n",
       " missing\n",
       " missing\n",
       " missing\n",
       " missing\n",
       " missing\n",
       " missing\n",
       " missing\n",
       " missing"
      ]
     },
     "metadata": {},
     "output_type": "display_data"
    }
   ],
   "source": [
    "\n",
    "# Change the type of the chargekwh column to Union{Missing, Float64}\n",
    "new_df.chargekwh = convert(Vector{Union{Missing, Float64}}, new_df.chargekwh)\n",
    "\n",
    "# In every row where h_countdown is -1, set chargekwh to 'missing'\n",
    "new_df[new_df.h_countdown .== -1, :chargekwh] .= missing"
   ]
  },
  {
   "cell_type": "code",
   "execution_count": 390,
   "metadata": {},
   "outputs": [
    {
     "data": {
      "text/plain": [
       "\"data/sonnenCharger09_datafile_all.csv\""
      ]
     },
     "metadata": {},
     "output_type": "display_data"
    }
   ],
   "source": [
    "# Write the new DataFrame to a CSV file in the specified path\n",
    "CSV.write(\"data/sonnen$(ID)_datafile_all.csv\", new_df)"
   ]
  },
  {
   "cell_type": "code",
   "execution_count": 391,
   "metadata": {},
   "outputs": [
    {
     "data": {
      "text/html": [
       "<table class=\"data-frame\"><thead><tr><th></th><th>electkwh</th><th>PV_generation</th><th>chargekwh</th><th>h_countdown</th><th>soc_ev</th><th>month</th><th>day</th><th>hour</th></tr><tr><th></th><th>Float64</th><th>Float64</th><th>Float64?</th><th>Float64</th><th>Float64?</th><th>Int64</th><th>Int64</th><th>Int64</th></tr></thead><tbody><p>8,760 rows × 8 columns</p><tr><th>1</th><td>0.106</td><td>0.0</td><td><em>missing</em></td><td>-1.0</td><td>1.0</td><td>11</td><td>1</td><td>0</td></tr><tr><th>2</th><td>0.125</td><td>0.0</td><td><em>missing</em></td><td>-1.0</td><td>1.0</td><td>11</td><td>1</td><td>1</td></tr><tr><th>3</th><td>0.126</td><td>0.0</td><td><em>missing</em></td><td>-1.0</td><td>1.0</td><td>11</td><td>1</td><td>2</td></tr><tr><th>4</th><td>0.129</td><td>0.0</td><td><em>missing</em></td><td>-1.0</td><td>1.0</td><td>11</td><td>1</td><td>3</td></tr><tr><th>5</th><td>0.129</td><td>0.0</td><td><em>missing</em></td><td>-1.0</td><td>1.0</td><td>11</td><td>1</td><td>4</td></tr><tr><th>6</th><td>0.13</td><td>0.0</td><td><em>missing</em></td><td>-1.0</td><td>1.0</td><td>11</td><td>1</td><td>5</td></tr><tr><th>7</th><td>0.145</td><td>0.031</td><td><em>missing</em></td><td>-1.0</td><td>1.0</td><td>11</td><td>1</td><td>6</td></tr><tr><th>8</th><td>0.579</td><td>0.226</td><td><em>missing</em></td><td>-1.0</td><td>1.0</td><td>11</td><td>1</td><td>7</td></tr><tr><th>9</th><td>1.497</td><td>0.545</td><td><em>missing</em></td><td>-1.0</td><td>1.0</td><td>11</td><td>1</td><td>8</td></tr><tr><th>10</th><td>1.432</td><td>0.685</td><td><em>missing</em></td><td>-1.0</td><td>1.0</td><td>11</td><td>1</td><td>9</td></tr><tr><th>11</th><td>4.132</td><td>0.622</td><td><em>missing</em></td><td>-1.0</td><td>1.0</td><td>11</td><td>1</td><td>10</td></tr><tr><th>12</th><td>1.489</td><td>0.539</td><td><em>missing</em></td><td>-1.0</td><td>1.0</td><td>11</td><td>1</td><td>11</td></tr><tr><th>13</th><td>1.19</td><td>0.602</td><td><em>missing</em></td><td>-1.0</td><td>1.0</td><td>11</td><td>1</td><td>12</td></tr><tr><th>14</th><td>1.971</td><td>0.406</td><td><em>missing</em></td><td>-1.0</td><td>1.0</td><td>11</td><td>1</td><td>13</td></tr><tr><th>15</th><td>0.774</td><td>0.234</td><td><em>missing</em></td><td>-1.0</td><td>1.0</td><td>11</td><td>1</td><td>14</td></tr><tr><th>16</th><td>0.675</td><td>0.043</td><td><em>missing</em></td><td>-1.0</td><td>1.0</td><td>11</td><td>1</td><td>15</td></tr><tr><th>17</th><td>0.646</td><td>0.0</td><td><em>missing</em></td><td>-1.0</td><td>1.0</td><td>11</td><td>1</td><td>16</td></tr><tr><th>18</th><td>1.104</td><td>0.0</td><td><em>missing</em></td><td>-1.0</td><td>1.0</td><td>11</td><td>1</td><td>17</td></tr><tr><th>19</th><td>0.274</td><td>0.0</td><td><em>missing</em></td><td>-1.0</td><td>1.0</td><td>11</td><td>1</td><td>18</td></tr><tr><th>20</th><td>0.288</td><td>0.0</td><td><em>missing</em></td><td>-1.0</td><td>1.0</td><td>11</td><td>1</td><td>19</td></tr><tr><th>21</th><td>0.363</td><td>0.0</td><td><em>missing</em></td><td>-1.0</td><td>1.0</td><td>11</td><td>1</td><td>20</td></tr><tr><th>22</th><td>0.161</td><td>0.0</td><td><em>missing</em></td><td>-1.0</td><td>1.0</td><td>11</td><td>1</td><td>21</td></tr><tr><th>23</th><td>0.083</td><td>0.0</td><td><em>missing</em></td><td>-1.0</td><td>1.0</td><td>11</td><td>1</td><td>22</td></tr><tr><th>24</th><td>0.08</td><td>0.0</td><td><em>missing</em></td><td>-1.0</td><td>1.0</td><td>11</td><td>1</td><td>23</td></tr><tr><th>&vellip;</th><td>&vellip;</td><td>&vellip;</td><td>&vellip;</td><td>&vellip;</td><td>&vellip;</td><td>&vellip;</td><td>&vellip;</td><td>&vellip;</td></tr></tbody></table>"
      ],
      "text/latex": [
       "\\begin{tabular}{r|cccccccc}\n",
       "\t& electkwh & PV\\_generation & chargekwh & h\\_countdown & soc\\_ev & month & day & hour\\\\\n",
       "\t\\hline\n",
       "\t& Float64 & Float64 & Float64? & Float64 & Float64? & Int64 & Int64 & Int64\\\\\n",
       "\t\\hline\n",
       "\t1 & 0.106 & 0.0 & \\emph{missing} & -1.0 & 1.0 & 11 & 1 & 0 \\\\\n",
       "\t2 & 0.125 & 0.0 & \\emph{missing} & -1.0 & 1.0 & 11 & 1 & 1 \\\\\n",
       "\t3 & 0.126 & 0.0 & \\emph{missing} & -1.0 & 1.0 & 11 & 1 & 2 \\\\\n",
       "\t4 & 0.129 & 0.0 & \\emph{missing} & -1.0 & 1.0 & 11 & 1 & 3 \\\\\n",
       "\t5 & 0.129 & 0.0 & \\emph{missing} & -1.0 & 1.0 & 11 & 1 & 4 \\\\\n",
       "\t6 & 0.13 & 0.0 & \\emph{missing} & -1.0 & 1.0 & 11 & 1 & 5 \\\\\n",
       "\t7 & 0.145 & 0.031 & \\emph{missing} & -1.0 & 1.0 & 11 & 1 & 6 \\\\\n",
       "\t8 & 0.579 & 0.226 & \\emph{missing} & -1.0 & 1.0 & 11 & 1 & 7 \\\\\n",
       "\t9 & 1.497 & 0.545 & \\emph{missing} & -1.0 & 1.0 & 11 & 1 & 8 \\\\\n",
       "\t10 & 1.432 & 0.685 & \\emph{missing} & -1.0 & 1.0 & 11 & 1 & 9 \\\\\n",
       "\t11 & 4.132 & 0.622 & \\emph{missing} & -1.0 & 1.0 & 11 & 1 & 10 \\\\\n",
       "\t12 & 1.489 & 0.539 & \\emph{missing} & -1.0 & 1.0 & 11 & 1 & 11 \\\\\n",
       "\t13 & 1.19 & 0.602 & \\emph{missing} & -1.0 & 1.0 & 11 & 1 & 12 \\\\\n",
       "\t14 & 1.971 & 0.406 & \\emph{missing} & -1.0 & 1.0 & 11 & 1 & 13 \\\\\n",
       "\t15 & 0.774 & 0.234 & \\emph{missing} & -1.0 & 1.0 & 11 & 1 & 14 \\\\\n",
       "\t16 & 0.675 & 0.043 & \\emph{missing} & -1.0 & 1.0 & 11 & 1 & 15 \\\\\n",
       "\t17 & 0.646 & 0.0 & \\emph{missing} & -1.0 & 1.0 & 11 & 1 & 16 \\\\\n",
       "\t18 & 1.104 & 0.0 & \\emph{missing} & -1.0 & 1.0 & 11 & 1 & 17 \\\\\n",
       "\t19 & 0.274 & 0.0 & \\emph{missing} & -1.0 & 1.0 & 11 & 1 & 18 \\\\\n",
       "\t20 & 0.288 & 0.0 & \\emph{missing} & -1.0 & 1.0 & 11 & 1 & 19 \\\\\n",
       "\t21 & 0.363 & 0.0 & \\emph{missing} & -1.0 & 1.0 & 11 & 1 & 20 \\\\\n",
       "\t22 & 0.161 & 0.0 & \\emph{missing} & -1.0 & 1.0 & 11 & 1 & 21 \\\\\n",
       "\t23 & 0.083 & 0.0 & \\emph{missing} & -1.0 & 1.0 & 11 & 1 & 22 \\\\\n",
       "\t24 & 0.08 & 0.0 & \\emph{missing} & -1.0 & 1.0 & 11 & 1 & 23 \\\\\n",
       "\t$\\dots$ & $\\dots$ & $\\dots$ & $\\dots$ & $\\dots$ & $\\dots$ & $\\dots$ & $\\dots$ & $\\dots$ \\\\\n",
       "\\end{tabular}\n"
      ],
      "text/plain": [
       "\u001b[1m8760×8 DataFrame\u001b[0m\n",
       "\u001b[1m  Row \u001b[0m│\u001b[1m electkwh \u001b[0m\u001b[1m PV_generation \u001b[0m\u001b[1m chargekwh \u001b[0m\u001b[1m h_countdown \u001b[0m\u001b[1m soc_ev   \u001b[0m\u001b[1m month \u001b[0m\u001b[1m day   \u001b[0m\u001b[1m hour  \u001b[0m\n",
       "\u001b[1m      \u001b[0m│\u001b[90m Float64  \u001b[0m\u001b[90m Float64       \u001b[0m\u001b[90m Float64?  \u001b[0m\u001b[90m Float64     \u001b[0m\u001b[90m Float64? \u001b[0m\u001b[90m Int64 \u001b[0m\u001b[90m Int64 \u001b[0m\u001b[90m Int64 \u001b[0m\n",
       "──────┼────────────────────────────────────────────────────────────────────────────────\n",
       "    1 │    0.106          0.0   \u001b[90m   missing \u001b[0m        -1.0       1.0     11      1      0\n",
       "    2 │    0.125          0.0   \u001b[90m   missing \u001b[0m        -1.0       1.0     11      1      1\n",
       "    3 │    0.126          0.0   \u001b[90m   missing \u001b[0m        -1.0       1.0     11      1      2\n",
       "    4 │    0.129          0.0   \u001b[90m   missing \u001b[0m        -1.0       1.0     11      1      3\n",
       "    5 │    0.129          0.0   \u001b[90m   missing \u001b[0m        -1.0       1.0     11      1      4\n",
       "    6 │    0.13           0.0   \u001b[90m   missing \u001b[0m        -1.0       1.0     11      1      5\n",
       "    7 │    0.145          0.031 \u001b[90m   missing \u001b[0m        -1.0       1.0     11      1      6\n",
       "    8 │    0.579          0.226 \u001b[90m   missing \u001b[0m        -1.0       1.0     11      1      7\n",
       "  ⋮   │    ⋮            ⋮            ⋮           ⋮          ⋮        ⋮      ⋮      ⋮\n",
       " 8754 │    0.467          0.0   \u001b[90m   missing \u001b[0m        -1.0       1.0     10     31     17\n",
       " 8755 │    0.468          0.0   \u001b[90m   missing \u001b[0m        -1.0       1.0     10     31     18\n",
       " 8756 │    0.326          0.0   \u001b[90m   missing \u001b[0m        -1.0       1.0     10     31     19\n",
       " 8757 │    0.083          0.0   \u001b[90m   missing \u001b[0m        -1.0       1.0     10     31     20\n",
       " 8758 │    0.084          0.0   \u001b[90m   missing \u001b[0m        -1.0       1.0     10     31     21\n",
       " 8759 │    0.086          0.0   \u001b[90m   missing \u001b[0m        -1.0       1.0     10     31     22\n",
       " 8760 │    0.086          0.0   \u001b[90m   missing \u001b[0m        -1.0       1.0     10     31     23\n",
       "\u001b[36m                                                                      8745 rows omitted\u001b[0m"
      ]
     },
     "metadata": {},
     "output_type": "display_data"
    }
   ],
   "source": [
    "#Input_df = CSV.read(\"data/sonnen$(ID)_datafile_all.csv\", DataFrame);\n",
    "\n",
    "Input_df = new_df"
   ]
  },
  {
   "cell_type": "code",
   "execution_count": 392,
   "metadata": {
    "scrolled": true
   },
   "outputs": [],
   "source": [
    "#describe(Input_df)"
   ]
  },
  {
   "cell_type": "code",
   "execution_count": 393,
   "metadata": {},
   "outputs": [
    {
     "data": {
      "text/plain": [
       "1:8760"
      ]
     },
     "metadata": {},
     "output_type": "display_data"
    }
   ],
   "source": [
    "# add new column with number of days\n",
    "Input_df[!, :nday] = 1:nrow(Input_df)"
   ]
  },
  {
   "cell_type": "code",
   "execution_count": 394,
   "metadata": {},
   "outputs": [
    {
     "data": {
      "text/plain": [
       "8760-element Vector{Float64}:\n",
       " 0.106\n",
       " 0.125\n",
       " 0.126\n",
       " 0.129\n",
       " 0.129\n",
       " 0.13\n",
       " 0.11400000000000002\n",
       " 0.3529999999999999\n",
       " 0.9519999999999998\n",
       " 0.7469999999999999\n",
       " ⋮\n",
       " 0.09599999999999997\n",
       " 0.986\n",
       " 0.46699999999999997\n",
       " 0.468\n",
       " 0.326\n",
       " 0.083\n",
       " 0.084\n",
       " 0.08600000000000001\n",
       " 0.086"
      ]
     },
     "metadata": {},
     "output_type": "display_data"
    }
   ],
   "source": [
    "# calculate residual demand\n",
    "Input_df[!, :d_res] = Input_df[!,:electkwh] + coalesce.(Input_df[!,:chargekwh], 0) - Input_df[!,:PV_generation]"
   ]
  },
  {
   "cell_type": "markdown",
   "metadata": {},
   "source": [
    "## Add periodical time representation using cos/sin"
   ]
  },
  {
   "cell_type": "code",
   "execution_count": 395,
   "metadata": {},
   "outputs": [],
   "source": [
    "# add columns with cos and sin values for periodical time values day + month\n",
    "Input_df[!, :hour_cos] = cos.(Input_df[!,:hour] ./ maximum(Input_df[!,:hour]) .* 2*pi);\n",
    "Input_df[!, :hour_sin] = sin.(Input_df[!,:hour] ./ maximum(Input_df[!,:hour]) .* 2*pi);\n",
    "\n",
    "Input_df[!, :month_cos] = cos.(Input_df[!,:month] ./ maximum(Input_df[!,:month]) .* 2*pi);\n",
    "Input_df[!, :month_sin] = sin.(Input_df[!,:month] ./ maximum(Input_df[!,:month]) .* 2*pi);\n",
    "\n",
    "#Input_df[!, :nday_cos] = cos.(Input_df[!,:nday] ./ maximum(Input_df[!,:nday]) .* 2*pi);\n",
    "#Input_df[!, :nday_sin] = sin.(Input_df[!,:nday] ./ maximum(Input_df[!,:nday]) .* 2*pi);"
   ]
  },
  {
   "cell_type": "markdown",
   "metadata": {},
   "source": [
    "## Add seasons"
   ]
  },
  {
   "cell_type": "code",
   "execution_count": 396,
   "metadata": {
    "scrolled": true
   },
   "outputs": [],
   "source": [
    "Input_df[!, :spring] = (Input_df[!,:month] .>= 3) .* (Input_df[!,:month] .<= 5);\n",
    "Input_df[!, :summer] = (Input_df[!,:month] .>= 6) .* (Input_df[!,:month] .<= 8);\n",
    "Input_df[!, :autumn] = (Input_df[!,:month] .>= 9) .* (Input_df[!,:month] .<= 11);\n",
    "Input_df[!, :winter] = convert.(Bool, (Input_df[!,:month] .>= 12) .+ (Input_df[!,:month] .<= 2));\n",
    "\n",
    "Input_df[!, :season] = ifelse.(Input_df[!,:spring] .== true, 1,\n",
    "                        ifelse.(Input_df[!,:summer] .== true, 2,\n",
    "                        ifelse.(Input_df[!,:autumn] .== true, 3, \n",
    "                        4)));"
   ]
  },
  {
   "cell_type": "code",
   "execution_count": 397,
   "metadata": {
    "scrolled": false
   },
   "outputs": [],
   "source": [
    "#describe(Input_df)"
   ]
  },
  {
   "cell_type": "markdown",
   "metadata": {},
   "source": [
    "## Add dynamic prices based on Ye et al. 2020"
   ]
  },
  {
   "cell_type": "code",
   "execution_count": 398,
   "metadata": {},
   "outputs": [],
   "source": [
    "#LU\n",
    "#=\n",
    "function set_dynamic_prices(Input_df)\n",
    "    map(eachrow(Input_df)) do r\n",
    "        if r.month >= 5 && r.month <= 10\n",
    "            if (r.hour >= 6 && r.hour <= 9) || (r.hour >= 16 && r.hour <= 17)\n",
    "                return 0.3f0\n",
    "            elseif (r.hour >= 10 && r.hour <= 15)\n",
    "                return 0.6f0\n",
    "            else\n",
    "                return 0.15f0\n",
    "            end\n",
    "        elseif r.month >= 11 || r.month <= 4\n",
    "            if (r.hour >= 6 && r.hour <= 9) || (r.hour >= 16 && r.hour <= 17)\n",
    "                return 0.6f0\n",
    "            elseif r.hour >= 10 && r.hour <= 15\n",
    "                return 0.3f0\n",
    "            else\n",
    "                return 0.15f0\n",
    "            end\n",
    "        end\n",
    "    end\n",
    "end      =#  "
   ]
  },
  {
   "cell_type": "code",
   "execution_count": 399,
   "metadata": {},
   "outputs": [],
   "source": [
    "#LU\n",
    "#=Input_df[!, \"p_buy\"] = set_dynamic_prices(Input_df);\n",
    "Input_df[!, \"p_sell\"] = 0.5 .* Input_df[!, \"p_buy\"];\n",
    "=#"
   ]
  },
  {
   "cell_type": "code",
   "execution_count": 400,
   "metadata": {
    "scrolled": true
   },
   "outputs": [],
   "source": [
    "#LU describe(Input_df)"
   ]
  },
  {
   "cell_type": "markdown",
   "metadata": {},
   "source": [
    "## Extract training, testing + evalution data set for summer, winter, both, all"
   ]
  },
  {
   "cell_type": "code",
   "execution_count": 401,
   "metadata": {
    "scrolled": true
   },
   "outputs": [],
   "source": [
    "#LU\n",
    "#=# filter summer\n",
    "Input_data_summer = filter(:summer => !=(0), Input_df)\n",
    "describe(Input_data_summer), size(Input_data_summer)\n",
    "=#"
   ]
  },
  {
   "cell_type": "code",
   "execution_count": 402,
   "metadata": {},
   "outputs": [
    {
     "data": {
      "text/plain": [
       "train_eval_test_split (generic function with 1 method)"
      ]
     },
     "metadata": {},
     "output_type": "display_data"
    }
   ],
   "source": [
    "function train_eval_test_split(Input_df)\n",
    "    train = filter(row -> row.day <= 15, Input_df)\n",
    "    eval = filter(row -> row.day > 15 && row.day <= 20, Input_df)\n",
    "    test = filter(row -> row.day > 20, Input_df)\n",
    "    return train, eval, test\n",
    "end"
   ]
  },
  {
   "cell_type": "code",
   "execution_count": 403,
   "metadata": {},
   "outputs": [],
   "source": [
    "#LU\n",
    "#=summer_training, summer_evaluation, summer_testing = train_eval_test_split(Input_data_summer)\n",
    "\n",
    "CSV.write(\"data/$(ID)_summer_train_TOU.csv\", summer_training);\n",
    "CSV.write(\"data/$(ID)_summer_eval_TOU.csv\", summer_evaluation);\n",
    "CSV.write(\"data/$(ID)_summer_test_TOU.csv\", summer_testing);\n",
    "=#"
   ]
  },
  {
   "cell_type": "code",
   "execution_count": 404,
   "metadata": {
    "scrolled": false
   },
   "outputs": [],
   "source": [
    "#LU\n",
    "#=# filter winter\n",
    "Input_data_winter = filter(:winter => !=(0), Input_df)\n",
    "describe(Input_data_winter), size(Input_data_winter)\n",
    "=#"
   ]
  },
  {
   "cell_type": "code",
   "execution_count": 405,
   "metadata": {},
   "outputs": [],
   "source": [
    "#LU\n",
    "#=winter_training, winter_evaluation, winter_testing = train_eval_test_split(Input_data_winter)\n",
    "\n",
    "# write data files\n",
    "CSV.write(\"data/$(ID)_winter_train_TOU.csv\", winter_training);\n",
    "CSV.write(\"data/$(ID)_winter_eval_TOU.csv\", winter_evaluation);\n",
    "CSV.write(\"data/$(ID)_winter_test_TOU.csv\", winter_testing);\n",
    "=#"
   ]
  },
  {
   "cell_type": "code",
   "execution_count": 406,
   "metadata": {},
   "outputs": [
    {
     "data": {
      "text/plain": [
       "(\u001b[1m4320×19 DataFrame\u001b[0m\n",
       "\u001b[1m  Row \u001b[0m│\u001b[1m electkwh \u001b[0m\u001b[1m PV_generation \u001b[0m\u001b[1m chargekwh \u001b[0m\u001b[1m h_countdown \u001b[0m\u001b[1m soc_ev   \u001b[0m\u001b[1m month \u001b[0m\u001b[1m day   \u001b[0m\u001b[1m hour  \u001b[0m\u001b[1m nday  \u001b[0m\u001b[1m d_res   \u001b[0m\u001b[1m hour_cos   \u001b[0m\u001b[1m hour_sin     \u001b[0m\u001b[1m month_cos \u001b[0m\u001b[1m month_sin \u001b[0m\u001b[1m spring \u001b[0m\u001b[1m summer \u001b[0m\u001b[1m autumn \u001b[0m\u001b[1m winter \u001b[0m\u001b[1m season \u001b[0m\n",
       "\u001b[1m      \u001b[0m│\u001b[90m Float64  \u001b[0m\u001b[90m Float64       \u001b[0m\u001b[90m Float64?  \u001b[0m\u001b[90m Float64     \u001b[0m\u001b[90m Float64? \u001b[0m\u001b[90m Int64 \u001b[0m\u001b[90m Int64 \u001b[0m\u001b[90m Int64 \u001b[0m\u001b[90m Int64 \u001b[0m\u001b[90m Float64 \u001b[0m\u001b[90m Float64    \u001b[0m\u001b[90m Float64      \u001b[0m\u001b[90m Float64   \u001b[0m\u001b[90m Float64   \u001b[0m\u001b[90m Bool   \u001b[0m\u001b[90m Bool   \u001b[0m\u001b[90m Bool   \u001b[0m\u001b[90m Bool   \u001b[0m\u001b[90m Int64  \u001b[0m\n",
       "──────┼────────────────────────────────────────────────────────────────────────────────────────────────────────────────────────────────────────────────────────────────────────────────────────\n",
       "    1 │    0.106          0.0   \u001b[90m missing   \u001b[0m        -1.0       1.0     11      1      0      1    0.106   1.0         0.0           0.866025  -0.5        false   false    true   false       3\n",
       "    2 │    0.125          0.0   \u001b[90m missing   \u001b[0m        -1.0       1.0     11      1      1      2    0.125   0.962917    0.269797      0.866025  -0.5        false   false    true   false       3\n",
       "    3 │    0.126          0.0   \u001b[90m missing   \u001b[0m        -1.0       1.0     11      1      2      3    0.126   0.854419    0.519584      0.866025  -0.5        false   false    true   false       3\n",
       "    4 │    0.129          0.0   \u001b[90m missing   \u001b[0m        -1.0       1.0     11      1      3      4    0.129   0.682553    0.730836      0.866025  -0.5        false   false    true   false       3\n",
       "    5 │    0.129          0.0   \u001b[90m missing   \u001b[0m        -1.0       1.0     11      1      4      5    0.129   0.460065    0.887885      0.866025  -0.5        false   false    true   false       3\n",
       "    6 │    0.13           0.0   \u001b[90m missing   \u001b[0m        -1.0       1.0     11      1      5      6    0.13    0.203456    0.979084      0.866025  -0.5        false   false    true   false       3\n",
       "    7 │    0.145          0.031 \u001b[90m missing   \u001b[0m        -1.0       1.0     11      1      6      7    0.114  -0.0682424   0.997669      0.866025  -0.5        false   false    true   false       3\n",
       "    8 │    0.579          0.226 \u001b[90m missing   \u001b[0m        -1.0       1.0     11      1      7      8    0.353  -0.33488     0.942261      0.866025  -0.5        false   false    true   false       3\n",
       "  ⋮   │    ⋮            ⋮            ⋮           ⋮          ⋮        ⋮      ⋮      ⋮      ⋮       ⋮         ⋮            ⋮            ⋮          ⋮        ⋮       ⋮       ⋮       ⋮       ⋮\n",
       " 4314 │    0.699          0.018 \u001b[90m missing   \u001b[0m        -1.0       1.0     10     15     17   8369    0.681  -0.0682424  -0.997669      0.5       -0.866025   false   false    true   false       3\n",
       " 4315 │    0.447          0.0   \u001b[90m missing   \u001b[0m        -1.0       1.0     10     15     18   8370    0.447   0.203456   -0.979084      0.5       -0.866025   false   false    true   false       3\n",
       " 4316 │    0.389          0.0   \u001b[90m missing   \u001b[0m        -1.0       1.0     10     15     19   8371    0.389   0.460065   -0.887885      0.5       -0.866025   false   false    true   false       3\n",
       " 4317 │    0.289          0.0   \u001b[90m missing   \u001b[0m        -1.0       1.0     10     15     20   8372    0.289   0.682553   -0.730836      0.5       -0.866025   false   false    true   false       3\n",
       " 4318 │    0.105          0.0   \u001b[90m missing   \u001b[0m        -1.0       1.0     10     15     21   8373    0.105   0.854419   -0.519584      0.5       -0.866025   false   false    true   false       3\n",
       " 4319 │    0.104          0.0   \u001b[90m missing   \u001b[0m        -1.0       1.0     10     15     22   8374    0.104   0.962917   -0.269797      0.5       -0.866025   false   false    true   false       3\n",
       " 4320 │    0.104          0.0   \u001b[90m missing   \u001b[0m        -1.0       1.0     10     15     23   8375    0.104   1.0        -2.44929e-16   0.5       -0.866025   false   false    true   false       3\n",
       "\u001b[36m                                                                                                                                                                              4305 rows omitted\u001b[0m, \u001b[1m1440×19 DataFrame\u001b[0m\n",
       "\u001b[1m  Row \u001b[0m│\u001b[1m electkwh \u001b[0m\u001b[1m PV_generation \u001b[0m\u001b[1m chargekwh \u001b[0m\u001b[1m h_countdown \u001b[0m\u001b[1m soc_ev   \u001b[0m\u001b[1m month \u001b[0m\u001b[1m day   \u001b[0m\u001b[1m hour  \u001b[0m\u001b[1m nday  \u001b[0m\u001b[1m d_res     \u001b[0m\u001b[1m hour_cos   \u001b[0m\u001b[1m hour_sin     \u001b[0m\u001b[1m month_cos \u001b[0m\u001b[1m month_sin \u001b[0m\u001b[1m spring \u001b[0m\u001b[1m summer \u001b[0m\u001b[1m autumn \u001b[0m\u001b[1m winter \u001b[0m\u001b[1m season \u001b[0m\n",
       "\u001b[1m      \u001b[0m│\u001b[90m Float64  \u001b[0m\u001b[90m Float64       \u001b[0m\u001b[90m Float64?  \u001b[0m\u001b[90m Float64     \u001b[0m\u001b[90m Float64? \u001b[0m\u001b[90m Int64 \u001b[0m\u001b[90m Int64 \u001b[0m\u001b[90m Int64 \u001b[0m\u001b[90m Int64 \u001b[0m\u001b[90m Float64   \u001b[0m\u001b[90m Float64    \u001b[0m\u001b[90m Float64      \u001b[0m\u001b[90m Float64   \u001b[0m\u001b[90m Float64   \u001b[0m\u001b[90m Bool   \u001b[0m\u001b[90m Bool   \u001b[0m\u001b[90m Bool   \u001b[0m\u001b[90m Bool   \u001b[0m\u001b[90m Int64  \u001b[0m\n",
       "──────┼──────────────────────────────────────────────────────────────────────────────────────────────────────────────────────────────────────────────────────────────────────────────────────────\n",
       "    1 │ 0.104             0.0   \u001b[90m   missing \u001b[0m        -1.0  1.0          11     16      0    361   0.104      1.0         0.0           0.866025  -0.5        false   false    true   false       3\n",
       "    2 │ 0.103             0.0   \u001b[90m   missing \u001b[0m        -1.0  1.0          11     16      1    362   0.103      0.962917    0.269797      0.866025  -0.5        false   false    true   false       3\n",
       "    3 │ 0.102             0.0   \u001b[90m   missing \u001b[0m        -1.0  1.0          11     16      2    363   0.102      0.854419    0.519584      0.866025  -0.5        false   false    true   false       3\n",
       "    4 │ 0.093             0.0   \u001b[90m   missing \u001b[0m        -1.0  1.0          11     16      3    364   0.093      0.682553    0.730836      0.866025  -0.5        false   false    true   false       3\n",
       "    5 │ 0.108             0.0   \u001b[90m   missing \u001b[0m        -1.0  1.0          11     16      4    365   0.108      0.460065    0.887885      0.866025  -0.5        false   false    true   false       3\n",
       "    6 │ 1.22              0.0   \u001b[90m   missing \u001b[0m        -1.0  1.0          11     16      5    366   1.22       0.203456    0.979084      0.866025  -0.5        false   false    true   false       3\n",
       "    7 │ 0.776             0.003 \u001b[90m   missing \u001b[0m        -1.0  1.0          11     16      6    367   0.773     -0.0682424   0.997669      0.866025  -0.5        false   false    true   false       3\n",
       "    8 │ 0.602             0.201 \u001b[90m   missing \u001b[0m        -1.0  1.0          11     16      7    368   0.401     -0.33488     0.942261      0.866025  -0.5        false   false    true   false       3\n",
       "  ⋮   │    ⋮            ⋮            ⋮           ⋮          ⋮        ⋮      ⋮      ⋮      ⋮        ⋮          ⋮            ⋮            ⋮          ⋮        ⋮       ⋮       ⋮       ⋮       ⋮\n",
       " 1434 │ 1.223             0.005 \u001b[90m   missing \u001b[0m        -1.0  1.0          10     20     17   8489   1.218     -0.0682424  -0.997669      0.5       -0.866025   false   false    true   false       3\n",
       " 1435 │ 0.8               0.0   \u001b[90m   missing \u001b[0m        -1.0  1.0          10     20     18   8490   0.8        0.203456   -0.979084      0.5       -0.866025   false   false    true   false       3\n",
       " 1436 │ 0.456             0.0   \u001b[90m   missing \u001b[0m        -1.0  1.0          10     20     19   8491   0.456      0.460065   -0.887885      0.5       -0.866025   false   false    true   false       3\n",
       " 1437 │ 0.348             0.0   \u001b[90m   missing \u001b[0m        -1.0  1.0          10     20     20   8492   0.348      0.682553   -0.730836      0.5       -0.866025   false   false    true   false       3\n",
       " 1438 │ 0.228             0.0   \u001b[90m   missing \u001b[0m        -1.0  1.0          10     20     21   8493   0.228      0.854419   -0.519584      0.5       -0.866025   false   false    true   false       3\n",
       " 1439 │ 0.099             0.0   \u001b[90m   missing \u001b[0m        -1.0  1.0          10     20     22   8494   0.099      0.962917   -0.269797      0.5       -0.866025   false   false    true   false       3\n",
       " 1440 │ 0.096             0.0   \u001b[90m   missing \u001b[0m        -1.0  1.0          10     20     23   8495   0.096      1.0        -2.44929e-16   0.5       -0.866025   false   false    true   false       3\n",
       "\u001b[36m                                                                                                                                                                                1425 rows omitted\u001b[0m, \u001b[1m3000×19 DataFrame\u001b[0m\n",
       "\u001b[1m  Row \u001b[0m│\u001b[1m electkwh \u001b[0m\u001b[1m PV_generation \u001b[0m\u001b[1m chargekwh \u001b[0m\u001b[1m h_countdown \u001b[0m\u001b[1m soc_ev   \u001b[0m\u001b[1m month \u001b[0m\u001b[1m day   \u001b[0m\u001b[1m hour  \u001b[0m\u001b[1m nday  \u001b[0m\u001b[1m d_res   \u001b[0m\u001b[1m hour_cos   \u001b[0m\u001b[1m hour_sin     \u001b[0m\u001b[1m month_cos \u001b[0m\u001b[1m month_sin \u001b[0m\u001b[1m spring \u001b[0m\u001b[1m summer \u001b[0m\u001b[1m autumn \u001b[0m\u001b[1m winter \u001b[0m\u001b[1m season \u001b[0m\n",
       "\u001b[1m      \u001b[0m│\u001b[90m Float64  \u001b[0m\u001b[90m Float64       \u001b[0m\u001b[90m Float64?  \u001b[0m\u001b[90m Float64     \u001b[0m\u001b[90m Float64? \u001b[0m\u001b[90m Int64 \u001b[0m\u001b[90m Int64 \u001b[0m\u001b[90m Int64 \u001b[0m\u001b[90m Int64 \u001b[0m\u001b[90m Float64 \u001b[0m\u001b[90m Float64    \u001b[0m\u001b[90m Float64      \u001b[0m\u001b[90m Float64   \u001b[0m\u001b[90m Float64   \u001b[0m\u001b[90m Bool   \u001b[0m\u001b[90m Bool   \u001b[0m\u001b[90m Bool   \u001b[0m\u001b[90m Bool   \u001b[0m\u001b[90m Int64  \u001b[0m\n",
       "──────┼────────────────────────────────────────────────────────────────────────────────────────────────────────────────────────────────────────────────────────────────────────────────────────\n",
       "    1 │    0.14           0.0          0.0          6.0       1.0     11     21      0    481    0.14    1.0         0.0           0.866025  -0.5        false   false    true   false       3\n",
       "    2 │    0.142          0.0          0.0          5.0       1.0     11     21      1    482    0.142   0.962917    0.269797      0.866025  -0.5        false   false    true   false       3\n",
       "    3 │    0.143          0.0          0.0          4.0       1.0     11     21      2    483    0.143   0.854419    0.519584      0.866025  -0.5        false   false    true   false       3\n",
       "    4 │    0.307          0.0          0.0          3.0       1.0     11     21      3    484    0.307   0.682553    0.730836      0.866025  -0.5        false   false    true   false       3\n",
       "    5 │    0.292          0.0          0.0          2.0       1.0     11     21      4    485    0.292   0.460065    0.887885      0.866025  -0.5        false   false    true   false       3\n",
       "    6 │    0.891          0.0          0.0          1.0       1.0     11     21      5    486    0.891   0.203456    0.979084      0.866025  -0.5        false   false    true   false       3\n",
       "    7 │    0.857          0.018        0.0          0.0       1.0     11     21      6    487    0.839  -0.0682424   0.997669      0.866025  -0.5        false   false    true   false       3\n",
       "    8 │    1.117          0.413 \u001b[90m missing   \u001b[0m        -1.0       1.0     11     21      7    488    0.704  -0.33488     0.942261      0.866025  -0.5        false   false    true   false       3\n",
       "  ⋮   │    ⋮            ⋮            ⋮           ⋮          ⋮        ⋮      ⋮      ⋮      ⋮       ⋮         ⋮            ⋮            ⋮          ⋮        ⋮       ⋮       ⋮       ⋮       ⋮\n",
       " 2994 │    0.467          0.0   \u001b[90m missing   \u001b[0m        -1.0       1.0     10     31     17   8754    0.467  -0.0682424  -0.997669      0.5       -0.866025   false   false    true   false       3\n",
       " 2995 │    0.468          0.0   \u001b[90m missing   \u001b[0m        -1.0       1.0     10     31     18   8755    0.468   0.203456   -0.979084      0.5       -0.866025   false   false    true   false       3\n",
       " 2996 │    0.326          0.0   \u001b[90m missing   \u001b[0m        -1.0       1.0     10     31     19   8756    0.326   0.460065   -0.887885      0.5       -0.866025   false   false    true   false       3\n",
       " 2997 │    0.083          0.0   \u001b[90m missing   \u001b[0m        -1.0       1.0     10     31     20   8757    0.083   0.682553   -0.730836      0.5       -0.866025   false   false    true   false       3\n",
       " 2998 │    0.084          0.0   \u001b[90m missing   \u001b[0m        -1.0       1.0     10     31     21   8758    0.084   0.854419   -0.519584      0.5       -0.866025   false   false    true   false       3\n",
       " 2999 │    0.086          0.0   \u001b[90m missing   \u001b[0m        -1.0       1.0     10     31     22   8759    0.086   0.962917   -0.269797      0.5       -0.866025   false   false    true   false       3\n",
       " 3000 │    0.086          0.0   \u001b[90m missing   \u001b[0m        -1.0       1.0     10     31     23   8760    0.086   1.0        -2.44929e-16   0.5       -0.866025   false   false    true   false       3\n",
       "\u001b[36m                                                                                                                                                                              2985 rows omitted\u001b[0m)"
      ]
     },
     "metadata": {},
     "output_type": "display_data"
    }
   ],
   "source": [
    "all_training, all_evaluation, all_testing = train_eval_test_split(Input_df)\n",
    "\n",
    "#LU \n",
    "#=\n",
    "# write data files\n",
    "CSV.write(\"data/$(ID)_all_train_TOU.csv\", all_training);\n",
    "CSV.write(\"data/$(ID)_all_eval_TOU.csv\", all_evaluation);\n",
    "CSV.write(\"data/$(ID)_all_test_TOU.csv\", all_testing);\n",
    "=#"
   ]
  },
  {
   "cell_type": "code",
   "execution_count": 407,
   "metadata": {},
   "outputs": [],
   "source": [
    "#LU\n",
    "#describe(vcat(Input_data_winter, Input_data_summer) ), size(vcat(Input_data_winter, Input_data_summer) )"
   ]
  },
  {
   "cell_type": "code",
   "execution_count": 408,
   "metadata": {},
   "outputs": [],
   "source": [
    "#LU\n",
    "#=# both seasons split\n",
    "both_training, both_evaluation, both_testing = train_eval_test_split(vcat(Input_data_winter, Input_data_summer))\n",
    "\n",
    "# write data files\n",
    "CSV.write(\"data/$(ID)_both_train_TOU.csv\", both_training);\n",
    "CSV.write(\"data/$(ID)_both_test_TOU.csv\", both_testing);\n",
    "CSV.write(\"data/$(ID)_both_eval_TOU.csv\", both_evaluation);\n",
    "=#"
   ]
  },
  {
   "cell_type": "markdown",
   "metadata": {},
   "source": [
    "## Dataset for fixed prices"
   ]
  },
  {
   "cell_type": "code",
   "execution_count": 409,
   "metadata": {},
   "outputs": [],
   "source": [
    "Input_df[!, \"p_buy\"] .= 0.3;\n",
    "Input_df[!, \"p_sell\"] .= 0.1;"
   ]
  },
  {
   "cell_type": "code",
   "execution_count": 410,
   "metadata": {},
   "outputs": [],
   "source": [
    "#LU\n",
    "#Input_data_summer = filter(:summer => !=(0), Input_df);\n",
    "#Input_data_winter = filter(:winter => !=(0), Input_df);"
   ]
  },
  {
   "cell_type": "code",
   "execution_count": 411,
   "metadata": {},
   "outputs": [],
   "source": [
    "#LU summer_training, summer_evaluation, summer_testing = train_eval_test_split(Input_data_summer);\n",
    "#LU winter_training, winter_evaluation, winter_testing = train_eval_test_split(Input_data_winter);\n",
    "all_training, all_evaluation, all_testing = train_eval_test_split(Input_df);\n",
    "#LU both_training, both_evaluation, both_testing = train_eval_test_split(vcat(Input_data_winter, Input_data_summer));"
   ]
  },
  {
   "cell_type": "code",
   "execution_count": 412,
   "metadata": {},
   "outputs": [
    {
     "data": {
      "text/plain": [
       "\"data/Charger09_all_eval_fix.csv\""
      ]
     },
     "metadata": {},
     "output_type": "display_data"
    }
   ],
   "source": [
    "#LU\n",
    "#=CSV.write(\"data/$(ID)_both_train_fix.csv\", both_training);\n",
    "CSV.write(\"data/$(ID)_both_test_fix.csv\", both_testing);\n",
    "CSV.write(\"data/$(ID)_both_eval_fix.csv\", both_evaluation);=#\n",
    "\n",
    "CSV.write(\"data/$(ID)_all_train_fix.csv\", all_training);\n",
    "CSV.write(\"data/$(ID)_all_test_fix.csv\", all_testing);\n",
    "CSV.write(\"data/$(ID)_all_eval_fix.csv\", all_evaluation);\n",
    "\n",
    "#LU\n",
    "#=CSV.write(\"data/$(ID)_summer_train_fix.csv\", summer_training);\n",
    "CSV.write(\"data/$(ID)_summer_test_fix.csv\", summer_testing);\n",
    "CSV.write(\"data/$(ID)_summer_eval_fix.csv\", summer_evaluation);\n",
    "CSV.write(\"data/$(ID)_winter_train_fix.csv\", winter_training);\n",
    "CSV.write(\"data/$(ID)_winter_test_fix.csv\", winter_testing);\n",
    "CSV.write(\"data/$(ID)_winter_eval_fix.csv\", winter_evaluation);\n",
    "=#"
   ]
  }
 ],
 "metadata": {
  "@webio": {
   "lastCommId": null,
   "lastKernelId": null
  },
  "kernelspec": {
   "display_name": "Julia 1.6.1",
   "language": "julia",
   "name": "julia-1.6"
  },
  "language_info": {
   "file_extension": ".jl",
   "mimetype": "application/julia",
   "name": "julia",
   "version": "1.6.1"
  }
 },
 "nbformat": 4,
 "nbformat_minor": 2
}
