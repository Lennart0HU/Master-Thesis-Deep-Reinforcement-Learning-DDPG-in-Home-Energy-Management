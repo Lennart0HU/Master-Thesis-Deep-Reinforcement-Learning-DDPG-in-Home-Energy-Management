{
 "cells": [
  {
   "cell_type": "code",
   "execution_count": 1,
   "metadata": {},
   "outputs": [
    {
     "data": {
      "text/plain": [
       "1000"
      ]
     },
     "metadata": {},
     "output_type": "display_data"
    }
   ],
   "source": [
    "using CSV, DataFrames, Dates, TimeZones\n",
    "\n",
    "ENV[\"COLUMNS\"] = 1000"
   ]
  },
  {
   "cell_type": "code",
   "execution_count": 2,
   "metadata": {},
   "outputs": [
    {
     "data": {
      "text/plain": [
       "\"Charger01\""
      ]
     },
     "metadata": {},
     "output_type": "display_data"
    }
   ],
   "source": [
    "ID = \"Charger01\""
   ]
  },
  {
   "cell_type": "code",
   "execution_count": 3,
   "metadata": {},
   "outputs": [
    {
     "data": {
      "text/plain": [
       "35040-element Vector{ZonedDateTime}:\n",
       " 2020-11-01T00:00:00+01:00\n",
       " 2020-11-01T00:15:00+01:00\n",
       " 2020-11-01T00:30:00+01:00\n",
       " 2020-11-01T00:45:00+01:00\n",
       " 2020-11-01T01:00:00+01:00\n",
       " 2020-11-01T01:15:00+01:00\n",
       " 2020-11-01T01:30:00+01:00\n",
       " 2020-11-01T01:45:00+01:00\n",
       " 2020-11-01T02:00:00+01:00\n",
       " 2020-11-01T02:15:00+01:00\n",
       " ⋮\n",
       " 2021-10-31T21:45:00+01:00\n",
       " 2021-10-31T22:00:00+01:00\n",
       " 2021-10-31T22:15:00+01:00\n",
       " 2021-10-31T22:30:00+01:00\n",
       " 2021-10-31T22:45:00+01:00\n",
       " 2021-10-31T23:00:00+01:00\n",
       " 2021-10-31T23:15:00+01:00\n",
       " 2021-10-31T23:30:00+01:00\n",
       " 2021-10-31T23:45:00+01:00"
      ]
     },
     "metadata": {},
     "output_type": "display_data"
    }
   ],
   "source": [
    "# Read the CSV file from the specified path\n",
    "df = CSV.read(\"data/charger_battery_data_$ID.csv\", DataFrame)\n",
    "\n",
    "# Filter the data\n",
    "df = df[:, [:timestamp, :e_consumption, :e_production, :e_charger, :h_countdown, :soc_ev]]\n",
    "\n",
    "df.e_consumption = df.e_consumption / 1000\n",
    "df.e_production = df.e_production / 1000\n",
    "df.e_charger = df.e_charger / 1000\n",
    "\n",
    "# Parse the timestamps with timezone offset\n",
    "timestamps = ZonedDateTime.(df.timestamp, DateFormat(\"yyyy-mm-dd HH:MM:SSzzzz\"))\n",
    "\n",
    "# Shift the timestamps one hour ahead\n",
    "timestamps = timestamps .- Hour(1)\n",
    "\n",
    "# Replace the timestamp column in the DataFrame with the shifted timestamps\n",
    "df.timestamp = timestamps"
   ]
  },
  {
   "cell_type": "code",
   "execution_count": 4,
   "metadata": {},
   "outputs": [
    {
     "data": {
      "text/html": [
       "<table class=\"data-frame\"><thead><tr><th></th><th>timestamp</th><th>e_consumption</th><th>e_production</th><th>e_charger</th><th>h_countdown</th><th>soc_ev</th></tr><tr><th></th><th>ZonedDa…</th><th>Float64</th><th>Float64</th><th>Float64?</th><th>Float64</th><th>Float64</th></tr></thead><tbody><p>35,040 rows × 6 columns</p><tr><th>1</th><td>2020-11-01T00:00:00+01:00</td><td>0.055</td><td>0.0</td><td>0.0</td><td>9.25</td><td>1.0</td></tr><tr><th>2</th><td>2020-11-01T00:15:00+01:00</td><td>0.037</td><td>0.0</td><td>0.0</td><td>9.0</td><td>1.0</td></tr><tr><th>3</th><td>2020-11-01T00:30:00+01:00</td><td>0.029</td><td>0.0</td><td>0.0</td><td>8.75</td><td>1.0</td></tr><tr><th>4</th><td>2020-11-01T00:45:00+01:00</td><td>0.029</td><td>0.0</td><td>0.0</td><td>8.5</td><td>1.0</td></tr><tr><th>5</th><td>2020-11-01T01:00:00+01:00</td><td>0.052</td><td>0.0</td><td>0.0</td><td>8.25</td><td>1.0</td></tr><tr><th>6</th><td>2020-11-01T01:15:00+01:00</td><td>0.037</td><td>0.0</td><td>0.0</td><td>8.0</td><td>1.0</td></tr><tr><th>7</th><td>2020-11-01T01:30:00+01:00</td><td>0.03</td><td>0.0</td><td>0.0</td><td>7.75</td><td>1.0</td></tr><tr><th>8</th><td>2020-11-01T01:45:00+01:00</td><td>0.034</td><td>0.0</td><td>0.0</td><td>7.5</td><td>1.0</td></tr><tr><th>9</th><td>2020-11-01T02:00:00+01:00</td><td>0.038</td><td>0.0</td><td>0.0</td><td>7.25</td><td>1.0</td></tr><tr><th>10</th><td>2020-11-01T02:15:00+01:00</td><td>0.051</td><td>0.0</td><td>0.0</td><td>7.0</td><td>1.0</td></tr><tr><th>11</th><td>2020-11-01T02:30:00+01:00</td><td>0.031</td><td>0.0</td><td>0.0</td><td>6.75</td><td>1.0</td></tr><tr><th>12</th><td>2020-11-01T02:45:00+01:00</td><td>0.031</td><td>0.0</td><td>0.0</td><td>6.5</td><td>1.0</td></tr><tr><th>13</th><td>2020-11-01T03:00:00+01:00</td><td>0.031</td><td>0.0</td><td>0.0</td><td>6.25</td><td>1.0</td></tr><tr><th>14</th><td>2020-11-01T03:15:00+01:00</td><td>0.044</td><td>0.0</td><td>0.0</td><td>6.0</td><td>1.0</td></tr><tr><th>15</th><td>2020-11-01T03:30:00+01:00</td><td>0.045</td><td>0.0</td><td>0.0</td><td>5.75</td><td>1.0</td></tr><tr><th>16</th><td>2020-11-01T03:45:00+01:00</td><td>0.03</td><td>0.0</td><td>0.0</td><td>5.5</td><td>1.0</td></tr><tr><th>17</th><td>2020-11-01T04:00:00+01:00</td><td>0.029</td><td>0.0</td><td>0.0</td><td>5.25</td><td>1.0</td></tr><tr><th>18</th><td>2020-11-01T04:15:00+01:00</td><td>0.029</td><td>0.0</td><td>0.0</td><td>5.0</td><td>1.0</td></tr><tr><th>19</th><td>2020-11-01T04:30:00+01:00</td><td>0.046</td><td>0.0</td><td>0.0</td><td>4.75</td><td>1.0</td></tr><tr><th>20</th><td>2020-11-01T04:45:00+01:00</td><td>0.041</td><td>0.0</td><td>0.0</td><td>4.5</td><td>1.0</td></tr><tr><th>21</th><td>2020-11-01T05:00:00+01:00</td><td>0.029</td><td>0.0</td><td>0.0</td><td>4.25</td><td>1.0</td></tr><tr><th>22</th><td>2020-11-01T05:15:00+01:00</td><td>0.029</td><td>0.0</td><td>0.0</td><td>4.0</td><td>1.0</td></tr><tr><th>23</th><td>2020-11-01T05:30:00+01:00</td><td>0.035</td><td>0.0</td><td>0.0</td><td>3.75</td><td>1.0</td></tr><tr><th>24</th><td>2020-11-01T05:45:00+01:00</td><td>0.05</td><td>0.0</td><td>0.0</td><td>3.5</td><td>1.0</td></tr><tr><th>&vellip;</th><td>&vellip;</td><td>&vellip;</td><td>&vellip;</td><td>&vellip;</td><td>&vellip;</td><td>&vellip;</td></tr></tbody></table>"
      ],
      "text/latex": [
       "\\begin{tabular}{r|cccccc}\n",
       "\t& timestamp & e\\_consumption & e\\_production & e\\_charger & h\\_countdown & soc\\_ev\\\\\n",
       "\t\\hline\n",
       "\t& ZonedDa… & Float64 & Float64 & Float64? & Float64 & Float64\\\\\n",
       "\t\\hline\n",
       "\t1 & 2020-11-01T00:00:00+01:00 & 0.055 & 0.0 & 0.0 & 9.25 & 1.0 \\\\\n",
       "\t2 & 2020-11-01T00:15:00+01:00 & 0.037 & 0.0 & 0.0 & 9.0 & 1.0 \\\\\n",
       "\t3 & 2020-11-01T00:30:00+01:00 & 0.029 & 0.0 & 0.0 & 8.75 & 1.0 \\\\\n",
       "\t4 & 2020-11-01T00:45:00+01:00 & 0.029 & 0.0 & 0.0 & 8.5 & 1.0 \\\\\n",
       "\t5 & 2020-11-01T01:00:00+01:00 & 0.052 & 0.0 & 0.0 & 8.25 & 1.0 \\\\\n",
       "\t6 & 2020-11-01T01:15:00+01:00 & 0.037 & 0.0 & 0.0 & 8.0 & 1.0 \\\\\n",
       "\t7 & 2020-11-01T01:30:00+01:00 & 0.03 & 0.0 & 0.0 & 7.75 & 1.0 \\\\\n",
       "\t8 & 2020-11-01T01:45:00+01:00 & 0.034 & 0.0 & 0.0 & 7.5 & 1.0 \\\\\n",
       "\t9 & 2020-11-01T02:00:00+01:00 & 0.038 & 0.0 & 0.0 & 7.25 & 1.0 \\\\\n",
       "\t10 & 2020-11-01T02:15:00+01:00 & 0.051 & 0.0 & 0.0 & 7.0 & 1.0 \\\\\n",
       "\t11 & 2020-11-01T02:30:00+01:00 & 0.031 & 0.0 & 0.0 & 6.75 & 1.0 \\\\\n",
       "\t12 & 2020-11-01T02:45:00+01:00 & 0.031 & 0.0 & 0.0 & 6.5 & 1.0 \\\\\n",
       "\t13 & 2020-11-01T03:00:00+01:00 & 0.031 & 0.0 & 0.0 & 6.25 & 1.0 \\\\\n",
       "\t14 & 2020-11-01T03:15:00+01:00 & 0.044 & 0.0 & 0.0 & 6.0 & 1.0 \\\\\n",
       "\t15 & 2020-11-01T03:30:00+01:00 & 0.045 & 0.0 & 0.0 & 5.75 & 1.0 \\\\\n",
       "\t16 & 2020-11-01T03:45:00+01:00 & 0.03 & 0.0 & 0.0 & 5.5 & 1.0 \\\\\n",
       "\t17 & 2020-11-01T04:00:00+01:00 & 0.029 & 0.0 & 0.0 & 5.25 & 1.0 \\\\\n",
       "\t18 & 2020-11-01T04:15:00+01:00 & 0.029 & 0.0 & 0.0 & 5.0 & 1.0 \\\\\n",
       "\t19 & 2020-11-01T04:30:00+01:00 & 0.046 & 0.0 & 0.0 & 4.75 & 1.0 \\\\\n",
       "\t20 & 2020-11-01T04:45:00+01:00 & 0.041 & 0.0 & 0.0 & 4.5 & 1.0 \\\\\n",
       "\t21 & 2020-11-01T05:00:00+01:00 & 0.029 & 0.0 & 0.0 & 4.25 & 1.0 \\\\\n",
       "\t22 & 2020-11-01T05:15:00+01:00 & 0.029 & 0.0 & 0.0 & 4.0 & 1.0 \\\\\n",
       "\t23 & 2020-11-01T05:30:00+01:00 & 0.035 & 0.0 & 0.0 & 3.75 & 1.0 \\\\\n",
       "\t24 & 2020-11-01T05:45:00+01:00 & 0.05 & 0.0 & 0.0 & 3.5 & 1.0 \\\\\n",
       "\t$\\dots$ & $\\dots$ & $\\dots$ & $\\dots$ & $\\dots$ & $\\dots$ & $\\dots$ \\\\\n",
       "\\end{tabular}\n"
      ],
      "text/plain": [
       "\u001b[1m35040×6 DataFrame\u001b[0m\n",
       "\u001b[1m   Row \u001b[0m│\u001b[1m timestamp                 \u001b[0m\u001b[1m e_consumption \u001b[0m\u001b[1m e_production \u001b[0m\u001b[1m e_charger \u001b[0m\u001b[1m h_countdown \u001b[0m\u001b[1m soc_ev  \u001b[0m\n",
       "\u001b[1m       \u001b[0m│\u001b[90m ZonedDat…                 \u001b[0m\u001b[90m Float64       \u001b[0m\u001b[90m Float64      \u001b[0m\u001b[90m Float64?  \u001b[0m\u001b[90m Float64     \u001b[0m\u001b[90m Float64 \u001b[0m\n",
       "───────┼─────────────────────────────────────────────────────────────────────────────────────────\n",
       "     1 │ 2020-11-01T00:00:00+01:00          0.055           0.0        0.0         9.25      1.0\n",
       "     2 │ 2020-11-01T00:15:00+01:00          0.037           0.0        0.0         9.0       1.0\n",
       "     3 │ 2020-11-01T00:30:00+01:00          0.029           0.0        0.0         8.75      1.0\n",
       "     4 │ 2020-11-01T00:45:00+01:00          0.029           0.0        0.0         8.5       1.0\n",
       "     5 │ 2020-11-01T01:00:00+01:00          0.052           0.0        0.0         8.25      1.0\n",
       "     6 │ 2020-11-01T01:15:00+01:00          0.037           0.0        0.0         8.0       1.0\n",
       "     7 │ 2020-11-01T01:30:00+01:00          0.03            0.0        0.0         7.75      1.0\n",
       "     8 │ 2020-11-01T01:45:00+01:00          0.034           0.0        0.0         7.5       1.0\n",
       "   ⋮   │             ⋮                    ⋮             ⋮            ⋮           ⋮          ⋮\n",
       " 35034 │ 2021-10-31T22:15:00+01:00          0.048           0.0 \u001b[90m missing   \u001b[0m        0.0       1.0\n",
       " 35035 │ 2021-10-31T22:30:00+01:00          0.044           0.0 \u001b[90m missing   \u001b[0m        0.0       1.0\n",
       " 35036 │ 2021-10-31T22:45:00+01:00          0.041           0.0 \u001b[90m missing   \u001b[0m        0.0       1.0\n",
       " 35037 │ 2021-10-31T23:00:00+01:00          0.047           0.0 \u001b[90m missing   \u001b[0m        0.0       1.0\n",
       " 35038 │ 2021-10-31T23:15:00+01:00          0.064           0.0 \u001b[90m missing   \u001b[0m        0.0       1.0\n",
       " 35039 │ 2021-10-31T23:30:00+01:00          0.036           0.0 \u001b[90m missing   \u001b[0m        0.0       1.0\n",
       " 35040 │ 2021-10-31T23:45:00+01:00          0.027           0.0 \u001b[90m missing   \u001b[0m        0.0       1.0\n",
       "\u001b[36m                                                                               35025 rows omitted\u001b[0m"
      ]
     },
     "metadata": {},
     "output_type": "display_data"
    }
   ],
   "source": [
    "df"
   ]
  },
  {
   "cell_type": "code",
   "execution_count": 5,
   "metadata": {},
   "outputs": [
    {
     "data": {
      "text/plain": [
       "(\"Column: \", \"timestamp\", \", Type: \", ZonedDateTime)"
      ]
     },
     "metadata": {},
     "output_type": "display_data"
    },
    {
     "data": {
      "text/plain": [
       "(\"Column: \", \"e_consumption\", \", Type: \", Float64)"
      ]
     },
     "metadata": {},
     "output_type": "display_data"
    },
    {
     "data": {
      "text/plain": [
       "(\"Column: \", \"e_production\", \", Type: \", Float64)"
      ]
     },
     "metadata": {},
     "output_type": "display_data"
    },
    {
     "data": {
      "text/plain": [
       "(\"Column: \", \"e_charger\", \", Type: \", Union{Missing, Float64})"
      ]
     },
     "metadata": {},
     "output_type": "display_data"
    },
    {
     "data": {
      "text/plain": [
       "(\"Column: \", \"h_countdown\", \", Type: \", Float64)"
      ]
     },
     "metadata": {},
     "output_type": "display_data"
    },
    {
     "data": {
      "text/plain": [
       "(\"Column: \", \"soc_ev\", \", Type: \", Float64)"
      ]
     },
     "metadata": {},
     "output_type": "display_data"
    },
    {
     "data": {
      "text/plain": [
       "(\"Column: \", \"timestamp\", \", Missing Values: \", 0)"
      ]
     },
     "metadata": {},
     "output_type": "display_data"
    },
    {
     "data": {
      "text/plain": [
       "(\"Column: \", \"e_consumption\", \", Missing Values: \", 0)"
      ]
     },
     "metadata": {},
     "output_type": "display_data"
    },
    {
     "data": {
      "text/plain": [
       "(\"Column: \", \"e_production\", \", Missing Values: \", 0)"
      ]
     },
     "metadata": {},
     "output_type": "display_data"
    },
    {
     "data": {
      "text/plain": [
       "(\"Column: \", \"e_charger\", \", Missing Values: \", 32475)"
      ]
     },
     "metadata": {},
     "output_type": "display_data"
    },
    {
     "data": {
      "text/plain": [
       "(\"Column: \", \"h_countdown\", \", Missing Values: \", 0)"
      ]
     },
     "metadata": {},
     "output_type": "display_data"
    },
    {
     "data": {
      "text/plain": [
       "(\"Column: \", \"soc_ev\", \", Missing Values: \", 0)"
      ]
     },
     "metadata": {},
     "output_type": "display_data"
    }
   ],
   "source": [
    "for col_name in names(df)\n",
    "    display((\"Column: \", col_name, \", Type: \", eltype(df[!, col_name])))\n",
    "end\n",
    "\n",
    "for col_name in names(df)\n",
    "    missing_count = sum(ismissing.(df[!, col_name]))\n",
    "    display((\"Column: \", col_name, \", Missing Values: \", missing_count))\n",
    "end"
   ]
  },
  {
   "cell_type": "code",
   "execution_count": 6,
   "metadata": {},
   "outputs": [
    {
     "data": {
      "text/html": [
       "<table class=\"data-frame\"><thead><tr><th></th><th>variable</th><th>mean</th><th>min</th><th>median</th><th>max</th><th>nmissing</th><th>eltype</th></tr><tr><th></th><th>Symbol</th><th>Union…</th><th>Any</th><th>Union…</th><th>Any</th><th>Int64</th><th>Type</th></tr></thead><tbody><p>6 rows × 7 columns</p><tr><th>1</th><td>timestamp</td><td></td><td>2020-11-01T00:00:00+01:00</td><td></td><td>2021-10-31T23:45:00+01:00</td><td>0</td><td>ZonedDateTime</td></tr><tr><th>2</th><td>e_consumption</td><td>0.078375</td><td>0.0</td><td>0.051</td><td>2.163</td><td>0</td><td>Float64</td></tr><tr><th>3</th><td>e_production</td><td>0.28957</td><td>0.0</td><td>0.0</td><td>2.325</td><td>0</td><td>Float64</td></tr><tr><th>4</th><td>e_charger</td><td>0.570734</td><td>0.0</td><td>0.0</td><td>2.51061</td><td>32475</td><td>Union{Missing, Float64}</td></tr><tr><th>5</th><td>h_countdown</td><td>0.536045</td><td>0.0</td><td>0.0</td><td>27.25</td><td>0</td><td>Float64</td></tr><tr><th>6</th><td>soc_ev</td><td>0.990868</td><td>0.0</td><td>1.0</td><td>1.0</td><td>0</td><td>Float64</td></tr></tbody></table>"
      ],
      "text/latex": [
       "\\begin{tabular}{r|ccccccc}\n",
       "\t& variable & mean & min & median & max & nmissing & eltype\\\\\n",
       "\t\\hline\n",
       "\t& Symbol & Union… & Any & Union… & Any & Int64 & Type\\\\\n",
       "\t\\hline\n",
       "\t1 & timestamp &  & 2020-11-01T00:00:00+01:00 &  & 2021-10-31T23:45:00+01:00 & 0 & ZonedDateTime \\\\\n",
       "\t2 & e\\_consumption & 0.078375 & 0.0 & 0.051 & 2.163 & 0 & Float64 \\\\\n",
       "\t3 & e\\_production & 0.28957 & 0.0 & 0.0 & 2.325 & 0 & Float64 \\\\\n",
       "\t4 & e\\_charger & 0.570734 & 0.0 & 0.0 & 2.51061 & 32475 & Union\\{Missing, Float64\\} \\\\\n",
       "\t5 & h\\_countdown & 0.536045 & 0.0 & 0.0 & 27.25 & 0 & Float64 \\\\\n",
       "\t6 & soc\\_ev & 0.990868 & 0.0 & 1.0 & 1.0 & 0 & Float64 \\\\\n",
       "\\end{tabular}\n"
      ],
      "text/plain": [
       "\u001b[1m6×7 DataFrame\u001b[0m\n",
       "\u001b[1m Row \u001b[0m│\u001b[1m variable      \u001b[0m\u001b[1m mean     \u001b[0m\u001b[1m min                       \u001b[0m\u001b[1m median \u001b[0m\u001b[1m max                       \u001b[0m\u001b[1m nmissing \u001b[0m\u001b[1m eltype                  \u001b[0m\n",
       "\u001b[1m     \u001b[0m│\u001b[90m Symbol        \u001b[0m\u001b[90m Union…   \u001b[0m\u001b[90m Any                       \u001b[0m\u001b[90m Union… \u001b[0m\u001b[90m Any                       \u001b[0m\u001b[90m Int64    \u001b[0m\u001b[90m Type                    \u001b[0m\n",
       "─────┼──────────────────────────────────────────────────────────────────────────────────────────────────────────────────────────\n",
       "   1 │ timestamp     \u001b[90m          \u001b[0m 2020-11-01T00:00:00+01:00 \u001b[90m        \u001b[0m 2021-10-31T23:45:00+01:00         0  ZonedDateTime\n",
       "   2 │ e_consumption  0.078375  0.0                        0.051   2.163                             0  Float64\n",
       "   3 │ e_production   0.28957   0.0                        0.0     2.325                             0  Float64\n",
       "   4 │ e_charger      0.570734  0.0                        0.0     2.51061                       32475  Union{Missing, Float64}\n",
       "   5 │ h_countdown    0.536045  0.0                        0.0     27.25                             0  Float64\n",
       "   6 │ soc_ev         0.990868  0.0                        1.0     1.0                               0  Float64"
      ]
     },
     "metadata": {},
     "output_type": "display_data"
    }
   ],
   "source": [
    "describe(df)"
   ]
  },
  {
   "cell_type": "code",
   "execution_count": 7,
   "metadata": {},
   "outputs": [],
   "source": [
    "# # Handle missing values\n",
    "# total_missing = 0\n",
    "# replaced_with_previous_day = 0\n",
    "# replaced_with_zero = 0\n",
    "\n",
    "# for col_name in names(df)\n",
    "#     missing_indices = findall(ismissing, df[!, col_name])\n",
    "#     total_missing += length(missing_indices)\n",
    "    \n",
    "#     for i in missing_indices\n",
    "#         if i > 24\n",
    "#             if ismissing(df[i-24, col_name])\n",
    "#                 df[i, col_name] = 0\n",
    "#                 replaced_with_zero += 1\n",
    "#             else\n",
    "#                 df[i, col_name] = df[i-24, col_name]\n",
    "#                 replaced_with_previous_day += 1\n",
    "#             end\n",
    "#         else\n",
    "#             df[i, col_name] = 0\n",
    "#             replaced_with_zero += 1\n",
    "#         end\n",
    "#     end\n",
    "# end\n",
    "\n",
    "# println(\"Total missing values: \", total_missing)\n",
    "# println(\"Replaced with previous day: \", replaced_with_previous_day)\n",
    "# println(\"Replaced with zero: \", replaced_with_zero)"
   ]
  },
  {
   "cell_type": "markdown",
   "metadata": {},
   "source": [
    "Resamplign from 15min intervalls to 1h intervalls. In the future, I'd like to try to work with 15min intervals."
   ]
  },
  {
   "cell_type": "code",
   "execution_count": 8,
   "metadata": {},
   "outputs": [
    {
     "data": {
      "text/plain": [
       "resample (generic function with 1 method)"
      ]
     },
     "metadata": {},
     "output_type": "display_data"
    }
   ],
   "source": [
    "function resample(df, time_column, interval)\n",
    "    # Round the timestamps to the nearest hour\n",
    "    df[!, time_column] = Dates.floor.(df[!, time_column], interval)\n",
    "    \n",
    "    # Define the columns to be summed\n",
    "    sum_columns = [\"e_consumption\", \"e_production\", \"e_charger\"]\n",
    "    \n",
    "    # Group by the rounded timestamps and sum the other columns\n",
    "    new_df = combine(groupby(df, time_column), sum_columns .=> (x -> sum(coalesce.(x, 0))) .=> sum_columns)\n",
    "    \n",
    "    # Handle \"h_countdown\" and \"soc_ev\" separately\n",
    "    max_values = combine(groupby(df, time_column), \"h_countdown\" => maximum => \"h_countdown\")\n",
    "    new_df = leftjoin(new_df, max_values, on=time_column)\n",
    "    \n",
    "    min_values = combine(groupby(df, time_column), \"soc_ev\" => minimum => \"soc_ev\")\n",
    "    new_df = leftjoin(new_df, min_values, on=time_column)\n",
    "    \n",
    "    return new_df\n",
    "end\n"
   ]
  },
  {
   "cell_type": "code",
   "execution_count": 9,
   "metadata": {},
   "outputs": [
    {
     "ename": "ErrorException",
     "evalue": "syntax: incomplete: unterminated multi-line comment #= ... =#",
     "output_type": "error",
     "traceback": [
      "syntax: incomplete: unterminated multi-line comment #= ... =#\n",
      "\n",
      "Stacktrace:\n",
      " [1] top-level scope\n",
      "   @ ~/server_repo/ma-thesis-drl-in-hem/RL-SHEMS/LU_Input_data_preparation.ipynb:10"
     ]
    }
   ],
   "source": [
    "#=# Define a custom resampling function (LU)\n",
    "function resample(df, time_column, interval)\n",
    "    # Round the timestamps to the nearest hour\n",
    "    df[!, time_column] = Dates.floor.(df[!, time_column], interval)\n",
    "    \n",
    "    # Group by the rounded timestamps and sum the other columns\n",
    "    new_df = combine(groupby(df, time_column), names(df, Not(time_column)) .=> sum .=> names(df, Not(time_column)))\n",
    "    \n",
    "    return new_df\n",
    "end"
   ]
  },
  {
   "cell_type": "code",
   "execution_count": 10,
   "metadata": {},
   "outputs": [
    {
     "data": {
      "text/html": [
       "<table class=\"data-frame\"><thead><tr><th></th><th>timestamp</th><th>e_consumption</th><th>e_production</th><th>e_charger</th><th>h_countdown</th><th>soc_ev</th></tr><tr><th></th><th>ZonedDa…</th><th>Float64</th><th>Float64</th><th>Float64</th><th>Float64?</th><th>Float64?</th></tr></thead><tbody><p>8,760 rows × 6 columns</p><tr><th>1</th><td>2020-11-01T00:00:00+01:00</td><td>0.15</td><td>0.0</td><td>0.0</td><td>9.25</td><td>1.0</td></tr><tr><th>2</th><td>2020-11-01T01:00:00+01:00</td><td>0.153</td><td>0.0</td><td>0.0</td><td>8.25</td><td>1.0</td></tr><tr><th>3</th><td>2020-11-01T02:00:00+01:00</td><td>0.151</td><td>0.0</td><td>0.0</td><td>7.25</td><td>1.0</td></tr><tr><th>4</th><td>2020-11-01T03:00:00+01:00</td><td>0.15</td><td>0.0</td><td>0.0</td><td>6.25</td><td>1.0</td></tr><tr><th>5</th><td>2020-11-01T04:00:00+01:00</td><td>0.145</td><td>0.0</td><td>0.0</td><td>5.25</td><td>1.0</td></tr><tr><th>6</th><td>2020-11-01T05:00:00+01:00</td><td>0.143</td><td>0.0</td><td>0.0</td><td>4.25</td><td>1.0</td></tr><tr><th>7</th><td>2020-11-01T06:00:00+01:00</td><td>0.16</td><td>0.0</td><td>0.0</td><td>3.25</td><td>1.0</td></tr><tr><th>8</th><td>2020-11-01T07:00:00+01:00</td><td>0.246</td><td>0.05</td><td>0.0</td><td>2.25</td><td>1.0</td></tr><tr><th>9</th><td>2020-11-01T08:00:00+01:00</td><td>0.245</td><td>0.099</td><td>0.0</td><td>1.25</td><td>1.0</td></tr><tr><th>10</th><td>2020-11-01T09:00:00+01:00</td><td>1.2</td><td>0.329</td><td>0.0</td><td>0.25</td><td>1.0</td></tr><tr><th>11</th><td>2020-11-01T10:00:00+01:00</td><td>0.695</td><td>0.696</td><td>0.0</td><td>0.0</td><td>1.0</td></tr><tr><th>12</th><td>2020-11-01T11:00:00+01:00</td><td>0.44</td><td>0.589</td><td>0.0</td><td>0.0</td><td>1.0</td></tr><tr><th>13</th><td>2020-11-01T12:00:00+01:00</td><td>1.306</td><td>0.644</td><td>0.0</td><td>0.0</td><td>1.0</td></tr><tr><th>14</th><td>2020-11-01T13:00:00+01:00</td><td>0.301</td><td>0.329</td><td>0.0</td><td>0.0</td><td>1.0</td></tr><tr><th>15</th><td>2020-11-01T14:00:00+01:00</td><td>2.217</td><td>0.078</td><td>0.0</td><td>0.0</td><td>1.0</td></tr><tr><th>16</th><td>2020-11-01T15:00:00+01:00</td><td>1.113</td><td>0.001</td><td>0.0</td><td>0.0</td><td>1.0</td></tr><tr><th>17</th><td>2020-11-01T16:00:00+01:00</td><td>0.238</td><td>0.0</td><td>0.0</td><td>0.0</td><td>1.0</td></tr><tr><th>18</th><td>2020-11-01T17:00:00+01:00</td><td>0.25</td><td>0.0</td><td>0.0</td><td>0.0</td><td>1.0</td></tr><tr><th>19</th><td>2020-11-01T18:00:00+01:00</td><td>0.219</td><td>0.0</td><td>0.0</td><td>0.0</td><td>1.0</td></tr><tr><th>20</th><td>2020-11-01T19:00:00+01:00</td><td>0.435</td><td>0.0</td><td>0.0</td><td>0.0</td><td>1.0</td></tr><tr><th>21</th><td>2020-11-01T20:00:00+01:00</td><td>0.269</td><td>0.0</td><td>0.0</td><td>0.0</td><td>1.0</td></tr><tr><th>22</th><td>2020-11-01T21:00:00+01:00</td><td>0.187</td><td>0.0</td><td>0.0</td><td>0.0</td><td>1.0</td></tr><tr><th>23</th><td>2020-11-01T22:00:00+01:00</td><td>0.178</td><td>0.0</td><td>0.0</td><td>0.0</td><td>1.0</td></tr><tr><th>24</th><td>2020-11-01T23:00:00+01:00</td><td>0.142</td><td>0.0</td><td>0.0</td><td>0.0</td><td>1.0</td></tr><tr><th>&vellip;</th><td>&vellip;</td><td>&vellip;</td><td>&vellip;</td><td>&vellip;</td><td>&vellip;</td><td>&vellip;</td></tr></tbody></table>"
      ],
      "text/latex": [
       "\\begin{tabular}{r|cccccc}\n",
       "\t& timestamp & e\\_consumption & e\\_production & e\\_charger & h\\_countdown & soc\\_ev\\\\\n",
       "\t\\hline\n",
       "\t& ZonedDa… & Float64 & Float64 & Float64 & Float64? & Float64?\\\\\n",
       "\t\\hline\n",
       "\t1 & 2020-11-01T00:00:00+01:00 & 0.15 & 0.0 & 0.0 & 9.25 & 1.0 \\\\\n",
       "\t2 & 2020-11-01T01:00:00+01:00 & 0.153 & 0.0 & 0.0 & 8.25 & 1.0 \\\\\n",
       "\t3 & 2020-11-01T02:00:00+01:00 & 0.151 & 0.0 & 0.0 & 7.25 & 1.0 \\\\\n",
       "\t4 & 2020-11-01T03:00:00+01:00 & 0.15 & 0.0 & 0.0 & 6.25 & 1.0 \\\\\n",
       "\t5 & 2020-11-01T04:00:00+01:00 & 0.145 & 0.0 & 0.0 & 5.25 & 1.0 \\\\\n",
       "\t6 & 2020-11-01T05:00:00+01:00 & 0.143 & 0.0 & 0.0 & 4.25 & 1.0 \\\\\n",
       "\t7 & 2020-11-01T06:00:00+01:00 & 0.16 & 0.0 & 0.0 & 3.25 & 1.0 \\\\\n",
       "\t8 & 2020-11-01T07:00:00+01:00 & 0.246 & 0.05 & 0.0 & 2.25 & 1.0 \\\\\n",
       "\t9 & 2020-11-01T08:00:00+01:00 & 0.245 & 0.099 & 0.0 & 1.25 & 1.0 \\\\\n",
       "\t10 & 2020-11-01T09:00:00+01:00 & 1.2 & 0.329 & 0.0 & 0.25 & 1.0 \\\\\n",
       "\t11 & 2020-11-01T10:00:00+01:00 & 0.695 & 0.696 & 0.0 & 0.0 & 1.0 \\\\\n",
       "\t12 & 2020-11-01T11:00:00+01:00 & 0.44 & 0.589 & 0.0 & 0.0 & 1.0 \\\\\n",
       "\t13 & 2020-11-01T12:00:00+01:00 & 1.306 & 0.644 & 0.0 & 0.0 & 1.0 \\\\\n",
       "\t14 & 2020-11-01T13:00:00+01:00 & 0.301 & 0.329 & 0.0 & 0.0 & 1.0 \\\\\n",
       "\t15 & 2020-11-01T14:00:00+01:00 & 2.217 & 0.078 & 0.0 & 0.0 & 1.0 \\\\\n",
       "\t16 & 2020-11-01T15:00:00+01:00 & 1.113 & 0.001 & 0.0 & 0.0 & 1.0 \\\\\n",
       "\t17 & 2020-11-01T16:00:00+01:00 & 0.238 & 0.0 & 0.0 & 0.0 & 1.0 \\\\\n",
       "\t18 & 2020-11-01T17:00:00+01:00 & 0.25 & 0.0 & 0.0 & 0.0 & 1.0 \\\\\n",
       "\t19 & 2020-11-01T18:00:00+01:00 & 0.219 & 0.0 & 0.0 & 0.0 & 1.0 \\\\\n",
       "\t20 & 2020-11-01T19:00:00+01:00 & 0.435 & 0.0 & 0.0 & 0.0 & 1.0 \\\\\n",
       "\t21 & 2020-11-01T20:00:00+01:00 & 0.269 & 0.0 & 0.0 & 0.0 & 1.0 \\\\\n",
       "\t22 & 2020-11-01T21:00:00+01:00 & 0.187 & 0.0 & 0.0 & 0.0 & 1.0 \\\\\n",
       "\t23 & 2020-11-01T22:00:00+01:00 & 0.178 & 0.0 & 0.0 & 0.0 & 1.0 \\\\\n",
       "\t24 & 2020-11-01T23:00:00+01:00 & 0.142 & 0.0 & 0.0 & 0.0 & 1.0 \\\\\n",
       "\t$\\dots$ & $\\dots$ & $\\dots$ & $\\dots$ & $\\dots$ & $\\dots$ & $\\dots$ \\\\\n",
       "\\end{tabular}\n"
      ],
      "text/plain": [
       "\u001b[1m8760×6 DataFrame\u001b[0m\n",
       "\u001b[1m  Row \u001b[0m│\u001b[1m timestamp                 \u001b[0m\u001b[1m e_consumption \u001b[0m\u001b[1m e_production \u001b[0m\u001b[1m e_charger \u001b[0m\u001b[1m h_countdown \u001b[0m\u001b[1m soc_ev   \u001b[0m\n",
       "\u001b[1m      \u001b[0m│\u001b[90m ZonedDat…                 \u001b[0m\u001b[90m Float64       \u001b[0m\u001b[90m Float64      \u001b[0m\u001b[90m Float64   \u001b[0m\u001b[90m Float64?    \u001b[0m\u001b[90m Float64? \u001b[0m\n",
       "──────┼──────────────────────────────────────────────────────────────────────────────────────────\n",
       "    1 │ 2020-11-01T00:00:00+01:00          0.15          0.0          0.0         9.25       1.0\n",
       "    2 │ 2020-11-01T01:00:00+01:00          0.153         0.0          0.0         8.25       1.0\n",
       "    3 │ 2020-11-01T02:00:00+01:00          0.151         0.0          0.0         7.25       1.0\n",
       "    4 │ 2020-11-01T03:00:00+01:00          0.15          0.0          0.0         6.25       1.0\n",
       "    5 │ 2020-11-01T04:00:00+01:00          0.145         0.0          0.0         5.25       1.0\n",
       "    6 │ 2020-11-01T05:00:00+01:00          0.143         0.0          0.0         4.25       1.0\n",
       "    7 │ 2020-11-01T06:00:00+01:00          0.16          0.0          0.0         3.25       1.0\n",
       "    8 │ 2020-11-01T07:00:00+01:00          0.246         0.05         0.0         2.25       1.0\n",
       "  ⋮   │             ⋮                    ⋮             ⋮            ⋮           ⋮          ⋮\n",
       " 8754 │ 2021-10-31T17:00:00+01:00          0.281         0.0          0.0         0.0        1.0\n",
       " 8755 │ 2021-10-31T18:00:00+01:00          0.286         0.0          0.0         0.0        1.0\n",
       " 8756 │ 2021-10-31T19:00:00+01:00          0.248         0.0          0.0         0.0        1.0\n",
       " 8757 │ 2021-10-31T20:00:00+01:00          0.204         0.0          0.0         0.0        1.0\n",
       " 8758 │ 2021-10-31T21:00:00+01:00          0.223         0.0          0.0         0.0        1.0\n",
       " 8759 │ 2021-10-31T22:00:00+01:00          0.202         0.0          0.0         0.0        1.0\n",
       " 8760 │ 2021-10-31T23:00:00+01:00          0.174         0.0          0.0         0.0        1.0\n",
       "\u001b[36m                                                                                8745 rows omitted\u001b[0m"
      ]
     },
     "metadata": {},
     "output_type": "display_data"
    }
   ],
   "source": [
    "# Resample the data to 1-hour intervals\n",
    "df_resampled = resample(df, :timestamp, Dates.Hour(1))"
   ]
  },
  {
   "cell_type": "code",
   "execution_count": 38,
   "metadata": {},
   "outputs": [
    {
     "data": {
      "text/plain": [
       "8760-element Vector{Union{Missing, Float64}}:\n",
       " 0.0\n",
       " 0.0\n",
       " 0.0\n",
       " 0.0\n",
       " 0.0\n",
       " 0.0\n",
       " 0.0\n",
       " 0.0\n",
       " 0.0\n",
       " 0.0\n",
       " ⋮\n",
       " 0.0\n",
       " 0.0\n",
       " 0.0\n",
       " 0.0\n",
       " 0.0\n",
       " 0.0\n",
       " 0.0\n",
       " 0.0\n",
       " 0.0"
      ]
     },
     "metadata": {},
     "output_type": "display_data"
    }
   ],
   "source": [
    "# Change the type of the chargekwh column to Union{Missing, Float64}\n",
    "df_resampled.e_charge = convert(Vector{Union{Missing, Float64}}, df_resampled.e_charger)\n"
   ]
  },
  {
   "cell_type": "code",
   "execution_count": 39,
   "metadata": {},
   "outputs": [
    {
     "data": {
      "text/html": [
       "<table class=\"data-frame\"><thead><tr><th></th><th>electkwh</th><th>PV_generation</th><th>chargekwh</th><th>h_countdown</th><th>soc_ev</th><th>month</th><th>day</th><th>hour</th></tr><tr><th></th><th>Float64</th><th>Float64</th><th>Float64</th><th>Float64?</th><th>Float64?</th><th>Int64</th><th>Int64</th><th>Int64</th></tr></thead><tbody><p>8,760 rows × 8 columns</p><tr><th>1</th><td>0.15</td><td>0.0</td><td>0.0</td><td>9.25</td><td>1.0</td><td>11</td><td>1</td><td>0</td></tr><tr><th>2</th><td>0.153</td><td>0.0</td><td>0.0</td><td>8.25</td><td>1.0</td><td>11</td><td>1</td><td>1</td></tr><tr><th>3</th><td>0.151</td><td>0.0</td><td>0.0</td><td>7.25</td><td>1.0</td><td>11</td><td>1</td><td>2</td></tr><tr><th>4</th><td>0.15</td><td>0.0</td><td>0.0</td><td>6.25</td><td>1.0</td><td>11</td><td>1</td><td>3</td></tr><tr><th>5</th><td>0.145</td><td>0.0</td><td>0.0</td><td>5.25</td><td>1.0</td><td>11</td><td>1</td><td>4</td></tr><tr><th>6</th><td>0.143</td><td>0.0</td><td>0.0</td><td>4.25</td><td>1.0</td><td>11</td><td>1</td><td>5</td></tr><tr><th>7</th><td>0.16</td><td>0.0</td><td>0.0</td><td>3.25</td><td>1.0</td><td>11</td><td>1</td><td>6</td></tr><tr><th>8</th><td>0.246</td><td>0.05</td><td>0.0</td><td>2.25</td><td>1.0</td><td>11</td><td>1</td><td>7</td></tr><tr><th>9</th><td>0.245</td><td>0.099</td><td>0.0</td><td>1.25</td><td>1.0</td><td>11</td><td>1</td><td>8</td></tr><tr><th>10</th><td>1.2</td><td>0.329</td><td>0.0</td><td>0.25</td><td>1.0</td><td>11</td><td>1</td><td>9</td></tr><tr><th>11</th><td>0.695</td><td>0.696</td><td>0.0</td><td>0.0</td><td>1.0</td><td>11</td><td>1</td><td>10</td></tr><tr><th>12</th><td>0.44</td><td>0.589</td><td>0.0</td><td>0.0</td><td>1.0</td><td>11</td><td>1</td><td>11</td></tr><tr><th>13</th><td>1.306</td><td>0.644</td><td>0.0</td><td>0.0</td><td>1.0</td><td>11</td><td>1</td><td>12</td></tr><tr><th>14</th><td>0.301</td><td>0.329</td><td>0.0</td><td>0.0</td><td>1.0</td><td>11</td><td>1</td><td>13</td></tr><tr><th>15</th><td>2.217</td><td>0.078</td><td>0.0</td><td>0.0</td><td>1.0</td><td>11</td><td>1</td><td>14</td></tr><tr><th>16</th><td>1.113</td><td>0.001</td><td>0.0</td><td>0.0</td><td>1.0</td><td>11</td><td>1</td><td>15</td></tr><tr><th>17</th><td>0.238</td><td>0.0</td><td>0.0</td><td>0.0</td><td>1.0</td><td>11</td><td>1</td><td>16</td></tr><tr><th>18</th><td>0.25</td><td>0.0</td><td>0.0</td><td>0.0</td><td>1.0</td><td>11</td><td>1</td><td>17</td></tr><tr><th>19</th><td>0.219</td><td>0.0</td><td>0.0</td><td>0.0</td><td>1.0</td><td>11</td><td>1</td><td>18</td></tr><tr><th>20</th><td>0.435</td><td>0.0</td><td>0.0</td><td>0.0</td><td>1.0</td><td>11</td><td>1</td><td>19</td></tr><tr><th>21</th><td>0.269</td><td>0.0</td><td>0.0</td><td>0.0</td><td>1.0</td><td>11</td><td>1</td><td>20</td></tr><tr><th>22</th><td>0.187</td><td>0.0</td><td>0.0</td><td>0.0</td><td>1.0</td><td>11</td><td>1</td><td>21</td></tr><tr><th>23</th><td>0.178</td><td>0.0</td><td>0.0</td><td>0.0</td><td>1.0</td><td>11</td><td>1</td><td>22</td></tr><tr><th>24</th><td>0.142</td><td>0.0</td><td>0.0</td><td>0.0</td><td>1.0</td><td>11</td><td>1</td><td>23</td></tr><tr><th>&vellip;</th><td>&vellip;</td><td>&vellip;</td><td>&vellip;</td><td>&vellip;</td><td>&vellip;</td><td>&vellip;</td><td>&vellip;</td><td>&vellip;</td></tr></tbody></table>"
      ],
      "text/latex": [
       "\\begin{tabular}{r|cccccccc}\n",
       "\t& electkwh & PV\\_generation & chargekwh & h\\_countdown & soc\\_ev & month & day & hour\\\\\n",
       "\t\\hline\n",
       "\t& Float64 & Float64 & Float64 & Float64? & Float64? & Int64 & Int64 & Int64\\\\\n",
       "\t\\hline\n",
       "\t1 & 0.15 & 0.0 & 0.0 & 9.25 & 1.0 & 11 & 1 & 0 \\\\\n",
       "\t2 & 0.153 & 0.0 & 0.0 & 8.25 & 1.0 & 11 & 1 & 1 \\\\\n",
       "\t3 & 0.151 & 0.0 & 0.0 & 7.25 & 1.0 & 11 & 1 & 2 \\\\\n",
       "\t4 & 0.15 & 0.0 & 0.0 & 6.25 & 1.0 & 11 & 1 & 3 \\\\\n",
       "\t5 & 0.145 & 0.0 & 0.0 & 5.25 & 1.0 & 11 & 1 & 4 \\\\\n",
       "\t6 & 0.143 & 0.0 & 0.0 & 4.25 & 1.0 & 11 & 1 & 5 \\\\\n",
       "\t7 & 0.16 & 0.0 & 0.0 & 3.25 & 1.0 & 11 & 1 & 6 \\\\\n",
       "\t8 & 0.246 & 0.05 & 0.0 & 2.25 & 1.0 & 11 & 1 & 7 \\\\\n",
       "\t9 & 0.245 & 0.099 & 0.0 & 1.25 & 1.0 & 11 & 1 & 8 \\\\\n",
       "\t10 & 1.2 & 0.329 & 0.0 & 0.25 & 1.0 & 11 & 1 & 9 \\\\\n",
       "\t11 & 0.695 & 0.696 & 0.0 & 0.0 & 1.0 & 11 & 1 & 10 \\\\\n",
       "\t12 & 0.44 & 0.589 & 0.0 & 0.0 & 1.0 & 11 & 1 & 11 \\\\\n",
       "\t13 & 1.306 & 0.644 & 0.0 & 0.0 & 1.0 & 11 & 1 & 12 \\\\\n",
       "\t14 & 0.301 & 0.329 & 0.0 & 0.0 & 1.0 & 11 & 1 & 13 \\\\\n",
       "\t15 & 2.217 & 0.078 & 0.0 & 0.0 & 1.0 & 11 & 1 & 14 \\\\\n",
       "\t16 & 1.113 & 0.001 & 0.0 & 0.0 & 1.0 & 11 & 1 & 15 \\\\\n",
       "\t17 & 0.238 & 0.0 & 0.0 & 0.0 & 1.0 & 11 & 1 & 16 \\\\\n",
       "\t18 & 0.25 & 0.0 & 0.0 & 0.0 & 1.0 & 11 & 1 & 17 \\\\\n",
       "\t19 & 0.219 & 0.0 & 0.0 & 0.0 & 1.0 & 11 & 1 & 18 \\\\\n",
       "\t20 & 0.435 & 0.0 & 0.0 & 0.0 & 1.0 & 11 & 1 & 19 \\\\\n",
       "\t21 & 0.269 & 0.0 & 0.0 & 0.0 & 1.0 & 11 & 1 & 20 \\\\\n",
       "\t22 & 0.187 & 0.0 & 0.0 & 0.0 & 1.0 & 11 & 1 & 21 \\\\\n",
       "\t23 & 0.178 & 0.0 & 0.0 & 0.0 & 1.0 & 11 & 1 & 22 \\\\\n",
       "\t24 & 0.142 & 0.0 & 0.0 & 0.0 & 1.0 & 11 & 1 & 23 \\\\\n",
       "\t$\\dots$ & $\\dots$ & $\\dots$ & $\\dots$ & $\\dots$ & $\\dots$ & $\\dots$ & $\\dots$ & $\\dots$ \\\\\n",
       "\\end{tabular}\n"
      ],
      "text/plain": [
       "\u001b[1m8760×8 DataFrame\u001b[0m\n",
       "\u001b[1m  Row \u001b[0m│\u001b[1m electkwh \u001b[0m\u001b[1m PV_generation \u001b[0m\u001b[1m chargekwh \u001b[0m\u001b[1m h_countdown \u001b[0m\u001b[1m soc_ev   \u001b[0m\u001b[1m month \u001b[0m\u001b[1m day   \u001b[0m\u001b[1m hour  \u001b[0m\n",
       "\u001b[1m      \u001b[0m│\u001b[90m Float64  \u001b[0m\u001b[90m Float64       \u001b[0m\u001b[90m Float64   \u001b[0m\u001b[90m Float64?    \u001b[0m\u001b[90m Float64? \u001b[0m\u001b[90m Int64 \u001b[0m\u001b[90m Int64 \u001b[0m\u001b[90m Int64 \u001b[0m\n",
       "──────┼────────────────────────────────────────────────────────────────────────────────\n",
       "    1 │    0.15           0.0          0.0         9.25       1.0     11      1      0\n",
       "    2 │    0.153          0.0          0.0         8.25       1.0     11      1      1\n",
       "    3 │    0.151          0.0          0.0         7.25       1.0     11      1      2\n",
       "    4 │    0.15           0.0          0.0         6.25       1.0     11      1      3\n",
       "    5 │    0.145          0.0          0.0         5.25       1.0     11      1      4\n",
       "    6 │    0.143          0.0          0.0         4.25       1.0     11      1      5\n",
       "    7 │    0.16           0.0          0.0         3.25       1.0     11      1      6\n",
       "    8 │    0.246          0.05         0.0         2.25       1.0     11      1      7\n",
       "  ⋮   │    ⋮            ⋮            ⋮           ⋮          ⋮        ⋮      ⋮      ⋮\n",
       " 8754 │    0.281          0.0          0.0         0.0        1.0     10     31     17\n",
       " 8755 │    0.286          0.0          0.0         0.0        1.0     10     31     18\n",
       " 8756 │    0.248          0.0          0.0         0.0        1.0     10     31     19\n",
       " 8757 │    0.204          0.0          0.0         0.0        1.0     10     31     20\n",
       " 8758 │    0.223          0.0          0.0         0.0        1.0     10     31     21\n",
       " 8759 │    0.202          0.0          0.0         0.0        1.0     10     31     22\n",
       " 8760 │    0.174          0.0          0.0         0.0        1.0     10     31     23\n",
       "\u001b[36m                                                                      8745 rows omitted\u001b[0m"
      ]
     },
     "metadata": {},
     "output_type": "display_data"
    }
   ],
   "source": [
    "# Create a new DataFrame with the desired structure\n",
    "new_df = DataFrame(\n",
    "    electkwh = df_resampled.e_consumption,\n",
    "    PV_generation = df_resampled.e_production,\n",
    "    chargekwh = df_resampled.e_charger,\n",
    "    h_countdown = df_resampled.h_countdown,\n",
    "    soc_ev = df_resampled.soc_ev,\n",
    "    month = month.(DateTime.(df_resampled.timestamp)),\n",
    "    day = day.(DateTime.(df_resampled.timestamp)),\n",
    "    hour = hour.(DateTime.(df_resampled.timestamp))\n",
    ")"
   ]
  },
  {
   "cell_type": "code",
   "execution_count": 41,
   "metadata": {},
   "outputs": [
    {
     "data": {
      "text/plain": [
       "8074-element view(::Vector{Union{Missing, Float64}}, [11, 12, 13, 14, 15, 16, 17, 18, 19, 20  …  8751, 8752, 8753, 8754, 8755, 8756, 8757, 8758, 8759, 8760]) with eltype Union{Missing, Float64}:\n",
       " missing\n",
       " missing\n",
       " missing\n",
       " missing\n",
       " missing\n",
       " missing\n",
       " missing\n",
       " missing\n",
       " missing\n",
       " missing\n",
       " ⋮\n",
       " missing\n",
       " missing\n",
       " missing\n",
       " missing\n",
       " missing\n",
       " missing\n",
       " missing\n",
       " missing\n",
       " missing"
      ]
     },
     "metadata": {},
     "output_type": "display_data"
    }
   ],
   "source": [
    "\n",
    "# Change the type of the chargekwh column to Union{Missing, Float64}\n",
    "new_df.chargekwh = convert(Vector{Union{Missing, Float64}}, new_df.chargekwh)\n",
    "\n",
    "# In every row where h_countdown is 0, set chargekwh to 'missing'\n",
    "new_df[new_df.h_countdown .== 0, :chargekwh] .= missing"
   ]
  },
  {
   "cell_type": "code",
   "execution_count": 42,
   "metadata": {},
   "outputs": [
    {
     "data": {
      "text/html": [
       "<table class=\"data-frame\"><thead><tr><th></th><th>electkwh</th><th>PV_generation</th><th>chargekwh</th><th>h_countdown</th><th>soc_ev</th><th>month</th><th>day</th><th>hour</th></tr><tr><th></th><th>Float64</th><th>Float64</th><th>Float64?</th><th>Float64?</th><th>Float64?</th><th>Int64</th><th>Int64</th><th>Int64</th></tr></thead><tbody><p>8,760 rows × 8 columns</p><tr><th>1</th><td>0.15</td><td>0.0</td><td>0.0</td><td>9.25</td><td>1.0</td><td>11</td><td>1</td><td>0</td></tr><tr><th>2</th><td>0.153</td><td>0.0</td><td>0.0</td><td>8.25</td><td>1.0</td><td>11</td><td>1</td><td>1</td></tr><tr><th>3</th><td>0.151</td><td>0.0</td><td>0.0</td><td>7.25</td><td>1.0</td><td>11</td><td>1</td><td>2</td></tr><tr><th>4</th><td>0.15</td><td>0.0</td><td>0.0</td><td>6.25</td><td>1.0</td><td>11</td><td>1</td><td>3</td></tr><tr><th>5</th><td>0.145</td><td>0.0</td><td>0.0</td><td>5.25</td><td>1.0</td><td>11</td><td>1</td><td>4</td></tr><tr><th>6</th><td>0.143</td><td>0.0</td><td>0.0</td><td>4.25</td><td>1.0</td><td>11</td><td>1</td><td>5</td></tr><tr><th>7</th><td>0.16</td><td>0.0</td><td>0.0</td><td>3.25</td><td>1.0</td><td>11</td><td>1</td><td>6</td></tr><tr><th>8</th><td>0.246</td><td>0.05</td><td>0.0</td><td>2.25</td><td>1.0</td><td>11</td><td>1</td><td>7</td></tr><tr><th>9</th><td>0.245</td><td>0.099</td><td>0.0</td><td>1.25</td><td>1.0</td><td>11</td><td>1</td><td>8</td></tr><tr><th>10</th><td>1.2</td><td>0.329</td><td>0.0</td><td>0.25</td><td>1.0</td><td>11</td><td>1</td><td>9</td></tr><tr><th>11</th><td>0.695</td><td>0.696</td><td><em>missing</em></td><td>0.0</td><td>1.0</td><td>11</td><td>1</td><td>10</td></tr><tr><th>12</th><td>0.44</td><td>0.589</td><td><em>missing</em></td><td>0.0</td><td>1.0</td><td>11</td><td>1</td><td>11</td></tr><tr><th>13</th><td>1.306</td><td>0.644</td><td><em>missing</em></td><td>0.0</td><td>1.0</td><td>11</td><td>1</td><td>12</td></tr><tr><th>14</th><td>0.301</td><td>0.329</td><td><em>missing</em></td><td>0.0</td><td>1.0</td><td>11</td><td>1</td><td>13</td></tr><tr><th>15</th><td>2.217</td><td>0.078</td><td><em>missing</em></td><td>0.0</td><td>1.0</td><td>11</td><td>1</td><td>14</td></tr><tr><th>16</th><td>1.113</td><td>0.001</td><td><em>missing</em></td><td>0.0</td><td>1.0</td><td>11</td><td>1</td><td>15</td></tr><tr><th>17</th><td>0.238</td><td>0.0</td><td><em>missing</em></td><td>0.0</td><td>1.0</td><td>11</td><td>1</td><td>16</td></tr><tr><th>18</th><td>0.25</td><td>0.0</td><td><em>missing</em></td><td>0.0</td><td>1.0</td><td>11</td><td>1</td><td>17</td></tr><tr><th>19</th><td>0.219</td><td>0.0</td><td><em>missing</em></td><td>0.0</td><td>1.0</td><td>11</td><td>1</td><td>18</td></tr><tr><th>20</th><td>0.435</td><td>0.0</td><td><em>missing</em></td><td>0.0</td><td>1.0</td><td>11</td><td>1</td><td>19</td></tr><tr><th>21</th><td>0.269</td><td>0.0</td><td><em>missing</em></td><td>0.0</td><td>1.0</td><td>11</td><td>1</td><td>20</td></tr><tr><th>22</th><td>0.187</td><td>0.0</td><td><em>missing</em></td><td>0.0</td><td>1.0</td><td>11</td><td>1</td><td>21</td></tr><tr><th>23</th><td>0.178</td><td>0.0</td><td><em>missing</em></td><td>0.0</td><td>1.0</td><td>11</td><td>1</td><td>22</td></tr><tr><th>24</th><td>0.142</td><td>0.0</td><td><em>missing</em></td><td>0.0</td><td>1.0</td><td>11</td><td>1</td><td>23</td></tr><tr><th>&vellip;</th><td>&vellip;</td><td>&vellip;</td><td>&vellip;</td><td>&vellip;</td><td>&vellip;</td><td>&vellip;</td><td>&vellip;</td><td>&vellip;</td></tr></tbody></table>"
      ],
      "text/latex": [
       "\\begin{tabular}{r|cccccccc}\n",
       "\t& electkwh & PV\\_generation & chargekwh & h\\_countdown & soc\\_ev & month & day & hour\\\\\n",
       "\t\\hline\n",
       "\t& Float64 & Float64 & Float64? & Float64? & Float64? & Int64 & Int64 & Int64\\\\\n",
       "\t\\hline\n",
       "\t1 & 0.15 & 0.0 & 0.0 & 9.25 & 1.0 & 11 & 1 & 0 \\\\\n",
       "\t2 & 0.153 & 0.0 & 0.0 & 8.25 & 1.0 & 11 & 1 & 1 \\\\\n",
       "\t3 & 0.151 & 0.0 & 0.0 & 7.25 & 1.0 & 11 & 1 & 2 \\\\\n",
       "\t4 & 0.15 & 0.0 & 0.0 & 6.25 & 1.0 & 11 & 1 & 3 \\\\\n",
       "\t5 & 0.145 & 0.0 & 0.0 & 5.25 & 1.0 & 11 & 1 & 4 \\\\\n",
       "\t6 & 0.143 & 0.0 & 0.0 & 4.25 & 1.0 & 11 & 1 & 5 \\\\\n",
       "\t7 & 0.16 & 0.0 & 0.0 & 3.25 & 1.0 & 11 & 1 & 6 \\\\\n",
       "\t8 & 0.246 & 0.05 & 0.0 & 2.25 & 1.0 & 11 & 1 & 7 \\\\\n",
       "\t9 & 0.245 & 0.099 & 0.0 & 1.25 & 1.0 & 11 & 1 & 8 \\\\\n",
       "\t10 & 1.2 & 0.329 & 0.0 & 0.25 & 1.0 & 11 & 1 & 9 \\\\\n",
       "\t11 & 0.695 & 0.696 & \\emph{missing} & 0.0 & 1.0 & 11 & 1 & 10 \\\\\n",
       "\t12 & 0.44 & 0.589 & \\emph{missing} & 0.0 & 1.0 & 11 & 1 & 11 \\\\\n",
       "\t13 & 1.306 & 0.644 & \\emph{missing} & 0.0 & 1.0 & 11 & 1 & 12 \\\\\n",
       "\t14 & 0.301 & 0.329 & \\emph{missing} & 0.0 & 1.0 & 11 & 1 & 13 \\\\\n",
       "\t15 & 2.217 & 0.078 & \\emph{missing} & 0.0 & 1.0 & 11 & 1 & 14 \\\\\n",
       "\t16 & 1.113 & 0.001 & \\emph{missing} & 0.0 & 1.0 & 11 & 1 & 15 \\\\\n",
       "\t17 & 0.238 & 0.0 & \\emph{missing} & 0.0 & 1.0 & 11 & 1 & 16 \\\\\n",
       "\t18 & 0.25 & 0.0 & \\emph{missing} & 0.0 & 1.0 & 11 & 1 & 17 \\\\\n",
       "\t19 & 0.219 & 0.0 & \\emph{missing} & 0.0 & 1.0 & 11 & 1 & 18 \\\\\n",
       "\t20 & 0.435 & 0.0 & \\emph{missing} & 0.0 & 1.0 & 11 & 1 & 19 \\\\\n",
       "\t21 & 0.269 & 0.0 & \\emph{missing} & 0.0 & 1.0 & 11 & 1 & 20 \\\\\n",
       "\t22 & 0.187 & 0.0 & \\emph{missing} & 0.0 & 1.0 & 11 & 1 & 21 \\\\\n",
       "\t23 & 0.178 & 0.0 & \\emph{missing} & 0.0 & 1.0 & 11 & 1 & 22 \\\\\n",
       "\t24 & 0.142 & 0.0 & \\emph{missing} & 0.0 & 1.0 & 11 & 1 & 23 \\\\\n",
       "\t$\\dots$ & $\\dots$ & $\\dots$ & $\\dots$ & $\\dots$ & $\\dots$ & $\\dots$ & $\\dots$ & $\\dots$ \\\\\n",
       "\\end{tabular}\n"
      ],
      "text/plain": [
       "\u001b[1m8760×8 DataFrame\u001b[0m\n",
       "\u001b[1m  Row \u001b[0m│\u001b[1m electkwh \u001b[0m\u001b[1m PV_generation \u001b[0m\u001b[1m chargekwh \u001b[0m\u001b[1m h_countdown \u001b[0m\u001b[1m soc_ev   \u001b[0m\u001b[1m month \u001b[0m\u001b[1m day   \u001b[0m\u001b[1m hour  \u001b[0m\n",
       "\u001b[1m      \u001b[0m│\u001b[90m Float64  \u001b[0m\u001b[90m Float64       \u001b[0m\u001b[90m Float64?  \u001b[0m\u001b[90m Float64?    \u001b[0m\u001b[90m Float64? \u001b[0m\u001b[90m Int64 \u001b[0m\u001b[90m Int64 \u001b[0m\u001b[90m Int64 \u001b[0m\n",
       "──────┼────────────────────────────────────────────────────────────────────────────────\n",
       "    1 │    0.15           0.0          0.0         9.25       1.0     11      1      0\n",
       "    2 │    0.153          0.0          0.0         8.25       1.0     11      1      1\n",
       "    3 │    0.151          0.0          0.0         7.25       1.0     11      1      2\n",
       "    4 │    0.15           0.0          0.0         6.25       1.0     11      1      3\n",
       "    5 │    0.145          0.0          0.0         5.25       1.0     11      1      4\n",
       "    6 │    0.143          0.0          0.0         4.25       1.0     11      1      5\n",
       "    7 │    0.16           0.0          0.0         3.25       1.0     11      1      6\n",
       "    8 │    0.246          0.05         0.0         2.25       1.0     11      1      7\n",
       "  ⋮   │    ⋮            ⋮            ⋮           ⋮          ⋮        ⋮      ⋮      ⋮\n",
       " 8754 │    0.281          0.0   \u001b[90m missing   \u001b[0m        0.0        1.0     10     31     17\n",
       " 8755 │    0.286          0.0   \u001b[90m missing   \u001b[0m        0.0        1.0     10     31     18\n",
       " 8756 │    0.248          0.0   \u001b[90m missing   \u001b[0m        0.0        1.0     10     31     19\n",
       " 8757 │    0.204          0.0   \u001b[90m missing   \u001b[0m        0.0        1.0     10     31     20\n",
       " 8758 │    0.223          0.0   \u001b[90m missing   \u001b[0m        0.0        1.0     10     31     21\n",
       " 8759 │    0.202          0.0   \u001b[90m missing   \u001b[0m        0.0        1.0     10     31     22\n",
       " 8760 │    0.174          0.0   \u001b[90m missing   \u001b[0m        0.0        1.0     10     31     23\n",
       "\u001b[36m                                                                      8745 rows omitted\u001b[0m"
      ]
     },
     "metadata": {},
     "output_type": "display_data"
    }
   ],
   "source": [
    "new_df"
   ]
  },
  {
   "cell_type": "code",
   "execution_count": 43,
   "metadata": {},
   "outputs": [],
   "source": [
    "\n",
    "\n",
    "# Increase every value of h_countdown to the next higher integer\n",
    "new_df.h_countdown = ceil.(new_df.h_countdown)\n",
    "\n",
    "# For every row, where h_countdown has a value bigger than 0: \n",
    "# if the very next row has the same value in h_coundown, then increase the value by one\n",
    "for i in 1:(nrow(new_df) - 1)\n",
    "    if new_df[i, :h_countdown] > 0 && new_df[i, :h_countdown] == new_df[i + 1, :h_countdown]\n",
    "        new_df[i, :h_countdown] += 1\n",
    "    end\n",
    "end\n"
   ]
  },
  {
   "cell_type": "code",
   "execution_count": 44,
   "metadata": {},
   "outputs": [
    {
     "data": {
      "text/plain": [
       "\"data/sonnenCharger01_datafile_all.csv\""
      ]
     },
     "metadata": {},
     "output_type": "display_data"
    }
   ],
   "source": [
    "# Write the new DataFrame to a CSV file in the specified path\n",
    "CSV.write(\"data/sonnen$(ID)_datafile_all.csv\", new_df)"
   ]
  },
  {
   "cell_type": "code",
   "execution_count": 45,
   "metadata": {},
   "outputs": [
    {
     "data": {
      "text/html": [
       "<table class=\"data-frame\"><thead><tr><th></th><th>electkwh</th><th>PV_generation</th><th>chargekwh</th><th>h_countdown</th><th>soc_ev</th><th>month</th><th>day</th><th>hour</th></tr><tr><th></th><th>Float64</th><th>Float64</th><th>Float64?</th><th>Float64</th><th>Float64?</th><th>Int64</th><th>Int64</th><th>Int64</th></tr></thead><tbody><p>8,760 rows × 8 columns</p><tr><th>1</th><td>0.15</td><td>0.0</td><td>0.0</td><td>10.0</td><td>1.0</td><td>11</td><td>1</td><td>0</td></tr><tr><th>2</th><td>0.153</td><td>0.0</td><td>0.0</td><td>9.0</td><td>1.0</td><td>11</td><td>1</td><td>1</td></tr><tr><th>3</th><td>0.151</td><td>0.0</td><td>0.0</td><td>8.0</td><td>1.0</td><td>11</td><td>1</td><td>2</td></tr><tr><th>4</th><td>0.15</td><td>0.0</td><td>0.0</td><td>7.0</td><td>1.0</td><td>11</td><td>1</td><td>3</td></tr><tr><th>5</th><td>0.145</td><td>0.0</td><td>0.0</td><td>6.0</td><td>1.0</td><td>11</td><td>1</td><td>4</td></tr><tr><th>6</th><td>0.143</td><td>0.0</td><td>0.0</td><td>5.0</td><td>1.0</td><td>11</td><td>1</td><td>5</td></tr><tr><th>7</th><td>0.16</td><td>0.0</td><td>0.0</td><td>4.0</td><td>1.0</td><td>11</td><td>1</td><td>6</td></tr><tr><th>8</th><td>0.246</td><td>0.05</td><td>0.0</td><td>3.0</td><td>1.0</td><td>11</td><td>1</td><td>7</td></tr><tr><th>9</th><td>0.245</td><td>0.099</td><td>0.0</td><td>2.0</td><td>1.0</td><td>11</td><td>1</td><td>8</td></tr><tr><th>10</th><td>1.2</td><td>0.329</td><td>0.0</td><td>1.0</td><td>1.0</td><td>11</td><td>1</td><td>9</td></tr><tr><th>11</th><td>0.695</td><td>0.696</td><td><em>missing</em></td><td>0.0</td><td>1.0</td><td>11</td><td>1</td><td>10</td></tr><tr><th>12</th><td>0.44</td><td>0.589</td><td><em>missing</em></td><td>0.0</td><td>1.0</td><td>11</td><td>1</td><td>11</td></tr><tr><th>13</th><td>1.306</td><td>0.644</td><td><em>missing</em></td><td>0.0</td><td>1.0</td><td>11</td><td>1</td><td>12</td></tr><tr><th>14</th><td>0.301</td><td>0.329</td><td><em>missing</em></td><td>0.0</td><td>1.0</td><td>11</td><td>1</td><td>13</td></tr><tr><th>15</th><td>2.217</td><td>0.078</td><td><em>missing</em></td><td>0.0</td><td>1.0</td><td>11</td><td>1</td><td>14</td></tr><tr><th>16</th><td>1.113</td><td>0.001</td><td><em>missing</em></td><td>0.0</td><td>1.0</td><td>11</td><td>1</td><td>15</td></tr><tr><th>17</th><td>0.238</td><td>0.0</td><td><em>missing</em></td><td>0.0</td><td>1.0</td><td>11</td><td>1</td><td>16</td></tr><tr><th>18</th><td>0.25</td><td>0.0</td><td><em>missing</em></td><td>0.0</td><td>1.0</td><td>11</td><td>1</td><td>17</td></tr><tr><th>19</th><td>0.219</td><td>0.0</td><td><em>missing</em></td><td>0.0</td><td>1.0</td><td>11</td><td>1</td><td>18</td></tr><tr><th>20</th><td>0.435</td><td>0.0</td><td><em>missing</em></td><td>0.0</td><td>1.0</td><td>11</td><td>1</td><td>19</td></tr><tr><th>21</th><td>0.269</td><td>0.0</td><td><em>missing</em></td><td>0.0</td><td>1.0</td><td>11</td><td>1</td><td>20</td></tr><tr><th>22</th><td>0.187</td><td>0.0</td><td><em>missing</em></td><td>0.0</td><td>1.0</td><td>11</td><td>1</td><td>21</td></tr><tr><th>23</th><td>0.178</td><td>0.0</td><td><em>missing</em></td><td>0.0</td><td>1.0</td><td>11</td><td>1</td><td>22</td></tr><tr><th>24</th><td>0.142</td><td>0.0</td><td><em>missing</em></td><td>0.0</td><td>1.0</td><td>11</td><td>1</td><td>23</td></tr><tr><th>&vellip;</th><td>&vellip;</td><td>&vellip;</td><td>&vellip;</td><td>&vellip;</td><td>&vellip;</td><td>&vellip;</td><td>&vellip;</td><td>&vellip;</td></tr></tbody></table>"
      ],
      "text/latex": [
       "\\begin{tabular}{r|cccccccc}\n",
       "\t& electkwh & PV\\_generation & chargekwh & h\\_countdown & soc\\_ev & month & day & hour\\\\\n",
       "\t\\hline\n",
       "\t& Float64 & Float64 & Float64? & Float64 & Float64? & Int64 & Int64 & Int64\\\\\n",
       "\t\\hline\n",
       "\t1 & 0.15 & 0.0 & 0.0 & 10.0 & 1.0 & 11 & 1 & 0 \\\\\n",
       "\t2 & 0.153 & 0.0 & 0.0 & 9.0 & 1.0 & 11 & 1 & 1 \\\\\n",
       "\t3 & 0.151 & 0.0 & 0.0 & 8.0 & 1.0 & 11 & 1 & 2 \\\\\n",
       "\t4 & 0.15 & 0.0 & 0.0 & 7.0 & 1.0 & 11 & 1 & 3 \\\\\n",
       "\t5 & 0.145 & 0.0 & 0.0 & 6.0 & 1.0 & 11 & 1 & 4 \\\\\n",
       "\t6 & 0.143 & 0.0 & 0.0 & 5.0 & 1.0 & 11 & 1 & 5 \\\\\n",
       "\t7 & 0.16 & 0.0 & 0.0 & 4.0 & 1.0 & 11 & 1 & 6 \\\\\n",
       "\t8 & 0.246 & 0.05 & 0.0 & 3.0 & 1.0 & 11 & 1 & 7 \\\\\n",
       "\t9 & 0.245 & 0.099 & 0.0 & 2.0 & 1.0 & 11 & 1 & 8 \\\\\n",
       "\t10 & 1.2 & 0.329 & 0.0 & 1.0 & 1.0 & 11 & 1 & 9 \\\\\n",
       "\t11 & 0.695 & 0.696 & \\emph{missing} & 0.0 & 1.0 & 11 & 1 & 10 \\\\\n",
       "\t12 & 0.44 & 0.589 & \\emph{missing} & 0.0 & 1.0 & 11 & 1 & 11 \\\\\n",
       "\t13 & 1.306 & 0.644 & \\emph{missing} & 0.0 & 1.0 & 11 & 1 & 12 \\\\\n",
       "\t14 & 0.301 & 0.329 & \\emph{missing} & 0.0 & 1.0 & 11 & 1 & 13 \\\\\n",
       "\t15 & 2.217 & 0.078 & \\emph{missing} & 0.0 & 1.0 & 11 & 1 & 14 \\\\\n",
       "\t16 & 1.113 & 0.001 & \\emph{missing} & 0.0 & 1.0 & 11 & 1 & 15 \\\\\n",
       "\t17 & 0.238 & 0.0 & \\emph{missing} & 0.0 & 1.0 & 11 & 1 & 16 \\\\\n",
       "\t18 & 0.25 & 0.0 & \\emph{missing} & 0.0 & 1.0 & 11 & 1 & 17 \\\\\n",
       "\t19 & 0.219 & 0.0 & \\emph{missing} & 0.0 & 1.0 & 11 & 1 & 18 \\\\\n",
       "\t20 & 0.435 & 0.0 & \\emph{missing} & 0.0 & 1.0 & 11 & 1 & 19 \\\\\n",
       "\t21 & 0.269 & 0.0 & \\emph{missing} & 0.0 & 1.0 & 11 & 1 & 20 \\\\\n",
       "\t22 & 0.187 & 0.0 & \\emph{missing} & 0.0 & 1.0 & 11 & 1 & 21 \\\\\n",
       "\t23 & 0.178 & 0.0 & \\emph{missing} & 0.0 & 1.0 & 11 & 1 & 22 \\\\\n",
       "\t24 & 0.142 & 0.0 & \\emph{missing} & 0.0 & 1.0 & 11 & 1 & 23 \\\\\n",
       "\t$\\dots$ & $\\dots$ & $\\dots$ & $\\dots$ & $\\dots$ & $\\dots$ & $\\dots$ & $\\dots$ & $\\dots$ \\\\\n",
       "\\end{tabular}\n"
      ],
      "text/plain": [
       "\u001b[1m8760×8 DataFrame\u001b[0m\n",
       "\u001b[1m  Row \u001b[0m│\u001b[1m electkwh \u001b[0m\u001b[1m PV_generation \u001b[0m\u001b[1m chargekwh \u001b[0m\u001b[1m h_countdown \u001b[0m\u001b[1m soc_ev   \u001b[0m\u001b[1m month \u001b[0m\u001b[1m day   \u001b[0m\u001b[1m hour  \u001b[0m\n",
       "\u001b[1m      \u001b[0m│\u001b[90m Float64  \u001b[0m\u001b[90m Float64       \u001b[0m\u001b[90m Float64?  \u001b[0m\u001b[90m Float64     \u001b[0m\u001b[90m Float64? \u001b[0m\u001b[90m Int64 \u001b[0m\u001b[90m Int64 \u001b[0m\u001b[90m Int64 \u001b[0m\n",
       "──────┼────────────────────────────────────────────────────────────────────────────────\n",
       "    1 │    0.15           0.0          0.0         10.0       1.0     11      1      0\n",
       "    2 │    0.153          0.0          0.0          9.0       1.0     11      1      1\n",
       "    3 │    0.151          0.0          0.0          8.0       1.0     11      1      2\n",
       "    4 │    0.15           0.0          0.0          7.0       1.0     11      1      3\n",
       "    5 │    0.145          0.0          0.0          6.0       1.0     11      1      4\n",
       "    6 │    0.143          0.0          0.0          5.0       1.0     11      1      5\n",
       "    7 │    0.16           0.0          0.0          4.0       1.0     11      1      6\n",
       "    8 │    0.246          0.05         0.0          3.0       1.0     11      1      7\n",
       "  ⋮   │    ⋮            ⋮            ⋮           ⋮          ⋮        ⋮      ⋮      ⋮\n",
       " 8754 │    0.281          0.0   \u001b[90m missing   \u001b[0m         0.0       1.0     10     31     17\n",
       " 8755 │    0.286          0.0   \u001b[90m missing   \u001b[0m         0.0       1.0     10     31     18\n",
       " 8756 │    0.248          0.0   \u001b[90m missing   \u001b[0m         0.0       1.0     10     31     19\n",
       " 8757 │    0.204          0.0   \u001b[90m missing   \u001b[0m         0.0       1.0     10     31     20\n",
       " 8758 │    0.223          0.0   \u001b[90m missing   \u001b[0m         0.0       1.0     10     31     21\n",
       " 8759 │    0.202          0.0   \u001b[90m missing   \u001b[0m         0.0       1.0     10     31     22\n",
       " 8760 │    0.174          0.0   \u001b[90m missing   \u001b[0m         0.0       1.0     10     31     23\n",
       "\u001b[36m                                                                      8745 rows omitted\u001b[0m"
      ]
     },
     "metadata": {},
     "output_type": "display_data"
    }
   ],
   "source": [
    "#Input_df = CSV.read(\"data/sonnen$(ID)_datafile_all.csv\", DataFrame);\n",
    "\n",
    "Input_df = new_df"
   ]
  },
  {
   "cell_type": "code",
   "execution_count": 46,
   "metadata": {
    "scrolled": true
   },
   "outputs": [
    {
     "data": {
      "text/html": [
       "<table class=\"data-frame\"><thead><tr><th></th><th>variable</th><th>mean</th><th>min</th><th>median</th><th>max</th><th>nmissing</th><th>eltype</th></tr><tr><th></th><th>Symbol</th><th>Float64</th><th>Real</th><th>Float64</th><th>Real</th><th>Int64</th><th>Type</th></tr></thead><tbody><p>8 rows × 7 columns</p><tr><th>1</th><td>electkwh</td><td>0.3135</td><td>0.076</td><td>0.219</td><td>7.182</td><td>0</td><td>Float64</td></tr><tr><th>2</th><td>PV_generation</td><td>1.15828</td><td>0.0</td><td>0.002</td><td>8.253</td><td>0</td><td>Float64</td></tr><tr><th>3</th><td>chargekwh</td><td>2.13401</td><td>0.0</td><td>0.925959</td><td>9.91823</td><td>8074</td><td>Union{Missing, Float64}</td></tr><tr><th>4</th><td>h_countdown</td><td>0.609817</td><td>0.0</td><td>0.0</td><td>28.0</td><td>0</td><td>Float64</td></tr><tr><th>5</th><td>soc_ev</td><td>0.988546</td><td>0.0</td><td>1.0</td><td>1.0</td><td>0</td><td>Union{Missing, Float64}</td></tr><tr><th>6</th><td>month</td><td>6.52683</td><td>1</td><td>7.0</td><td>12</td><td>0</td><td>Int64</td></tr><tr><th>7</th><td>day</td><td>15.7209</td><td>1</td><td>16.0</td><td>31</td><td>0</td><td>Int64</td></tr><tr><th>8</th><td>hour</td><td>11.5</td><td>0</td><td>11.5</td><td>23</td><td>0</td><td>Int64</td></tr></tbody></table>"
      ],
      "text/latex": [
       "\\begin{tabular}{r|ccccccc}\n",
       "\t& variable & mean & min & median & max & nmissing & eltype\\\\\n",
       "\t\\hline\n",
       "\t& Symbol & Float64 & Real & Float64 & Real & Int64 & Type\\\\\n",
       "\t\\hline\n",
       "\t1 & electkwh & 0.3135 & 0.076 & 0.219 & 7.182 & 0 & Float64 \\\\\n",
       "\t2 & PV\\_generation & 1.15828 & 0.0 & 0.002 & 8.253 & 0 & Float64 \\\\\n",
       "\t3 & chargekwh & 2.13401 & 0.0 & 0.925959 & 9.91823 & 8074 & Union\\{Missing, Float64\\} \\\\\n",
       "\t4 & h\\_countdown & 0.609817 & 0.0 & 0.0 & 28.0 & 0 & Float64 \\\\\n",
       "\t5 & soc\\_ev & 0.988546 & 0.0 & 1.0 & 1.0 & 0 & Union\\{Missing, Float64\\} \\\\\n",
       "\t6 & month & 6.52683 & 1 & 7.0 & 12 & 0 & Int64 \\\\\n",
       "\t7 & day & 15.7209 & 1 & 16.0 & 31 & 0 & Int64 \\\\\n",
       "\t8 & hour & 11.5 & 0 & 11.5 & 23 & 0 & Int64 \\\\\n",
       "\\end{tabular}\n"
      ],
      "text/plain": [
       "\u001b[1m8×7 DataFrame\u001b[0m\n",
       "\u001b[1m Row \u001b[0m│\u001b[1m variable      \u001b[0m\u001b[1m mean      \u001b[0m\u001b[1m min   \u001b[0m\u001b[1m median    \u001b[0m\u001b[1m max      \u001b[0m\u001b[1m nmissing \u001b[0m\u001b[1m eltype                  \u001b[0m\n",
       "\u001b[1m     \u001b[0m│\u001b[90m Symbol        \u001b[0m\u001b[90m Float64   \u001b[0m\u001b[90m Real  \u001b[0m\u001b[90m Float64   \u001b[0m\u001b[90m Real     \u001b[0m\u001b[90m Int64    \u001b[0m\u001b[90m Type                    \u001b[0m\n",
       "─────┼─────────────────────────────────────────────────────────────────────────────────────────\n",
       "   1 │ electkwh        0.3135    0.076   0.219      7.182           0  Float64\n",
       "   2 │ PV_generation   1.15828   0.0     0.002      8.253           0  Float64\n",
       "   3 │ chargekwh       2.13401   0.0     0.925959   9.91823      8074  Union{Missing, Float64}\n",
       "   4 │ h_countdown     0.609817  0.0     0.0       28.0             0  Float64\n",
       "   5 │ soc_ev          0.988546  0.0     1.0        1.0             0  Union{Missing, Float64}\n",
       "   6 │ month           6.52683   1       7.0       12               0  Int64\n",
       "   7 │ day            15.7209    1      16.0       31               0  Int64\n",
       "   8 │ hour           11.5       0      11.5       23               0  Int64"
      ]
     },
     "metadata": {},
     "output_type": "display_data"
    }
   ],
   "source": [
    "describe(Input_df)"
   ]
  },
  {
   "cell_type": "code",
   "execution_count": 47,
   "metadata": {},
   "outputs": [
    {
     "data": {
      "text/plain": [
       "1:8760"
      ]
     },
     "metadata": {},
     "output_type": "display_data"
    }
   ],
   "source": [
    "# add new column with number of days\n",
    "Input_df[!, :nday] = 1:nrow(Input_df)"
   ]
  },
  {
   "cell_type": "code",
   "execution_count": 48,
   "metadata": {},
   "outputs": [
    {
     "data": {
      "text/plain": [
       "8760-element Vector{Float64}:\n",
       "  0.15\n",
       "  0.153\n",
       "  0.151\n",
       "  0.15\n",
       "  0.14500000000000002\n",
       "  0.14300000000000002\n",
       "  0.15999999999999998\n",
       "  0.196\n",
       "  0.146\n",
       "  0.8710000000000002\n",
       "  ⋮\n",
       " -0.187\n",
       "  1.1420000000000001\n",
       "  0.281\n",
       "  0.28600000000000003\n",
       "  0.248\n",
       "  0.20400000000000001\n",
       "  0.22299999999999998\n",
       "  0.202\n",
       "  0.174"
      ]
     },
     "metadata": {},
     "output_type": "display_data"
    }
   ],
   "source": [
    "# calculate residual demand\n",
    "Input_df[!, :d_res] = Input_df[!,:electkwh] + coalesce.(Input_df[!,:chargekwh], 0) - Input_df[!,:PV_generation]"
   ]
  },
  {
   "cell_type": "markdown",
   "metadata": {},
   "source": [
    "## Add periodical time representation using cos/sin"
   ]
  },
  {
   "cell_type": "code",
   "execution_count": 49,
   "metadata": {},
   "outputs": [],
   "source": [
    "# add columns with cos and sin values for periodical time values day + month\n",
    "Input_df[!, :hour_cos] = cos.(Input_df[!,:hour] ./ maximum(Input_df[!,:hour]) .* 2*pi);\n",
    "Input_df[!, :hour_sin] = sin.(Input_df[!,:hour] ./ maximum(Input_df[!,:hour]) .* 2*pi);\n",
    "\n",
    "Input_df[!, :month_cos] = cos.(Input_df[!,:month] ./ maximum(Input_df[!,:month]) .* 2*pi);\n",
    "Input_df[!, :month_sin] = sin.(Input_df[!,:month] ./ maximum(Input_df[!,:month]) .* 2*pi);\n",
    "\n",
    "#Input_df[!, :nday_cos] = cos.(Input_df[!,:nday] ./ maximum(Input_df[!,:nday]) .* 2*pi);\n",
    "#Input_df[!, :nday_sin] = sin.(Input_df[!,:nday] ./ maximum(Input_df[!,:nday]) .* 2*pi);"
   ]
  },
  {
   "cell_type": "markdown",
   "metadata": {},
   "source": [
    "## Add seasons"
   ]
  },
  {
   "cell_type": "code",
   "execution_count": 50,
   "metadata": {
    "scrolled": true
   },
   "outputs": [],
   "source": [
    "Input_df[!, :spring] = (Input_df[!,:month] .>= 3) .* (Input_df[!,:month] .<= 5);\n",
    "Input_df[!, :summer] = (Input_df[!,:month] .>= 6) .* (Input_df[!,:month] .<= 8);\n",
    "Input_df[!, :autumn] = (Input_df[!,:month] .>= 9) .* (Input_df[!,:month] .<= 11);\n",
    "Input_df[!, :winter] = convert.(Bool, (Input_df[!,:month] .>= 12) .+ (Input_df[!,:month] .<= 2));\n",
    "\n",
    "Input_df[!, :season] = ifelse.(Input_df[!,:spring] .== true, 1,\n",
    "                        ifelse.(Input_df[!,:summer] .== true, 2,\n",
    "                        ifelse.(Input_df[!,:autumn] .== true, 3, \n",
    "                        4)));"
   ]
  },
  {
   "cell_type": "code",
   "execution_count": 51,
   "metadata": {
    "scrolled": false
   },
   "outputs": [
    {
     "data": {
      "text/html": [
       "<table class=\"data-frame\"><thead><tr><th></th><th>variable</th><th>mean</th><th>min</th><th>median</th><th>max</th><th>nmissing</th><th>eltype</th></tr><tr><th></th><th>Symbol</th><th>Float64</th><th>Real</th><th>Float64</th><th>Real</th><th>Int64</th><th>Type</th></tr></thead><tbody><p>19 rows × 7 columns</p><tr><th>1</th><td>electkwh</td><td>0.3135</td><td>0.076</td><td>0.219</td><td>7.182</td><td>0</td><td>Float64</td></tr><tr><th>2</th><td>PV_generation</td><td>1.15828</td><td>0.0</td><td>0.002</td><td>8.253</td><td>0</td><td>Float64</td></tr><tr><th>3</th><td>chargekwh</td><td>2.13401</td><td>0.0</td><td>0.925959</td><td>9.91823</td><td>8074</td><td>Union{Missing, Float64}</td></tr><tr><th>4</th><td>h_countdown</td><td>0.609817</td><td>0.0</td><td>0.0</td><td>28.0</td><td>0</td><td>Float64</td></tr><tr><th>5</th><td>soc_ev</td><td>0.988546</td><td>0.0</td><td>1.0</td><td>1.0</td><td>0</td><td>Union{Missing, Float64}</td></tr><tr><th>6</th><td>month</td><td>6.52683</td><td>1</td><td>7.0</td><td>12</td><td>0</td><td>Int64</td></tr><tr><th>7</th><td>day</td><td>15.7209</td><td>1</td><td>16.0</td><td>31</td><td>0</td><td>Int64</td></tr><tr><th>8</th><td>hour</td><td>11.5</td><td>0</td><td>11.5</td><td>23</td><td>0</td><td>Int64</td></tr><tr><th>9</th><td>nday</td><td>4380.5</td><td>1</td><td>4380.5</td><td>8760</td><td>0</td><td>Int64</td></tr><tr><th>10</th><td>d_res</td><td>-0.677663</td><td>-8.032</td><td>0.145</td><td>9.109</td><td>0</td><td>Float64</td></tr><tr><th>11</th><td>hour_cos</td><td>0.0416667</td><td>-0.990686</td><td>0.0676068</td><td>1.0</td><td>0</td><td>Float64</td></tr><tr><th>12</th><td>hour_sin</td><td>-2.58545e-17</td><td>-0.997669</td><td>-1.22465e-16</td><td>0.997669</td><td>0</td><td>Float64</td></tr><tr><th>13</th><td>month_cos</td><td>-0.00231559</td><td>-1.0</td><td>-1.83697e-16</td><td>1.0</td><td>0</td><td>Float64</td></tr><tr><th>14</th><td>month_sin</td><td>-0.00559412</td><td>-1.0</td><td>-2.44929e-16</td><td>1.0</td><td>0</td><td>Float64</td></tr><tr><th>15</th><td>spring</td><td>0.251941</td><td>0</td><td>0.0</td><td>1</td><td>0</td><td>Bool</td></tr><tr><th>16</th><td>summer</td><td>0.252055</td><td>0</td><td>0.0</td><td>1</td><td>0</td><td>Bool</td></tr><tr><th>17</th><td>autumn</td><td>0.249429</td><td>0</td><td>0.0</td><td>1</td><td>0</td><td>Bool</td></tr><tr><th>18</th><td>winter</td><td>0.246575</td><td>0</td><td>0.0</td><td>1</td><td>0</td><td>Bool</td></tr><tr><th>19</th><td>season</td><td>2.49064</td><td>1</td><td>2.0</td><td>4</td><td>0</td><td>Int64</td></tr></tbody></table>"
      ],
      "text/latex": [
       "\\begin{tabular}{r|ccccccc}\n",
       "\t& variable & mean & min & median & max & nmissing & eltype\\\\\n",
       "\t\\hline\n",
       "\t& Symbol & Float64 & Real & Float64 & Real & Int64 & Type\\\\\n",
       "\t\\hline\n",
       "\t1 & electkwh & 0.3135 & 0.076 & 0.219 & 7.182 & 0 & Float64 \\\\\n",
       "\t2 & PV\\_generation & 1.15828 & 0.0 & 0.002 & 8.253 & 0 & Float64 \\\\\n",
       "\t3 & chargekwh & 2.13401 & 0.0 & 0.925959 & 9.91823 & 8074 & Union\\{Missing, Float64\\} \\\\\n",
       "\t4 & h\\_countdown & 0.609817 & 0.0 & 0.0 & 28.0 & 0 & Float64 \\\\\n",
       "\t5 & soc\\_ev & 0.988546 & 0.0 & 1.0 & 1.0 & 0 & Union\\{Missing, Float64\\} \\\\\n",
       "\t6 & month & 6.52683 & 1 & 7.0 & 12 & 0 & Int64 \\\\\n",
       "\t7 & day & 15.7209 & 1 & 16.0 & 31 & 0 & Int64 \\\\\n",
       "\t8 & hour & 11.5 & 0 & 11.5 & 23 & 0 & Int64 \\\\\n",
       "\t9 & nday & 4380.5 & 1 & 4380.5 & 8760 & 0 & Int64 \\\\\n",
       "\t10 & d\\_res & -0.677663 & -8.032 & 0.145 & 9.109 & 0 & Float64 \\\\\n",
       "\t11 & hour\\_cos & 0.0416667 & -0.990686 & 0.0676068 & 1.0 & 0 & Float64 \\\\\n",
       "\t12 & hour\\_sin & -2.58545e-17 & -0.997669 & -1.22465e-16 & 0.997669 & 0 & Float64 \\\\\n",
       "\t13 & month\\_cos & -0.00231559 & -1.0 & -1.83697e-16 & 1.0 & 0 & Float64 \\\\\n",
       "\t14 & month\\_sin & -0.00559412 & -1.0 & -2.44929e-16 & 1.0 & 0 & Float64 \\\\\n",
       "\t15 & spring & 0.251941 & 0 & 0.0 & 1 & 0 & Bool \\\\\n",
       "\t16 & summer & 0.252055 & 0 & 0.0 & 1 & 0 & Bool \\\\\n",
       "\t17 & autumn & 0.249429 & 0 & 0.0 & 1 & 0 & Bool \\\\\n",
       "\t18 & winter & 0.246575 & 0 & 0.0 & 1 & 0 & Bool \\\\\n",
       "\t19 & season & 2.49064 & 1 & 2.0 & 4 & 0 & Int64 \\\\\n",
       "\\end{tabular}\n"
      ],
      "text/plain": [
       "\u001b[1m19×7 DataFrame\u001b[0m\n",
       "\u001b[1m Row \u001b[0m│\u001b[1m variable      \u001b[0m\u001b[1m mean           \u001b[0m\u001b[1m min          \u001b[0m\u001b[1m median         \u001b[0m\u001b[1m max         \u001b[0m\u001b[1m nmissing \u001b[0m\u001b[1m eltype                  \u001b[0m\n",
       "\u001b[1m     \u001b[0m│\u001b[90m Symbol        \u001b[0m\u001b[90m Float64        \u001b[0m\u001b[90m Real         \u001b[0m\u001b[90m Float64        \u001b[0m\u001b[90m Real        \u001b[0m\u001b[90m Int64    \u001b[0m\u001b[90m Type                    \u001b[0m\n",
       "─────┼─────────────────────────────────────────────────────────────────────────────────────────────────────────────\n",
       "   1 │ electkwh          0.3135           0.076        0.219           7.182            0  Float64\n",
       "   2 │ PV_generation     1.15828          0.0          0.002           8.253            0  Float64\n",
       "   3 │ chargekwh         2.13401          0.0          0.925959        9.91823       8074  Union{Missing, Float64}\n",
       "   4 │ h_countdown       0.609817         0.0          0.0            28.0              0  Float64\n",
       "   5 │ soc_ev            0.988546         0.0          1.0             1.0              0  Union{Missing, Float64}\n",
       "   6 │ month             6.52683          1            7.0            12                0  Int64\n",
       "   7 │ day              15.7209           1           16.0            31                0  Int64\n",
       "   8 │ hour             11.5              0           11.5            23                0  Int64\n",
       "  ⋮  │       ⋮              ⋮              ⋮              ⋮              ⋮          ⋮                 ⋮\n",
       "  13 │ month_cos        -0.00231559      -1.0         -1.83697e-16     1.0              0  Float64\n",
       "  14 │ month_sin        -0.00559412      -1.0         -2.44929e-16     1.0              0  Float64\n",
       "  15 │ spring            0.251941     false            0.0          true                0  Bool\n",
       "  16 │ summer            0.252055     false            0.0          true                0  Bool\n",
       "  17 │ autumn            0.249429     false            0.0          true                0  Bool\n",
       "  18 │ winter            0.246575     false            0.0          true                0  Bool\n",
       "  19 │ season            2.49064          1            2.0             4                0  Int64\n",
       "\u001b[36m                                                                                                     4 rows omitted\u001b[0m"
      ]
     },
     "metadata": {},
     "output_type": "display_data"
    }
   ],
   "source": [
    "describe(Input_df)"
   ]
  },
  {
   "cell_type": "markdown",
   "metadata": {},
   "source": [
    "## Add dynamic prices based on Ye et al. 2020"
   ]
  },
  {
   "cell_type": "code",
   "execution_count": 52,
   "metadata": {},
   "outputs": [
    {
     "ename": "ErrorException",
     "evalue": "syntax: incomplete: unterminated multi-line comment #= ... =#",
     "output_type": "error",
     "traceback": [
      "syntax: incomplete: unterminated multi-line comment #= ... =#\n",
      "\n",
      "Stacktrace:\n",
      " [1] top-level scope\n",
      "   @ ~/server_repo/ma-thesis-drl-in-hem/RL-SHEMS/LU_Input_data_preparation.ipynb:23"
     ]
    }
   ],
   "source": [
    "#LU\n",
    "#=\n",
    "function set_dynamic_prices(Input_df)\n",
    "    map(eachrow(Input_df)) do r\n",
    "        if r.month >= 5 && r.month <= 10\n",
    "            if (r.hour >= 6 && r.hour <= 9) || (r.hour >= 16 && r.hour <= 17)\n",
    "                return 0.3f0\n",
    "            elseif (r.hour >= 10 && r.hour <= 15)\n",
    "                return 0.6f0\n",
    "            else\n",
    "                return 0.15f0\n",
    "            end\n",
    "        elseif r.month >= 11 || r.month <= 4\n",
    "            if (r.hour >= 6 && r.hour <= 9) || (r.hour >= 16 && r.hour <= 17)\n",
    "                return 0.6f0\n",
    "            elseif r.hour >= 10 && r.hour <= 15\n",
    "                return 0.3f0\n",
    "            else\n",
    "                return 0.15f0\n",
    "            end\n",
    "        end\n",
    "    end\n",
    "end        "
   ]
  },
  {
   "cell_type": "code",
   "execution_count": 53,
   "metadata": {},
   "outputs": [
    {
     "ename": "ErrorException",
     "evalue": "syntax: incomplete: unterminated multi-line comment #= ... =#",
     "output_type": "error",
     "traceback": [
      "syntax: incomplete: unterminated multi-line comment #= ... =#\n",
      "\n",
      "Stacktrace:\n",
      " [1] top-level scope\n",
      "   @ ~/server_repo/ma-thesis-drl-in-hem/RL-SHEMS/LU_Input_data_preparation.ipynb:3"
     ]
    }
   ],
   "source": [
    "#LU\n",
    "#=Input_df[!, \"p_buy\"] = set_dynamic_prices(Input_df);\n",
    "Input_df[!, \"p_sell\"] = 0.5 .* Input_df[!, \"p_buy\"];"
   ]
  },
  {
   "cell_type": "code",
   "execution_count": 54,
   "metadata": {
    "scrolled": true
   },
   "outputs": [],
   "source": [
    "#LU describe(Input_df)"
   ]
  },
  {
   "cell_type": "markdown",
   "metadata": {},
   "source": [
    "## Extract training, testing + evalution data set for summer, winter, both, all"
   ]
  },
  {
   "cell_type": "code",
   "execution_count": 55,
   "metadata": {
    "scrolled": true
   },
   "outputs": [
    {
     "ename": "ErrorException",
     "evalue": "syntax: incomplete: unterminated multi-line comment #= ... =#",
     "output_type": "error",
     "traceback": [
      "syntax: incomplete: unterminated multi-line comment #= ... =#\n",
      "\n",
      "Stacktrace:\n",
      " [1] top-level scope\n",
      "   @ ~/server_repo/ma-thesis-drl-in-hem/RL-SHEMS/LU_Input_data_preparation.ipynb:4"
     ]
    }
   ],
   "source": [
    "#LU\n",
    "#=# filter summer\n",
    "Input_data_summer = filter(:summer => !=(0), Input_df)\n",
    "describe(Input_data_summer), size(Input_data_summer)"
   ]
  },
  {
   "cell_type": "code",
   "execution_count": 56,
   "metadata": {},
   "outputs": [
    {
     "data": {
      "text/plain": [
       "train_eval_test_split (generic function with 1 method)"
      ]
     },
     "metadata": {},
     "output_type": "display_data"
    }
   ],
   "source": [
    "function train_eval_test_split(Input_df)\n",
    "    train = filter(row -> row.day <= 15, Input_df)\n",
    "    eval = filter(row -> row.day > 15 && row.day <= 20, Input_df)\n",
    "    test = filter(row -> row.day > 20, Input_df)\n",
    "    return train, eval, test\n",
    "end"
   ]
  },
  {
   "cell_type": "code",
   "execution_count": 57,
   "metadata": {},
   "outputs": [
    {
     "ename": "ErrorException",
     "evalue": "syntax: incomplete: unterminated multi-line comment #= ... =#",
     "output_type": "error",
     "traceback": [
      "syntax: incomplete: unterminated multi-line comment #= ... =#\n",
      "\n",
      "Stacktrace:\n",
      " [1] top-level scope\n",
      "   @ ~/server_repo/ma-thesis-drl-in-hem/RL-SHEMS/LU_Input_data_preparation.ipynb:6"
     ]
    }
   ],
   "source": [
    "#LU\n",
    "#=summer_training, summer_evaluation, summer_testing = train_eval_test_split(Input_data_summer)\n",
    "\n",
    "CSV.write(\"data/$(ID)_summer_train_TOU.csv\", summer_training);\n",
    "CSV.write(\"data/$(ID)_summer_eval_TOU.csv\", summer_evaluation);\n",
    "CSV.write(\"data/$(ID)_summer_test_TOU.csv\", summer_testing);"
   ]
  },
  {
   "cell_type": "code",
   "execution_count": 58,
   "metadata": {
    "scrolled": false
   },
   "outputs": [
    {
     "ename": "ErrorException",
     "evalue": "syntax: incomplete: unterminated multi-line comment #= ... =#",
     "output_type": "error",
     "traceback": [
      "syntax: incomplete: unterminated multi-line comment #= ... =#\n",
      "\n",
      "Stacktrace:\n",
      " [1] top-level scope\n",
      "   @ ~/server_repo/ma-thesis-drl-in-hem/RL-SHEMS/LU_Input_data_preparation.ipynb:4"
     ]
    }
   ],
   "source": [
    "#LU\n",
    "#=# filter winter\n",
    "Input_data_winter = filter(:winter => !=(0), Input_df)\n",
    "describe(Input_data_winter), size(Input_data_winter)"
   ]
  },
  {
   "cell_type": "code",
   "execution_count": 59,
   "metadata": {},
   "outputs": [
    {
     "ename": "ErrorException",
     "evalue": "syntax: incomplete: unterminated multi-line comment #= ... =#",
     "output_type": "error",
     "traceback": [
      "syntax: incomplete: unterminated multi-line comment #= ... =#\n",
      "\n",
      "Stacktrace:\n",
      " [1] top-level scope\n",
      "   @ ~/server_repo/ma-thesis-drl-in-hem/RL-SHEMS/LU_Input_data_preparation.ipynb:7"
     ]
    }
   ],
   "source": [
    "#LU\n",
    "#=winter_training, winter_evaluation, winter_testing = train_eval_test_split(Input_data_winter)\n",
    "\n",
    "# write data files\n",
    "CSV.write(\"data/$(ID)_winter_train_TOU.csv\", winter_training);\n",
    "CSV.write(\"data/$(ID)_winter_eval_TOU.csv\", winter_evaluation);\n",
    "CSV.write(\"data/$(ID)_winter_test_TOU.csv\", winter_testing);"
   ]
  },
  {
   "cell_type": "code",
   "execution_count": 60,
   "metadata": {},
   "outputs": [
    {
     "ename": "ErrorException",
     "evalue": "syntax: incomplete: unterminated multi-line comment #= ... =#",
     "output_type": "error",
     "traceback": [
      "syntax: incomplete: unterminated multi-line comment #= ... =#\n",
      "\n",
      "Stacktrace:\n",
      " [1] top-level scope\n",
      "   @ ~/server_repo/ma-thesis-drl-in-hem/RL-SHEMS/LU_Input_data_preparation.ipynb:8"
     ]
    }
   ],
   "source": [
    "all_training, all_evaluation, all_testing = train_eval_test_split(Input_df)\n",
    "\n",
    "#LU \n",
    "#=\n",
    "# write data files\n",
    "CSV.write(\"data/$(ID)_all_train_TOU.csv\", all_training);\n",
    "CSV.write(\"data/$(ID)_all_eval_TOU.csv\", all_evaluation);\n",
    "CSV.write(\"data/$(ID)_all_test_TOU.csv\", all_testing);"
   ]
  },
  {
   "cell_type": "code",
   "execution_count": 61,
   "metadata": {},
   "outputs": [
    {
     "ename": "ErrorException",
     "evalue": "syntax: incomplete: unterminated multi-line comment #= ... =#",
     "output_type": "error",
     "traceback": [
      "syntax: incomplete: unterminated multi-line comment #= ... =#\n",
      "\n",
      "Stacktrace:\n",
      " [1] top-level scope\n",
      "   @ ~/server_repo/ma-thesis-drl-in-hem/RL-SHEMS/LU_Input_data_preparation.ipynb:2"
     ]
    }
   ],
   "source": [
    "#LU\n",
    "#=describe(vcat(Input_data_winter, Input_data_summer) ), size(vcat(Input_data_winter, Input_data_summer) )"
   ]
  },
  {
   "cell_type": "code",
   "execution_count": 62,
   "metadata": {},
   "outputs": [
    {
     "ename": "ErrorException",
     "evalue": "syntax: incomplete: unterminated multi-line comment #= ... =#",
     "output_type": "error",
     "traceback": [
      "syntax: incomplete: unterminated multi-line comment #= ... =#\n",
      "\n",
      "Stacktrace:\n",
      " [1] top-level scope\n",
      "   @ ~/server_repo/ma-thesis-drl-in-hem/RL-SHEMS/LU_Input_data_preparation.ipynb:8"
     ]
    }
   ],
   "source": [
    "#LU\n",
    "#=# both seasons split\n",
    "both_training, both_evaluation, both_testing = train_eval_test_split(vcat(Input_data_winter, Input_data_summer))\n",
    "\n",
    "# write data files\n",
    "CSV.write(\"data/$(ID)_both_train_TOU.csv\", both_training);\n",
    "CSV.write(\"data/$(ID)_both_test_TOU.csv\", both_testing);\n",
    "CSV.write(\"data/$(ID)_both_eval_TOU.csv\", both_evaluation);"
   ]
  },
  {
   "cell_type": "markdown",
   "metadata": {},
   "source": [
    "## Dataset for fixed prices"
   ]
  },
  {
   "cell_type": "code",
   "execution_count": 63,
   "metadata": {},
   "outputs": [],
   "source": [
    "Input_df[!, \"p_buy\"] .= 0.3;\n",
    "Input_df[!, \"p_sell\"] .= 0.1;"
   ]
  },
  {
   "cell_type": "code",
   "execution_count": 64,
   "metadata": {},
   "outputs": [
    {
     "ename": "ErrorException",
     "evalue": "syntax: incomplete: unterminated multi-line comment #= ... =#",
     "output_type": "error",
     "traceback": [
      "syntax: incomplete: unterminated multi-line comment #= ... =#\n",
      "\n",
      "Stacktrace:\n",
      " [1] top-level scope\n",
      "   @ ~/server_repo/ma-thesis-drl-in-hem/RL-SHEMS/LU_Input_data_preparation.ipynb:3"
     ]
    }
   ],
   "source": [
    "#LU\n",
    "#=Input_data_summer = filter(:summer => !=(0), Input_df);\n",
    "Input_data_winter = filter(:winter => !=(0), Input_df);"
   ]
  },
  {
   "cell_type": "code",
   "execution_count": 65,
   "metadata": {},
   "outputs": [],
   "source": [
    "#LU summer_training, summer_evaluation, summer_testing = train_eval_test_split(Input_data_summer);\n",
    "#LU winter_training, winter_evaluation, winter_testing = train_eval_test_split(Input_data_winter);\n",
    "all_training, all_evaluation, all_testing = train_eval_test_split(Input_df);\n",
    "#LU both_training, both_evaluation, both_testing = train_eval_test_split(vcat(Input_data_winter, Input_data_summer));"
   ]
  },
  {
   "cell_type": "code",
   "execution_count": 66,
   "metadata": {},
   "outputs": [
    {
     "ename": "ErrorException",
     "evalue": "syntax: incomplete: unterminated multi-line comment #= ... =#",
     "output_type": "error",
     "traceback": [
      "syntax: incomplete: unterminated multi-line comment #= ... =#\n",
      "\n",
      "Stacktrace:\n",
      " [1] top-level scope\n",
      "   @ ~/server_repo/ma-thesis-drl-in-hem/RL-SHEMS/LU_Input_data_preparation.ipynb:16"
     ]
    }
   ],
   "source": [
    "#LU\n",
    "#=CSV.write(\"data/$(ID)_both_train_fix.csv\", both_training);\n",
    "CSV.write(\"data/$(ID)_both_test_fix.csv\", both_testing);\n",
    "CSV.write(\"data/$(ID)_both_eval_fix.csv\", both_evaluation);=#\n",
    "\n",
    "CSV.write(\"data/$(ID)_all_train_fix.csv\", all_training);\n",
    "CSV.write(\"data/$(ID)_all_test_fix.csv\", all_testing);\n",
    "CSV.write(\"data/$(ID)_all_eval_fix.csv\", all_evaluation);\n",
    "\n",
    "#LU\n",
    "#=CSV.write(\"data/$(ID)_summer_train_fix.csv\", summer_training);\n",
    "CSV.write(\"data/$(ID)_summer_test_fix.csv\", summer_testing);\n",
    "CSV.write(\"data/$(ID)_summer_eval_fix.csv\", summer_evaluation);\n",
    "CSV.write(\"data/$(ID)_winter_train_fix.csv\", winter_training);\n",
    "CSV.write(\"data/$(ID)_winter_test_fix.csv\", winter_testing);\n",
    "CSV.write(\"data/$(ID)_winter_eval_fix.csv\", winter_evaluation);"
   ]
  },
  {
   "cell_type": "code",
   "execution_count": 67,
   "metadata": {},
   "outputs": [],
   "source": []
  },
  {
   "cell_type": "code",
   "execution_count": null,
   "metadata": {},
   "outputs": [],
   "source": []
  }
 ],
 "metadata": {
  "@webio": {
   "lastCommId": null,
   "lastKernelId": null
  },
  "kernelspec": {
   "display_name": "Julia 1.6.1",
   "language": "julia",
   "name": "julia-1.6"
  },
  "language_info": {
   "file_extension": ".jl",
   "mimetype": "application/julia",
   "name": "julia",
   "version": "1.6.1"
  }
 },
 "nbformat": 4,
 "nbformat_minor": 2
}
